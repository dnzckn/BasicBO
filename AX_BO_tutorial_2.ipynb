{
 "cells": [
  {
   "cell_type": "code",
   "execution_count": 8,
   "metadata": {},
   "outputs": [
    {
     "name": "stdout",
     "output_type": "stream",
     "text": [
      "SOBOL: 0\n",
      "SOBOL: 1\n",
      "SOBOL: 2\n",
      "SOBOL: 3\n",
      "SOBOL: 4\n",
      "SOBOL: 5\n",
      "SOBOL: 6\n",
      "SOBOL: 7\n",
      "SOBOL: 8\n",
      "SOBOL: 9\n",
      "SOBOL: 10\n",
      "SOBOL: 11\n",
      "SOBOL: 12\n",
      "SOBOL: 13\n",
      "SOBOL: 14\n",
      "SOBOL: 15\n",
      "SOBOL: 16\n",
      "SOBOL: 17\n",
      "SOBOL: 18\n",
      "SOBOL: 19\n"
     ]
    },
    {
     "name": "stdout",
     "output_type": "stream",
     "text": [
      "GPEI: 0\n",
      "GPEI: 1\n",
      "GPEI: 2\n",
      "GPEI: 3\n",
      "GPEI: 4\n",
      "GPEI: 5\n",
      "GPEI: 6\n",
      "GPEI: 7\n",
      "GPEI: 8\n",
      "GPEI: 9\n",
      "GPEI: 10\n"
     ]
    },
    {
     "name": "stderr",
     "output_type": "stream",
     "text": [
      "/Users/deniz/anaconda3/envs/ds310/lib/python3.10/site-packages/botorch/optim/initializers.py:403: BadInitialCandidatesWarning: Unable to find non-zero acquisition function values - initial conditions are being selected randomly.\n",
      "  warnings.warn(\n"
     ]
    },
    {
     "name": "stdout",
     "output_type": "stream",
     "text": [
      "GPEI: 11\n",
      "GPEI: 12\n",
      "GPEI: 13\n"
     ]
    },
    {
     "name": "stderr",
     "output_type": "stream",
     "text": [
      "/Users/deniz/anaconda3/envs/ds310/lib/python3.10/site-packages/botorch/optim/initializers.py:403: BadInitialCandidatesWarning: Unable to find non-zero acquisition function values - initial conditions are being selected randomly.\n",
      "  warnings.warn(\n"
     ]
    },
    {
     "name": "stdout",
     "output_type": "stream",
     "text": [
      "GPEI: 14\n"
     ]
    },
    {
     "name": "stderr",
     "output_type": "stream",
     "text": [
      "/Users/deniz/anaconda3/envs/ds310/lib/python3.10/site-packages/botorch/optim/initializers.py:403: BadInitialCandidatesWarning: Unable to find non-zero acquisition function values - initial conditions are being selected randomly.\n",
      "  warnings.warn(\n"
     ]
    },
    {
     "name": "stdout",
     "output_type": "stream",
     "text": [
      "GPEI: 15\n"
     ]
    },
    {
     "name": "stderr",
     "output_type": "stream",
     "text": [
      "/Users/deniz/anaconda3/envs/ds310/lib/python3.10/site-packages/botorch/optim/initializers.py:403: BadInitialCandidatesWarning: Unable to find non-zero acquisition function values - initial conditions are being selected randomly.\n",
      "  warnings.warn(\n"
     ]
    },
    {
     "name": "stdout",
     "output_type": "stream",
     "text": [
      "GPEI: 16\n"
     ]
    },
    {
     "name": "stderr",
     "output_type": "stream",
     "text": [
      "/Users/deniz/anaconda3/envs/ds310/lib/python3.10/site-packages/botorch/optim/initializers.py:403: BadInitialCandidatesWarning: Unable to find non-zero acquisition function values - initial conditions are being selected randomly.\n",
      "  warnings.warn(\n"
     ]
    },
    {
     "name": "stdout",
     "output_type": "stream",
     "text": [
      "GPEI: 17\n"
     ]
    },
    {
     "name": "stderr",
     "output_type": "stream",
     "text": [
      "/Users/deniz/anaconda3/envs/ds310/lib/python3.10/site-packages/botorch/optim/initializers.py:403: BadInitialCandidatesWarning: Unable to find non-zero acquisition function values - initial conditions are being selected randomly.\n",
      "  warnings.warn(\n"
     ]
    },
    {
     "name": "stdout",
     "output_type": "stream",
     "text": [
      "GPEI: 18\n"
     ]
    },
    {
     "name": "stderr",
     "output_type": "stream",
     "text": [
      "/Users/deniz/anaconda3/envs/ds310/lib/python3.10/site-packages/botorch/optim/initializers.py:403: BadInitialCandidatesWarning: Unable to find non-zero acquisition function values - initial conditions are being selected randomly.\n",
      "  warnings.warn(\n"
     ]
    },
    {
     "name": "stdout",
     "output_type": "stream",
     "text": [
      "GPEI: 19\n"
     ]
    },
    {
     "name": "stderr",
     "output_type": "stream",
     "text": [
      "/Users/deniz/anaconda3/envs/ds310/lib/python3.10/site-packages/botorch/optim/initializers.py:403: BadInitialCandidatesWarning: Unable to find non-zero acquisition function values - initial conditions are being selected randomly.\n",
      "  warnings.warn(\n"
     ]
    },
    {
     "name": "stdout",
     "output_type": "stream",
     "text": [
      "GPEI: 20\n"
     ]
    },
    {
     "name": "stderr",
     "output_type": "stream",
     "text": [
      "/Users/deniz/anaconda3/envs/ds310/lib/python3.10/site-packages/botorch/optim/initializers.py:403: BadInitialCandidatesWarning: Unable to find non-zero acquisition function values - initial conditions are being selected randomly.\n",
      "  warnings.warn(\n"
     ]
    },
    {
     "name": "stdout",
     "output_type": "stream",
     "text": [
      "GPEI: 21\n"
     ]
    },
    {
     "name": "stderr",
     "output_type": "stream",
     "text": [
      "/Users/deniz/anaconda3/envs/ds310/lib/python3.10/site-packages/botorch/optim/initializers.py:403: BadInitialCandidatesWarning: Unable to find non-zero acquisition function values - initial conditions are being selected randomly.\n",
      "  warnings.warn(\n"
     ]
    },
    {
     "name": "stdout",
     "output_type": "stream",
     "text": [
      "GPEI: 22\n"
     ]
    },
    {
     "name": "stderr",
     "output_type": "stream",
     "text": [
      "/Users/deniz/anaconda3/envs/ds310/lib/python3.10/site-packages/botorch/optim/initializers.py:403: BadInitialCandidatesWarning: Unable to find non-zero acquisition function values - initial conditions are being selected randomly.\n",
      "  warnings.warn(\n"
     ]
    },
    {
     "name": "stdout",
     "output_type": "stream",
     "text": [
      "GPEI: 23\n",
      "GPEI: 24\n"
     ]
    },
    {
     "name": "stderr",
     "output_type": "stream",
     "text": [
      "/Users/deniz/anaconda3/envs/ds310/lib/python3.10/site-packages/botorch/optim/initializers.py:403: BadInitialCandidatesWarning: Unable to find non-zero acquisition function values - initial conditions are being selected randomly.\n",
      "  warnings.warn(\n"
     ]
    },
    {
     "name": "stdout",
     "output_type": "stream",
     "text": [
      "GPEI: 25\n",
      "GPEI: 26\n"
     ]
    },
    {
     "name": "stderr",
     "output_type": "stream",
     "text": [
      "/Users/deniz/anaconda3/envs/ds310/lib/python3.10/site-packages/botorch/optim/initializers.py:403: BadInitialCandidatesWarning: Unable to find non-zero acquisition function values - initial conditions are being selected randomly.\n",
      "  warnings.warn(\n"
     ]
    },
    {
     "name": "stdout",
     "output_type": "stream",
     "text": [
      "GPEI: 27\n"
     ]
    },
    {
     "name": "stderr",
     "output_type": "stream",
     "text": [
      "/Users/deniz/anaconda3/envs/ds310/lib/python3.10/site-packages/botorch/optim/initializers.py:403: BadInitialCandidatesWarning: Unable to find non-zero acquisition function values - initial conditions are being selected randomly.\n",
      "  warnings.warn(\n"
     ]
    },
    {
     "name": "stdout",
     "output_type": "stream",
     "text": [
      "GPEI: 28\n",
      "GPEI: 29\n"
     ]
    },
    {
     "name": "stderr",
     "output_type": "stream",
     "text": [
      "/Users/deniz/anaconda3/envs/ds310/lib/python3.10/site-packages/botorch/optim/initializers.py:403: BadInitialCandidatesWarning: Unable to find non-zero acquisition function values - initial conditions are being selected randomly.\n",
      "  warnings.warn(\n"
     ]
    }
   ],
   "source": [
    "from ax import (\n",
    "    Experiment,\n",
    "    Metric,\n",
    "    Objective,\n",
    "    OptimizationConfig,\n",
    "    RangeParameter,\n",
    "    ParameterType,\n",
    "    SearchSpace,\n",
    "    Runner,\n",
    "    Data,\n",
    ")\n",
    "from ax.modelbridge.registry import Models\n",
    "import numpy as np\n",
    "import pandas as pd\n",
    "from ax.metrics.noisy_function import NoisyFunctionMetric\n",
    "import numpy.typing as npt\n",
    "from scipy.interpolate import griddata\n",
    "import matplotlib.pyplot as plt\n",
    "\n",
    "# Define the Custom Gaussian Metric\n",
    "class GaussianMetric(NoisyFunctionMetric):\n",
    "    def f(self, x: npt.NDArray) -> float:\n",
    "        # Gaussian response function\n",
    "        return float(np.exp(-((x[0] - 0.2) ** 2 + (x[1] - 0.1) ** 2) / (2 * 0.1 ** 2)))\n",
    "\n",
    "\n",
    "# Define the Search Space\n",
    "search_space = SearchSpace(\n",
    "    parameters=[\n",
    "        RangeParameter(name=\"x0\", parameter_type=ParameterType.FLOAT, lower=-1, upper=1.0),\n",
    "        RangeParameter(name=\"x1\", parameter_type=ParameterType.FLOAT, lower=-1, upper=1.0),\n",
    "    ]\n",
    ")\n",
    "\n",
    "# Define the Optimization Config\n",
    "optimization_config = OptimizationConfig(\n",
    "    objective=Objective(\n",
    "        metric=GaussianMetric(name=\"gaussian\", param_names=[\"x0\", \"x1\"]),\n",
    "        minimize=False,\n",
    "    )\n",
    ")\n",
    "\n",
    "# Define a Runner (Dummy for this example)\n",
    "class MyRunner(Runner):\n",
    "    def run(self, trial):\n",
    "        trial_metadata = {\"name\": str(trial.index)}\n",
    "        return trial_metadata\n",
    "\n",
    "\n",
    "# Create the Experiment\n",
    "exp = Experiment(\n",
    "    name=\"gaussian_experiment\",\n",
    "    search_space=search_space,\n",
    "    optimization_config=optimization_config,\n",
    "    runner=MyRunner(),\n",
    ")\n",
    "\n",
    "# Perform Optimization\n",
    "NUM_SOBOL_TRIALS = 20\n",
    "NUM_BOTORCH_TRIALS = 30\n",
    "\n",
    "# Sobol Initialization\n",
    "sobol = Models.SOBOL(search_space=search_space)\n",
    "for i in range(NUM_SOBOL_TRIALS):\n",
    "    trial = exp.new_trial(generator_run=sobol.gen(n=1))\n",
    "    trial.run()\n",
    "    trial.mark_completed()\n",
    "    print(f\"SOBOL: {i}\")\n",
    "\n",
    "# Bayesian Optimization\n",
    "for i in range(NUM_BOTORCH_TRIALS):\n",
    "    gpei = Models.BOTORCH_MODULAR(experiment=exp, data=exp.fetch_data())\n",
    "    trial = exp.new_trial(generator_run=gpei.gen(n=1))\n",
    "    trial.run()\n",
    "    trial.mark_completed()\n",
    "    print(f\"GPEI: {i}\")\n",
    "\n"
   ]
  },
  {
   "cell_type": "code",
   "execution_count": 7,
   "metadata": {},
   "outputs": [
    {
     "data": {
      "image/png": "[encoded data removed]",
      "text/plain": [
       "<Figure size 1400x600 with 4 Axes>"
      ]
     },
     "metadata": {},
     "output_type": "display_data"
    }
   ],
   "source": [
    "from scipy.interpolate import griddata\n",
    "import matplotlib.pyplot as plt\n",
    "import numpy as np\n",
    "\n",
    "# Define the grid for the known response function\n",
    "x_grid = np.linspace(-1, 1, 50)\n",
    "y_grid = np.linspace(-1, 1, 50)\n",
    "x_mesh, y_mesh = np.meshgrid(x_grid, y_grid)\n",
    "\n",
    "# Compute the known response function over the grid\n",
    "z_grid = np.exp(-((x_mesh - 0.2) ** 2 + (y_mesh - 0.1) ** 2) / (2 * 0.1 ** 2))\n",
    "\n",
    "# Extract sample points and metric values from the experiment\n",
    "x_samples = []\n",
    "y_samples = []\n",
    "z_samples = []\n",
    "\n",
    "data = exp.fetch_data().df\n",
    "\n",
    "for trial_index, trial in exp.trials.items():\n",
    "    arm = trial.arm\n",
    "    if arm is not None:\n",
    "        x_samples.append(arm.parameters[\"x0\"])\n",
    "        y_samples.append(arm.parameters[\"x1\"])\n",
    "        # Fetch the mean metric value corresponding to this trial\n",
    "        mean_values = data.loc[data[\"trial_index\"] == trial_index, \"mean\"].values\n",
    "        if len(mean_values) > 0:\n",
    "            z_samples.append(mean_values[0])\n",
    "        else:\n",
    "            # Handle the case where the mean value is not found\n",
    "            z_samples.append(0.0)\n",
    "\n",
    "x_samples = np.array(x_samples)\n",
    "y_samples = np.array(y_samples)\n",
    "z_samples = np.array(z_samples)\n",
    "\n",
    "# Grid for interpolation of the experimental data\n",
    "x_interp, y_interp = np.linspace(-1, 1, 50), np.linspace(-1, 1, 50)\n",
    "x_interp_grid, y_interp_grid = np.meshgrid(x_interp, y_interp)\n",
    "z_interp = griddata(\n",
    "    (x_samples, y_samples), z_samples, (x_interp_grid, y_interp_grid), method=\"linear\"\n",
    ")\n",
    "\n",
    "# Visualization\n",
    "fig, ax = plt.subplots(1, 2, figsize=(14, 6))\n",
    "\n",
    "# Left: Known response function over the grid\n",
    "c1 = ax[0].pcolormesh(x_mesh, y_mesh, z_grid, shading=\"auto\", cmap=\"viridis\")\n",
    "fig.colorbar(c1, ax=ax[0])\n",
    "ax[0].set_title(\"Known Response Function\")\n",
    "ax[0].set_xlabel(\"x\")\n",
    "ax[0].set_ylabel(\"y\")\n",
    "\n",
    "# Right: Sample points with interpolated experimental data\n",
    "c2 = ax[1].pcolormesh(\n",
    "    x_interp_grid, y_interp_grid, z_interp, shading=\"auto\", cmap=\"viridis\"\n",
    ")\n",
    "fig.colorbar(c2, ax=ax[1])\n",
    "ax[1].scatter(\n",
    "    x_samples, y_samples, edgecolor=\"black\", facecolor=\"none\", s=50, alpha=0.8\n",
    ")\n",
    "ax[1].set_title(\"Experimental Data with Interpolation\")\n",
    "ax[1].set_xlabel(\"x\")\n",
    "ax[1].set_ylabel(\"y\")\n",
    "\n",
    "plt.tight_layout()\n",
    "plt.show()\n"
   ]
  },
  {
   "cell_type": "code",
   "execution_count": null,
   "metadata": {},
   "outputs": [],
   "source": []
  }
 ],
 "metadata": {
  "kernelspec": {
   "display_name": "ds310",
   "language": "python",
   "name": "python3"
  },
  "language_info": {
   "codemirror_mode": {
    "name": "ipython",
    "version": 3
   },
   "file_extension": ".py",
   "mimetype": "text/x-python",
   "name": "python",
   "nbconvert_exporter": "python",
   "pygments_lexer": "ipython3",
   "version": "3.10.11"
  }
 },
 "nbformat": 4,
 "nbformat_minor": 2
}
