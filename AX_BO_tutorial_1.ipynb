{
 "cells": [
  {
   "cell_type": "markdown",
   "metadata": {},
   "source": [
    "# BO with AX.DEV tutorial"
   ]
  },
  {
   "cell_type": "markdown",
   "metadata": {},
   "source": [
    "# Overview\n",
    "\n",
    "1. **Gaussian Peak Function**:\n",
    "   - The `gaussian_peak` function represents a 2D Gaussian distribution, centered at coordinates (0.2, 0.1). The standard deviation for both dimensions is set to 0.1, resulting in a peak centered at this point with a smooth, bell-shaped decline.\n",
    "   - This function serves as the objective to be optimized by Bayesian optimization, simulating a scenario where we seek to find the peak value (maximum).\n",
    "\n",
    "2. **Grid Sweep**:\n",
    "   - A grid of points is generated from -1 to 1 for both `x` and `y` dimensions. The function is evaluated at each point in this grid to create a 2D representation of the objective surface.\n",
    "   - This grid-based evaluation allows visualization of the entire parameter space, providing a baseline to compare against the Bayesian optimization process. It helps illustrate the quality of the optimization results.\n",
    "\n",
    "3. **Bayesian Optimization Setup**:\n",
    "   - The Bayesian optimization is implemented using the Ax framework, which allows for flexible experimentation with different optimization strategies.\n",
    "   - **Generation Strategy**:\n",
    "     - A **Sobol** sampling strategy is employed for initial exploration of the parameter space (`num_initial_samples` points). Sobol sequences are effective for sampling evenly across the parameter space, ensuring a good initial understanding of the landscape.\n",
    "     - After Sobol sampling, a **Gaussian Process with Expected Improvement (GPEI)** model is used to refine the search for the maximum. The GPEI model leverages a surrogate model (Gaussian Process) to balance exploration and exploitation, optimizing the objective until convergence or exhaustion of allowed trials (`num_trials=-1` means it continues indefinitely until another stopping criterion is met).\n",
    "     - The generation strategy helps control how the initial exploration and subsequent exploitation phases are managed.\n",
    "   - **Objective Setup**:\n",
    "     - The objective is defined as maximizing `z`, which represents the value of the Gaussian peak given the inputs `x` and `y`. The experiment is designed with two parameters (`x` and `y`), both ranging from -1 to 1.\n",
    "\n",
    "4. **Optimization Loop**:\n",
    "   - The optimization loop iterates for up to `num_bo_samples` times, or until a convergence criterion is met.\n",
    "   - **Exploitation vs. Exploration**:\n",
    "     - In each iteration, a decision is made on whether to exploit the known high-performing areas (`GPEI`) or to explore less certain regions (`qNIPV` - Negative Integrated Posterior Variance). This is determined based on the ratio defined by `exploit_ratio`.\n",
    "     - **Exploitation** (`GPEI`): Focuses on sampling points that are expected to yield the highest improvement based on the current surrogate model.\n",
    "     - **Exploration** (`qNIPV`): Samples points to reduce uncertainty in the model, helping to improve the quality of the surrogate model and prevent getting stuck in local optima.\n",
    "     - The balance between exploitation and exploration is key to efficiently finding the global optimum while avoiding local traps.\n",
    "   - **Convergence Check**:\n",
    "     - After each iteration, the improvement in the objective function is checked. If the improvement falls below a defined threshold (`epsilon`) for a specified number of consecutive iterations (`patience`), the optimization is stopped early. This prevents unnecessary computation when further significant improvements are unlikely.\n",
    "     - Refitting the GP model every `refit_every` iterations helps maintain model accuracy without excessive computational cost.\n",
    "\n",
    "5. **Normalization and Standardization**:\n",
    "   - **Normalization**: Inputs (`x` and `y`) are normalized to ensure they fall within a consistent range. This helps the optimization algorithm treat all inputs equally, regardless of their original scale, thereby improving numerical stability and the performance of the Gaussian Process model.\n",
    "   - **Standardization**: Outputs (`z`) are standardized to have zero mean and unit variance. This ensures the objective values are easier for the model to learn and improves training efficiency. Standardizing outputs is particularly important for Gaussian Process models, which are sensitive to the scale of the data.\n",
    "\n",
    "6. **Plotting**:\n",
    "   - The visualization consists of two subplots:\n",
    "     - **Grid Sweep Plot**: The first subplot shows the objective function evaluated over a dense grid of points. This gives a clear picture of the Gaussian peak and serves as the reference for assessing the performance of the optimizer.\n",
    "     - **Bayesian Optimization Process Plot**: The second subplot illustrates the points sampled by the Bayesian optimization process. The sampled points are shown as black circles overlaid on a color map created via `scipy.interpolate.griddata`. This plot helps visualize how the optimizer explores and exploits the parameter space to converge on the peak of the Gaussian.\n",
    "   - The distinction between the grid-based visualization and the Bayesian optimization plot helps in understanding the efficiency of the optimizer compared to a brute-force approach of evaluating all points in the parameter space."
   ]
  },
  {
   "cell_type": "markdown",
   "metadata": {},
   "source": [
    "# Simple Ax.dev BO\n"
   ]
  },
  {
   "cell_type": "code",
   "execution_count": null,
   "metadata": {},
   "outputs": [],
   "source": [
    "import numpy as np\n",
    "import matplotlib.pyplot as plt\n",
    "from scipy.interpolate import griddata\n",
    "from ax import optimize\n",
    "from ax.service.ax_client import AxClient\n",
    "from ax.modelbridge.generation_strategy import GenerationStep, GenerationStrategy\n",
    "from ax.modelbridge.registry import Models\n",
    "from ax.models.torch.botorch_modular.surrogate import Surrogate\n",
    "from botorch.models.gp_regression import SingleTaskGP\n",
    "from botorch.acquisition import qNegIntegratedPosteriorVariance\n",
    "import random\n",
    "from typing import Tuple\n",
    "import torch\n",
    "from botorch.models import SingleTaskGP\n",
    "from botorch.fit import fit_gpytorch_model\n",
    "from gpytorch.mlls import ExactMarginalLogLikelihood\n",
    "from ax.utils.common.logger import get_logger\n",
    "\n",
    "logger = get_logger(__name__)\n",
    "\n",
    "def bayesian_optimizer(num_initial_samples: int = 10, num_bo_samples: int = 100, epsilon: float = 1e-3, patience: int = 15, refit_every: int = 10, exploit_ratio: float = 0.9, seed: int = 1):\n",
    "    \"\"\"\n",
    "    Bayesian optimization function that yields new points to sample.\n",
    "\n",
    "    Args:\n",
    "        num_initial_samples (int): Number of initial Sobol samples for exploration. These samples provide a broad understanding of the parameter space.\n",
    "        num_bo_samples (int): Maximum number of Bayesian optimization samples to be taken after the initial exploration.\n",
    "        epsilon (float): Convergence threshold. If the improvement in the objective function value is less than this threshold, it is considered as no improvement.\n",
    "        patience (int): Number of iterations without improvement to allow before stopping early. Helps prevent unnecessary computation if the model is no longer improving.\n",
    "        refit_every (int): Number of iterations after which the GP model is refit. Refitting frequently can improve model accuracy but is computationally expensive.\n",
    "        exploit_ratio (float): Proportion of times exploitation (GPEI) is used compared to exploration (qNIPV). A higher value favors exploitation over exploration.\n",
    "        seed (int): Random seed for reproducibility of the optimization process.\n",
    "    \"\"\"\n",
    "    # Set random seed for reproducibility\n",
    "    np.random.seed(seed)\n",
    "    torch.manual_seed(seed)\n",
    "    random.seed(seed)\n",
    "\n",
    "    # Setting up the Bayesian optimizer using Ax with a custom generation strategy.\n",
    "    # The generation strategy defines how initial exploration (using Sobol) and subsequent optimization (using GPEI) are conducted.\n",
    "    generation_strategy = GenerationStrategy(\n",
    "        steps=[\n",
    "            GenerationStep(model=Models.SOBOL, num_trials=num_initial_samples),\n",
    "            GenerationStep(model=Models.GPEI, num_trials=-1),\n",
    "        ]\n",
    "    )\n",
    "\n",
    "    ax_client = AxClient(generation_strategy=generation_strategy)\n",
    "    ax_client.create_experiment(\n",
    "        name=\"2d_gaussian_peak_optimization\",\n",
    "        parameters=[\n",
    "            {\"name\": \"x\", \"type\": \"range\", \"bounds\": [-1.0, 1.0]},\n",
    "            {\"name\": \"y\", \"type\": \"range\", \"bounds\": [-1.0, 1.0]},\n",
    "        ],\n",
    "        objective_name=\"z\",\n",
    "        minimize=False,  # Set True if you want to minimize the objective\n",
    "    )\n",
    "\n",
    "    # Lists to store sampled points and their objective values.\n",
    "    z_samples = []\n",
    "    x_samples = []\n",
    "    y_samples = []\n",
    "\n",
    "    # Initial exploration with Sobol sampling.\n",
    "    for _ in range(num_initial_samples):\n",
    "        params, trial_index = ax_client.get_next_trial()\n",
    "        x_sample, y_sample = params['x'], params['y']\n",
    "        z = np.exp(-((x_sample - 0.2) ** 2 + (y_sample - 0.1) ** 2) / (2 * 0.1 ** 2))\n",
    "        x_samples.append(x_sample)\n",
    "        y_samples.append(y_sample)\n",
    "        z_samples.append(z)\n",
    "        ax_client.complete_trial(trial_index=trial_index, raw_data=z)\n",
    "        yield x_sample, y_sample, z\n",
    "\n",
    "    # Convert inputs to tensors for model training.\n",
    "    x_samples_tensor = torch.tensor(x_samples).double().reshape(-1, 1)\n",
    "    y_samples_tensor = torch.tensor(y_samples).double().reshape(-1, 1)\n",
    "    z_samples_tensor = torch.tensor(z_samples).double().flatten()\n",
    "    x_y_samples_tensor = torch.cat([x_samples_tensor, y_samples_tensor], dim=1)\n",
    "\n",
    "    # Define and fit the GP model.\n",
    "    gp_model = SingleTaskGP(x_y_samples_tensor, z_samples_tensor.unsqueeze(-1))\n",
    "    mll = ExactMarginalLogLikelihood(gp_model.likelihood, gp_model)\n",
    "    fit_gpytorch_model(mll)\n",
    "\n",
    "    # Bayesian optimization loop with convergence criteria.\n",
    "    best_value = None\n",
    "    no_improvement_counter = 0\n",
    "\n",
    "    for i in range(num_bo_samples):\n",
    "        # Randomly decide whether to use exploitation (GPEI) or exploration (qNIPV)\n",
    "        rand_value = random.random()\n",
    "        if rand_value < exploit_ratio:\n",
    "            # Exploitation with GPEI\n",
    "            logger.info(\"Using GPEI for exploitation\")\n",
    "            ax_client.generation_strategy._steps[-1].model = Models.GPEI\n",
    "        else:\n",
    "            # Exploration with qNIPV\n",
    "            logger.info(\"Using qNIPV for exploration\")\n",
    "            ax_client.generation_strategy._steps[-1].model = Models.BOTORCH_MODULAR\n",
    "            ax_client.generation_strategy._steps[-1].model_kwargs = {\n",
    "                \"surrogate\": Surrogate(SingleTaskGP),\n",
    "                \"botorch_acqf_class\": qNegIntegratedPosteriorVariance,\n",
    "                \"acquisition_options\": {\"mc_points\": 500},\n",
    "            }\n",
    "\n",
    "        params, trial_index = ax_client.get_next_trial()\n",
    "        x_sample, y_sample = params['x'], params['y']\n",
    "        z = np.exp(-((x_sample - 0.2) ** 2 + (y_sample - 0.1) ** 2) / (2 * 0.1 ** 2))\n",
    "        x_samples.append(x_sample)\n",
    "        y_samples.append(y_sample)\n",
    "        z_samples.append(z)\n",
    "        ax_client.complete_trial(trial_index=trial_index, raw_data=z)\n",
    "        yield x_sample, y_sample, z\n",
    "\n",
    "        # Add new sample to training data\n",
    "        x_samples_tensor = torch.tensor(x_samples).double().reshape(-1, 1)\n",
    "        y_samples_tensor = torch.tensor(y_samples).double().reshape(-1, 1)\n",
    "        z_samples_tensor = torch.tensor(z_samples).double().flatten()\n",
    "        x_y_samples_tensor = torch.cat([x_samples_tensor, y_samples_tensor], dim=1)\n",
    "\n",
    "        # Refit the GP model only every `refit_every` iterations to reduce computational overhead.\n",
    "        # Refitting every few iterations helps maintain model accuracy without excessive computational cost.\n",
    "        if i % refit_every == 0 or i == num_bo_samples - 1:\n",
    "            gp_model.set_train_data(x_y_samples_tensor, z_samples_tensor.unsqueeze(-1), strict=False)\n",
    "            fit_gpytorch_model(mll)\n",
    "\n",
    "        # Check for convergence based on improvement only during exploitation.\n",
    "        if rand_value < exploit_ratio:  # Only check for convergence during exploitation\n",
    "            if best_value is None or z > best_value + epsilon:\n",
    "                best_value = z\n",
    "                no_improvement_counter = 0\n",
    "            else:\n",
    "                no_improvement_counter += 1\n",
    "\n",
    "        # Stop early if no improvement for a number of iterations.\n",
    "        if no_improvement_counter >= patience:\n",
    "            print(f\"Stopping early after {i + 1} iterations due to lack of improvement.\")\n",
    "            break\n",
    "\n",
    "\n",
    "# Create interpolation for the scatter plot using scipy's griddata.\n",
    "x_interp, y_interp = np.linspace(-1, 1, 50), np.linspace(-1, 1, 50)\n",
    "x_interp_grid, y_interp_grid = np.meshgrid(x_interp, y_interp)\n",
    "z_interp = griddata((x_samples, y_samples), z_samples, (x_interp_grid, y_interp_grid), method='cubic')\n",
    "\n",
    "# Plotting the grid sweep version.\n",
    "fig, ax = plt.subplots(1, 2, figsize=(14, 6))\n",
    "\n",
    "# Pcolormesh for grid sweep version.\n",
    "c1 = ax[0].pcolormesh(x_grid, y_grid, z_grid, shading='auto', cmap='viridis')\n",
    "fig.colorbar(c1, ax=ax[0])\n",
    "ax[0].set_title(\"Grid Sweep (51x51 points)\")\n",
    "ax[0].set_xlabel(\"x\")\n",
    "ax[0].set_ylabel(\"y\")\n",
    "\n",
    "# Scatter plot over griddata interpolation.\n",
    "c2 = ax[1].pcolormesh(x_interp_grid, y_interp_grid, z_interp, shading='auto', cmap='viridis')\n",
    "fig.colorbar(c2, ax=ax[1])\n",
    "ax[1].scatter(x_samples, y_samples, edgecolor='black', facecolor='none', s=50)  # Black circles with no facevalues\n",
    "ax[1].set_title(\"Scatterplot with Interpolation\")\n",
    "ax[1].set_xlabel(\"x\")\n",
    "ax[1].set_ylabel(\"y\")\n",
    "\n",
    "plt.tight_layout()\n",
    "plt.show()"
   ]
  },
  {
   "cell_type": "markdown",
   "metadata": {},
   "source": [
    "# Ax.dev with full features\n",
    "- Adding in exploration\n",
    "- scalarizing inputs \n",
    "- converting to utility function"
   ]
  },
  {
   "cell_type": "code",
   "execution_count": null,
   "metadata": {},
   "outputs": [],
   "source": [
    "import numpy as np\n",
    "import matplotlib.pyplot as plt\n",
    "from scipy.interpolate import griddata\n",
    "from ax import optimize\n",
    "from ax.service.ax_client import AxClient\n",
    "from ax.modelbridge.generation_strategy import GenerationStep, GenerationStrategy\n",
    "from ax.modelbridge.registry import Models\n",
    "from ax.models.torch.botorch_modular.surrogate import Surrogate\n",
    "from botorch.models.gp_regression import SingleTaskGP\n",
    "from botorch.acquisition import qNegIntegratedPosteriorVariance\n",
    "import random\n",
    "from typing import Tuple\n",
    "import torch\n",
    "from botorch.models import SingleTaskGP\n",
    "from botorch.fit import fit_gpytorch_model\n",
    "from gpytorch.mlls import ExactMarginalLogLikelihood\n",
    "from ax.utils.common.logger import get_logger\n",
    "\n",
    "logger = get_logger(__name__)\n",
    "from gpytorch.settings import max_cg_iterations\n",
    "\n",
    "\n",
    "def bayesian_optimizer(num_initial_samples: int = 10, num_bo_samples: int = 100, epsilon: float = 1e-3, patience: int = 15, refit_every: int = 10, exploit_ratio: float = 0.9, seed: int = 1):\n",
    "    \"\"\"\n",
    "    Bayesian optimization function that yields new points to sample.\n",
    "\n",
    "    Args:\n",
    "        num_initial_samples (int): Number of initial Sobol samples for exploration.\n",
    "        num_bo_samples (int): Maximum number of Bayesian optimization samples to be taken after the initial exploration.\n",
    "        epsilon (float): Convergence threshold.\n",
    "        patience (int): Number of iterations without improvement to allow before stopping early.\n",
    "        refit_every (int): Number of iterations after which the GP model is refit.\n",
    "        exploit_ratio (float): Proportion of times exploitation (GPEI) is used compared to exploration (qNIPV).\n",
    "        seed (int): Random seed for reproducibility.\n",
    "    \"\"\"\n",
    "    # Set random seed for reproducibility\n",
    "    np.random.seed(seed)\n",
    "    torch.manual_seed(seed)\n",
    "    random.seed(seed)\n",
    "\n",
    "    # Setting up the Bayesian optimizer using Ax with a custom generation strategy.\n",
    "    generation_strategy = GenerationStrategy(\n",
    "        steps=[\n",
    "            GenerationStep(model=Models.SOBOL, num_trials=num_initial_samples),\n",
    "            GenerationStep(model=Models.GPEI, num_trials=-1),\n",
    "        ]\n",
    "    )\n",
    "\n",
    "    ax_client = AxClient(generation_strategy=generation_strategy)\n",
    "    ax_client.create_experiment(\n",
    "        name=\"2d_gaussian_peak_optimization\",\n",
    "        parameters=[\n",
    "            {\"name\": \"x\", \"type\": \"range\", \"bounds\": [-1.0, 1.0]},\n",
    "            {\"name\": \"y\", \"type\": \"range\", \"bounds\": [-1.0, 1.0]},\n",
    "        ],\n",
    "        objective_name=\"z\",\n",
    "        minimize=False,  # Set True if you want to minimize the objective\n",
    "    )\n",
    "\n",
    "    # Lists to store sampled points and their objective values.\n",
    "    z_samples = []\n",
    "    x_samples = []\n",
    "    y_samples = []\n",
    "\n",
    "    # Initial exploration with Sobol sampling.\n",
    "    for _ in range(num_initial_samples):\n",
    "        params, trial_index = ax_client.get_next_trial()\n",
    "        x_sample, y_sample = params['x'], params['y']\n",
    "        z = np.exp(-((x_sample - 0.2) ** 2 + (y_sample - 0.1) ** 2) / (2 * 0.1 ** 2))\n",
    "        x_samples.append(x_sample)\n",
    "        y_samples.append(y_sample)\n",
    "        z_samples.append(z)\n",
    "        ax_client.complete_trial(trial_index=trial_index, raw_data=z)\n",
    "        yield x_sample, y_sample, z\n",
    "\n",
    "    # Define and fit the GP model.\n",
    "    x_y_samples_tensor = torch.tensor(np.column_stack([x_samples, y_samples])).double()\n",
    "    z_samples_tensor = torch.tensor(z_samples).double().unsqueeze(-1)\n",
    "    gp_model = SingleTaskGP(x_y_samples_tensor, z_samples_tensor)\n",
    "    mll = ExactMarginalLogLikelihood(gp_model.likelihood, gp_model)\n",
    "    fit_gpytorch_model(mll)\n",
    "\n",
    "    # Bayesian optimization loop with convergence criteria.\n",
    "    best_value = None\n",
    "    no_improvement_counter = 0\n",
    "\n",
    "    for i in range(num_bo_samples):\n",
    "        # Randomly decide whether to use exploitation (GPEI) or exploration (qNIPV)\n",
    "        rand_value = random.random()\n",
    "        if rand_value < exploit_ratio:\n",
    "            logger.info(\"Using GPEI for exploitation\")\n",
    "            ax_client.generation_strategy._steps[-1].model = Models.GPEI\n",
    "        else:\n",
    "            logger.info(\"Using qNIPV for exploration\")\n",
    "            ax_client.generation_strategy._steps[-1].model = Models.BOTORCH_MODULAR\n",
    "            ax_client.generation_strategy._steps[-1].model_kwargs = {\n",
    "                \"surrogate\": Surrogate(SingleTaskGP),\n",
    "                \"botorch_acqf_class\": qNegIntegratedPosteriorVariance,\n",
    "                \"acquisition_options\": {\"mc_points\": 10},\n",
    "            }\n",
    "\n",
    "        params, trial_index = ax_client.get_next_trial()\n",
    "        x_sample, y_sample = params['x'], params['y']\n",
    "        z = np.exp(-((x_sample - 0.2) ** 2 + (y_sample - 0.1) ** 2) / (2 * 0.1 ** 2))\n",
    "        x_samples.append(x_sample)\n",
    "        y_samples.append(y_sample)\n",
    "        z_samples.append(z)\n",
    "        ax_client.complete_trial(trial_index=trial_index, raw_data=z)\n",
    "        yield x_sample, y_sample, z\n",
    "\n",
    "        x_y_samples_tensor = torch.tensor(np.column_stack([x_samples, y_samples])).double()\n",
    "        z_samples_tensor = torch.tensor(z_samples).double().unsqueeze(-1)\n",
    "\n",
    "        if i % refit_every == 0 or i == num_bo_samples - 1:\n",
    "            gp_model.set_train_data(x_y_samples_tensor, z_samples_tensor, strict=False)\n",
    "            with max_cg_iterations(50):  # Use fewer iterations for solving GP equations\n",
    "                fit_gpytorch_model(mll)\n",
    "                \n",
    "        if rand_value < exploit_ratio:\n",
    "            if best_value is None or z > best_value + epsilon:\n",
    "                best_value = z\n",
    "                no_improvement_counter = 0\n",
    "            else:\n",
    "                no_improvement_counter += 1\n",
    "\n",
    "        if no_improvement_counter >= patience:\n",
    "            print(f\"Stopping early after {i + 1} iterations due to lack of improvement.\")\n",
    "            break\n"
   ]
  },
  {
   "cell_type": "markdown",
   "metadata": {},
   "source": [
    "## Example use case with bayesian_optimizer()"
   ]
  },
  {
   "cell_type": "code",
   "execution_count": null,
   "metadata": {},
   "outputs": [],
   "source": [
    "# Use the Bayesian optimizer to get new points.\n",
    "x_samples, y_samples, z_samples = [], [], []\n",
    "for x_sample, y_sample, z in bayesian_optimizer():\n",
    "    x_samples.append(x_sample)\n",
    "    y_samples.append(y_sample)\n",
    "    z_samples.append(z)"
   ]
  },
  {
   "cell_type": "code",
   "execution_count": null,
   "metadata": {},
   "outputs": [],
   "source": [
    "# Create a grid sweep version (51 x 51 points).\n",
    "x = np.linspace(-1, 1, 51)\n",
    "y = np.linspace(-1, 1, 51)\n",
    "x_grid, y_grid = np.meshgrid(x, y)\n",
    "z_grid = np.exp(-((x_grid - 0.2) ** 2 + (y_grid - 0.1) ** 2) / (2 * 0.1 ** 2))\n",
    "\n",
    "\n",
    "\n",
    "# Create interpolation for the scatter plot using scipy's griddata.\n",
    "x_interp = np.linspace(-1, 1, 50)\n",
    "y_interp = np.linspace(-1, 1, 50)\n",
    "x_interp_grid, y_interp_grid = np.meshgrid(x_interp, y_interp)\n",
    "z_interp = griddata((x_samples, y_samples), z_samples, (x_interp_grid, y_interp_grid), method='linear')\n",
    "\n",
    "# Plotting the grid sweep version.\n",
    "fig, ax = plt.subplots(1, 2, figsize=(14, 6))\n",
    "\n",
    "# Pcolormesh for grid sweep version.\n",
    "c1 = ax[0].pcolormesh(x_grid, y_grid, z_grid, shading='auto', cmap='viridis')\n",
    "ax[0].set_title(\"Grid Sweep (Gaussian Peak)\")\n",
    "ax[0].set_xlabel(\"x\")\n",
    "ax[0].set_ylabel(\"y\")\n",
    "fig.colorbar(c1, ax=ax[0])\n",
    "\n",
    "# Scatter plot with interpolation for Bayesian optimization samples.\n",
    "c2 = ax[1].pcolormesh(x_interp_grid, y_interp_grid, z_interp, shading='auto', cmap='viridis')\n",
    "ax[1].scatter(x_samples, y_samples, edgecolor='black', facecolor='none')\n",
    "ax[1].set_title(\"Bayesian Optimization (Gaussian Peak)\")\n",
    "ax[1].set_xlabel(\"x\")\n",
    "ax[1].set_ylabel(\"y\")\n",
    "fig.colorbar(c2, ax=ax[1])\n",
    "\n",
    "plt.tight_layout()\n",
    "plt.show()"
   ]
  },
  {
   "cell_type": "markdown",
   "metadata": {},
   "source": [
    "# Async + batch"
   ]
  },
  {
   "cell_type": "code",
   "execution_count": 27,
   "metadata": {},
   "outputs": [
    {
     "name": "stderr",
     "output_type": "stream",
     "text": [
      "[INFO 12-13 23:33:05] ax.service.ax_client: Starting optimization with verbose logging. To disable logging, set the `verbose_logging` argument to `False`. Note that float values in the logs are rounded to 6 decimal points.\n",
      "[INFO 12-13 23:33:05] ax.service.utils.instantiation: Inferred value type of ParameterType.FLOAT for parameter a. If that is not the expected value type, you can explicitly specify 'value_type' ('int', 'float', 'bool' or 'str') in parameter dict.\n",
      "[INFO 12-13 23:33:05] ax.service.utils.instantiation: Inferred value type of ParameterType.FLOAT for parameter b. If that is not the expected value type, you can explicitly specify 'value_type' ('int', 'float', 'bool' or 'str') in parameter dict.\n",
      "[INFO 12-13 23:33:05] ax.service.utils.instantiation: Created search space: SearchSpace(parameters=[RangeParameter(name='a', parameter_type=FLOAT, range=[-1.0, 1.0]), RangeParameter(name='b', parameter_type=FLOAT, range=[-1.0, 1.0])], parameter_constraints=[]).\n",
      "[INFO 12-13 23:33:05] ax.service.ax_client: Generated new trial 0 with parameters {'a': -0.742405, 'b': -0.907767} using model Sobol.\n",
      "[INFO 12-13 23:33:05] ax.service.ax_client: Completed trial 0 with data: {'z': (0.0, 0.0)}.\n",
      "[INFO 12-13 23:33:05] ax.service.ax_client: Generated new trial 1 with parameters {'a': 0.068875, 'b': 0.528718} using model Sobol.\n",
      "[INFO 12-13 23:33:05] ax.service.ax_client: Completed trial 1 with data: {'z': (4.3e-05, 0.0)}.\n",
      "[INFO 12-13 23:33:05] ax.service.ax_client: Generated new trial 2 with parameters {'a': 0.816131, 'b': -0.140806} using model Sobol.\n",
      "[INFO 12-13 23:33:05] ax.service.ax_client: Completed trial 2 with data: {'z': (0.0, 0.0)}.\n",
      "[INFO 12-13 23:33:05] ax.service.ax_client: Generated new trial 3 with parameters {'a': -0.497102, 'b': 0.293743} using model Sobol.\n",
      "[INFO 12-13 23:33:05] ax.service.ax_client: Completed trial 3 with data: {'z': (0.0, 0.0)}.\n",
      "[INFO 12-13 23:33:05] ax.service.ax_client: Generated new trial 4 with parameters {'a': -0.22465, 'b': -0.427463} using model Sobol.\n",
      "[INFO 12-13 23:33:05] ax.service.ax_client: Completed trial 4 with data: {'z': (0.0, 0.0)}.\n",
      "[INFO 12-13 23:33:05] ax.service.ax_client: Generated new trial 5 with parameters {'a': 0.58663, 'b': 0.009145} using model Sobol.\n",
      "[INFO 12-13 23:33:05] ax.service.ax_client: Completed trial 5 with data: {'z': (0.000376, 0.0)}.\n",
      "[INFO 12-13 23:33:05] ax.service.ax_client: Generated new trial 6 with parameters {'a': 0.34133, 'b': -0.629006} using model Sobol.\n",
      "[INFO 12-13 23:33:05] ax.service.ax_client: Completed trial 6 with data: {'z': (0.0, 0.0)}.\n",
      "[INFO 12-13 23:33:05] ax.service.ax_client: Generated new trial 7 with parameters {'a': -0.971903, 'b': 0.805663} using model Sobol.\n",
      "[INFO 12-13 23:33:05] ax.service.ax_client: Completed trial 7 with data: {'z': (0.0, 0.0)}.\n",
      "[INFO 12-13 23:33:05] ax.service.ax_client: Generated new trial 8 with parameters {'a': -0.865731, 'b': -0.010836} using model Sobol.\n",
      "[INFO 12-13 23:33:05] ax.service.ax_client: Completed trial 8 with data: {'z': (0.0, 0.0)}.\n",
      "[INFO 12-13 23:33:05] ax.service.ax_client: Generated new trial 9 with parameters {'a': 0.445548, 'b': 0.429677} using model Sobol.\n",
      "[INFO 12-13 23:33:05] ax.service.ax_client: Completed trial 9 with data: {'z': (0.000214, 0.0)}.\n",
      "[INFO 12-13 23:33:05] ax.service.ax_client: Generated new trial 10 with parameters {'a': 0.700245, 'b': -0.807351} using model Sobol.\n",
      "[INFO 12-13 23:33:05] ax.service.ax_client: Completed trial 10 with data: {'z': (0.0, 0.0)}.\n",
      "[INFO 12-13 23:33:05] ax.service.ax_client: Generated new trial 11 with parameters {'a': -0.112987, 'b': 0.631225} using model Sobol.\n",
      "[INFO 12-13 23:33:05] ax.service.ax_client: Completed trial 11 with data: {'z': (0.0, 0.0)}.\n",
      "[INFO 12-13 23:33:05] ax.service.ax_client: Generated new trial 12 with parameters {'a': -0.352235, 'b': -0.530448} using model Sobol.\n",
      "[INFO 12-13 23:33:05] ax.service.ax_client: Completed trial 12 with data: {'z': (0.0, 0.0)}.\n",
      "[INFO 12-13 23:33:05] ax.service.ax_client: Generated new trial 13 with parameters {'a': 0.959044, 'b': 0.909944} using model Sobol.\n",
      "[INFO 12-13 23:33:05] ax.service.ax_client: Completed trial 13 with data: {'z': (0.0, 0.0)}.\n",
      "[INFO 12-13 23:33:05] ax.service.ax_client: Generated new trial 14 with parameters {'a': 0.206296, 'b': -0.295468} using model Sobol.\n",
      "[INFO 12-13 23:33:05] ax.service.ax_client: Completed trial 14 with data: {'z': (0.000401, 0.0)}.\n",
      "[INFO 12-13 23:33:05] ax.service.ax_client: Generated new trial 15 with parameters {'a': -0.606936, 'b': 0.142985} using model Sobol.\n",
      "[INFO 12-13 23:33:05] ax.service.ax_client: Completed trial 15 with data: {'z': (0.0, 0.0)}.\n",
      "[INFO 12-13 23:33:05] ax.service.ax_client: Generated new trial 16 with parameters {'a': -0.551759, 'b': -0.355282} using model Sobol.\n",
      "[INFO 12-13 23:33:05] ax.service.ax_client: Completed trial 16 with data: {'z': (0.0, 0.0)}.\n",
      "[INFO 12-13 23:33:05] ax.service.ax_client: Generated new trial 17 with parameters {'a': 0.136474, 'b': 0.210124} using model Sobol.\n",
      "[INFO 12-13 23:33:05] ax.service.ax_client: Completed trial 17 with data: {'z': (0.445688, 0.0)}.\n",
      "[INFO 12-13 23:33:05] ax.service.ax_client: Generated new trial 18 with parameters {'a': 0.889218, 'b': -0.588309} using model Sobol.\n",
      "[INFO 12-13 23:33:05] ax.service.ax_client: Completed trial 18 with data: {'z': (0.0, 0.0)}.\n",
      "[INFO 12-13 23:33:05] ax.service.ax_client: Generated new trial 19 with parameters {'a': -0.297062, 'b': 0.975129} using model Sobol.\n",
      "[INFO 12-13 23:33:05] ax.service.ax_client: Completed trial 19 with data: {'z': (0.0, 0.0)}.\n"
     ]
    },
    {
     "name": "stdout",
     "output_type": "stream",
     "text": [
      "Using GPEI (Exploitation)\n"
     ]
    },
    {
     "name": "stderr",
     "output_type": "stream",
     "text": [
      "[INFO 12-13 23:33:06] ax.service.ax_client: Generated new trial 20 with parameters {'a': 0.085082, 'b': 0.180824} using model GPEI.\n",
      "[INFO 12-13 23:33:06] ax.service.ax_client: Generated new trial 21 with parameters {'a': 0.08529, 'b': 0.18096} using model GPEI.\n",
      "[INFO 12-13 23:33:06] ax.service.ax_client: Completed trial 21 with data: {'z': (0.373198, 0.0)}.\n",
      "[INFO 12-13 23:33:06] ax.service.ax_client: Completed trial 20 with data: {'z': (0.372717, 0.0)}.\n"
     ]
    },
    {
     "name": "stdout",
     "output_type": "stream",
     "text": [
      "Using GPEI (Exploitation)\n"
     ]
    },
    {
     "name": "stderr",
     "output_type": "stream",
     "text": [
      "[INFO 12-13 23:33:08] ax.service.ax_client: Generated new trial 22 with parameters {'a': 0.209049, 'b': 0.236178} using model GPEI.\n",
      "[INFO 12-13 23:33:08] ax.service.ax_client: Generated new trial 23 with parameters {'a': 0.079891, 'b': 0.231736} using model GPEI.\n",
      "[INFO 12-13 23:33:08] ax.service.ax_client: Completed trial 23 with data: {'z': (0.204123, 0.0)}.\n",
      "[INFO 12-13 23:33:08] ax.service.ax_client: Completed trial 22 with data: {'z': (0.394034, 0.0)}.\n"
     ]
    },
    {
     "name": "stdout",
     "output_type": "stream",
     "text": [
      "Using GPEI (Exploitation)\n"
     ]
    },
    {
     "name": "stderr",
     "output_type": "stream",
     "text": [
      "[INFO 12-13 23:33:09] ax.service.ax_client: Generated new trial 24 with parameters {'a': 0.312684, 'b': 0.220209} using model GPEI.\n",
      "[INFO 12-13 23:33:09] ax.service.ax_client: Generated new trial 25 with parameters {'a': 0.168107, 'b': 0.1859} using model GPEI.\n",
      "[INFO 12-13 23:33:09] ax.service.ax_client: Completed trial 25 with data: {'z': (0.657179, 0.0)}.\n",
      "[INFO 12-13 23:33:09] ax.service.ax_client: Completed trial 24 with data: {'z': (0.257331, 0.0)}.\n"
     ]
    },
    {
     "name": "stdout",
     "output_type": "stream",
     "text": [
      "Using GPEI (Exploitation)\n"
     ]
    },
    {
     "name": "stderr",
     "output_type": "stream",
     "text": [
      "[INFO 12-13 23:33:11] ax.service.ax_client: Generated new trial 26 with parameters {'a': 0.16811, 'b': 0.185898} using model GPEI.\n",
      "[INFO 12-13 23:33:11] ax.service.ax_client: Generated new trial 27 with parameters {'a': 0.197374, 'b': 0.16223} using model GPEI.\n",
      "[INFO 12-13 23:33:11] ax.service.ax_client: Completed trial 27 with data: {'z': (0.823679, 0.0)}.\n",
      "[INFO 12-13 23:33:11] ax.service.ax_client: Completed trial 26 with data: {'z': (0.657197, 0.0)}.\n"
     ]
    },
    {
     "name": "stdout",
     "output_type": "stream",
     "text": [
      "Using GPEI (Exploitation)\n"
     ]
    },
    {
     "name": "stderr",
     "output_type": "stream",
     "text": [
      "[INFO 12-13 23:33:12] ax.service.ax_client: Generated new trial 28 with parameters {'a': 0.197368, 'b': 0.162239} using model GPEI.\n",
      "[INFO 12-13 23:33:12] ax.service.ax_client: Generated new trial 29 with parameters {'a': 0.215499, 'b': 0.11841} using model GPEI.\n",
      "[INFO 12-13 23:33:12] ax.service.ax_client: Completed trial 28 with data: {'z': (0.823633, 0.0)}.\n",
      "[INFO 12-13 23:33:12] ax.service.ax_client: Completed trial 29 with data: {'z': (0.971458, 0.0)}.\n"
     ]
    },
    {
     "name": "stdout",
     "output_type": "stream",
     "text": [
      "Using qNIPV (Exploration)\n"
     ]
    },
    {
     "name": "stderr",
     "output_type": "stream",
     "text": [
      "[INFO 12-13 23:33:13] ax.service.ax_client: Generated new trial 30 with parameters {'a': 0.215526, 'b': 0.118462} using model GPEI.\n",
      "[INFO 12-13 23:33:14] ax.service.ax_client: Generated new trial 31 with parameters {'a': 0.210105, 'b': 0.093595} using model GPEI.\n",
      "[INFO 12-13 23:33:14] ax.service.ax_client: Completed trial 30 with data: {'z': (0.971323, 0.0)}.\n",
      "[INFO 12-13 23:33:14] ax.service.ax_client: Completed trial 31 with data: {'z': (0.992869, 0.0)}.\n"
     ]
    },
    {
     "name": "stdout",
     "output_type": "stream",
     "text": [
      "Using GPEI (Exploitation)\n"
     ]
    },
    {
     "name": "stderr",
     "output_type": "stream",
     "text": [
      "[INFO 12-13 23:33:15] ax.service.ax_client: Generated new trial 32 with parameters {'a': 0.505277, 'b': 0.748918} using model GPEI.\n",
      "[INFO 12-13 23:33:16] ax.service.ax_client: Generated new trial 33 with parameters {'a': 0.210157, 'b': 0.093628} using model GPEI.\n",
      "[INFO 12-13 23:33:16] ax.service.ax_client: Completed trial 33 with data: {'z': (0.992837, 0.0)}.\n",
      "[INFO 12-13 23:33:16] ax.service.ax_client: Completed trial 32 with data: {'z': (0.0, 0.0)}.\n"
     ]
    },
    {
     "name": "stdout",
     "output_type": "stream",
     "text": [
      "Using GPEI (Exploitation)\n"
     ]
    },
    {
     "name": "stderr",
     "output_type": "stream",
     "text": [
      "[INFO 12-13 23:33:17] ax.service.ax_client: Generated new trial 34 with parameters {'a': 0.770322, 'b': 0.441213} using model GPEI.\n",
      "[INFO 12-13 23:33:17] ax.service.ax_client: Generated new trial 35 with parameters {'a': 0.224612, 'b': 0.08653} using model GPEI.\n",
      "[INFO 12-13 23:33:17] ax.service.ax_client: Completed trial 35 with data: {'z': (0.961404, 0.0)}.\n",
      "[INFO 12-13 23:33:17] ax.service.ax_client: Completed trial 34 with data: {'z': (0.0, 0.0)}.\n"
     ]
    },
    {
     "name": "stdout",
     "output_type": "stream",
     "text": [
      "Using GPEI (Exploitation)\n"
     ]
    },
    {
     "name": "stderr",
     "output_type": "stream",
     "text": [
      "[INFO 12-13 23:33:18] ax.service.ax_client: Generated new trial 36 with parameters {'a': -0.093517, 'b': -1.0} using model GPEI.\n",
      "[INFO 12-13 23:33:19] ax.service.ax_client: Generated new trial 37 with parameters {'a': 0.225007, 'b': 0.086232} using model GPEI.\n",
      "[INFO 12-13 23:33:19] ax.service.ax_client: Completed trial 37 with data: {'z': (0.960075, 0.0)}.\n",
      "[INFO 12-13 23:33:19] ax.service.ax_client: Completed trial 36 with data: {'z': (0.0, 0.0)}.\n"
     ]
    },
    {
     "name": "stdout",
     "output_type": "stream",
     "text": [
      "Using GPEI (Exploitation)\n"
     ]
    },
    {
     "name": "stderr",
     "output_type": "stream",
     "text": [
      "[INFO 12-13 23:33:19] ax.service.ax_client: Generated new trial 38 with parameters {'a': -1.0, 'b': 0.393878} using model GPEI.\n",
      "[INFO 12-13 23:33:20] ax.service.ax_client: Generated new trial 39 with parameters {'a': 0.195914, 'b': 0.097982} using model GPEI.\n",
      "[INFO 12-13 23:33:20] ax.service.ax_client: Completed trial 38 with data: {'z': (0.0, 0.0)}.\n",
      "[INFO 12-13 23:33:20] ax.service.ax_client: Completed trial 39 with data: {'z': (0.998962, 0.0)}.\n"
     ]
    },
    {
     "name": "stdout",
     "output_type": "stream",
     "text": [
      "Using GPEI (Exploitation)\n"
     ]
    },
    {
     "name": "stderr",
     "output_type": "stream",
     "text": [
      "[INFO 12-13 23:33:21] ax.service.ax_client: Generated new trial 40 with parameters {'a': -0.212916, 'b': 0.387839} using model GPEI.\n",
      "[INFO 12-13 23:33:21] ax.service.ax_client: Generated new trial 41 with parameters {'a': -1.0, 'b': -0.503394} using model GPEI.\n",
      "[INFO 12-13 23:33:21] ax.service.ax_client: Completed trial 40 with data: {'z': (3e-06, 0.0)}.\n",
      "[INFO 12-13 23:33:21] ax.service.ax_client: Completed trial 41 with data: {'z': (0.0, 0.0)}.\n"
     ]
    },
    {
     "name": "stdout",
     "output_type": "stream",
     "text": [
      "Using GPEI (Exploitation)\n"
     ]
    },
    {
     "name": "stderr",
     "output_type": "stream",
     "text": [
      "[INFO 12-13 23:33:22] ax.service.ax_client: Generated new trial 42 with parameters {'a': 0.155653, 'b': 1.0} using model GPEI.\n",
      "[INFO 12-13 23:33:22] ax.service.ax_client: Generated new trial 43 with parameters {'a': -1.0, 'b': -0.503374} using model GPEI.\n",
      "[INFO 12-13 23:33:22] ax.service.ax_client: Completed trial 43 with data: {'z': (0.0, 0.0)}.\n",
      "[INFO 12-13 23:33:22] ax.service.ax_client: Completed trial 42 with data: {'z': (0.0, 0.0)}.\n"
     ]
    },
    {
     "name": "stdout",
     "output_type": "stream",
     "text": [
      "Using GPEI (Exploitation)\n"
     ]
    },
    {
     "name": "stderr",
     "output_type": "stream",
     "text": [
      "[INFO 12-13 23:33:24] ax.service.ax_client: Generated new trial 44 with parameters {'a': -0.583961, 'b': 0.684222} using model GPEI.\n",
      "[INFO 12-13 23:33:24] ax.service.ax_client: Generated new trial 45 with parameters {'a': 0.155649, 'b': 1.0} using model GPEI.\n",
      "[INFO 12-13 23:33:24] ax.service.ax_client: Completed trial 44 with data: {'z': (0.0, 0.0)}.\n",
      "[INFO 12-13 23:33:24] ax.service.ax_client: Completed trial 45 with data: {'z': (0.0, 0.0)}.\n"
     ]
    },
    {
     "name": "stdout",
     "output_type": "stream",
     "text": [
      "Using GPEI (Exploitation)\n"
     ]
    },
    {
     "name": "stderr",
     "output_type": "stream",
     "text": [
      "[INFO 12-13 23:33:25] ax.service.ax_client: Generated new trial 46 with parameters {'a': 1.0, 'b': -1.0} using model GPEI.\n",
      "[INFO 12-13 23:33:25] ax.service.ax_client: Generated new trial 47 with parameters {'a': -0.616205, 'b': 0.824966} using model GPEI.\n",
      "[INFO 12-13 23:33:25] ax.service.ax_client: Completed trial 47 with data: {'z': (0.0, 0.0)}.\n",
      "[INFO 12-13 23:33:25] ax.service.ax_client: Completed trial 46 with data: {'z': (0.0, 0.0)}.\n"
     ]
    },
    {
     "name": "stdout",
     "output_type": "stream",
     "text": [
      "Using GPEI (Exploitation)\n"
     ]
    },
    {
     "name": "stderr",
     "output_type": "stream",
     "text": [
      "[INFO 12-13 23:33:26] ax.service.ax_client: Generated new trial 48 with parameters {'a': 0.331234, 'b': -1.0} using model GPEI.\n",
      "[INFO 12-13 23:33:26] ax.service.ax_client: Generated new trial 49 with parameters {'a': 0.331142, 'b': -1.0} using model GPEI.\n",
      "[INFO 12-13 23:33:26] ax.service.ax_client: Completed trial 49 with data: {'z': (0.0, 0.0)}.\n",
      "[INFO 12-13 23:33:26] ax.service.ax_client: Completed trial 48 with data: {'z': (0.0, 0.0)}.\n"
     ]
    }
   ],
   "source": [
    "import asyncio\n",
    "import numpy as np\n",
    "import torch\n",
    "from ax.service.ax_client import AxClient\n",
    "from ax.modelbridge.generation_strategy import GenerationStrategy, GenerationStep\n",
    "from ax.modelbridge.registry import Models\n",
    "from ax.models.torch.botorch_modular.surrogate import Surrogate\n",
    "from botorch.acquisition import qNegIntegratedPosteriorVariance\n",
    "from botorch.models.gp_regression import SingleTaskGP\n",
    "from ax.service.utils.instantiation import ObjectiveProperties\n",
    "\n",
    "\n",
    "class ZReader:\n",
    "    \"\"\"Fake response for testing purposes.\"\"\"\n",
    "    def __init__(self, centers, sigma=0.1, n_samples=1):\n",
    "        \"\"\"\n",
    "        Initialize the Gaussian response surface.\n",
    "\n",
    "        Args:\n",
    "            centers (list): Centers of the Gaussian for each parameter.\n",
    "            sigma (float): Standard deviation of the Gaussian.\n",
    "            n_samples (int): Number of samples to compute mean and SEM.\n",
    "        \"\"\"\n",
    "        self.centers = np.array(centers)\n",
    "        self.sigma = sigma\n",
    "        self.n_samples = n_samples\n",
    "\n",
    "    def read(self, params):\n",
    "        \"\"\"\n",
    "        Compute the Gaussian response and optionally SEM.\n",
    "\n",
    "        Args:\n",
    "            params (list): List of parameter values.\n",
    "\n",
    "        Returns:\n",
    "            tuple: (mean, sem) if n_samples > 1 else (z, 0.0).\n",
    "        \"\"\"\n",
    "        params = np.array(params)\n",
    "        z = np.exp(-np.sum((params - self.centers) ** 2) / (2 * self.sigma ** 2))\n",
    "        if self.n_samples > 1:\n",
    "            noisy_z = [z + np.random.normal(0, self.sigma) for _ in range(self.n_samples)]\n",
    "            mean_z = np.mean(noisy_z)\n",
    "            sem_z = np.std(noisy_z) / np.sqrt(self.n_samples)\n",
    "            return mean_z, sem_z\n",
    "        return z, 0.0\n",
    "\n",
    "\n",
    "async def get_next_batch_async(ax_client, batch_size):\n",
    "    \"\"\"Fetch the next batch of trials asynchronously.\"\"\"\n",
    "    loop = asyncio.get_event_loop()\n",
    "    return await asyncio.gather(\n",
    "        *[loop.run_in_executor(None, ax_client.get_next_trial) for _ in range(batch_size)]\n",
    "    )\n",
    "\n",
    "\n",
    "async def complete_trial_async(ax_client, trial_index, result):\n",
    "    \"\"\"Complete a trial asynchronously.\"\"\"\n",
    "    loop = asyncio.get_event_loop()\n",
    "    return await loop.run_in_executor(None, ax_client.complete_trial, trial_index, result)\n",
    "\n",
    "\n",
    "async def bayesian_optimizer_iterator(\n",
    "    z_reader,\n",
    "    param_names,\n",
    "    param_bounds,\n",
    "    num_initial_samples=10,\n",
    "    num_bo_samples=20,\n",
    "    batch_size=1,\n",
    "    explore_ratio=0.1,\n",
    "    async_mode=True\n",
    "):\n",
    "    \"\"\"\n",
    "    Bayesian optimizer iterator that can run asynchronously or synchronously depending on `async_mode`.\n",
    "\n",
    "    Args:\n",
    "        z_reader: An object with a `.read()` method to fetch the latest objective value.\n",
    "        param_names (list): Names of the input parameters.\n",
    "        param_bounds (list of tuples): Bounds for each parameter (min, max).\n",
    "        num_initial_samples (int): Number of initial Sobol samples.\n",
    "        num_bo_samples (int): Total number of Bayesian optimization samples.\n",
    "        batch_size (int): Number of trials generated in each batch.\n",
    "        explore_ratio (float): Probability of using qNIPV for exploration.\n",
    "        async_mode (bool): If True, use asynchronous operations, else synchronous.\n",
    "\n",
    "    Yields:\n",
    "        dict: A dictionary of parameter values to evaluate.\n",
    "    \"\"\"\n",
    "    device = torch.device(\"cuda\" if torch.cuda.is_available() else \"cpu\")\n",
    "\n",
    "    generation_strategy = GenerationStrategy(\n",
    "        steps=[\n",
    "            GenerationStep(model=Models.SOBOL, num_trials=num_initial_samples),\n",
    "            GenerationStep(model=Models.GPEI, num_trials=-1, max_parallelism=batch_size),\n",
    "        ]\n",
    "    )\n",
    "    ax_client = AxClient(generation_strategy=generation_strategy, torch_device=device)\n",
    "    ax_client.create_experiment(\n",
    "        name=\"modular_iterator_optimization\",\n",
    "        parameters=[\n",
    "            {\"name\": name, \"type\": \"range\", \"bounds\": bounds}\n",
    "            for name, bounds in zip(param_names, param_bounds)\n",
    "        ],\n",
    "        objectives={\"z\": ObjectiveProperties(minimize=False)},\n",
    "        parameter_constraints=[],\n",
    "        tracking_metric_names=[],\n",
    "    )\n",
    "\n",
    "    # Helper functions to abstract async/sync behavior\n",
    "    async def get_next_batch(ax_client, b_size):\n",
    "        if async_mode:\n",
    "            return await get_next_batch_async(ax_client, b_size)\n",
    "        else:\n",
    "            return [ax_client.get_next_trial() for _ in range(b_size)]\n",
    "\n",
    "    async def complete_trial(ax_client, t_index, res):\n",
    "        if async_mode:\n",
    "            return await complete_trial_async(ax_client, t_index, res)\n",
    "        else:\n",
    "            return ax_client.complete_trial(t_index, res)\n",
    "\n",
    "    # Initial Sobol samples\n",
    "    for _ in range(num_initial_samples):\n",
    "        trials = await get_next_batch(ax_client, 1)\n",
    "        params, trial_index = trials[0]\n",
    "        yield params\n",
    "        z_mean, z_sem = z_reader.read([params[name] for name in param_names])\n",
    "        await complete_trial(ax_client, trial_index, {\"z\": (z_mean, z_sem)})\n",
    "\n",
    "    # Bayesian optimization loop\n",
    "    remaining_samples = num_bo_samples\n",
    "    while remaining_samples > 0:\n",
    "        current_batch_size = min(batch_size, remaining_samples)\n",
    "\n",
    "        # Decide between exploration (qNIPV) and exploitation (GPEI)\n",
    "        explore = np.random.rand() < explore_ratio\n",
    "        if explore:\n",
    "            print(\"Using qNIPV (Exploration)\")\n",
    "            ax_client.generation_strategy._steps[-1].model = Models.BOTORCH_MODULAR\n",
    "            ax_client.generation_strategy._steps[-1].model_kwargs = {\n",
    "                \"surrogate\": Surrogate(SingleTaskGP),\n",
    "                \"botorch_acqf_class\": qNegIntegratedPosteriorVariance,\n",
    "                \"acquisition_options\": {\"mc_points\": 50},\n",
    "            }\n",
    "        else:\n",
    "            print(\"Using GPEI (Exploitation)\")\n",
    "            ax_client.generation_strategy._steps[-1].model = Models.GPEI\n",
    "            ax_client.generation_strategy._steps[-1].model_kwargs = {}\n",
    "\n",
    "        trials = await get_next_batch(ax_client, current_batch_size)\n",
    "\n",
    "        for params, trial_index in trials:\n",
    "            yield params\n",
    "            z_mean, z_sem = z_reader.read([params[name] for name in param_names])\n",
    "            await complete_trial(ax_client, trial_index, {\"z\": (z_mean, z_sem)})\n",
    "\n",
    "        remaining_samples -= current_batch_size\n",
    "\n",
    "\n",
    "def bayesian_optimizer_iterator_sync(\n",
    "    z_reader,\n",
    "    param_names,\n",
    "    param_bounds,\n",
    "    num_initial_samples=10,\n",
    "    num_bo_samples=20,\n",
    "    batch_size=1,\n",
    "    explore_ratio=0.1\n",
    "):\n",
    "    \"\"\"\n",
    "    Synchronous Bayesian optimizer iterator.\n",
    "\n",
    "    Identical logic to bayesian_optimizer_iterator, but runs without async/await.\n",
    "\n",
    "    Args:\n",
    "        z_reader: An object with a `.read()` method to fetch the latest objective value.\n",
    "        param_names (list): Names of the input parameters.\n",
    "        param_bounds (list of tuples): Bounds for each parameter (min, max).\n",
    "        num_initial_samples (int): Number of initial Sobol samples.\n",
    "        num_bo_samples (int): Total number of Bayesian optimization samples.\n",
    "        batch_size (int): Number of trials generated in each batch.\n",
    "        explore_ratio (float): Probability of using qNIPV for exploration.\n",
    "\n",
    "    Yields:\n",
    "        dict: A dictionary of parameter values to evaluate.\n",
    "    \"\"\"\n",
    "    device = torch.device(\"cuda\" if torch.cuda.is_available() else \"cpu\")\n",
    "\n",
    "    generation_strategy = GenerationStrategy(\n",
    "        steps=[\n",
    "            GenerationStep(model=Models.SOBOL, num_trials=num_initial_samples),\n",
    "            GenerationStep(model=Models.GPEI, num_trials=-1, max_parallelism=batch_size),\n",
    "        ]\n",
    "    )\n",
    "    ax_client = AxClient(generation_strategy=generation_strategy, torch_device=device)\n",
    "    ax_client.create_experiment(\n",
    "        name=\"modular_iterator_optimization_sync\",\n",
    "        parameters=[\n",
    "            {\"name\": name, \"type\": \"range\", \"bounds\": bounds}\n",
    "            for name, bounds in zip(param_names, param_bounds)\n",
    "        ],\n",
    "        objectives={\"z\": ObjectiveProperties(minimize=False)},\n",
    "        parameter_constraints=[],\n",
    "        tracking_metric_names=[],\n",
    "    )\n",
    "\n",
    "    # Initial Sobol samples (synchronous)\n",
    "    for _ in range(num_initial_samples):\n",
    "        params, trial_index = ax_client.get_next_trial()\n",
    "        yield params\n",
    "        z_mean, z_sem = z_reader.read([params[name] for name in param_names])\n",
    "        ax_client.complete_trial(trial_index, {\"z\": (z_mean, z_sem)})\n",
    "\n",
    "    # Bayesian optimization loop (synchronous)\n",
    "    remaining_samples = num_bo_samples\n",
    "    while remaining_samples > 0:\n",
    "        current_batch_size = min(batch_size, remaining_samples)\n",
    "\n",
    "        # Decide between exploration (qNIPV) and exploitation (GPEI)\n",
    "        explore = np.random.rand() < explore_ratio\n",
    "        if explore:\n",
    "            print(\"Using qNIPV (Exploration)\")\n",
    "            ax_client.generation_strategy._steps[-1].model = Models.BOTORCH_MODULAR\n",
    "            ax_client.generation_strategy._steps[-1].model_kwargs = {\n",
    "                \"surrogate\": Surrogate(SingleTaskGP),\n",
    "                \"botorch_acqf_class\": qNegIntegratedPosteriorVariance,\n",
    "                \"acquisition_options\": {\"mc_points\": 50},\n",
    "            }\n",
    "        else:\n",
    "            print(\"Using GPEI (Exploitation)\")\n",
    "            ax_client.generation_strategy._steps[-1].model = Models.GPEI\n",
    "            ax_client.generation_strategy._steps[-1].model_kwargs = {}\n",
    "\n",
    "        # Generate trials synchronously\n",
    "        for _ in range(current_batch_size):\n",
    "            params, trial_index = ax_client.get_next_trial()\n",
    "            yield params\n",
    "            z_mean, z_sem = z_reader.read([params[name] for name in param_names])\n",
    "            ax_client.complete_trial(trial_index, {\"z\": (z_mean, z_sem)})\n",
    "\n",
    "        remaining_samples -= current_batch_size\n",
    "\n",
    "param_names = [\"a\", \"b\"]  # Parameter names\n",
    "param_bounds = [[-1.0, 1.0], [-1.0, 1.0]]  # Parameter bounds as lists\n",
    "\n",
    "z_reader = ZReader(centers=[0.2, 0.1], sigma=0.1, n_samples=1)  # Create a fake response\n",
    "\n",
    "# Lists to store optimization history\n",
    "suggested_params = []\n",
    "observed_z = []\n",
    "best_result = {\"params\": None, \"value\": float(\"-inf\")}  # Initialize with worst possible value\n",
    "\n",
    "# Asynchronously:\n",
    "async for params in bayesian_optimizer_iterator(z_reader, param_names, param_bounds, num_initial_samples=20, num_bo_samples=30, batch_size=2, async_mode=True):\n",
    "    z_mean, z_sem = z_reader.read([params[name] for name in param_names])\n",
    "    suggested_params.append(params)\n",
    "    observed_z.append(z_mean)\n",
    "    if z_mean > best_result[\"value\"]:\n",
    "        best_result = {\"params\": params, \"value\": z_mean}\n",
    "\n",
    "\n",
    "# # Synchronous\n",
    "# for params in bayesian_optimizer_iterator_sync(\n",
    "#     z_reader, param_names, param_bounds, num_initial_samples=20, num_bo_samples=20, batch_size=2\n",
    "# ):\n",
    "#     z_mean, z_sem = z_reader.read([params[name] for name in param_names])\n",
    "#     suggested_params.append(params)\n",
    "#     observed_z.append(z_mean)\n",
    "#     if z_mean > best_result[\"value\"]:\n",
    "#         best_result = {\"params\": params, \"value\": z_mean}\n"
   ]
  },
  {
   "cell_type": "code",
   "execution_count": 13,
   "metadata": {},
   "outputs": [
    {
     "data": {
      "text/plain": [
       "{'params': {'a': 0.19992759298187357, 'b': 0.0994186950527769},\n",
       " 'value': 0.9999828422362991}"
      ]
     },
     "execution_count": 13,
     "metadata": {},
     "output_type": "execute_result"
    }
   ],
   "source": [
    "best_result"
   ]
  },
  {
   "cell_type": "code",
   "execution_count": 28,
   "metadata": {},
   "outputs": [
    {
     "data": {
      "image/png": "[encoded data removed]",
      "text/plain": [
       "<Figure size 1400x600 with 4 Axes>"
      ]
     },
     "metadata": {},
     "output_type": "display_data"
    }
   ],
   "source": [
    "import matplotlib.pyplot as plt\n",
    "from scipy.interpolate import griddata\n",
    "import numpy as np\n",
    "\n",
    "\n",
    "# Extract x, y, and z for plotting\n",
    "x_vals = [p[\"a\"] for p in suggested_params]\n",
    "y_vals = [p[\"b\"] for p in suggested_params]\n",
    "\n",
    "# Create a grid sweep version (51 x 51 points)\n",
    "x = np.linspace(-1, 1, 51)\n",
    "y = np.linspace(-1, 1, 51)\n",
    "x_grid, y_grid = np.meshgrid(x, y)\n",
    "z_grid = np.exp(-((x_grid - 0.2) ** 2 + (y_grid - 0.1) ** 2) / (2 * 0.1 ** 2))\n",
    "\n",
    "# Create interpolation for the scatter plot using scipy's griddata\n",
    "x_interp = np.linspace(-1, 1, 50)\n",
    "y_interp = np.linspace(-1, 1, 50)\n",
    "x_interp_grid, y_interp_grid = np.meshgrid(x_interp, y_interp)\n",
    "z_interp = griddata((x_vals, y_vals), observed_z, (x_interp_grid, y_interp_grid), method='linear')\n",
    "\n",
    "# Plotting the grid sweep and Bayesian optimization results\n",
    "fig, ax = plt.subplots(1, 2, figsize=(14, 6))\n",
    "\n",
    "# Pcolormesh for grid sweep version\n",
    "c1 = ax[0].pcolormesh(x_grid, y_grid, z_grid, shading='auto', cmap='viridis')\n",
    "ax[0].set_title(\"Grid Sweep (Gaussian Peak)\")\n",
    "ax[0].set_xlabel(\"x\")\n",
    "ax[0].set_ylabel(\"y\")\n",
    "fig.colorbar(c1, ax=ax[0])\n",
    "\n",
    "# Scatter plot with interpolation for Bayesian optimization samples\n",
    "c2 = ax[1].pcolormesh(x_interp_grid, y_interp_grid, z_interp, shading='auto', cmap='viridis')\n",
    "ax[1].scatter(x_vals, y_vals, edgecolor='black', facecolor='none', label=\"real points over interpolation\")\n",
    "ax[1].set_title(\"Bayesian Optimization (Gaussian Peak)\")\n",
    "ax[1].set_xlabel(\"x\")\n",
    "ax[1].set_ylabel(\"y\")\n",
    "ax[1].legend()\n",
    "fig.colorbar(c2, ax=ax[1])\n",
    "\n",
    "for ax in ax:\n",
    "    ax.set_ylim(-1,1)\n",
    "    ax.set_xlim(-1,1)\n",
    "\n",
    "plt.tight_layout()\n",
    "plt.show()\n"
   ]
  },
  {
   "cell_type": "markdown",
   "metadata": {},
   "source": [
    "# Benchmarking Configs Trial Rates "
   ]
  },
  {
   "cell_type": "code",
   "execution_count": 16,
   "metadata": {},
   "outputs": [
    {
     "name": "stderr",
     "output_type": "stream",
     "text": [
      "[INFO 12-13 23:12:08] ax.service.ax_client: Starting optimization with verbose logging. To disable logging, set the `verbose_logging` argument to `False`. Note that float values in the logs are rounded to 6 decimal points.\n",
      "[INFO 12-13 23:12:08] ax.service.utils.instantiation: Inferred value type of ParameterType.FLOAT for parameter a. If that is not the expected value type, you can explicitly specify 'value_type' ('int', 'float', 'bool' or 'str') in parameter dict.\n",
      "[INFO 12-13 23:12:08] ax.service.utils.instantiation: Inferred value type of ParameterType.FLOAT for parameter b. If that is not the expected value type, you can explicitly specify 'value_type' ('int', 'float', 'bool' or 'str') in parameter dict.\n",
      "[INFO 12-13 23:12:08] ax.service.utils.instantiation: Created search space: SearchSpace(parameters=[RangeParameter(name='a', parameter_type=FLOAT, range=[-1.0, 1.0]), RangeParameter(name='b', parameter_type=FLOAT, range=[-1.0, 1.0])], parameter_constraints=[]).\n",
      "[INFO 12-13 23:12:08] ax.service.ax_client: Generated new trial 0 with parameters {'a': 0.560548, 'b': 0.49388} using model Sobol.\n",
      "[INFO 12-13 23:12:08] ax.service.ax_client: Completed trial 0 with data: {'z': (1e-06, 0.0)}.\n",
      "[INFO 12-13 23:12:08] ax.service.ax_client: Generated new trial 1 with parameters {'a': -0.972497, 'b': -0.551913} using model Sobol.\n",
      "[INFO 12-13 23:12:08] ax.service.ax_client: Completed trial 1 with data: {'z': (0.0, 0.0)}.\n",
      "[INFO 12-13 23:12:08] ax.service.ax_client: Generated new trial 2 with parameters {'a': -0.292435, 'b': 0.573228} using model Sobol.\n",
      "[INFO 12-13 23:12:08] ax.service.ax_client: Completed trial 2 with data: {'z': (0.0, 0.0)}.\n",
      "[INFO 12-13 23:12:08] ax.service.ax_client: Generated new trial 3 with parameters {'a': 0.240854, 'b': -0.381284} using model Sobol.\n",
      "[INFO 12-13 23:12:08] ax.service.ax_client: Completed trial 3 with data: {'z': (9e-06, 0.0)}.\n",
      "[INFO 12-13 23:12:08] ax.service.ax_client: Generated new trial 4 with parameters {'a': 0.274392, 'b': 0.858871} using model Sobol.\n",
      "[INFO 12-13 23:12:08] ax.service.ax_client: Completed trial 4 with data: {'z': (0.0, 0.0)}.\n",
      "[INFO 12-13 23:12:08] ax.service.ax_client: Generated new trial 5 with parameters {'a': -0.192551, 'b': -0.160092} using model Sobol.\n",
      "[INFO 12-13 23:12:08] ax.service.ax_client: Completed trial 5 with data: {'z': (1.5e-05, 0.0)}.\n",
      "[INFO 12-13 23:12:08] ax.service.ax_client: Generated new trial 6 with parameters {'a': -0.513238, 'b': 0.215073} using model Sobol.\n",
      "[INFO 12-13 23:12:08] ax.service.ax_client: Completed trial 6 with data: {'z': (0.0, 0.0)}.\n",
      "[INFO 12-13 23:12:08] ax.service.ax_client: Generated new trial 7 with parameters {'a': 0.953462, 'b': -0.76627} using model Sobol.\n",
      "[INFO 12-13 23:12:08] ax.service.ax_client: Completed trial 7 with data: {'z': (0.0, 0.0)}.\n",
      "[INFO 12-13 23:12:08] ax.service.ax_client: Generated new trial 8 with parameters {'a': 0.856596, 'b': 0.700225} using model Sobol.\n",
      "[INFO 12-13 23:12:08] ax.service.ax_client: Completed trial 8 with data: {'z': (0.0, 0.0)}.\n",
      "[INFO 12-13 23:12:08] ax.service.ax_client: Generated new trial 9 with parameters {'a': -0.672797, 'b': -0.251544} using model Sobol.\n",
      "[INFO 12-13 23:12:08] ax.service.ax_client: Completed trial 9 with data: {'z': (0.0, 0.0)}.\n",
      "[INFO 12-13 23:12:08] ax.service.ax_client: Generated new trial 10 with parameters {'a': -0.117508, 'b': 0.373292} using model Sobol.\n",
      "[INFO 12-13 23:12:08] ax.service.ax_client: Completed trial 10 with data: {'z': (0.000155, 0.0)}.\n",
      "[INFO 12-13 23:12:08] ax.service.ax_client: Generated new trial 11 with parameters {'a': 0.411643, 'b': -0.674634} using model Sobol.\n",
      "[INFO 12-13 23:12:08] ax.service.ax_client: Completed trial 11 with data: {'z': (0.0, 0.0)}.\n",
      "[INFO 12-13 23:12:08] ax.service.ax_client: Generated new trial 12 with parameters {'a': 0.074088, 'b': 0.0896} using model Sobol.\n",
      "[INFO 12-13 23:12:08] ax.service.ax_client: Completed trial 12 with data: {'z': (0.450182, 0.0)}.\n",
      "[INFO 12-13 23:12:08] ax.service.ax_client: Generated new trial 13 with parameters {'a': -0.39653, 'b': -0.897778} using model Sobol.\n",
      "[INFO 12-13 23:12:08] ax.service.ax_client: Completed trial 13 with data: {'z': (0.0, 0.0)}.\n",
      "[INFO 12-13 23:12:08] ax.service.ax_client: Generated new trial 14 with parameters {'a': -0.842444, 'b': 0.977081} using model Sobol.\n",
      "[INFO 12-13 23:12:08] ax.service.ax_client: Completed trial 14 with data: {'z': (0.0, 0.0)}.\n",
      "[INFO 12-13 23:12:08] ax.service.ax_client: Generated new trial 15 with parameters {'a': 0.628416, 'b': -0.035236} using model Sobol.\n",
      "[INFO 12-13 23:12:08] ax.service.ax_client: Completed trial 15 with data: {'z': (4.1e-05, 0.0)}.\n",
      "[INFO 12-13 23:12:08] ax.service.ax_client: Generated new trial 16 with parameters {'a': 0.74427, 'b': 0.909928} using model Sobol.\n",
      "[INFO 12-13 23:12:08] ax.service.ax_client: Completed trial 16 with data: {'z': (0.0, 0.0)}.\n",
      "[INFO 12-13 23:12:08] ax.service.ax_client: Generated new trial 17 with parameters {'a': -0.789018, 'b': -0.108731} using model Sobol.\n",
      "[INFO 12-13 23:12:08] ax.service.ax_client: Completed trial 17 with data: {'z': (0.0, 0.0)}.\n",
      "[INFO 12-13 23:12:08] ax.service.ax_client: Generated new trial 18 with parameters {'a': -0.483728, 'b': 0.016128} using model Sobol.\n",
      "[INFO 12-13 23:12:08] ax.service.ax_client: Completed trial 18 with data: {'z': (0.0, 0.0)}.\n",
      "[INFO 12-13 23:12:08] ax.service.ax_client: Generated new trial 19 with parameters {'a': 0.049317, 'b': -0.964908} using model Sobol.\n",
      "[INFO 12-13 23:12:08] ax.service.ax_client: Completed trial 19 with data: {'z': (0.0, 0.0)}.\n"
     ]
    },
    {
     "name": "stdout",
     "output_type": "stream",
     "text": [
      "Using GPEI (Exploitation)\n"
     ]
    },
    {
     "name": "stderr",
     "output_type": "stream",
     "text": [
      "[INFO 12-13 23:12:09] ax.service.ax_client: Generated new trial 20 with parameters {'a': 0.07761, 'b': 0.21962} using model GPEI.\n",
      "[INFO 12-13 23:12:09] ax.service.ax_client: Completed trial 20 with data: {'z': (0.231214, 0.0)}.\n"
     ]
    },
    {
     "name": "stdout",
     "output_type": "stream",
     "text": [
      "Using GPEI (Exploitation)\n"
     ]
    },
    {
     "name": "stderr",
     "output_type": "stream",
     "text": [
      "[INFO 12-13 23:12:10] ax.service.ax_client: Generated new trial 21 with parameters {'a': 0.13302, 'b': 0.072345} using model GPEI.\n",
      "[INFO 12-13 23:12:10] ax.service.ax_client: Completed trial 21 with data: {'z': (0.769084, 0.0)}.\n"
     ]
    },
    {
     "name": "stdout",
     "output_type": "stream",
     "text": [
      "Using GPEI (Exploitation)\n"
     ]
    },
    {
     "name": "stderr",
     "output_type": "stream",
     "text": [
      "[INFO 12-13 23:12:11] ax.service.ax_client: Generated new trial 22 with parameters {'a': 0.14209, 'b': 0.031226} using model GPEI.\n",
      "[INFO 12-13 23:12:11] ax.service.ax_client: Completed trial 22 with data: {'z': (0.667529, 0.0)}.\n"
     ]
    },
    {
     "name": "stdout",
     "output_type": "stream",
     "text": [
      "Using GPEI (Exploitation)\n"
     ]
    },
    {
     "name": "stderr",
     "output_type": "stream",
     "text": [
      "[INFO 12-13 23:12:12] ax.service.ax_client: Generated new trial 23 with parameters {'a': 0.142338, 'b': 0.105011} using model GPEI.\n",
      "[INFO 12-13 23:12:12] ax.service.ax_client: Completed trial 23 with data: {'z': (0.845778, 0.0)}.\n"
     ]
    },
    {
     "name": "stdout",
     "output_type": "stream",
     "text": [
      "Using GPEI (Exploitation)\n"
     ]
    },
    {
     "name": "stderr",
     "output_type": "stream",
     "text": [
      "[INFO 12-13 23:12:13] ax.service.ax_client: Generated new trial 24 with parameters {'a': 0.170408, 'b': 0.116238} using model GPEI.\n",
      "[INFO 12-13 23:12:13] ax.service.ax_client: Completed trial 24 with data: {'z': (0.944625, 0.0)}.\n"
     ]
    },
    {
     "name": "stdout",
     "output_type": "stream",
     "text": [
      "Using GPEI (Exploitation)\n"
     ]
    },
    {
     "name": "stderr",
     "output_type": "stream",
     "text": [
      "[INFO 12-13 23:12:14] ax.service.ax_client: Generated new trial 25 with parameters {'a': 0.205943, 'b': 0.109516} using model GPEI.\n",
      "[INFO 12-13 23:12:14] ax.service.ax_client: Completed trial 25 with data: {'z': (0.993726, 0.0)}.\n"
     ]
    },
    {
     "name": "stdout",
     "output_type": "stream",
     "text": [
      "Using qNIPV (Exploration)\n"
     ]
    },
    {
     "name": "stderr",
     "output_type": "stream",
     "text": [
      "[INFO 12-13 23:12:15] ax.service.ax_client: Generated new trial 26 with parameters {'a': 0.219372, 'b': 0.13178} using model GPEI.\n",
      "[INFO 12-13 23:12:15] ax.service.ax_client: Completed trial 26 with data: {'z': (0.933081, 0.0)}.\n"
     ]
    },
    {
     "name": "stdout",
     "output_type": "stream",
     "text": [
      "Using GPEI (Exploitation)\n"
     ]
    },
    {
     "name": "stderr",
     "output_type": "stream",
     "text": [
      "[INFO 12-13 23:12:16] ax.service.ax_client: Generated new trial 27 with parameters {'a': -1.0, 'b': 0.427922} using model GPEI.\n",
      "[INFO 12-13 23:12:16] ax.service.ax_client: Completed trial 27 with data: {'z': (0.0, 0.0)}.\n"
     ]
    },
    {
     "name": "stdout",
     "output_type": "stream",
     "text": [
      "Using GPEI (Exploitation)\n"
     ]
    },
    {
     "name": "stderr",
     "output_type": "stream",
     "text": [
      "[INFO 12-13 23:12:17] ax.service.ax_client: Generated new trial 28 with parameters {'a': 1.0, 'b': 0.227107} using model GPEI.\n",
      "[INFO 12-13 23:12:17] ax.service.ax_client: Completed trial 28 with data: {'z': (0.0, 0.0)}.\n"
     ]
    },
    {
     "name": "stdout",
     "output_type": "stream",
     "text": [
      "Using GPEI (Exploitation)\n"
     ]
    },
    {
     "name": "stderr",
     "output_type": "stream",
     "text": [
      "[INFO 12-13 23:12:17] ax.service.ax_client: Generated new trial 29 with parameters {'a': -0.8694, 'b': -1.0} using model GPEI.\n",
      "[INFO 12-13 23:12:17] ax.service.ax_client: Completed trial 29 with data: {'z': (0.0, 0.0)}.\n"
     ]
    },
    {
     "name": "stdout",
     "output_type": "stream",
     "text": [
      "Using GPEI (Exploitation)\n"
     ]
    },
    {
     "name": "stderr",
     "output_type": "stream",
     "text": [
      "[INFO 12-13 23:12:19] ax.service.ax_client: Generated new trial 30 with parameters {'a': 0.201613, 'b': 0.097282} using model GPEI.\n",
      "[INFO 12-13 23:12:19] ax.service.ax_client: Completed trial 30 with data: {'z': (0.999501, 0.0)}.\n"
     ]
    },
    {
     "name": "stdout",
     "output_type": "stream",
     "text": [
      "Using GPEI (Exploitation)\n"
     ]
    },
    {
     "name": "stderr",
     "output_type": "stream",
     "text": [
      "[INFO 12-13 23:12:20] ax.service.ax_client: Generated new trial 31 with parameters {'a': 1.0, 'b': -0.290457} using model GPEI.\n",
      "[INFO 12-13 23:12:20] ax.service.ax_client: Completed trial 31 with data: {'z': (0.0, 0.0)}.\n"
     ]
    },
    {
     "name": "stdout",
     "output_type": "stream",
     "text": [
      "Using GPEI (Exploitation)\n"
     ]
    },
    {
     "name": "stderr",
     "output_type": "stream",
     "text": [
      "[INFO 12-13 23:12:21] ax.service.ax_client: Generated new trial 32 with parameters {'a': -0.178589, 'b': 1.0} using model GPEI.\n",
      "[INFO 12-13 23:12:21] ax.service.ax_client: Completed trial 32 with data: {'z': (0.0, 0.0)}.\n"
     ]
    },
    {
     "name": "stdout",
     "output_type": "stream",
     "text": [
      "Using GPEI (Exploitation)\n"
     ]
    },
    {
     "name": "stderr",
     "output_type": "stream",
     "text": [
      "[INFO 12-13 23:12:22] ax.service.ax_client: Generated new trial 33 with parameters {'a': -0.129793, 'b': -0.574665} using model GPEI.\n",
      "[INFO 12-13 23:12:22] ax.service.ax_client: Completed trial 33 with data: {'z': (0.0, 0.0)}.\n"
     ]
    },
    {
     "name": "stdout",
     "output_type": "stream",
     "text": [
      "Using GPEI (Exploitation)\n"
     ]
    },
    {
     "name": "stderr",
     "output_type": "stream",
     "text": [
      "[INFO 12-13 23:12:23] ax.service.ax_client: Generated new trial 34 with parameters {'a': 0.630642, 'b': -1.0} using model GPEI.\n",
      "[INFO 12-13 23:12:23] ax.service.ax_client: Completed trial 34 with data: {'z': (0.0, 0.0)}.\n"
     ]
    },
    {
     "name": "stdout",
     "output_type": "stream",
     "text": [
      "Using GPEI (Exploitation)\n"
     ]
    },
    {
     "name": "stderr",
     "output_type": "stream",
     "text": [
      "[INFO 12-13 23:12:25] ax.service.ax_client: Generated new trial 35 with parameters {'a': -0.664441, 'b': 0.623595} using model GPEI.\n",
      "[INFO 12-13 23:12:25] ax.service.ax_client: Completed trial 35 with data: {'z': (0.0, 0.0)}.\n"
     ]
    },
    {
     "name": "stdout",
     "output_type": "stream",
     "text": [
      "Using GPEI (Exploitation)\n"
     ]
    },
    {
     "name": "stderr",
     "output_type": "stream",
     "text": [
      "[INFO 12-13 23:12:26] ax.service.ax_client: Generated new trial 36 with parameters {'a': 0.666432, 'b': -0.423092} using model GPEI.\n",
      "[INFO 12-13 23:12:26] ax.service.ax_client: Completed trial 36 with data: {'z': (0.0, 0.0)}.\n"
     ]
    },
    {
     "name": "stdout",
     "output_type": "stream",
     "text": [
      "Using GPEI (Exploitation)\n"
     ]
    },
    {
     "name": "stderr",
     "output_type": "stream",
     "text": [
      "[INFO 12-13 23:12:27] ax.service.ax_client: Generated new trial 37 with parameters {'a': -0.608159, 'b': -0.613331} using model GPEI.\n",
      "[INFO 12-13 23:12:27] ax.service.ax_client: Completed trial 37 with data: {'z': (0.0, 0.0)}.\n"
     ]
    },
    {
     "name": "stdout",
     "output_type": "stream",
     "text": [
      "Using GPEI (Exploitation)\n"
     ]
    },
    {
     "name": "stderr",
     "output_type": "stream",
     "text": [
      "[INFO 12-13 23:12:28] ax.service.ax_client: Generated new trial 38 with parameters {'a': -0.510248, 'b': 1.0} using model GPEI.\n",
      "[INFO 12-13 23:12:28] ax.service.ax_client: Completed trial 38 with data: {'z': (0.0, 0.0)}.\n"
     ]
    },
    {
     "name": "stdout",
     "output_type": "stream",
     "text": [
      "Using GPEI (Exploitation)\n"
     ]
    },
    {
     "name": "stderr",
     "output_type": "stream",
     "text": [
      "[INFO 12-13 23:12:30] ax.service.ax_client: Generated new trial 39 with parameters {'a': 0.025277, 'b': 0.667433} using model GPEI.\n",
      "[INFO 12-13 23:12:30] ax.service.ax_client: Completed trial 39 with data: {'z': (0.0, 0.0)}.\n",
      "[INFO 12-13 23:12:30] ax.service.ax_client: Starting optimization with verbose logging. To disable logging, set the `verbose_logging` argument to `False`. Note that float values in the logs are rounded to 6 decimal points.\n",
      "[INFO 12-13 23:12:30] ax.service.utils.instantiation: Inferred value type of ParameterType.FLOAT for parameter a. If that is not the expected value type, you can explicitly specify 'value_type' ('int', 'float', 'bool' or 'str') in parameter dict.\n",
      "[INFO 12-13 23:12:30] ax.service.utils.instantiation: Inferred value type of ParameterType.FLOAT for parameter b. If that is not the expected value type, you can explicitly specify 'value_type' ('int', 'float', 'bool' or 'str') in parameter dict.\n",
      "[INFO 12-13 23:12:30] ax.service.utils.instantiation: Created search space: SearchSpace(parameters=[RangeParameter(name='a', parameter_type=FLOAT, range=[-1.0, 1.0]), RangeParameter(name='b', parameter_type=FLOAT, range=[-1.0, 1.0])], parameter_constraints=[]).\n",
      "[INFO 12-13 23:12:30] ax.service.ax_client: Generated new trial 0 with parameters {'a': -0.04524, 'b': -0.277268} using model Sobol.\n",
      "[INFO 12-13 23:12:30] ax.service.ax_client: Completed trial 0 with data: {'z': (4e-05, 0.0)}.\n",
      "[INFO 12-13 23:12:30] ax.service.ax_client: Generated new trial 1 with parameters {'a': 0.524283, 'b': 0.305626} using model Sobol.\n",
      "[INFO 12-13 23:12:30] ax.service.ax_client: Completed trial 1 with data: {'z': (0.000629, 0.0)}.\n",
      "[INFO 12-13 23:12:30] ax.service.ax_client: Generated new trial 2 with parameters {'a': 0.028923, 'b': -0.525851} using model Sobol.\n",
      "[INFO 12-13 23:12:30] ax.service.ax_client: Completed trial 2 with data: {'z': (0.0, 0.0)}.\n",
      "[INFO 12-13 23:12:30] ax.service.ax_client: Generated new trial 3 with parameters {'a': -0.542057, 'b': 0.556035} using model Sobol.\n",
      "[INFO 12-13 23:12:30] ax.service.ax_client: Completed trial 3 with data: {'z': (0.0, 0.0)}.\n",
      "[INFO 12-13 23:12:30] ax.service.ax_client: Generated new trial 4 with parameters {'a': -0.79435, 'b': -0.880118} using model Sobol.\n",
      "[INFO 12-13 23:12:30] ax.service.ax_client: Completed trial 4 with data: {'z': (0.0, 0.0)}.\n"
     ]
    },
    {
     "name": "stdout",
     "output_type": "stream",
     "text": [
      "Batch size 1: Async time: 21.929509399999006, Error: 0.0004993073974680629\n"
     ]
    },
    {
     "name": "stderr",
     "output_type": "stream",
     "text": [
      "[INFO 12-13 23:12:30] ax.service.ax_client: Generated new trial 5 with parameters {'a': 0.277249, 'b': 0.912249} using model Sobol.\n",
      "[INFO 12-13 23:12:30] ax.service.ax_client: Completed trial 5 with data: {'z': (0.0, 0.0)}.\n",
      "[INFO 12-13 23:12:30] ax.service.ax_client: Generated new trial 6 with parameters {'a': 0.779925, 'b': -0.129551} using model Sobol.\n",
      "[INFO 12-13 23:12:30] ax.service.ax_client: Completed trial 6 with data: {'z': (0.0, 0.0)}.\n",
      "[INFO 12-13 23:12:30] ax.service.ax_client: Generated new trial 7 with parameters {'a': -0.289224, 'b': 0.16376} using model Sobol.\n",
      "[INFO 12-13 23:12:30] ax.service.ax_client: Completed trial 7 with data: {'z': (5e-06, 0.0)}.\n",
      "[INFO 12-13 23:12:30] ax.service.ax_client: Generated new trial 8 with parameters {'a': -0.490733, 'b': -0.632231} using model Sobol.\n",
      "[INFO 12-13 23:12:30] ax.service.ax_client: Completed trial 8 with data: {'z': (0.0, 0.0)}.\n",
      "[INFO 12-13 23:12:30] ax.service.ax_client: Generated new trial 9 with parameters {'a': 0.937547, 'b': 0.660639} using model Sobol.\n",
      "[INFO 12-13 23:12:30] ax.service.ax_client: Completed trial 9 with data: {'z': (0.0, 0.0)}.\n",
      "[INFO 12-13 23:12:30] ax.service.ax_client: Generated new trial 10 with parameters {'a': 0.442687, 'b': -0.381787} using model Sobol.\n",
      "[INFO 12-13 23:12:30] ax.service.ax_client: Completed trial 10 with data: {'z': (0.0, 0.0)}.\n",
      "[INFO 12-13 23:12:30] ax.service.ax_client: Generated new trial 11 with parameters {'a': -0.988041, 'b': 0.412029} using model Sobol.\n",
      "[INFO 12-13 23:12:30] ax.service.ax_client: Completed trial 11 with data: {'z': (0.0, 0.0)}.\n",
      "[INFO 12-13 23:12:30] ax.service.ax_client: Generated new trial 12 with parameters {'a': -0.73996, 'b': -0.025109} using model Sobol.\n",
      "[INFO 12-13 23:12:30] ax.service.ax_client: Completed trial 12 with data: {'z': (0.0, 0.0)}.\n",
      "[INFO 12-13 23:12:30] ax.service.ax_client: Generated new trial 13 with parameters {'a': 0.190639, 'b': 0.057312} using model Sobol.\n",
      "[INFO 12-13 23:12:30] ax.service.ax_client: Completed trial 13 with data: {'z': (0.908923, 0.0)}.\n",
      "[INFO 12-13 23:12:30] ax.service.ax_client: Generated new trial 14 with parameters {'a': 0.693807, 'b': -0.77357} using model Sobol.\n",
      "[INFO 12-13 23:12:30] ax.service.ax_client: Completed trial 14 with data: {'z': (0.0, 0.0)}.\n",
      "[INFO 12-13 23:12:30] ax.service.ax_client: Generated new trial 15 with parameters {'a': -0.235335, 'b': 0.807843} using model Sobol.\n",
      "[INFO 12-13 23:12:30] ax.service.ax_client: Completed trial 15 with data: {'z': (0.0, 0.0)}.\n",
      "[INFO 12-13 23:12:30] ax.service.ax_client: Generated new trial 16 with parameters {'a': -0.169603, 'b': -0.849599} using model Sobol.\n",
      "[INFO 12-13 23:12:31] ax.service.ax_client: Completed trial 16 with data: {'z': (0.0, 0.0)}.\n",
      "[INFO 12-13 23:12:31] ax.service.ax_client: Generated new trial 17 with parameters {'a': 0.651499, 'b': 0.819232} using model Sobol.\n",
      "[INFO 12-13 23:12:31] ax.service.ax_client: Completed trial 17 with data: {'z': (0.0, 0.0)}.\n",
      "[INFO 12-13 23:12:31] ax.service.ax_client: Generated new trial 18 with parameters {'a': 0.154667, 'b': -0.09806} using model Sobol.\n",
      "[INFO 12-13 23:12:31] ax.service.ax_client: Completed trial 18 with data: {'z': (0.126926, 0.0)}.\n",
      "[INFO 12-13 23:12:31] ax.service.ax_client: Generated new trial 19 with parameters {'a': -0.664978, 'b': 0.069763} using model Sobol.\n",
      "[INFO 12-13 23:12:31] ax.service.ax_client: Completed trial 19 with data: {'z': (0.0, 0.0)}.\n"
     ]
    },
    {
     "name": "stdout",
     "output_type": "stream",
     "text": [
      "Using GPEI (Exploitation)\n"
     ]
    },
    {
     "name": "stderr",
     "output_type": "stream",
     "text": [
      "[INFO 12-13 23:12:32] ax.service.ax_client: Generated new trial 20 with parameters {'a': 0.254275, 'b': 0.068157} using model GPEI.\n",
      "[INFO 12-13 23:12:32] ax.service.ax_client: Completed trial 20 with data: {'z': (0.820378, 0.0)}.\n"
     ]
    },
    {
     "name": "stdout",
     "output_type": "stream",
     "text": [
      "Using qNIPV (Exploration)\n"
     ]
    },
    {
     "name": "stderr",
     "output_type": "stream",
     "text": [
      "[INFO 12-13 23:12:34] ax.service.ax_client: Generated new trial 21 with parameters {'a': 0.128508, 'b': 0.070311} using model GPEI.\n",
      "[INFO 12-13 23:12:34] ax.service.ax_client: Completed trial 21 with data: {'z': (0.741092, 0.0)}.\n"
     ]
    },
    {
     "name": "stdout",
     "output_type": "stream",
     "text": [
      "Using GPEI (Exploitation)\n"
     ]
    },
    {
     "name": "stderr",
     "output_type": "stream",
     "text": [
      "[INFO 12-13 23:12:35] ax.service.ax_client: Generated new trial 22 with parameters {'a': 0.20855, 'b': 0.035755} using model GPEI.\n",
      "[INFO 12-13 23:12:35] ax.service.ax_client: Completed trial 22 with data: {'z': (0.810565, 0.0)}.\n"
     ]
    },
    {
     "name": "stdout",
     "output_type": "stream",
     "text": [
      "Using GPEI (Exploitation)\n"
     ]
    },
    {
     "name": "stderr",
     "output_type": "stream",
     "text": [
      "[INFO 12-13 23:12:36] ax.service.ax_client: Generated new trial 23 with parameters {'a': 0.201374, 'b': 0.100446} using model GPEI.\n",
      "[INFO 12-13 23:12:36] ax.service.ax_client: Completed trial 23 with data: {'z': (0.999896, 0.0)}.\n"
     ]
    },
    {
     "name": "stdout",
     "output_type": "stream",
     "text": [
      "Using GPEI (Exploitation)\n"
     ]
    },
    {
     "name": "stderr",
     "output_type": "stream",
     "text": [
      "[INFO 12-13 23:12:37] ax.service.ax_client: Generated new trial 24 with parameters {'a': -1.0, 'b': 1.0} using model GPEI.\n",
      "[INFO 12-13 23:12:37] ax.service.ax_client: Completed trial 24 with data: {'z': (0.0, 0.0)}.\n"
     ]
    },
    {
     "name": "stdout",
     "output_type": "stream",
     "text": [
      "Using GPEI (Exploitation)\n"
     ]
    },
    {
     "name": "stderr",
     "output_type": "stream",
     "text": [
      "[INFO 12-13 23:12:39] ax.service.ax_client: Generated new trial 25 with parameters {'a': 0.216621, 'b': 0.119648} using model GPEI.\n",
      "[INFO 12-13 23:12:39] ax.service.ax_client: Completed trial 25 with data: {'z': (0.967428, 0.0)}.\n"
     ]
    },
    {
     "name": "stdout",
     "output_type": "stream",
     "text": [
      "Using qNIPV (Exploration)\n"
     ]
    },
    {
     "name": "stderr",
     "output_type": "stream",
     "text": [
      "[INFO 12-13 23:12:39] ax.service.ax_client: Generated new trial 26 with parameters {'a': -1.0, 'b': -0.425815} using model GPEI.\n",
      "[INFO 12-13 23:12:39] ax.service.ax_client: Completed trial 26 with data: {'z': (0.0, 0.0)}.\n"
     ]
    },
    {
     "name": "stdout",
     "output_type": "stream",
     "text": [
      "Using GPEI (Exploitation)\n"
     ]
    },
    {
     "name": "stderr",
     "output_type": "stream",
     "text": [
      "[INFO 12-13 23:12:40] ax.service.ax_client: Generated new trial 27 with parameters {'a': 0.280122, 'b': -1.0} using model GPEI.\n",
      "[INFO 12-13 23:12:40] ax.service.ax_client: Completed trial 27 with data: {'z': (0.0, 0.0)}.\n"
     ]
    },
    {
     "name": "stdout",
     "output_type": "stream",
     "text": [
      "Using GPEI (Exploitation)\n"
     ]
    },
    {
     "name": "stderr",
     "output_type": "stream",
     "text": [
      "[INFO 12-13 23:12:41] ax.service.ax_client: Generated new trial 28 with parameters {'a': 1.0, 'b': 0.232169} using model GPEI.\n",
      "[INFO 12-13 23:12:41] ax.service.ax_client: Completed trial 28 with data: {'z': (0.0, 0.0)}.\n"
     ]
    },
    {
     "name": "stdout",
     "output_type": "stream",
     "text": [
      "Using GPEI (Exploitation)\n"
     ]
    },
    {
     "name": "stderr",
     "output_type": "stream",
     "text": [
      "[INFO 12-13 23:12:41] ax.service.ax_client: Generated new trial 29 with parameters {'a': 1.0, 'b': -0.495338} using model GPEI.\n",
      "[INFO 12-13 23:12:41] ax.service.ax_client: Completed trial 29 with data: {'z': (0.0, 0.0)}.\n"
     ]
    },
    {
     "name": "stdout",
     "output_type": "stream",
     "text": [
      "Using GPEI (Exploitation)\n"
     ]
    },
    {
     "name": "stderr",
     "output_type": "stream",
     "text": [
      "[INFO 12-13 23:12:42] ax.service.ax_client: Generated new trial 30 with parameters {'a': 1.0, 'b': -1.0} using model GPEI.\n",
      "[INFO 12-13 23:12:42] ax.service.ax_client: Completed trial 30 with data: {'z': (0.0, 0.0)}.\n"
     ]
    },
    {
     "name": "stdout",
     "output_type": "stream",
     "text": [
      "Using GPEI (Exploitation)\n"
     ]
    },
    {
     "name": "stderr",
     "output_type": "stream",
     "text": [
      "[INFO 12-13 23:12:43] ax.service.ax_client: Generated new trial 31 with parameters {'a': -0.594001, 'b': 1.0} using model GPEI.\n",
      "[INFO 12-13 23:12:43] ax.service.ax_client: Completed trial 31 with data: {'z': (0.0, 0.0)}.\n"
     ]
    },
    {
     "name": "stdout",
     "output_type": "stream",
     "text": [
      "Using GPEI (Exploitation)\n"
     ]
    },
    {
     "name": "stderr",
     "output_type": "stream",
     "text": [
      "[INFO 12-13 23:12:44] ax.service.ax_client: Generated new trial 32 with parameters {'a': 0.058852, 'b': 0.571705} using model GPEI.\n",
      "[INFO 12-13 23:12:44] ax.service.ax_client: Completed trial 32 with data: {'z': (5e-06, 0.0)}.\n"
     ]
    },
    {
     "name": "stdout",
     "output_type": "stream",
     "text": [
      "Using qNIPV (Exploration)\n"
     ]
    },
    {
     "name": "stderr",
     "output_type": "stream",
     "text": [
      "[INFO 12-13 23:12:45] ax.service.ax_client: Generated new trial 33 with parameters {'a': -0.428979, 'b': -0.244647} using model GPEI.\n",
      "[INFO 12-13 23:12:45] ax.service.ax_client: Completed trial 33 with data: {'z': (0.0, 0.0)}.\n"
     ]
    },
    {
     "name": "stdout",
     "output_type": "stream",
     "text": [
      "Using GPEI (Exploitation)\n"
     ]
    },
    {
     "name": "stderr",
     "output_type": "stream",
     "text": [
      "[INFO 12-13 23:12:45] ax.service.ax_client: Generated new trial 34 with parameters {'a': 1.0, 'b': 1.0} using model GPEI.\n",
      "[INFO 12-13 23:12:45] ax.service.ax_client: Completed trial 34 with data: {'z': (0.0, 0.0)}.\n"
     ]
    },
    {
     "name": "stdout",
     "output_type": "stream",
     "text": [
      "Using GPEI (Exploitation)\n"
     ]
    },
    {
     "name": "stderr",
     "output_type": "stream",
     "text": [
      "[INFO 12-13 23:12:46] ax.service.ax_client: Generated new trial 35 with parameters {'a': 0.19328, 'b': 0.10524} using model GPEI.\n",
      "[INFO 12-13 23:12:46] ax.service.ax_client: Completed trial 35 with data: {'z': (0.996376, 0.0)}.\n"
     ]
    },
    {
     "name": "stdout",
     "output_type": "stream",
     "text": [
      "Using GPEI (Exploitation)\n"
     ]
    },
    {
     "name": "stderr",
     "output_type": "stream",
     "text": [
      "[INFO 12-13 23:12:47] ax.service.ax_client: Generated new trial 36 with parameters {'a': -0.47388, 'b': -1.0} using model GPEI.\n",
      "[INFO 12-13 23:12:47] ax.service.ax_client: Completed trial 36 with data: {'z': (0.0, 0.0)}.\n"
     ]
    },
    {
     "name": "stdout",
     "output_type": "stream",
     "text": [
      "Using GPEI (Exploitation)\n"
     ]
    },
    {
     "name": "stderr",
     "output_type": "stream",
     "text": [
      "[INFO 12-13 23:12:48] ax.service.ax_client: Generated new trial 37 with parameters {'a': -0.843197, 'b': 0.714065} using model GPEI.\n",
      "[INFO 12-13 23:12:48] ax.service.ax_client: Completed trial 37 with data: {'z': (0.0, 0.0)}.\n"
     ]
    },
    {
     "name": "stdout",
     "output_type": "stream",
     "text": [
      "Using GPEI (Exploitation)\n"
     ]
    },
    {
     "name": "stderr",
     "output_type": "stream",
     "text": [
      "[INFO 12-13 23:12:49] ax.service.ax_client: Generated new trial 38 with parameters {'a': 0.338997, 'b': -0.687063} using model GPEI.\n",
      "[INFO 12-13 23:12:49] ax.service.ax_client: Completed trial 38 with data: {'z': (0.0, 0.0)}.\n"
     ]
    },
    {
     "name": "stdout",
     "output_type": "stream",
     "text": [
      "Using GPEI (Exploitation)\n"
     ]
    },
    {
     "name": "stderr",
     "output_type": "stream",
     "text": [
      "[INFO 12-13 23:12:50] ax.service.ax_client: Generated new trial 39 with parameters {'a': 0.403031, 'b': 0.598159} using model GPEI.\n",
      "[INFO 12-13 23:12:50] ax.service.ax_client: Completed trial 39 with data: {'z': (1e-06, 0.0)}.\n",
      "[INFO 12-13 23:12:50] ax.service.ax_client: Starting optimization with verbose logging. To disable logging, set the `verbose_logging` argument to `False`. Note that float values in the logs are rounded to 6 decimal points.\n",
      "[INFO 12-13 23:12:50] ax.service.utils.instantiation: Inferred value type of ParameterType.FLOAT for parameter a. If that is not the expected value type, you can explicitly specify 'value_type' ('int', 'float', 'bool' or 'str') in parameter dict.\n",
      "[INFO 12-13 23:12:50] ax.service.utils.instantiation: Inferred value type of ParameterType.FLOAT for parameter b. If that is not the expected value type, you can explicitly specify 'value_type' ('int', 'float', 'bool' or 'str') in parameter dict.\n",
      "[INFO 12-13 23:12:50] ax.service.utils.instantiation: Created search space: SearchSpace(parameters=[RangeParameter(name='a', parameter_type=FLOAT, range=[-1.0, 1.0]), RangeParameter(name='b', parameter_type=FLOAT, range=[-1.0, 1.0])], parameter_constraints=[]).\n",
      "[INFO 12-13 23:12:50] ax.service.ax_client: Generated new trial 0 with parameters {'a': 0.099567, 'b': 0.216102} using model Sobol.\n",
      "[INFO 12-13 23:12:50] ax.service.ax_client: Completed trial 0 with data: {'z': (0.307793, 0.0)}.\n",
      "[INFO 12-13 23:12:50] ax.service.ax_client: Generated new trial 1 with parameters {'a': -0.953314, 'b': -0.208444} using model Sobol.\n",
      "[INFO 12-13 23:12:50] ax.service.ax_client: Completed trial 1 with data: {'z': (0.0, 0.0)}.\n",
      "[INFO 12-13 23:12:50] ax.service.ax_client: Generated new trial 2 with parameters {'a': -0.233809, 'b': 0.688207} using model Sobol.\n",
      "[INFO 12-13 23:12:50] ax.service.ax_client: Completed trial 2 with data: {'z': (0.0, 0.0)}.\n",
      "[INFO 12-13 23:12:50] ax.service.ax_client: Generated new trial 3 with parameters {'a': 0.838558, 'b': -0.695812} using model Sobol.\n",
      "[INFO 12-13 23:12:50] ax.service.ax_client: Completed trial 3 with data: {'z': (0.0, 0.0)}.\n",
      "[INFO 12-13 23:12:50] ax.service.ax_client: Generated new trial 4 with parameters {'a': 0.55807, 'b': 0.847286} using model Sobol.\n",
      "[INFO 12-13 23:12:50] ax.service.ax_client: Completed trial 4 with data: {'z': (0.0, 0.0)}.\n",
      "[INFO 12-13 23:12:50] ax.service.ax_client: Generated new trial 5 with parameters {'a': -0.389358, 'b': -0.855123} using model Sobol.\n",
      "[INFO 12-13 23:12:50] ax.service.ax_client: Completed trial 5 with data: {'z': (0.0, 0.0)}.\n",
      "[INFO 12-13 23:12:50] ax.service.ax_client: Generated new trial 6 with parameters {'a': -0.673744, 'b': 0.373468} using model Sobol.\n",
      "[INFO 12-13 23:12:50] ax.service.ax_client: Completed trial 6 with data: {'z': (0.0, 0.0)}.\n",
      "[INFO 12-13 23:12:50] ax.service.ax_client: Generated new trial 7 with parameters {'a': 0.254076, 'b': -0.365562} using model Sobol.\n",
      "[INFO 12-13 23:12:50] ax.service.ax_client: Completed trial 7 with data: {'z': (1.7e-05, 0.0)}.\n",
      "[INFO 12-13 23:12:50] ax.service.ax_client: Generated new trial 8 with parameters {'a': 0.424844, 'b': 0.622652} using model Sobol.\n",
      "[INFO 12-13 23:12:50] ax.service.ax_client: Completed trial 8 with data: {'z': (0.0, 0.0)}.\n",
      "[INFO 12-13 23:12:50] ax.service.ax_client: Generated new trial 9 with parameters {'a': -0.50665, 'b': -0.614883} using model Sobol.\n",
      "[INFO 12-13 23:12:50] ax.service.ax_client: Completed trial 9 with data: {'z': (0.0, 0.0)}.\n",
      "[INFO 12-13 23:12:50] ax.service.ax_client: Generated new trial 10 with parameters {'a': -0.306234, 'b': 0.09415} using model Sobol.\n",
      "[INFO 12-13 23:12:50] ax.service.ax_client: Completed trial 10 with data: {'z': (3e-06, 0.0)}.\n",
      "[INFO 12-13 23:12:50] ax.service.ax_client: Generated new trial 11 with parameters {'a': 0.637024, 'b': -0.101881} using model Sobol.\n",
      "[INFO 12-13 23:12:50] ax.service.ax_client: Completed trial 11 with data: {'z': (9e-06, 0.0)}.\n",
      "[INFO 12-13 23:12:50] ax.service.ax_client: Generated new trial 12 with parameters {'a': 0.981966, 'b': 0.440732} using model Sobol.\n"
     ]
    },
    {
     "name": "stdout",
     "output_type": "stream",
     "text": [
      "Batch size 1: Async time: 19.736492300000464, Error: 0.0001043697107672159\n"
     ]
    },
    {
     "name": "stderr",
     "output_type": "stream",
     "text": [
      "[INFO 12-13 23:12:50] ax.service.ax_client: Completed trial 12 with data: {'z': (0.0, 0.0)}.\n",
      "[INFO 12-13 23:12:50] ax.service.ax_client: Generated new trial 13 with parameters {'a': -0.086231, 'b': -0.448688} using model Sobol.\n",
      "[INFO 12-13 23:12:50] ax.service.ax_client: Completed trial 13 with data: {'z': (0.0, 0.0)}.\n",
      "[INFO 12-13 23:12:50] ax.service.ax_client: Generated new trial 14 with parameters {'a': -0.850674, 'b': 0.967529} using model Sobol.\n",
      "[INFO 12-13 23:12:50] ax.service.ax_client: Completed trial 14 with data: {'z': (0.0, 0.0)}.\n",
      "[INFO 12-13 23:12:50] ax.service.ax_client: Generated new trial 15 with parameters {'a': 0.205881, 'b': -0.959489} using model Sobol.\n",
      "[INFO 12-13 23:12:50] ax.service.ax_client: Completed trial 15 with data: {'z': (0.0, 0.0)}.\n",
      "[INFO 12-13 23:12:50] ax.service.ax_client: Generated new trial 16 with parameters {'a': 0.139986, 'b': 0.926053} using model Sobol.\n",
      "[INFO 12-13 23:12:50] ax.service.ax_client: Completed trial 16 with data: {'z': (0.0, 0.0)}.\n",
      "[INFO 12-13 23:12:50] ax.service.ax_client: Generated new trial 17 with parameters {'a': -0.80724, 'b': -0.934069} using model Sobol.\n",
      "[INFO 12-13 23:12:50] ax.service.ax_client: Completed trial 17 with data: {'z': (0.0, 0.0)}.\n",
      "[INFO 12-13 23:12:50] ax.service.ax_client: Generated new trial 18 with parameters {'a': -0.005642, 'b': 0.415739} using model Sobol.\n",
      "[INFO 12-13 23:12:50] ax.service.ax_client: Completed trial 18 with data: {'z': (0.000826, 0.0)}.\n",
      "[INFO 12-13 23:12:50] ax.service.ax_client: Generated new trial 19 with parameters {'a': 0.921884, 'b': -0.407761} using model Sobol.\n",
      "[INFO 12-13 23:12:50] ax.service.ax_client: Completed trial 19 with data: {'z': (0.0, 0.0)}.\n"
     ]
    },
    {
     "name": "stdout",
     "output_type": "stream",
     "text": [
      "Using GPEI (Exploitation)\n"
     ]
    },
    {
     "name": "stderr",
     "output_type": "stream",
     "text": [
      "[INFO 12-13 23:12:51] ax.service.ax_client: Generated new trial 20 with parameters {'a': 1.0, 'b': 0.223024} using model GPEI.\n",
      "[INFO 12-13 23:12:51] ax.service.ax_client: Completed trial 20 with data: {'z': (0.0, 0.0)}.\n"
     ]
    },
    {
     "name": "stdout",
     "output_type": "stream",
     "text": [
      "Using GPEI (Exploitation)\n"
     ]
    },
    {
     "name": "stderr",
     "output_type": "stream",
     "text": [
      "[INFO 12-13 23:12:52] ax.service.ax_client: Generated new trial 21 with parameters {'a': 0.139204, 'b': 0.23262} using model GPEI.\n",
      "[INFO 12-13 23:12:52] ax.service.ax_client: Completed trial 21 with data: {'z': (0.345001, 0.0)}.\n"
     ]
    },
    {
     "name": "stdout",
     "output_type": "stream",
     "text": [
      "Using GPEI (Exploitation)\n"
     ]
    },
    {
     "name": "stderr",
     "output_type": "stream",
     "text": [
      "[INFO 12-13 23:12:53] ax.service.ax_client: Generated new trial 22 with parameters {'a': 0.140811, 'b': 0.129867} using model GPEI.\n",
      "[INFO 12-13 23:12:53] ax.service.ax_client: Completed trial 22 with data: {'z': (0.802702, 0.0)}.\n"
     ]
    },
    {
     "name": "stdout",
     "output_type": "stream",
     "text": [
      "Using GPEI (Exploitation)\n"
     ]
    },
    {
     "name": "stderr",
     "output_type": "stream",
     "text": [
      "[INFO 12-13 23:12:54] ax.service.ax_client: Generated new trial 23 with parameters {'a': 0.160788, 'b': 0.12004} using model GPEI.\n",
      "[INFO 12-13 23:12:54] ax.service.ax_client: Completed trial 23 with data: {'z': (0.907594, 0.0)}.\n"
     ]
    },
    {
     "name": "stdout",
     "output_type": "stream",
     "text": [
      "Using qNIPV (Exploration)\n"
     ]
    },
    {
     "name": "stderr",
     "output_type": "stream",
     "text": [
      "[INFO 12-13 23:12:55] ax.service.ax_client: Generated new trial 24 with parameters {'a': 0.1956, 'b': 0.095311} using model GPEI.\n",
      "[INFO 12-13 23:12:55] ax.service.ax_client: Completed trial 24 with data: {'z': (0.997935, 0.0)}.\n"
     ]
    },
    {
     "name": "stdout",
     "output_type": "stream",
     "text": [
      "Using GPEI (Exploitation)\n"
     ]
    },
    {
     "name": "stderr",
     "output_type": "stream",
     "text": [
      "[INFO 12-13 23:12:56] ax.service.ax_client: Generated new trial 25 with parameters {'a': 0.180097, 'b': 0.062833} using model GPEI.\n",
      "[INFO 12-13 23:12:56] ax.service.ax_client: Completed trial 25 with data: {'z': (0.914957, 0.0)}.\n"
     ]
    },
    {
     "name": "stdout",
     "output_type": "stream",
     "text": [
      "Using GPEI (Exploitation)\n"
     ]
    },
    {
     "name": "stderr",
     "output_type": "stream",
     "text": [
      "[INFO 12-13 23:12:58] ax.service.ax_client: Generated new trial 26 with parameters {'a': 0.209686, 'b': 0.110626} using model GPEI.\n",
      "[INFO 12-13 23:12:58] ax.service.ax_client: Completed trial 26 with data: {'z': (0.989716, 0.0)}.\n"
     ]
    },
    {
     "name": "stdout",
     "output_type": "stream",
     "text": [
      "Using GPEI (Exploitation)\n"
     ]
    },
    {
     "name": "stderr",
     "output_type": "stream",
     "text": [
      "[INFO 12-13 23:12:58] ax.service.ax_client: Generated new trial 27 with parameters {'a': 1.0, 'b': 1.0} using model GPEI.\n",
      "[INFO 12-13 23:12:58] ax.service.ax_client: Completed trial 27 with data: {'z': (0.0, 0.0)}.\n"
     ]
    },
    {
     "name": "stdout",
     "output_type": "stream",
     "text": [
      "Using GPEI (Exploitation)\n"
     ]
    },
    {
     "name": "stderr",
     "output_type": "stream",
     "text": [
      "[INFO 12-13 23:12:59] ax.service.ax_client: Generated new trial 28 with parameters {'a': -1.0, 'b': 0.576277} using model GPEI.\n",
      "[INFO 12-13 23:12:59] ax.service.ax_client: Completed trial 28 with data: {'z': (0.0, 0.0)}.\n"
     ]
    },
    {
     "name": "stdout",
     "output_type": "stream",
     "text": [
      "Using GPEI (Exploitation)\n"
     ]
    },
    {
     "name": "stderr",
     "output_type": "stream",
     "text": [
      "[INFO 12-13 23:13:00] ax.service.ax_client: Generated new trial 29 with parameters {'a': 0.596621, 'b': -1.0} using model GPEI.\n",
      "[INFO 12-13 23:13:00] ax.service.ax_client: Completed trial 29 with data: {'z': (0.0, 0.0)}.\n"
     ]
    },
    {
     "name": "stdout",
     "output_type": "stream",
     "text": [
      "Using GPEI (Exploitation)\n"
     ]
    },
    {
     "name": "stderr",
     "output_type": "stream",
     "text": [
      "[INFO 12-13 23:13:01] ax.service.ax_client: Generated new trial 30 with parameters {'a': -0.561096, 'b': -0.207344} using model GPEI.\n",
      "[INFO 12-13 23:13:01] ax.service.ax_client: Completed trial 30 with data: {'z': (0.0, 0.0)}.\n"
     ]
    },
    {
     "name": "stdout",
     "output_type": "stream",
     "text": [
      "Using qNIPV (Exploration)\n"
     ]
    },
    {
     "name": "stderr",
     "output_type": "stream",
     "text": [
      "[INFO 12-13 23:13:01] ax.service.ax_client: Generated new trial 31 with parameters {'a': -0.461283, 'b': 1.0} using model GPEI.\n",
      "[INFO 12-13 23:13:01] ax.service.ax_client: Completed trial 31 with data: {'z': (0.0, 0.0)}.\n"
     ]
    },
    {
     "name": "stdout",
     "output_type": "stream",
     "text": [
      "Using GPEI (Exploitation)\n"
     ]
    },
    {
     "name": "stderr",
     "output_type": "stream",
     "text": [
      "[INFO 12-13 23:13:02] ax.service.ax_client: Generated new trial 32 with parameters {'a': -1.0, 'b': -0.600559} using model GPEI.\n",
      "[INFO 12-13 23:13:02] ax.service.ax_client: Completed trial 32 with data: {'z': (0.0, 0.0)}.\n"
     ]
    },
    {
     "name": "stdout",
     "output_type": "stream",
     "text": [
      "Using GPEI (Exploitation)\n"
     ]
    },
    {
     "name": "stderr",
     "output_type": "stream",
     "text": [
      "[INFO 12-13 23:13:03] ax.service.ax_client: Generated new trial 33 with parameters {'a': -1.0, 'b': 0.174189} using model GPEI.\n",
      "[INFO 12-13 23:13:03] ax.service.ax_client: Completed trial 33 with data: {'z': (0.0, 0.0)}.\n"
     ]
    },
    {
     "name": "stdout",
     "output_type": "stream",
     "text": [
      "Using GPEI (Exploitation)\n"
     ]
    },
    {
     "name": "stderr",
     "output_type": "stream",
     "text": [
      "[INFO 12-13 23:13:04] ax.service.ax_client: Generated new trial 34 with parameters {'a': 0.200657, 'b': 0.099444} using model GPEI.\n",
      "[INFO 12-13 23:13:04] ax.service.ax_client: Completed trial 34 with data: {'z': (0.999963, 0.0)}.\n"
     ]
    },
    {
     "name": "stdout",
     "output_type": "stream",
     "text": [
      "Using GPEI (Exploitation)\n"
     ]
    },
    {
     "name": "stderr",
     "output_type": "stream",
     "text": [
      "[INFO 12-13 23:13:06] ax.service.ax_client: Generated new trial 35 with parameters {'a': 0.480287, 'b': -0.63657} using model GPEI.\n",
      "[INFO 12-13 23:13:06] ax.service.ax_client: Completed trial 35 with data: {'z': (0.0, 0.0)}.\n"
     ]
    },
    {
     "name": "stdout",
     "output_type": "stream",
     "text": [
      "Using GPEI (Exploitation)\n"
     ]
    },
    {
     "name": "stderr",
     "output_type": "stream",
     "text": [
      "[INFO 12-13 23:13:06] ax.service.ax_client: Generated new trial 36 with parameters {'a': 1.0, 'b': -1.0} using model GPEI.\n",
      "[INFO 12-13 23:13:06] ax.service.ax_client: Completed trial 36 with data: {'z': (0.0, 0.0)}.\n"
     ]
    },
    {
     "name": "stdout",
     "output_type": "stream",
     "text": [
      "Using GPEI (Exploitation)\n"
     ]
    },
    {
     "name": "stderr",
     "output_type": "stream",
     "text": [
      "[INFO 12-13 23:13:07] ax.service.ax_client: Generated new trial 37 with parameters {'a': 0.652485, 'b': 0.321606} using model GPEI.\n",
      "[INFO 12-13 23:13:07] ax.service.ax_client: Completed trial 37 with data: {'z': (3e-06, 0.0)}.\n"
     ]
    },
    {
     "name": "stdout",
     "output_type": "stream",
     "text": [
      "Using qNIPV (Exploration)\n"
     ]
    },
    {
     "name": "stderr",
     "output_type": "stream",
     "text": [
      "[INFO 12-13 23:13:08] ax.service.ax_client: Generated new trial 38 with parameters {'a': -0.108119, 'b': -1.0} using model GPEI.\n",
      "[INFO 12-13 23:13:08] ax.service.ax_client: Completed trial 38 with data: {'z': (0.0, 0.0)}.\n"
     ]
    },
    {
     "name": "stdout",
     "output_type": "stream",
     "text": [
      "Using GPEI (Exploitation)\n"
     ]
    },
    {
     "name": "stderr",
     "output_type": "stream",
     "text": [
      "[INFO 12-13 23:13:09] ax.service.ax_client: Generated new trial 39 with parameters {'a': -0.61593, 'b': 0.7018} using model GPEI.\n",
      "[INFO 12-13 23:13:09] ax.service.ax_client: Completed trial 39 with data: {'z': (0.0, 0.0)}.\n",
      "[INFO 12-13 23:13:09] ax.service.ax_client: Starting optimization with verbose logging. To disable logging, set the `verbose_logging` argument to `False`. Note that float values in the logs are rounded to 6 decimal points.\n",
      "[INFO 12-13 23:13:09] ax.service.utils.instantiation: Inferred value type of ParameterType.FLOAT for parameter a. If that is not the expected value type, you can explicitly specify 'value_type' ('int', 'float', 'bool' or 'str') in parameter dict.\n",
      "[INFO 12-13 23:13:09] ax.service.utils.instantiation: Inferred value type of ParameterType.FLOAT for parameter b. If that is not the expected value type, you can explicitly specify 'value_type' ('int', 'float', 'bool' or 'str') in parameter dict.\n",
      "[INFO 12-13 23:13:09] ax.service.utils.instantiation: Created search space: SearchSpace(parameters=[RangeParameter(name='a', parameter_type=FLOAT, range=[-1.0, 1.0]), RangeParameter(name='b', parameter_type=FLOAT, range=[-1.0, 1.0])], parameter_constraints=[]).\n",
      "[INFO 12-13 23:13:09] ax.service.ax_client: Generated new trial 0 with parameters {'a': -0.584355, 'b': -0.875184} using model Sobol.\n",
      "[INFO 12-13 23:13:09] ax.service.ax_client: Completed trial 0 with data: {'z': (0.0, 0.0)}.\n",
      "[INFO 12-13 23:13:09] ax.service.ax_client: Generated new trial 1 with parameters {'a': 0.244686, 'b': 0.851635} using model Sobol.\n",
      "[INFO 12-13 23:13:09] ax.service.ax_client: Completed trial 1 with data: {'z': (0.0, 0.0)}.\n",
      "[INFO 12-13 23:13:09] ax.service.ax_client: Generated new trial 2 with parameters {'a': 0.836821, 'b': -0.003409} using model Sobol.\n",
      "[INFO 12-13 23:13:09] ax.service.ax_client: Completed trial 2 with data: {'z': (0.0, 0.0)}.\n",
      "[INFO 12-13 23:13:09] ax.service.ax_client: Generated new trial 3 with parameters {'a': -0.488314, 'b': 0.229855} using model Sobol.\n",
      "[INFO 12-13 23:13:09] ax.service.ax_client: Completed trial 3 with data: {'z': (0.0, 0.0)}.\n",
      "[INFO 12-13 23:13:09] ax.service.ax_client: Generated new trial 4 with parameters {'a': -0.190715, 'b': -0.474213} using model Sobol.\n",
      "[INFO 12-13 23:13:09] ax.service.ax_client: Completed trial 4 with data: {'z': (0.0, 0.0)}.\n",
      "[INFO 12-13 23:13:09] ax.service.ax_client: Generated new trial 5 with parameters {'a': 0.609028, 'b': 0.263407} using model Sobol.\n",
      "[INFO 12-13 23:13:09] ax.service.ax_client: Completed trial 5 with data: {'z': (6.1e-05, 0.0)}.\n",
      "[INFO 12-13 23:13:09] ax.service.ax_client: Generated new trial 6 with parameters {'a': 0.450975, 'b': -0.600425} using model Sobol.\n",
      "[INFO 12-13 23:13:09] ax.service.ax_client: Completed trial 6 with data: {'z': (0.0, 0.0)}.\n",
      "[INFO 12-13 23:13:09] ax.service.ax_client: Generated new trial 7 with parameters {'a': -0.844862, 'b': 0.639616} using model Sobol.\n",
      "[INFO 12-13 23:13:09] ax.service.ax_client: Completed trial 7 with data: {'z': (0.0, 0.0)}.\n",
      "[INFO 12-13 23:13:09] ax.service.ax_client: Generated new trial 8 with parameters {'a': -0.935775, 'b': -0.228952} using model Sobol.\n",
      "[INFO 12-13 23:13:09] ax.service.ax_client: Completed trial 8 with data: {'z': (0.0, 0.0)}.\n",
      "[INFO 12-13 23:13:09] ax.service.ax_client: Generated new trial 9 with parameters {'a': 0.268388, 'b': 0.002261} using model Sobol.\n",
      "[INFO 12-13 23:13:09] ax.service.ax_client: Completed trial 9 with data: {'z': (0.490913, 0.0)}.\n",
      "[INFO 12-13 23:13:09] ax.service.ax_client: Generated new trial 10 with parameters {'a': 0.672596, 'b': -0.852782} using model Sobol.\n",
      "[INFO 12-13 23:13:09] ax.service.ax_client: Completed trial 10 with data: {'z': (0.0, 0.0)}.\n",
      "[INFO 12-13 23:13:09] ax.service.ax_client: Generated new trial 11 with parameters {'a': -0.02766, 'b': 0.876087} using model Sobol.\n"
     ]
    },
    {
     "name": "stdout",
     "output_type": "stream",
     "text": [
      "Batch size 1: Async time: 19.308940999999322, Error: 3.6999711452989636e-05\n"
     ]
    },
    {
     "name": "stderr",
     "output_type": "stream",
     "text": [
      "[INFO 12-13 23:13:09] ax.service.ax_client: Completed trial 11 with data: {'z': (0.0, 0.0)}.\n",
      "[INFO 12-13 23:13:09] ax.service.ax_client: Generated new trial 12 with parameters {'a': -0.292054, 'b': -0.640481} using model Sobol.\n",
      "[INFO 12-13 23:13:09] ax.service.ax_client: Completed trial 12 with data: {'z': (0.0, 0.0)}.\n",
      "[INFO 12-13 23:13:09] ax.service.ax_client: Generated new trial 13 with parameters {'a': 0.882812, 'b': 0.601534} using model Sobol.\n",
      "[INFO 12-13 23:13:09] ax.service.ax_client: Completed trial 13 with data: {'z': (0.0, 0.0)}.\n",
      "[INFO 12-13 23:13:09] ax.service.ax_client: Generated new trial 14 with parameters {'a': 0.036708, 'b': -0.262298} using model Sobol.\n",
      "[INFO 12-13 23:13:09] ax.service.ax_client: Completed trial 14 with data: {'z': (0.000372, 0.0)}.\n",
      "[INFO 12-13 23:13:09] ax.service.ax_client: Generated new trial 15 with parameters {'a': -0.634251, 'b': 0.473348} using model Sobol.\n",
      "[INFO 12-13 23:13:09] ax.service.ax_client: Completed trial 15 with data: {'z': (0.0, 0.0)}.\n",
      "[INFO 12-13 23:13:09] ax.service.ax_client: Generated new trial 16 with parameters {'a': -0.702152, 'b': -0.34109} using model Sobol.\n",
      "[INFO 12-13 23:13:09] ax.service.ax_client: Completed trial 16 with data: {'z': (0.0, 0.0)}.\n",
      "[INFO 12-13 23:13:09] ax.service.ax_client: Generated new trial 17 with parameters {'a': 0.097591, 'b': 0.427139} using model Sobol.\n",
      "[INFO 12-13 23:13:09] ax.service.ax_client: Completed trial 17 with data: {'z': (0.002808, 0.0)}.\n",
      "[INFO 12-13 23:13:09] ax.service.ax_client: Generated new trial 18 with parameters {'a': 0.938994, 'b': -0.716841} using model Sobol.\n",
      "[INFO 12-13 23:13:09] ax.service.ax_client: Completed trial 18 with data: {'z': (0.0, 0.0)}.\n",
      "[INFO 12-13 23:13:09] ax.service.ax_client: Generated new trial 19 with parameters {'a': -0.356844, 'b': 0.552894} using model Sobol.\n",
      "[INFO 12-13 23:13:09] ax.service.ax_client: Completed trial 19 with data: {'z': (0.0, 0.0)}.\n"
     ]
    },
    {
     "name": "stdout",
     "output_type": "stream",
     "text": [
      "Using GPEI (Exploitation)\n"
     ]
    },
    {
     "name": "stderr",
     "output_type": "stream",
     "text": [
      "[INFO 12-13 23:13:10] ax.service.ax_client: Generated new trial 20 with parameters {'a': 0.208226, 'b': 0.028122} using model GPEI.\n",
      "[INFO 12-13 23:13:10] ax.service.ax_client: Generated new trial 21 with parameters {'a': 0.208374, 'b': 0.028066} using model GPEI.\n",
      "[INFO 12-13 23:13:10] ax.service.ax_client: Completed trial 21 with data: {'z': (0.769333, 0.0)}.\n",
      "[INFO 12-13 23:13:11] ax.service.ax_client: Completed trial 20 with data: {'z': (0.76974, 0.0)}.\n"
     ]
    },
    {
     "name": "stdout",
     "output_type": "stream",
     "text": [
      "Using GPEI (Exploitation)\n"
     ]
    },
    {
     "name": "stderr",
     "output_type": "stream",
     "text": [
      "[INFO 12-13 23:13:12] ax.service.ax_client: Generated new trial 22 with parameters {'a': 0.207945, 'b': 0.028229} using model GPEI.\n",
      "[INFO 12-13 23:13:12] ax.service.ax_client: Generated new trial 23 with parameters {'a': 0.180025, 'b': 0.019368} using model GPEI.\n",
      "[INFO 12-13 23:13:12] ax.service.ax_client: Completed trial 23 with data: {'z': (0.708201, 0.0)}.\n",
      "[INFO 12-13 23:13:12] ax.service.ax_client: Completed trial 22 with data: {'z': (0.770506, 0.0)}.\n"
     ]
    },
    {
     "name": "stdout",
     "output_type": "stream",
     "text": [
      "Using GPEI (Exploitation)\n"
     ]
    },
    {
     "name": "stderr",
     "output_type": "stream",
     "text": [
      "[INFO 12-13 23:13:12] ax.service.ax_client: Generated new trial 24 with parameters {'a': -1.0, 'b': -1.0} using model GPEI.\n",
      "[INFO 12-13 23:13:12] ax.service.ax_client: Generated new trial 25 with parameters {'a': 0.06844, 'b': 0.053839} using model GPEI.\n",
      "[INFO 12-13 23:13:12] ax.service.ax_client: Completed trial 25 with data: {'z': (0.378346, 0.0)}.\n",
      "[INFO 12-13 23:13:12] ax.service.ax_client: Completed trial 24 with data: {'z': (0.0, 0.0)}.\n"
     ]
    },
    {
     "name": "stdout",
     "output_type": "stream",
     "text": [
      "Using GPEI (Exploitation)\n"
     ]
    },
    {
     "name": "stderr",
     "output_type": "stream",
     "text": [
      "[INFO 12-13 23:13:13] ax.service.ax_client: Generated new trial 26 with parameters {'a': 1.0, 'b': 1.0} using model GPEI.\n",
      "[INFO 12-13 23:13:13] ax.service.ax_client: Generated new trial 27 with parameters {'a': 0.205741, 'b': 0.058208} using model GPEI.\n",
      "[INFO 12-13 23:13:13] ax.service.ax_client: Completed trial 26 with data: {'z': (0.0, 0.0)}.\n",
      "[INFO 12-13 23:13:13] ax.service.ax_client: Completed trial 27 with data: {'z': (0.914869, 0.0)}.\n"
     ]
    },
    {
     "name": "stdout",
     "output_type": "stream",
     "text": [
      "Using GPEI (Exploitation)\n"
     ]
    },
    {
     "name": "stderr",
     "output_type": "stream",
     "text": [
      "[INFO 12-13 23:13:14] ax.service.ax_client: Generated new trial 28 with parameters {'a': 0.205767, 'b': 0.058255} using model GPEI.\n",
      "[INFO 12-13 23:13:14] ax.service.ax_client: Generated new trial 29 with parameters {'a': 0.208526, 'b': 0.098189} using model GPEI.\n",
      "[INFO 12-13 23:13:14] ax.service.ax_client: Completed trial 28 with data: {'z': (0.915033, 0.0)}.\n",
      "[INFO 12-13 23:13:14] ax.service.ax_client: Completed trial 29 with data: {'z': (0.996209, 0.0)}.\n"
     ]
    },
    {
     "name": "stdout",
     "output_type": "stream",
     "text": [
      "Using GPEI (Exploitation)\n"
     ]
    },
    {
     "name": "stderr",
     "output_type": "stream",
     "text": [
      "[INFO 12-13 23:13:16] ax.service.ax_client: Generated new trial 30 with parameters {'a': 0.243913, 'b': 0.10815} using model GPEI.\n",
      "[INFO 12-13 23:13:16] ax.service.ax_client: Generated new trial 31 with parameters {'a': 0.208508, 'b': 0.09812} using model GPEI.\n",
      "[INFO 12-13 23:13:16] ax.service.ax_client: Completed trial 31 with data: {'z': (0.996211, 0.0)}.\n",
      "[INFO 12-13 23:13:16] ax.service.ax_client: Completed trial 30 with data: {'z': (0.905075, 0.0)}.\n"
     ]
    },
    {
     "name": "stdout",
     "output_type": "stream",
     "text": [
      "Using qNIPV (Exploration)\n"
     ]
    },
    {
     "name": "stderr",
     "output_type": "stream",
     "text": [
      "[INFO 12-13 23:13:17] ax.service.ax_client: Generated new trial 32 with parameters {'a': 0.08812, 'b': -1.0} using model GPEI.\n",
      "[INFO 12-13 23:13:17] ax.service.ax_client: Generated new trial 33 with parameters {'a': 0.243913, 'b': 0.108148} using model GPEI.\n",
      "[INFO 12-13 23:13:17] ax.service.ax_client: Completed trial 33 with data: {'z': (0.905076, 0.0)}.\n",
      "[INFO 12-13 23:13:17] ax.service.ax_client: Completed trial 32 with data: {'z': (0.0, 0.0)}.\n"
     ]
    },
    {
     "name": "stdout",
     "output_type": "stream",
     "text": [
      "Using GPEI (Exploitation)\n"
     ]
    },
    {
     "name": "stderr",
     "output_type": "stream",
     "text": [
      "[INFO 12-13 23:13:18] ax.service.ax_client: Generated new trial 34 with parameters {'a': -0.536763, 'b': 1.0} using model GPEI.\n",
      "[INFO 12-13 23:13:18] ax.service.ax_client: Generated new trial 35 with parameters {'a': 0.087695, 'b': -1.0} using model GPEI.\n",
      "[INFO 12-13 23:13:18] ax.service.ax_client: Completed trial 35 with data: {'z': (0.0, 0.0)}.\n",
      "[INFO 12-13 23:13:18] ax.service.ax_client: Completed trial 34 with data: {'z': (0.0, 0.0)}.\n"
     ]
    },
    {
     "name": "stdout",
     "output_type": "stream",
     "text": [
      "Using GPEI (Exploitation)\n"
     ]
    },
    {
     "name": "stderr",
     "output_type": "stream",
     "text": [
      "[INFO 12-13 23:13:19] ax.service.ax_client: Generated new trial 36 with parameters {'a': -0.53699, 'b': 1.0} using model GPEI.\n",
      "[INFO 12-13 23:13:19] ax.service.ax_client: Generated new trial 37 with parameters {'a': -1.0, 'b': 0.199811} using model GPEI.\n",
      "[INFO 12-13 23:13:19] ax.service.ax_client: Completed trial 36 with data: {'z': (0.0, 0.0)}.\n",
      "[INFO 12-13 23:13:19] ax.service.ax_client: Completed trial 37 with data: {'z': (0.0, 0.0)}.\n"
     ]
    },
    {
     "name": "stdout",
     "output_type": "stream",
     "text": [
      "Using GPEI (Exploitation)\n"
     ]
    },
    {
     "name": "stderr",
     "output_type": "stream",
     "text": [
      "[INFO 12-13 23:13:21] ax.service.ax_client: Generated new trial 38 with parameters {'a': 0.192372, 'b': 0.10388} using model GPEI.\n",
      "[INFO 12-13 23:13:21] ax.service.ax_client: Generated new trial 39 with parameters {'a': 0.192326, 'b': 0.103927} using model GPEI.\n",
      "[INFO 12-13 23:13:21] ax.service.ax_client: Completed trial 39 with data: {'z': (0.996291, 0.0)}.\n",
      "[INFO 12-13 23:13:21] ax.service.ax_client: Completed trial 38 with data: {'z': (0.996345, 0.0)}.\n",
      "[INFO 12-13 23:13:21] ax.service.ax_client: Starting optimization with verbose logging. To disable logging, set the `verbose_logging` argument to `False`. Note that float values in the logs are rounded to 6 decimal points.\n",
      "[INFO 12-13 23:13:21] ax.service.utils.instantiation: Inferred value type of ParameterType.FLOAT for parameter a. If that is not the expected value type, you can explicitly specify 'value_type' ('int', 'float', 'bool' or 'str') in parameter dict.\n",
      "[INFO 12-13 23:13:21] ax.service.utils.instantiation: Inferred value type of ParameterType.FLOAT for parameter b. If that is not the expected value type, you can explicitly specify 'value_type' ('int', 'float', 'bool' or 'str') in parameter dict.\n",
      "[INFO 12-13 23:13:21] ax.service.utils.instantiation: Created search space: SearchSpace(parameters=[RangeParameter(name='a', parameter_type=FLOAT, range=[-1.0, 1.0]), RangeParameter(name='b', parameter_type=FLOAT, range=[-1.0, 1.0])], parameter_constraints=[]).\n",
      "[INFO 12-13 23:13:21] ax.service.ax_client: Generated new trial 0 with parameters {'a': 0.65435, 'b': 0.713096} using model Sobol.\n",
      "[INFO 12-13 23:13:21] ax.service.ax_client: Completed trial 0 with data: {'z': (0.0, 0.0)}.\n",
      "[INFO 12-13 23:13:21] ax.service.ax_client: Generated new trial 1 with parameters {'a': -0.619428, 'b': -0.039125} using model Sobol.\n",
      "[INFO 12-13 23:13:21] ax.service.ax_client: Completed trial 1 with data: {'z': (0.0, 0.0)}.\n",
      "[INFO 12-13 23:13:21] ax.service.ax_client: Generated new trial 2 with parameters {'a': -0.161547, 'b': 0.026959} using model Sobol.\n",
      "[INFO 12-13 23:13:21] ax.service.ax_client: Completed trial 2 with data: {'z': (0.001111, 0.0)}.\n",
      "[INFO 12-13 23:13:21] ax.service.ax_client: Generated new trial 3 with parameters {'a': 0.06364, 'b': -0.728266} using model Sobol.\n",
      "[INFO 12-13 23:13:21] ax.service.ax_client: Completed trial 3 with data: {'z': (0.0, 0.0)}.\n",
      "[INFO 12-13 23:13:21] ax.service.ax_client: Generated new trial 4 with parameters {'a': 0.40588, 'b': 0.409352} using model Sobol.\n",
      "[INFO 12-13 23:13:21] ax.service.ax_client: Completed trial 4 with data: {'z': (0.001003, 0.0)}.\n",
      "[INFO 12-13 23:13:21] ax.service.ax_client: Generated new trial 5 with parameters {'a': -0.370947, 'b': -0.829135} using model Sobol.\n",
      "[INFO 12-13 23:13:21] ax.service.ax_client: Completed trial 5 with data: {'z': (0.0, 0.0)}.\n",
      "[INFO 12-13 23:13:21] ax.service.ax_client: Generated new trial 6 with parameters {'a': -0.911128, 'b': 0.846207} using model Sobol.\n",
      "[INFO 12-13 23:13:21] ax.service.ax_client: Completed trial 6 with data: {'z': (0.0, 0.0)}.\n",
      "[INFO 12-13 23:13:21] ax.service.ax_client: Generated new trial 7 with parameters {'a': 0.813202, 'b': -0.39126} using model Sobol.\n",
      "[INFO 12-13 23:13:21] ax.service.ax_client: Completed trial 7 with data: {'z': (0.0, 0.0)}.\n",
      "[INFO 12-13 23:13:21] ax.service.ax_client: Generated new trial 8 with parameters {'a': 0.970983, 'b': 0.135182} using model Sobol.\n",
      "[INFO 12-13 23:13:21] ax.service.ax_client: Completed trial 8 with data: {'z': (0.0, 0.0)}.\n",
      "[INFO 12-13 23:13:21] ax.service.ax_client: Generated new trial 9 with parameters {'a': -0.75592, 'b': -0.617465} using model Sobol.\n",
      "[INFO 12-13 23:13:21] ax.service.ax_client: Completed trial 9 with data: {'z': (0.0, 0.0)}.\n",
      "[INFO 12-13 23:13:21] ax.service.ax_client: Generated new trial 10 with parameters {'a': -0.46207, 'b': 0.573988} using model Sobol.\n",
      "[INFO 12-13 23:13:21] ax.service.ax_client: Completed trial 10 with data: {'z': (0.0, 0.0)}.\n",
      "[INFO 12-13 23:13:21] ax.service.ax_client: Generated new trial 11 with parameters {'a': 0.309991, 'b': -0.181542} using model Sobol.\n",
      "[INFO 12-13 23:13:21] ax.service.ax_client: Completed trial 11 with data: {'z': (0.010377, 0.0)}.\n"
     ]
    },
    {
     "name": "stdout",
     "output_type": "stream",
     "text": [
      "Batch size 2: Async time: 12.247582600000896, Error: 0.003654903640553875\n"
     ]
    },
    {
     "name": "stderr",
     "output_type": "stream",
     "text": [
      "[INFO 12-13 23:13:21] ax.service.ax_client: Generated new trial 12 with parameters {'a': 0.222517, 'b': 0.987754} using model Sobol.\n",
      "[INFO 12-13 23:13:21] ax.service.ax_client: Completed trial 12 with data: {'z': (0.0, 0.0)}.\n",
      "[INFO 12-13 23:13:21] ax.service.ax_client: Generated new trial 13 with parameters {'a': -0.007435, 'b': -0.251283} using model Sobol.\n",
      "[INFO 12-13 23:13:21] ax.service.ax_client: Completed trial 13 with data: {'z': (0.000243, 0.0)}.\n",
      "[INFO 12-13 23:13:21] ax.service.ax_client: Generated new trial 14 with parameters {'a': -0.711648, 'b': 0.299665} using model Sobol.\n",
      "[INFO 12-13 23:13:21] ax.service.ax_client: Completed trial 14 with data: {'z': (0.0, 0.0)}.\n",
      "[INFO 12-13 23:13:21] ax.service.ax_client: Generated new trial 15 with parameters {'a': 0.559558, 'b': -0.938473} using model Sobol.\n",
      "[INFO 12-13 23:13:21] ax.service.ax_client: Completed trial 15 with data: {'z': (0.0, 0.0)}.\n",
      "[INFO 12-13 23:13:22] ax.service.ax_client: Generated new trial 16 with parameters {'a': 0.608126, 'b': 0.325764} using model Sobol.\n",
      "[INFO 12-13 23:13:22] ax.service.ax_client: Completed trial 16 with data: {'z': (1.9e-05, 0.0)}.\n",
      "[INFO 12-13 23:13:22] ax.service.ax_client: Generated new trial 17 with parameters {'a': -0.635738, 'b': -0.9372} using model Sobol.\n",
      "[INFO 12-13 23:13:22] ax.service.ax_client: Completed trial 17 with data: {'z': (0.0, 0.0)}.\n",
      "[INFO 12-13 23:13:22] ax.service.ax_client: Generated new trial 18 with parameters {'a': -0.083839, 'b': 0.886941} using model Sobol.\n",
      "[INFO 12-13 23:13:22] ax.service.ax_client: Completed trial 18 with data: {'z': (0.0, 0.0)}.\n",
      "[INFO 12-13 23:13:22] ax.service.ax_client: Generated new trial 19 with parameters {'a': 0.173459, 'b': -0.373168} using model Sobol.\n",
      "[INFO 12-13 23:13:22] ax.service.ax_client: Completed trial 19 with data: {'z': (1.3e-05, 0.0)}.\n"
     ]
    },
    {
     "name": "stdout",
     "output_type": "stream",
     "text": [
      "Using qNIPV (Exploration)\n"
     ]
    },
    {
     "name": "stderr",
     "output_type": "stream",
     "text": [
      "[INFO 12-13 23:13:22] ax.service.ax_client: Generated new trial 20 with parameters {'a': 0.338943, 'b': -0.162393} using model GPEI.\n",
      "[INFO 12-13 23:13:23] ax.service.ax_client: Generated new trial 21 with parameters {'a': 0.339093, 'b': -0.162288} using model GPEI.\n",
      "[INFO 12-13 23:13:23] ax.service.ax_client: Completed trial 20 with data: {'z': (0.012182, 0.0)}.\n",
      "[INFO 12-13 23:13:23] ax.service.ax_client: Completed trial 21 with data: {'z': (0.012191, 0.0)}.\n"
     ]
    },
    {
     "name": "stdout",
     "output_type": "stream",
     "text": [
      "Using qNIPV (Exploration)\n"
     ]
    },
    {
     "name": "stderr",
     "output_type": "stream",
     "text": [
      "[INFO 12-13 23:13:24] ax.service.ax_client: Generated new trial 22 with parameters {'a': 0.387888, 'b': -0.160915} using model GPEI.\n",
      "[INFO 12-13 23:13:24] ax.service.ax_client: Generated new trial 23 with parameters {'a': 0.339017, 'b': -0.162343} using model GPEI.\n",
      "[INFO 12-13 23:13:24] ax.service.ax_client: Completed trial 23 with data: {'z': (0.012186, 0.0)}.\n",
      "[INFO 12-13 23:13:24] ax.service.ax_client: Completed trial 22 with data: {'z': (0.005691, 0.0)}.\n"
     ]
    },
    {
     "name": "stdout",
     "output_type": "stream",
     "text": [
      "Using GPEI (Exploitation)\n"
     ]
    },
    {
     "name": "stderr",
     "output_type": "stream",
     "text": [
      "[INFO 12-13 23:13:25] ax.service.ax_client: Generated new trial 24 with parameters {'a': 0.387846, 'b': -0.160838} using model GPEI.\n",
      "[INFO 12-13 23:13:27] ax.service.ax_client: Generated new trial 25 with parameters {'a': 0.338437, 'b': -1.0} using model GPEI.\n",
      "[INFO 12-13 23:13:27] ax.service.ax_client: Completed trial 25 with data: {'z': (0.0, 0.0)}.\n",
      "[INFO 12-13 23:13:27] ax.service.ax_client: Completed trial 24 with data: {'z': (0.005707, 0.0)}.\n"
     ]
    },
    {
     "name": "stdout",
     "output_type": "stream",
     "text": [
      "Using GPEI (Exploitation)\n"
     ]
    },
    {
     "name": "stderr",
     "output_type": "stream",
     "text": [
      "[INFO 12-13 23:13:28] ax.service.ax_client: Generated new trial 26 with parameters {'a': 0.337023, 'b': 0.010655} using model GPEI.\n",
      "[INFO 12-13 23:13:28] ax.service.ax_client: Generated new trial 27 with parameters {'a': 0.335321, 'b': 1.0} using model GPEI.\n",
      "[INFO 12-13 23:13:28] ax.service.ax_client: Completed trial 26 with data: {'z': (0.262398, 0.0)}.\n",
      "[INFO 12-13 23:13:28] ax.service.ax_client: Completed trial 27 with data: {'z': (0.0, 0.0)}.\n"
     ]
    },
    {
     "name": "stdout",
     "output_type": "stream",
     "text": [
      "Using qNIPV (Exploration)\n"
     ]
    },
    {
     "name": "stderr",
     "output_type": "stream",
     "text": [
      "[INFO 12-13 23:13:29] ax.service.ax_client: Generated new trial 28 with parameters {'a': 0.369784, 'b': 0.026626} using model GPEI.\n",
      "[INFO 12-13 23:13:30] ax.service.ax_client: Generated new trial 29 with parameters {'a': 0.337028, 'b': 0.011919} using model GPEI.\n",
      "[INFO 12-13 23:13:30] ax.service.ax_client: Completed trial 29 with data: {'z': (0.265339, 0.0)}.\n",
      "[INFO 12-13 23:13:30] ax.service.ax_client: Completed trial 28 with data: {'z': (0.180772, 0.0)}.\n"
     ]
    },
    {
     "name": "stdout",
     "output_type": "stream",
     "text": [
      "Using qNIPV (Exploration)\n"
     ]
    },
    {
     "name": "stderr",
     "output_type": "stream",
     "text": [
      "[INFO 12-13 23:13:31] ax.service.ax_client: Generated new trial 30 with parameters {'a': 0.325435, 'b': 0.030072} using model GPEI.\n",
      "[INFO 12-13 23:13:31] ax.service.ax_client: Generated new trial 31 with parameters {'a': 0.369768, 'b': 0.026619} using model GPEI.\n",
      "[INFO 12-13 23:13:31] ax.service.ax_client: Completed trial 30 with data: {'z': (0.356581, 0.0)}.\n",
      "[INFO 12-13 23:13:31] ax.service.ax_client: Completed trial 31 with data: {'z': (0.180813, 0.0)}.\n"
     ]
    },
    {
     "name": "stdout",
     "output_type": "stream",
     "text": [
      "Using GPEI (Exploitation)\n"
     ]
    },
    {
     "name": "stderr",
     "output_type": "stream",
     "text": [
      "[INFO 12-13 23:13:32] ax.service.ax_client: Generated new trial 32 with parameters {'a': 0.325461, 'b': 0.030055} using model GPEI.\n",
      "[INFO 12-13 23:13:32] ax.service.ax_client: Generated new trial 33 with parameters {'a': 0.299698, 'b': 0.056547} using model GPEI.\n",
      "[INFO 12-13 23:13:32] ax.service.ax_client: Completed trial 32 with data: {'z': (0.356424, 0.0)}.\n",
      "[INFO 12-13 23:13:32] ax.service.ax_client: Completed trial 33 with data: {'z': (0.553558, 0.0)}.\n"
     ]
    },
    {
     "name": "stdout",
     "output_type": "stream",
     "text": [
      "Using GPEI (Exploitation)\n"
     ]
    },
    {
     "name": "stderr",
     "output_type": "stream",
     "text": [
      "[INFO 12-13 23:13:33] ax.service.ax_client: Generated new trial 34 with parameters {'a': 0.299696, 'b': 0.05655} using model GPEI.\n",
      "[INFO 12-13 23:13:33] ax.service.ax_client: Generated new trial 35 with parameters {'a': 0.272608, 'b': 0.080499} using model GPEI.\n",
      "[INFO 12-13 23:13:33] ax.service.ax_client: Completed trial 35 with data: {'z': (0.753815, 0.0)}.\n",
      "[INFO 12-13 23:13:33] ax.service.ax_client: Completed trial 34 with data: {'z': (0.553577, 0.0)}.\n"
     ]
    },
    {
     "name": "stdout",
     "output_type": "stream",
     "text": [
      "Using GPEI (Exploitation)\n"
     ]
    },
    {
     "name": "stderr",
     "output_type": "stream",
     "text": [
      "[INFO 12-13 23:13:34] ax.service.ax_client: Generated new trial 36 with parameters {'a': 0.260504, 'b': 0.069107} using model GPEI.\n",
      "[INFO 12-13 23:13:34] ax.service.ax_client: Generated new trial 37 with parameters {'a': 0.214554, 'b': 0.138358} using model GPEI.\n",
      "[INFO 12-13 23:13:34] ax.service.ax_client: Completed trial 36 with data: {'z': (0.793934, 0.0)}.\n",
      "[INFO 12-13 23:13:34] ax.service.ax_client: Completed trial 37 with data: {'z': (0.919287, 0.0)}.\n"
     ]
    },
    {
     "name": "stdout",
     "output_type": "stream",
     "text": [
      "Using GPEI (Exploitation)\n"
     ]
    },
    {
     "name": "stderr",
     "output_type": "stream",
     "text": [
      "[INFO 12-13 23:13:36] ax.service.ax_client: Generated new trial 38 with parameters {'a': 0.218079, 'b': 0.106286} using model GPEI.\n",
      "[INFO 12-13 23:13:36] ax.service.ax_client: Generated new trial 39 with parameters {'a': 0.214554, 'b': 0.138353} using model GPEI.\n",
      "[INFO 12-13 23:13:36] ax.service.ax_client: Completed trial 39 with data: {'z': (0.919304, 0.0)}.\n",
      "[INFO 12-13 23:13:36] ax.service.ax_client: Completed trial 38 with data: {'z': (0.981849, 0.0)}.\n",
      "[INFO 12-13 23:13:36] ax.service.ax_client: Starting optimization with verbose logging. To disable logging, set the `verbose_logging` argument to `False`. Note that float values in the logs are rounded to 6 decimal points.\n",
      "[INFO 12-13 23:13:36] ax.service.utils.instantiation: Inferred value type of ParameterType.FLOAT for parameter a. If that is not the expected value type, you can explicitly specify 'value_type' ('int', 'float', 'bool' or 'str') in parameter dict.\n",
      "[INFO 12-13 23:13:36] ax.service.utils.instantiation: Inferred value type of ParameterType.FLOAT for parameter b. If that is not the expected value type, you can explicitly specify 'value_type' ('int', 'float', 'bool' or 'str') in parameter dict.\n",
      "[INFO 12-13 23:13:36] ax.service.utils.instantiation: Created search space: SearchSpace(parameters=[RangeParameter(name='a', parameter_type=FLOAT, range=[-1.0, 1.0]), RangeParameter(name='b', parameter_type=FLOAT, range=[-1.0, 1.0])], parameter_constraints=[]).\n",
      "[INFO 12-13 23:13:36] ax.service.ax_client: Generated new trial 0 with parameters {'a': -0.699681, 'b': -0.723197} using model Sobol.\n",
      "[INFO 12-13 23:13:36] ax.service.ax_client: Completed trial 0 with data: {'z': (0.0, 0.0)}.\n",
      "[INFO 12-13 23:13:36] ax.service.ax_client: Generated new trial 1 with parameters {'a': 0.959563, 'b': 0.571368} using model Sobol.\n",
      "[INFO 12-13 23:13:36] ax.service.ax_client: Completed trial 1 with data: {'z': (0.0, 0.0)}.\n",
      "[INFO 12-13 23:13:36] ax.service.ax_client: Generated new trial 2 with parameters {'a': 0.048328, 'b': -0.009176} using model Sobol.\n",
      "[INFO 12-13 23:13:36] ax.service.ax_client: Completed trial 2 with data: {'z': (0.174439, 0.0)}.\n",
      "[INFO 12-13 23:13:36] ax.service.ax_client: Generated new trial 3 with parameters {'a': -0.292555, 'b': 0.161119} using model Sobol.\n",
      "[INFO 12-13 23:13:36] ax.service.ax_client: Completed trial 3 with data: {'z': (4e-06, 0.0)}.\n",
      "[INFO 12-13 23:13:36] ax.service.ax_client: Generated new trial 4 with parameters {'a': -0.180617, 'b': -0.345402} using model Sobol.\n",
      "[INFO 12-13 23:13:36] ax.service.ax_client: Completed trial 4 with data: {'z': (0.0, 0.0)}.\n",
      "[INFO 12-13 23:13:36] ax.service.ax_client: Generated new trial 5 with parameters {'a': 0.408314, 'b': 0.449372} using model Sobol.\n",
      "[INFO 12-13 23:13:36] ax.service.ax_client: Completed trial 5 with data: {'z': (0.000255, 0.0)}.\n",
      "[INFO 12-13 23:13:36] ax.service.ax_client: Generated new trial 6 with parameters {'a': 0.568328, 'b': -0.887062} using model Sobol.\n",
      "[INFO 12-13 23:13:36] ax.service.ax_client: Completed trial 6 with data: {'z': (0.0, 0.0)}.\n",
      "[INFO 12-13 23:13:36] ax.service.ax_client: Generated new trial 7 with parameters {'a': -0.84287, 'b': 0.782962} using model Sobol.\n",
      "[INFO 12-13 23:13:36] ax.service.ax_client: Completed trial 7 with data: {'z': (0.0, 0.0)}.\n",
      "[INFO 12-13 23:13:36] ax.service.ax_client: Generated new trial 8 with parameters {'a': -0.918968, 'b': -0.194383} using model Sobol.\n",
      "[INFO 12-13 23:13:36] ax.service.ax_client: Completed trial 8 with data: {'z': (0.0, 0.0)}.\n",
      "[INFO 12-13 23:13:36] ax.service.ax_client: Generated new trial 9 with parameters {'a': 0.679609, 'b': 0.104086} using model Sobol.\n",
      "[INFO 12-13 23:13:36] ax.service.ax_client: Completed trial 9 with data: {'z': (1e-05, 0.0)}.\n",
      "[INFO 12-13 23:13:36] ax.service.ax_client: Generated new trial 10 with parameters {'a': 0.328131, 'b': -0.541888} using model Sobol.\n",
      "[INFO 12-13 23:13:36] ax.service.ax_client: Completed trial 10 with data: {'z': (0.0, 0.0)}.\n",
      "[INFO 12-13 23:13:36] ax.service.ax_client: Generated new trial 11 with parameters {'a': -0.073178, 'b': 0.632315} using model Sobol.\n",
      "[INFO 12-13 23:13:36] ax.service.ax_client: Completed trial 11 with data: {'z': (0.0, 0.0)}.\n"
     ]
    },
    {
     "name": "stdout",
     "output_type": "stream",
     "text": [
      "Batch size 2: Async time: 14.416551599999366, Error: 0.018150791747352346\n"
     ]
    },
    {
     "name": "stderr",
     "output_type": "stream",
     "text": [
      "[INFO 12-13 23:13:36] ax.service.ax_client: Generated new trial 12 with parameters {'a': -0.46246, 'b': -0.81464} using model Sobol.\n",
      "[INFO 12-13 23:13:36] ax.service.ax_client: Completed trial 12 with data: {'z': (0.0, 0.0)}.\n",
      "[INFO 12-13 23:13:36] ax.service.ax_client: Generated new trial 13 with parameters {'a': 0.190802, 'b': 0.984046} using model Sobol.\n",
      "[INFO 12-13 23:13:36] ax.service.ax_client: Completed trial 13 with data: {'z': (0.0, 0.0)}.\n",
      "[INFO 12-13 23:13:36] ax.service.ax_client: Generated new trial 14 with parameters {'a': 0.785688, 'b': -0.421723} using model Sobol.\n",
      "[INFO 12-13 23:13:36] ax.service.ax_client: Completed trial 14 with data: {'z': (0.0, 0.0)}.\n",
      "[INFO 12-13 23:13:36] ax.service.ax_client: Generated new trial 15 with parameters {'a': -0.560936, 'b': 0.252202} using model Sobol.\n",
      "[INFO 12-13 23:13:36] ax.service.ax_client: Completed trial 15 with data: {'z': (0.0, 0.0)}.\n",
      "[INFO 12-13 23:13:36] ax.service.ax_client: Generated new trial 16 with parameters {'a': -0.615657, 'b': -0.438993} using model Sobol.\n",
      "[INFO 12-13 23:13:36] ax.service.ax_client: Completed trial 16 with data: {'z': (0.0, 0.0)}.\n",
      "[INFO 12-13 23:13:36] ax.service.ax_client: Generated new trial 17 with parameters {'a': 0.855958, 'b': 0.355584} using model Sobol.\n",
      "[INFO 12-13 23:13:36] ax.service.ax_client: Completed trial 17 with data: {'z': (0.0, 0.0)}.\n",
      "[INFO 12-13 23:13:36] ax.service.ax_client: Generated new trial 18 with parameters {'a': 0.136149, 'b': -0.793395} using model Sobol.\n",
      "[INFO 12-13 23:13:36] ax.service.ax_client: Completed trial 18 with data: {'z': (0.0, 0.0)}.\n",
      "[INFO 12-13 23:13:36] ax.service.ax_client: Generated new trial 19 with parameters {'a': -0.392105, 'b': 0.876918} using model Sobol.\n",
      "[INFO 12-13 23:13:36] ax.service.ax_client: Completed trial 19 with data: {'z': (0.0, 0.0)}.\n"
     ]
    },
    {
     "name": "stdout",
     "output_type": "stream",
     "text": [
      "Using GPEI (Exploitation)\n"
     ]
    },
    {
     "name": "stderr",
     "output_type": "stream",
     "text": [
      "[INFO 12-13 23:13:37] ax.service.ax_client: Generated new trial 20 with parameters {'a': 0.087144, 'b': 0.014265} using model GPEI.\n",
      "[INFO 12-13 23:13:37] ax.service.ax_client: Generated new trial 21 with parameters {'a': 0.087206, 'b': 0.014295} using model GPEI.\n",
      "[INFO 12-13 23:13:37] ax.service.ax_client: Completed trial 21 with data: {'z': (0.366635, 0.0)}.\n",
      "[INFO 12-13 23:13:37] ax.service.ax_client: Completed trial 20 with data: {'z': (0.366284, 0.0)}.\n"
     ]
    },
    {
     "name": "stdout",
     "output_type": "stream",
     "text": [
      "Using GPEI (Exploitation)\n"
     ]
    },
    {
     "name": "stderr",
     "output_type": "stream",
     "text": [
      "[INFO 12-13 23:13:39] ax.service.ax_client: Generated new trial 22 with parameters {'a': 0.087277, 'b': 0.014325} using model GPEI.\n",
      "[INFO 12-13 23:13:39] ax.service.ax_client: Generated new trial 23 with parameters {'a': 0.107466, 'b': 0.029507} using model GPEI.\n",
      "[INFO 12-13 23:13:39] ax.service.ax_client: Completed trial 23 with data: {'z': (0.50835, 0.0)}.\n",
      "[INFO 12-13 23:13:39] ax.service.ax_client: Completed trial 22 with data: {'z': (0.36702, 0.0)}.\n"
     ]
    },
    {
     "name": "stdout",
     "output_type": "stream",
     "text": [
      "Using GPEI (Exploitation)\n"
     ]
    },
    {
     "name": "stderr",
     "output_type": "stream",
     "text": [
      "[INFO 12-13 23:13:40] ax.service.ax_client: Generated new trial 24 with parameters {'a': 0.133171, 'b': 0.055266} using model GPEI.\n",
      "[INFO 12-13 23:13:40] ax.service.ax_client: Generated new trial 25 with parameters {'a': 0.10747, 'b': 0.02908} using model GPEI.\n",
      "[INFO 12-13 23:13:40] ax.service.ax_client: Completed trial 25 with data: {'z': (0.506834, 0.0)}.\n",
      "[INFO 12-13 23:13:40] ax.service.ax_client: Completed trial 24 with data: {'z': (0.72371, 0.0)}.\n"
     ]
    },
    {
     "name": "stdout",
     "output_type": "stream",
     "text": [
      "Using GPEI (Exploitation)\n"
     ]
    },
    {
     "name": "stderr",
     "output_type": "stream",
     "text": [
      "[INFO 12-13 23:13:41] ax.service.ax_client: Generated new trial 26 with parameters {'a': 0.180239, 'b': 0.097564} using model GPEI.\n",
      "[INFO 12-13 23:13:42] ax.service.ax_client: Generated new trial 27 with parameters {'a': 0.133139, 'b': 0.055218} using model GPEI.\n",
      "[INFO 12-13 23:13:42] ax.service.ax_client: Completed trial 27 with data: {'z': (0.723398, 0.0)}.\n",
      "[INFO 12-13 23:13:42] ax.service.ax_client: Completed trial 26 with data: {'z': (0.980373, 0.0)}.\n"
     ]
    },
    {
     "name": "stdout",
     "output_type": "stream",
     "text": [
      "Using GPEI (Exploitation)\n"
     ]
    },
    {
     "name": "stderr",
     "output_type": "stream",
     "text": [
      "[INFO 12-13 23:13:42] ax.service.ax_client: Generated new trial 28 with parameters {'a': 0.180226, 'b': 0.097559} using model GPEI.\n",
      "[INFO 12-13 23:13:43] ax.service.ax_client: Generated new trial 29 with parameters {'a': 0.198791, 'b': 0.110885} using model GPEI.\n",
      "[INFO 12-13 23:13:43] ax.service.ax_client: Completed trial 29 with data: {'z': (0.99402, 0.0)}.\n",
      "[INFO 12-13 23:13:43] ax.service.ax_client: Completed trial 28 with data: {'z': (0.980348, 0.0)}.\n"
     ]
    },
    {
     "name": "stdout",
     "output_type": "stream",
     "text": [
      "Using GPEI (Exploitation)\n"
     ]
    },
    {
     "name": "stderr",
     "output_type": "stream",
     "text": [
      "[INFO 12-13 23:13:43] ax.service.ax_client: Generated new trial 30 with parameters {'a': 0.171035, 'b': 0.154651} using model GPEI.\n",
      "[INFO 12-13 23:13:44] ax.service.ax_client: Generated new trial 31 with parameters {'a': 0.198754, 'b': 0.110889} using model GPEI.\n",
      "[INFO 12-13 23:13:44] ax.service.ax_client: Completed trial 31 with data: {'z': (0.994011, 0.0)}.\n",
      "[INFO 12-13 23:13:44] ax.service.ax_client: Completed trial 30 with data: {'z': (0.825897, 0.0)}.\n"
     ]
    },
    {
     "name": "stdout",
     "output_type": "stream",
     "text": [
      "Using GPEI (Exploitation)\n"
     ]
    },
    {
     "name": "stderr",
     "output_type": "stream",
     "text": [
      "[INFO 12-13 23:13:44] ax.service.ax_client: Generated new trial 32 with parameters {'a': 0.685979, 'b': 1.0} using model GPEI.\n",
      "[INFO 12-13 23:13:45] ax.service.ax_client: Generated new trial 33 with parameters {'a': 0.220279, 'b': 0.082465} using model GPEI.\n",
      "[INFO 12-13 23:13:45] ax.service.ax_client: Completed trial 32 with data: {'z': (0.0, 0.0)}.\n",
      "[INFO 12-13 23:13:45] ax.service.ax_client: Completed trial 33 with data: {'z': (0.964701, 0.0)}.\n"
     ]
    },
    {
     "name": "stdout",
     "output_type": "stream",
     "text": [
      "Using GPEI (Exploitation)\n"
     ]
    },
    {
     "name": "stderr",
     "output_type": "stream",
     "text": [
      "[INFO 12-13 23:13:45] ax.service.ax_client: Generated new trial 34 with parameters {'a': 1.0, 'b': -1.0} using model GPEI.\n",
      "[INFO 12-13 23:13:45] ax.service.ax_client: Generated new trial 35 with parameters {'a': 0.220463, 'b': 0.082292} using model GPEI.\n",
      "[INFO 12-13 23:13:45] ax.service.ax_client: Completed trial 34 with data: {'z': (0.0, 0.0)}.\n",
      "[INFO 12-13 23:13:45] ax.service.ax_client: Completed trial 35 with data: {'z': (0.964047, 0.0)}.\n"
     ]
    },
    {
     "name": "stdout",
     "output_type": "stream",
     "text": [
      "Using GPEI (Exploitation)\n"
     ]
    },
    {
     "name": "stderr",
     "output_type": "stream",
     "text": [
      "[INFO 12-13 23:13:46] ax.service.ax_client: Generated new trial 36 with parameters {'a': -1.0, 'b': 0.349377} using model GPEI.\n",
      "[INFO 12-13 23:13:46] ax.service.ax_client: Generated new trial 37 with parameters {'a': 1.0, 'b': -1.0} using model GPEI.\n",
      "[INFO 12-13 23:13:46] ax.service.ax_client: Completed trial 37 with data: {'z': (0.0, 0.0)}.\n",
      "[INFO 12-13 23:13:46] ax.service.ax_client: Completed trial 36 with data: {'z': (0.0, 0.0)}.\n"
     ]
    },
    {
     "name": "stdout",
     "output_type": "stream",
     "text": [
      "Using GPEI (Exploitation)\n"
     ]
    },
    {
     "name": "stderr",
     "output_type": "stream",
     "text": [
      "[INFO 12-13 23:13:47] ax.service.ax_client: Generated new trial 38 with parameters {'a': -1.0, 'b': 0.34957} using model GPEI.\n",
      "[INFO 12-13 23:13:48] ax.service.ax_client: Generated new trial 39 with parameters {'a': 0.338927, 'b': -0.197275} using model GPEI.\n",
      "[INFO 12-13 23:13:48] ax.service.ax_client: Completed trial 38 with data: {'z': (0.0, 0.0)}.\n",
      "[INFO 12-13 23:13:48] ax.service.ax_client: Completed trial 39 with data: {'z': (0.004591, 0.0)}.\n",
      "[INFO 12-13 23:13:48] ax.service.ax_client: Starting optimization with verbose logging. To disable logging, set the `verbose_logging` argument to `False`. Note that float values in the logs are rounded to 6 decimal points.\n",
      "[INFO 12-13 23:13:48] ax.service.utils.instantiation: Inferred value type of ParameterType.FLOAT for parameter a. If that is not the expected value type, you can explicitly specify 'value_type' ('int', 'float', 'bool' or 'str') in parameter dict.\n",
      "[INFO 12-13 23:13:48] ax.service.utils.instantiation: Inferred value type of ParameterType.FLOAT for parameter b. If that is not the expected value type, you can explicitly specify 'value_type' ('int', 'float', 'bool' or 'str') in parameter dict.\n",
      "[INFO 12-13 23:13:48] ax.service.utils.instantiation: Created search space: SearchSpace(parameters=[RangeParameter(name='a', parameter_type=FLOAT, range=[-1.0, 1.0]), RangeParameter(name='b', parameter_type=FLOAT, range=[-1.0, 1.0])], parameter_constraints=[]).\n",
      "[INFO 12-13 23:13:48] ax.service.ax_client: Generated new trial 0 with parameters {'a': 0.902616, 'b': -0.600992} using model Sobol.\n",
      "[INFO 12-13 23:13:48] ax.service.ax_client: Completed trial 0 with data: {'z': (0.0, 0.0)}.\n",
      "[INFO 12-13 23:13:48] ax.service.ax_client: Generated new trial 1 with parameters {'a': -0.972129, 'b': 0.631976} using model Sobol.\n",
      "[INFO 12-13 23:13:48] ax.service.ax_client: Completed trial 1 with data: {'z': (0.0, 0.0)}.\n",
      "[INFO 12-13 23:13:48] ax.service.ax_client: Generated new trial 2 with parameters {'a': -0.220258, 'b': -0.39081} using model Sobol.\n",
      "[INFO 12-13 23:13:48] ax.service.ax_client: Completed trial 2 with data: {'z': (0.0, 0.0)}.\n",
      "[INFO 12-13 23:13:48] ax.service.ax_client: Generated new trial 3 with parameters {'a': 0.155005, 'b': 0.359858} using model Sobol.\n",
      "[INFO 12-13 23:13:48] ax.service.ax_client: Completed trial 3 with data: {'z': (0.030883, 0.0)}.\n",
      "[INFO 12-13 23:13:48] ax.service.ax_client: Generated new trial 4 with parameters {'a': 0.374592, 'b': -0.079049} using model Sobol.\n",
      "[INFO 12-13 23:13:48] ax.service.ax_client: Completed trial 4 with data: {'z': (0.043847, 0.0)}.\n",
      "[INFO 12-13 23:13:48] ax.service.ax_client: Generated new trial 5 with parameters {'a': -0.25064, 'b': 0.172596} using model Sobol.\n",
      "[INFO 12-13 23:13:48] ax.service.ax_client: Completed trial 5 with data: {'z': (3e-05, 0.0)}.\n",
      "[INFO 12-13 23:13:48] ax.service.ax_client: Generated new trial 6 with parameters {'a': -0.502294, 'b': -0.913727} using model Sobol.\n",
      "[INFO 12-13 23:13:48] ax.service.ax_client: Completed trial 6 with data: {'z': (0.0, 0.0)}.\n",
      "[INFO 12-13 23:13:48] ax.service.ax_client: Generated new trial 7 with parameters {'a': 0.622482, 'b': 0.820217} using model Sobol.\n",
      "[INFO 12-13 23:13:48] ax.service.ax_client: Completed trial 7 with data: {'z': (0.0, 0.0)}.\n",
      "[INFO 12-13 23:13:48] ax.service.ax_client: Generated new trial 8 with parameters {'a': 0.7075, 'b': -0.278078} using model Sobol.\n",
      "[INFO 12-13 23:13:48] ax.service.ax_client: Completed trial 8 with data: {'z': (0.0, 0.0)}.\n",
      "[INFO 12-13 23:13:48] ax.service.ax_client: Generated new trial 9 with parameters {'a': -0.667268, 'b': 0.496638} using model Sobol.\n",
      "[INFO 12-13 23:13:48] ax.service.ax_client: Completed trial 9 with data: {'z': (0.0, 0.0)}.\n",
      "[INFO 12-13 23:13:48] ax.service.ax_client: Generated new trial 10 with parameters {'a': -0.415736, 'b': -0.730081} using model Sobol.\n"
     ]
    },
    {
     "name": "stdout",
     "output_type": "stream",
     "text": [
      "Batch size 2: Async time: 11.887906399999338, Error: 0.005979650373864831\n"
     ]
    },
    {
     "name": "stderr",
     "output_type": "stream",
     "text": [
      "[INFO 12-13 23:13:48] ax.service.ax_client: Completed trial 10 with data: {'z': (0.0, 0.0)}.\n",
      "[INFO 12-13 23:13:48] ax.service.ax_client: Generated new trial 11 with parameters {'a': 0.459488, 'b': 0.511554} using model Sobol.\n",
      "[INFO 12-13 23:13:48] ax.service.ax_client: Completed trial 11 with data: {'z': (7e-06, 0.0)}.\n",
      "[INFO 12-13 23:13:48] ax.service.ax_client: Generated new trial 12 with parameters {'a': 0.054354, 'b': -0.792329} using model Sobol.\n",
      "[INFO 12-13 23:13:48] ax.service.ax_client: Completed trial 12 with data: {'z': (0.0, 0.0)}.\n",
      "[INFO 12-13 23:13:48] ax.service.ax_client: Generated new trial 13 with parameters {'a': -0.0709, 'b': 0.94833} using model Sobol.\n",
      "[INFO 12-13 23:13:48] ax.service.ax_client: Completed trial 13 with data: {'z': (0.0, 0.0)}.\n",
      "[INFO 12-13 23:13:48] ax.service.ax_client: Generated new trial 14 with parameters {'a': -0.82265, 'b': -0.214852} using model Sobol.\n",
      "[INFO 12-13 23:13:48] ax.service.ax_client: Completed trial 14 with data: {'z': (0.0, 0.0)}.\n",
      "[INFO 12-13 23:13:48] ax.service.ax_client: Generated new trial 15 with parameters {'a': 0.802088, 'b': 0.058887} using model Sobol.\n",
      "[INFO 12-13 23:13:48] ax.service.ax_client: Completed trial 15 with data: {'z': (0.0, 0.0)}.\n",
      "[INFO 12-13 23:13:48] ax.service.ax_client: Generated new trial 16 with parameters {'a': 0.830473, 'b': -0.148655} using model Sobol.\n",
      "[INFO 12-13 23:13:48] ax.service.ax_client: Completed trial 16 with data: {'z': (0.0, 0.0)}.\n",
      "[INFO 12-13 23:13:48] ax.service.ax_client: Generated new trial 17 with parameters {'a': -0.794272, 'b': 0.117645} using model Sobol.\n",
      "[INFO 12-13 23:13:48] ax.service.ax_client: Completed trial 17 with data: {'z': (0.0, 0.0)}.\n",
      "[INFO 12-13 23:13:48] ax.service.ax_client: Generated new trial 18 with parameters {'a': -0.046551, 'b': -0.858776} using model Sobol.\n",
      "[INFO 12-13 23:13:48] ax.service.ax_client: Completed trial 18 with data: {'z': (0.0, 0.0)}.\n",
      "[INFO 12-13 23:13:48] ax.service.ax_client: Generated new trial 19 with parameters {'a': 0.078711, 'b': 0.889823} using model Sobol.\n",
      "[INFO 12-13 23:13:48] ax.service.ax_client: Completed trial 19 with data: {'z': (0.0, 0.0)}.\n"
     ]
    },
    {
     "name": "stdout",
     "output_type": "stream",
     "text": [
      "Using GPEI (Exploitation)\n"
     ]
    },
    {
     "name": "stderr",
     "output_type": "stream",
     "text": [
      "[INFO 12-13 23:13:49] ax.service.ax_client: Generated new trial 20 with parameters {'a': 0.278393, 'b': -0.035269} using model GPEI.\n",
      "[INFO 12-13 23:13:49] ax.service.ax_client: Generated new trial 21 with parameters {'a': 0.278457, 'b': -0.035288} using model GPEI.\n",
      "[INFO 12-13 23:13:49] ax.service.ax_client: Generated new trial 22 with parameters {'a': 0.278399, 'b': -0.035271} using model GPEI.\n",
      "[INFO 12-13 23:13:49] ax.service.ax_client: Completed trial 21 with data: {'z': (0.29437, 0.0)}.\n",
      "[INFO 12-13 23:13:49] ax.service.ax_client: Completed trial 20 with data: {'z': (0.294594, 0.0)}.\n",
      "[INFO 12-13 23:13:49] ax.service.ax_client: Completed trial 22 with data: {'z': (0.294573, 0.0)}.\n"
     ]
    },
    {
     "name": "stdout",
     "output_type": "stream",
     "text": [
      "Using qNIPV (Exploration)\n"
     ]
    },
    {
     "name": "stderr",
     "output_type": "stream",
     "text": [
      "[INFO 12-13 23:13:51] ax.service.ax_client: Generated new trial 23 with parameters {'a': 0.311848, 'b': -0.146312} using model GPEI.\n",
      "[INFO 12-13 23:13:51] ax.service.ax_client: Generated new trial 24 with parameters {'a': 0.266291, 'b': 0.943683} using model GPEI.\n",
      "[INFO 12-13 23:13:51] ax.service.ax_client: Generated new trial 25 with parameters {'a': 0.312401, 'b': -0.149739} using model GPEI.\n",
      "[INFO 12-13 23:13:51] ax.service.ax_client: Completed trial 23 with data: {'z': (0.025759, 0.0)}.\n",
      "[INFO 12-13 23:13:51] ax.service.ax_client: Completed trial 24 with data: {'z': (0.0, 0.0)}.\n",
      "[INFO 12-13 23:13:51] ax.service.ax_client: Completed trial 25 with data: {'z': (0.023514, 0.0)}.\n"
     ]
    },
    {
     "name": "stdout",
     "output_type": "stream",
     "text": [
      "Using GPEI (Exploitation)\n"
     ]
    },
    {
     "name": "stderr",
     "output_type": "stream",
     "text": [
      "[INFO 12-13 23:13:53] ax.service.ax_client: Generated new trial 26 with parameters {'a': 0.267792, 'b': -1.0} using model GPEI.\n",
      "[INFO 12-13 23:13:53] ax.service.ax_client: Generated new trial 27 with parameters {'a': 0.246763, 'b': -0.016571} using model GPEI.\n",
      "[INFO 12-13 23:13:53] ax.service.ax_client: Generated new trial 28 with parameters {'a': 0.266273, 'b': 1.0} using model GPEI.\n",
      "[INFO 12-13 23:13:53] ax.service.ax_client: Completed trial 26 with data: {'z': (0.0, 0.0)}.\n",
      "[INFO 12-13 23:13:53] ax.service.ax_client: Completed trial 28 with data: {'z': (0.0, 0.0)}.\n",
      "[INFO 12-13 23:13:53] ax.service.ax_client: Completed trial 27 with data: {'z': (0.454401, 0.0)}.\n"
     ]
    },
    {
     "name": "stdout",
     "output_type": "stream",
     "text": [
      "Using GPEI (Exploitation)\n"
     ]
    },
    {
     "name": "stderr",
     "output_type": "stream",
     "text": [
      "[INFO 12-13 23:13:54] ax.service.ax_client: Generated new trial 29 with parameters {'a': 0.2463, 'b': -0.016723} using model GPEI.\n",
      "[INFO 12-13 23:13:54] ax.service.ax_client: Generated new trial 30 with parameters {'a': 0.246773, 'b': -0.016846} using model GPEI.\n",
      "[INFO 12-13 23:13:55] ax.service.ax_client: Generated new trial 31 with parameters {'a': 0.240471, 'b': 0.035185} using model GPEI.\n",
      "[INFO 12-13 23:13:55] ax.service.ax_client: Completed trial 30 with data: {'z': (0.452922, 0.0)}.\n",
      "[INFO 12-13 23:13:55] ax.service.ax_client: Completed trial 31 with data: {'z': (0.746808, 0.0)}.\n",
      "[INFO 12-13 23:13:55] ax.service.ax_client: Completed trial 29 with data: {'z': (0.454572, 0.0)}.\n"
     ]
    },
    {
     "name": "stdout",
     "output_type": "stream",
     "text": [
      "Using GPEI (Exploitation)\n"
     ]
    },
    {
     "name": "stderr",
     "output_type": "stream",
     "text": [
      "[INFO 12-13 23:13:56] ax.service.ax_client: Generated new trial 32 with parameters {'a': 0.240472, 'b': 0.035209} using model GPEI.\n",
      "[INFO 12-13 23:13:56] ax.service.ax_client: Generated new trial 33 with parameters {'a': 0.184103, 'b': 0.067348} using model GPEI.\n",
      "[INFO 12-13 23:13:57] ax.service.ax_client: Generated new trial 34 with parameters {'a': 0.233808, 'b': -0.032932} using model GPEI.\n",
      "[INFO 12-13 23:13:57] ax.service.ax_client: Completed trial 34 with data: {'z': (0.390359, 0.0)}.\n",
      "[INFO 12-13 23:13:57] ax.service.ax_client: Completed trial 33 with data: {'z': (0.936184, 0.0)}.\n",
      "[INFO 12-13 23:13:57] ax.service.ax_client: Completed trial 32 with data: {'z': (0.746923, 0.0)}.\n"
     ]
    },
    {
     "name": "stdout",
     "output_type": "stream",
     "text": [
      "Using GPEI (Exploitation)\n"
     ]
    },
    {
     "name": "stderr",
     "output_type": "stream",
     "text": [
      "[INFO 12-13 23:13:58] ax.service.ax_client: Generated new trial 35 with parameters {'a': 0.184123, 'b': 0.067345} using model GPEI.\n",
      "[INFO 12-13 23:13:58] ax.service.ax_client: Generated new trial 36 with parameters {'a': 0.184103, 'b': 0.067348} using model GPEI.\n",
      "[INFO 12-13 23:13:59] ax.service.ax_client: Generated new trial 37 with parameters {'a': 0.142513, 'b': 0.077085} using model GPEI.\n",
      "[INFO 12-13 23:13:59] ax.service.ax_client: Completed trial 35 with data: {'z': (0.936204, 0.0)}.\n",
      "[INFO 12-13 23:13:59] ax.service.ax_client: Completed trial 37 with data: {'z': (0.825727, 0.0)}.\n",
      "[INFO 12-13 23:13:59] ax.service.ax_client: Completed trial 36 with data: {'z': (0.936184, 0.0)}.\n"
     ]
    },
    {
     "name": "stdout",
     "output_type": "stream",
     "text": [
      "Using GPEI (Exploitation)\n"
     ]
    },
    {
     "name": "stderr",
     "output_type": "stream",
     "text": [
      "[INFO 12-13 23:13:59] ax.service.ax_client: Generated new trial 38 with parameters {'a': -1.0, 'b': -1.0} using model GPEI.\n",
      "[INFO 12-13 23:14:00] ax.service.ax_client: Generated new trial 39 with parameters {'a': 0.098679, 'b': 0.065302} using model GPEI.\n",
      "[INFO 12-13 23:14:00] ax.service.ax_client: Completed trial 39 with data: {'z': (0.563554, 0.0)}.\n",
      "[INFO 12-13 23:14:00] ax.service.ax_client: Completed trial 38 with data: {'z': (0.0, 0.0)}.\n",
      "[INFO 12-13 23:14:00] ax.service.ax_client: Starting optimization with verbose logging. To disable logging, set the `verbose_logging` argument to `False`. Note that float values in the logs are rounded to 6 decimal points.\n",
      "[INFO 12-13 23:14:00] ax.service.utils.instantiation: Inferred value type of ParameterType.FLOAT for parameter a. If that is not the expected value type, you can explicitly specify 'value_type' ('int', 'float', 'bool' or 'str') in parameter dict.\n",
      "[INFO 12-13 23:14:00] ax.service.utils.instantiation: Inferred value type of ParameterType.FLOAT for parameter b. If that is not the expected value type, you can explicitly specify 'value_type' ('int', 'float', 'bool' or 'str') in parameter dict.\n",
      "[INFO 12-13 23:14:00] ax.service.utils.instantiation: Created search space: SearchSpace(parameters=[RangeParameter(name='a', parameter_type=FLOAT, range=[-1.0, 1.0]), RangeParameter(name='b', parameter_type=FLOAT, range=[-1.0, 1.0])], parameter_constraints=[]).\n",
      "[INFO 12-13 23:14:00] ax.service.ax_client: Generated new trial 0 with parameters {'a': -0.037926, 'b': -0.3114} using model Sobol.\n",
      "[INFO 12-13 23:14:00] ax.service.ax_client: Completed trial 0 with data: {'z': (1.2e-05, 0.0)}.\n",
      "[INFO 12-13 23:14:00] ax.service.ax_client: Generated new trial 1 with parameters {'a': 0.993957, 'b': 0.160505} using model Sobol.\n",
      "[INFO 12-13 23:14:00] ax.service.ax_client: Completed trial 1 with data: {'z': (0.0, 0.0)}.\n",
      "[INFO 12-13 23:14:00] ax.service.ax_client: Generated new trial 2 with parameters {'a': 0.202901, 'b': -0.966749} using model Sobol.\n",
      "[INFO 12-13 23:14:00] ax.service.ax_client: Completed trial 2 with data: {'z': (0.0, 0.0)}.\n",
      "[INFO 12-13 23:14:00] ax.service.ax_client: Generated new trial 3 with parameters {'a': -0.766467, 'b': 0.569792} using model Sobol.\n",
      "[INFO 12-13 23:14:00] ax.service.ax_client: Completed trial 3 with data: {'z': (0.0, 0.0)}.\n",
      "[INFO 12-13 23:14:00] ax.service.ax_client: Generated new trial 4 with parameters {'a': -0.683122, 'b': -0.699962} using model Sobol.\n",
      "[INFO 12-13 23:14:00] ax.service.ax_client: Completed trial 4 with data: {'z': (0.0, 0.0)}.\n",
      "[INFO 12-13 23:14:00] ax.service.ax_client: Generated new trial 5 with parameters {'a': 0.348257, 'b': 0.834253} using model Sobol.\n",
      "[INFO 12-13 23:14:00] ax.service.ax_client: Completed trial 5 with data: {'z': (0.0, 0.0)}.\n",
      "[INFO 12-13 23:14:00] ax.service.ax_client: Generated new trial 6 with parameters {'a': 0.580655, 'b': -0.046808} using model Sobol.\n",
      "[INFO 12-13 23:14:00] ax.service.ax_client: Completed trial 6 with data: {'z': (0.000243, 0.0)}.\n",
      "[INFO 12-13 23:14:00] ax.service.ax_client: Generated new trial 7 with parameters {'a': -0.388241, 'b': 0.427165} using model Sobol.\n",
      "[INFO 12-13 23:14:00] ax.service.ax_client: Completed trial 7 with data: {'z': (0.0, 0.0)}.\n",
      "[INFO 12-13 23:14:00] ax.service.ax_client: Generated new trial 8 with parameters {'a': -0.317689, 'b': -0.848044} using model Sobol.\n",
      "[INFO 12-13 23:14:00] ax.service.ax_client: Completed trial 8 with data: {'z': (0.0, 0.0)}.\n",
      "[INFO 12-13 23:14:00] ax.service.ax_client: Generated new trial 9 with parameters {'a': 0.650671, 'b': 0.748907} using model Sobol.\n",
      "[INFO 12-13 23:14:00] ax.service.ax_client: Completed trial 9 with data: {'z': (0.0, 0.0)}.\n",
      "[INFO 12-13 23:14:00] ax.service.ax_client: Generated new trial 10 with parameters {'a': 0.418225, 'b': -0.382116} using model Sobol.\n",
      "[INFO 12-13 23:14:00] ax.service.ax_client: Completed trial 10 with data: {'z': (1e-06, 0.0)}.\n",
      "[INFO 12-13 23:14:00] ax.service.ax_client: Generated new trial 11 with parameters {'a': -0.612652, 'b': 0.029105} using model Sobol.\n",
      "[INFO 12-13 23:14:00] ax.service.ax_client: Completed trial 11 with data: {'z': (0.0, 0.0)}.\n",
      "[INFO 12-13 23:14:00] ax.service.ax_client: Generated new trial 12 with parameters {'a': -0.960945, 'b': -0.146945} using model Sobol.\n"
     ]
    },
    {
     "name": "stdout",
     "output_type": "stream",
     "text": [
      "Batch size 3: Async time: 12.317165300000852, Error: 0.06379611080178316\n"
     ]
    },
    {
     "name": "stderr",
     "output_type": "stream",
     "text": [
      "[INFO 12-13 23:14:00] ax.service.ax_client: Completed trial 12 with data: {'z': (0.0, 0.0)}.\n",
      "[INFO 12-13 23:14:00] ax.service.ax_client: Generated new trial 13 with parameters {'a': 0.006942, 'b': 0.262682} using model Sobol.\n",
      "[INFO 12-13 23:14:00] ax.service.ax_client: Completed trial 13 with data: {'z': (0.041303, 0.0)}.\n",
      "[INFO 12-13 23:14:00] ax.service.ax_client: Generated new trial 14 with parameters {'a': 0.797918, 'b': -0.61458} using model Sobol.\n",
      "[INFO 12-13 23:14:00] ax.service.ax_client: Completed trial 14 with data: {'z': (0.0, 0.0)}.\n",
      "[INFO 12-13 23:14:00] ax.service.ax_client: Generated new trial 15 with parameters {'a': -0.232455, 'b': 0.984194} using model Sobol.\n",
      "[INFO 12-13 23:14:00] ax.service.ax_client: Completed trial 15 with data: {'z': (0.0, 0.0)}.\n",
      "[INFO 12-13 23:14:00] ax.service.ax_client: Generated new trial 16 with parameters {'a': -0.128408, 'b': -0.559141} using model Sobol.\n",
      "[INFO 12-13 23:14:00] ax.service.ax_client: Completed trial 16 with data: {'z': (0.0, 0.0)}.\n",
      "[INFO 12-13 23:14:00] ax.service.ax_client: Generated new trial 17 with parameters {'a': 0.840228, 'b': 0.912154} using model Sobol.\n",
      "[INFO 12-13 23:14:00] ax.service.ax_client: Completed trial 17 with data: {'z': (0.0, 0.0)}.\n",
      "[INFO 12-13 23:14:00] ax.service.ax_client: Generated new trial 18 with parameters {'a': 0.103936, 'b': -0.218398} using model Sobol.\n",
      "[INFO 12-13 23:14:00] ax.service.ax_client: Completed trial 18 with data: {'z': (0.003965, 0.0)}.\n",
      "[INFO 12-13 23:14:00] ax.service.ax_client: Generated new trial 19 with parameters {'a': -0.927215, 'b': 0.317533} using model Sobol.\n",
      "[INFO 12-13 23:14:00] ax.service.ax_client: Completed trial 19 with data: {'z': (0.0, 0.0)}.\n"
     ]
    },
    {
     "name": "stdout",
     "output_type": "stream",
     "text": [
      "Using GPEI (Exploitation)\n"
     ]
    },
    {
     "name": "stderr",
     "output_type": "stream",
     "text": [
      "[INFO 12-13 23:14:01] ax.service.ax_client: Generated new trial 20 with parameters {'a': 0.070284, 'b': 0.28445} using model GPEI.\n",
      "[INFO 12-13 23:14:01] ax.service.ax_client: Generated new trial 21 with parameters {'a': 0.0701, 'b': 0.284356} using model GPEI.\n",
      "[INFO 12-13 23:14:02] ax.service.ax_client: Generated new trial 22 with parameters {'a': 0.070291, 'b': 0.284455} using model GPEI.\n",
      "[INFO 12-13 23:14:02] ax.service.ax_client: Completed trial 22 with data: {'z': (0.078678, 0.0)}.\n",
      "[INFO 12-13 23:14:02] ax.service.ax_client: Completed trial 21 with data: {'z': (0.078625, 0.0)}.\n",
      "[INFO 12-13 23:14:02] ax.service.ax_client: Completed trial 20 with data: {'z': (0.078677, 0.0)}.\n"
     ]
    },
    {
     "name": "stdout",
     "output_type": "stream",
     "text": [
      "Using GPEI (Exploitation)\n"
     ]
    },
    {
     "name": "stderr",
     "output_type": "stream",
     "text": [
      "[INFO 12-13 23:14:03] ax.service.ax_client: Generated new trial 23 with parameters {'a': 0.070289, 'b': 0.284453} using model GPEI.\n",
      "[INFO 12-13 23:14:03] ax.service.ax_client: Generated new trial 24 with parameters {'a': 0.070223, 'b': 0.284419} using model GPEI.\n",
      "[INFO 12-13 23:14:04] ax.service.ax_client: Generated new trial 25 with parameters {'a': 0.093824, 'b': 0.341407} using model GPEI.\n",
      "[INFO 12-13 23:14:04] ax.service.ax_client: Completed trial 24 with data: {'z': (0.078659, 0.0)}.\n",
      "[INFO 12-13 23:14:04] ax.service.ax_client: Completed trial 25 with data: {'z': (0.030884, 0.0)}.\n",
      "[INFO 12-13 23:14:04] ax.service.ax_client: Completed trial 23 with data: {'z': (0.078678, 0.0)}.\n"
     ]
    },
    {
     "name": "stdout",
     "output_type": "stream",
     "text": [
      "Using GPEI (Exploitation)\n"
     ]
    },
    {
     "name": "stderr",
     "output_type": "stream",
     "text": [
      "[INFO 12-13 23:14:04] ax.service.ax_client: Generated new trial 26 with parameters {'a': -1.0, 'b': -1.0} using model GPEI.\n",
      "[INFO 12-13 23:14:04] ax.service.ax_client: Generated new trial 27 with parameters {'a': 0.095892, 'b': 0.228262} using model GPEI.\n",
      "[INFO 12-13 23:14:05] ax.service.ax_client: Generated new trial 28 with parameters {'a': 0.116097, 'b': 0.277928} using model GPEI.\n",
      "[INFO 12-13 23:14:05] ax.service.ax_client: Completed trial 27 with data: {'z': (0.255513, 0.0)}.\n",
      "[INFO 12-13 23:14:05] ax.service.ax_client: Completed trial 28 with data: {'z': (0.144437, 0.0)}.\n",
      "[INFO 12-13 23:14:05] ax.service.ax_client: Completed trial 26 with data: {'z': (0.0, 0.0)}.\n"
     ]
    },
    {
     "name": "stdout",
     "output_type": "stream",
     "text": [
      "Using GPEI (Exploitation)\n"
     ]
    },
    {
     "name": "stderr",
     "output_type": "stream",
     "text": [
      "[INFO 12-13 23:14:06] ax.service.ax_client: Generated new trial 29 with parameters {'a': 0.114028, 'b': 0.219565} using model GPEI.\n",
      "[INFO 12-13 23:14:06] ax.service.ax_client: Generated new trial 30 with parameters {'a': 0.116362, 'b': 0.277986} using model GPEI.\n",
      "[INFO 12-13 23:14:07] ax.service.ax_client: Generated new trial 31 with parameters {'a': 0.116261, 'b': 0.277936} using model GPEI.\n",
      "[INFO 12-13 23:14:07] ax.service.ax_client: Completed trial 29 with data: {'z': (0.33812, 0.0)}.\n",
      "[INFO 12-13 23:14:07] ax.service.ax_client: Completed trial 31 with data: {'z': (0.144615, 0.0)}.\n",
      "[INFO 12-13 23:14:07] ax.service.ax_client: Completed trial 30 with data: {'z': (0.144609, 0.0)}.\n"
     ]
    },
    {
     "name": "stdout",
     "output_type": "stream",
     "text": [
      "Using GPEI (Exploitation)\n"
     ]
    },
    {
     "name": "stderr",
     "output_type": "stream",
     "text": [
      "[INFO 12-13 23:14:08] ax.service.ax_client: Generated new trial 32 with parameters {'a': 0.13256, 'b': 0.20642} using model GPEI.\n",
      "[INFO 12-13 23:14:08] ax.service.ax_client: Generated new trial 33 with parameters {'a': 0.114041, 'b': 0.219563} using model GPEI.\n",
      "[INFO 12-13 23:14:08] ax.service.ax_client: Generated new trial 34 with parameters {'a': 0.092798, 'b': 0.212437} using model GPEI.\n",
      "[INFO 12-13 23:14:08] ax.service.ax_client: Completed trial 34 with data: {'z': (0.299176, 0.0)}.\n",
      "[INFO 12-13 23:14:08] ax.service.ax_client: Completed trial 33 with data: {'z': (0.338169, 0.0)}.\n",
      "[INFO 12-13 23:14:08] ax.service.ax_client: Completed trial 32 with data: {'z': (0.452185, 0.0)}.\n"
     ]
    },
    {
     "name": "stdout",
     "output_type": "stream",
     "text": [
      "Using GPEI (Exploitation)\n"
     ]
    },
    {
     "name": "stderr",
     "output_type": "stream",
     "text": [
      "[INFO 12-13 23:14:10] ax.service.ax_client: Generated new trial 35 with parameters {'a': 0.126888, 'b': 0.194157} using model GPEI.\n",
      "[INFO 12-13 23:14:10] ax.service.ax_client: Generated new trial 36 with parameters {'a': 0.167978, 'b': 0.180846} using model GPEI.\n",
      "[INFO 12-13 23:14:10] ax.service.ax_client: Generated new trial 37 with parameters {'a': 0.132564, 'b': 0.206416} using model GPEI.\n",
      "[INFO 12-13 23:14:10] ax.service.ax_client: Completed trial 37 with data: {'z': (0.452217, 0.0)}.\n",
      "[INFO 12-13 23:14:10] ax.service.ax_client: Completed trial 35 with data: {'z': (0.491378, 0.0)}.\n",
      "[INFO 12-13 23:14:10] ax.service.ax_client: Completed trial 36 with data: {'z': (0.685179, 0.0)}.\n"
     ]
    },
    {
     "name": "stdout",
     "output_type": "stream",
     "text": [
      "Using qNIPV (Exploration)\n"
     ]
    },
    {
     "name": "stderr",
     "output_type": "stream",
     "text": [
      "[INFO 12-13 23:14:11] ax.service.ax_client: Generated new trial 38 with parameters {'a': 0.167978, 'b': 0.180846} using model GPEI.\n",
      "[INFO 12-13 23:14:11] ax.service.ax_client: Generated new trial 39 with parameters {'a': 0.212534, 'b': 0.125862} using model GPEI.\n",
      "[INFO 12-13 23:14:11] ax.service.ax_client: Completed trial 38 with data: {'z': (0.685177, 0.0)}.\n",
      "[INFO 12-13 23:14:11] ax.service.ax_client: Completed trial 39 with data: {'z': (0.959543, 0.0)}.\n",
      "[INFO 12-13 23:14:11] ax.service.ax_client: Starting optimization with verbose logging. To disable logging, set the `verbose_logging` argument to `False`. Note that float values in the logs are rounded to 6 decimal points.\n",
      "[INFO 12-13 23:14:11] ax.service.utils.instantiation: Inferred value type of ParameterType.FLOAT for parameter a. If that is not the expected value type, you can explicitly specify 'value_type' ('int', 'float', 'bool' or 'str') in parameter dict.\n",
      "[INFO 12-13 23:14:11] ax.service.utils.instantiation: Inferred value type of ParameterType.FLOAT for parameter b. If that is not the expected value type, you can explicitly specify 'value_type' ('int', 'float', 'bool' or 'str') in parameter dict.\n",
      "[INFO 12-13 23:14:11] ax.service.utils.instantiation: Created search space: SearchSpace(parameters=[RangeParameter(name='a', parameter_type=FLOAT, range=[-1.0, 1.0]), RangeParameter(name='b', parameter_type=FLOAT, range=[-1.0, 1.0])], parameter_constraints=[]).\n",
      "[INFO 12-13 23:14:11] ax.service.ax_client: Generated new trial 0 with parameters {'a': -0.508688, 'b': 0.410608} using model Sobol.\n",
      "[INFO 12-13 23:14:11] ax.service.ax_client: Completed trial 0 with data: {'z': (0.0, 0.0)}.\n",
      "[INFO 12-13 23:14:11] ax.service.ax_client: Generated new trial 1 with parameters {'a': 0.432799, 'b': -0.382555} using model Sobol.\n",
      "[INFO 12-13 23:14:11] ax.service.ax_client: Completed trial 1 with data: {'z': (1e-06, 0.0)}.\n",
      "[INFO 12-13 23:14:11] ax.service.ax_client: Generated new trial 2 with parameters {'a': 0.740172, 'b': 0.698206} using model Sobol.\n",
      "[INFO 12-13 23:14:11] ax.service.ax_client: Completed trial 2 with data: {'z': (0.0, 0.0)}.\n",
      "[INFO 12-13 23:14:11] ax.service.ax_client: Generated new trial 3 with parameters {'a': -0.318503, 'b': -0.72777} using model Sobol.\n",
      "[INFO 12-13 23:14:11] ax.service.ax_client: Completed trial 3 with data: {'z': (0.0, 0.0)}.\n",
      "[INFO 12-13 23:14:11] ax.service.ax_client: Generated new trial 4 with parameters {'a': -0.243576, 'b': 0.875852} using model Sobol.\n",
      "[INFO 12-13 23:14:11] ax.service.ax_client: Completed trial 4 with data: {'z': (0.0, 0.0)}.\n",
      "[INFO 12-13 23:14:11] ax.service.ax_client: Generated new trial 5 with parameters {'a': 0.822883, 'b': -0.909263} using model Sobol.\n",
      "[INFO 12-13 23:14:11] ax.service.ax_client: Completed trial 5 with data: {'z': (0.0, 0.0)}.\n",
      "[INFO 12-13 23:14:11] ax.service.ax_client: Generated new trial 6 with parameters {'a': 0.004279, 'b': 0.232787} using model Sobol.\n",
      "[INFO 12-13 23:14:11] ax.service.ax_client: Completed trial 6 with data: {'z': (0.060996, 0.0)}.\n",
      "[INFO 12-13 23:14:11] ax.service.ax_client: Generated new trial 7 with parameters {'a': -0.929366, 'b': -0.200765} using model Sobol.\n",
      "[INFO 12-13 23:14:11] ax.service.ax_client: Completed trial 7 with data: {'z': (0.0, 0.0)}.\n",
      "[INFO 12-13 23:14:11] ax.service.ax_client: Generated new trial 8 with parameters {'a': -0.774343, 'b': 0.593567} using model Sobol.\n",
      "[INFO 12-13 23:14:11] ax.service.ax_client: Completed trial 8 with data: {'z': (0.0, 0.0)}.\n",
      "[INFO 12-13 23:14:11] ax.service.ax_client: Generated new trial 9 with parameters {'a': 0.167143, 'b': -0.621113} using model Sobol.\n",
      "[INFO 12-13 23:14:11] ax.service.ax_client: Completed trial 9 with data: {'z': (0.0, 0.0)}.\n",
      "[INFO 12-13 23:14:11] ax.service.ax_client: Generated new trial 10 with parameters {'a': 0.974515, 'b': 0.298153} using model Sobol.\n",
      "[INFO 12-13 23:14:11] ax.service.ax_client: Completed trial 10 with data: {'z': (0.0, 0.0)}.\n",
      "[INFO 12-13 23:14:11] ax.service.ax_client: Generated new trial 11 with parameters {'a': -0.084157, 'b': -0.268089} using model Sobol.\n"
     ]
    },
    {
     "name": "stdout",
     "output_type": "stream",
     "text": [
      "Batch size 3: Async time: 11.235695499999565, Error: 0.04045674832312418\n"
     ]
    },
    {
     "name": "stderr",
     "output_type": "stream",
     "text": [
      "[INFO 12-13 23:14:11] ax.service.ax_client: Completed trial 11 with data: {'z': (2e-05, 0.0)}.\n",
      "[INFO 12-13 23:14:11] ax.service.ax_client: Generated new trial 12 with parameters {'a': -0.477917, 'b': 0.120507} using model Sobol.\n",
      "[INFO 12-13 23:14:11] ax.service.ax_client: Completed trial 12 with data: {'z': (0.0, 0.0)}.\n",
      "[INFO 12-13 23:14:11] ax.service.ax_client: Generated new trial 13 with parameters {'a': 0.588536, 'b': -0.086597} using model Sobol.\n",
      "[INFO 12-13 23:14:11] ax.service.ax_client: Completed trial 13 with data: {'z': (9.2e-05, 0.0)}.\n",
      "[INFO 12-13 23:14:11] ax.service.ax_client: Generated new trial 14 with parameters {'a': 0.269933, 'b': 0.771388} using model Sobol.\n",
      "[INFO 12-13 23:14:11] ax.service.ax_client: Completed trial 14 with data: {'z': (0.0, 0.0)}.\n",
      "[INFO 12-13 23:14:11] ax.service.ax_client: Generated new trial 15 with parameters {'a': -0.663709, 'b': -0.802903} using model Sobol.\n",
      "[INFO 12-13 23:14:11] ax.service.ax_client: Completed trial 15 with data: {'z': (0.0, 0.0)}.\n",
      "[INFO 12-13 23:14:11] ax.service.ax_client: Generated new trial 16 with parameters {'a': -0.724259, 'b': 0.853329} using model Sobol.\n",
      "[INFO 12-13 23:14:11] ax.service.ax_client: Completed trial 16 with data: {'z': (0.0, 0.0)}.\n",
      "[INFO 12-13 23:14:11] ax.service.ax_client: Generated new trial 17 with parameters {'a': 0.334404, 'b': -0.822288} using model Sobol.\n",
      "[INFO 12-13 23:14:11] ax.service.ax_client: Completed trial 17 with data: {'z': (0.0, 0.0)}.\n",
      "[INFO 12-13 23:14:11] ax.service.ax_client: Generated new trial 18 with parameters {'a': 0.524102, 'b': 0.007141} using model Sobol.\n",
      "[INFO 12-13 23:14:11] ax.service.ax_client: Completed trial 18 with data: {'z': (0.003402, 0.0)}.\n",
      "[INFO 12-13 23:14:11] ax.service.ax_client: Generated new trial 19 with parameters {'a': -0.417375, 'b': -0.035664} using model Sobol.\n",
      "[INFO 12-13 23:14:11] ax.service.ax_client: Completed trial 19 with data: {'z': (0.0, 0.0)}.\n"
     ]
    },
    {
     "name": "stdout",
     "output_type": "stream",
     "text": [
      "Using GPEI (Exploitation)\n"
     ]
    },
    {
     "name": "stderr",
     "output_type": "stream",
     "text": [
      "[INFO 12-13 23:14:12] ax.service.ax_client: Generated new trial 20 with parameters {'a': 0.041762, 'b': 0.284045} using model GPEI.\n",
      "[INFO 12-13 23:14:12] ax.service.ax_client: Generated new trial 21 with parameters {'a': 0.041842, 'b': 0.284164} using model GPEI.\n",
      "[INFO 12-13 23:14:13] ax.service.ax_client: Generated new trial 22 with parameters {'a': 0.041872, 'b': 0.284211} using model GPEI.\n",
      "[INFO 12-13 23:14:13] ax.service.ax_client: Completed trial 20 with data: {'z': (0.052571, 0.0)}.\n",
      "[INFO 12-13 23:14:13] ax.service.ax_client: Completed trial 22 with data: {'z': (0.052502, 0.0)}.\n",
      "[INFO 12-13 23:14:13] ax.service.ax_client: Completed trial 21 with data: {'z': (0.052522, 0.0)}.\n"
     ]
    },
    {
     "name": "stdout",
     "output_type": "stream",
     "text": [
      "Using GPEI (Exploitation)\n"
     ]
    },
    {
     "name": "stderr",
     "output_type": "stream",
     "text": [
      "[INFO 12-13 23:14:14] ax.service.ax_client: Generated new trial 23 with parameters {'a': -0.028426, 'b': 0.161867} using model GPEI.\n",
      "[INFO 12-13 23:14:14] ax.service.ax_client: Generated new trial 24 with parameters {'a': 0.059093, 'b': 0.207014} using model GPEI.\n",
      "[INFO 12-13 23:14:14] ax.service.ax_client: Generated new trial 25 with parameters {'a': 0.041767, 'b': 0.284053} using model GPEI.\n",
      "[INFO 12-13 23:14:14] ax.service.ax_client: Completed trial 24 with data: {'z': (0.209016, 0.0)}.\n",
      "[INFO 12-13 23:14:14] ax.service.ax_client: Completed trial 23 with data: {'z': (0.060792, 0.0)}.\n",
      "[INFO 12-13 23:14:14] ax.service.ax_client: Completed trial 25 with data: {'z': (0.052568, 0.0)}.\n"
     ]
    },
    {
     "name": "stdout",
     "output_type": "stream",
     "text": [
      "Using GPEI (Exploitation)\n"
     ]
    },
    {
     "name": "stderr",
     "output_type": "stream",
     "text": [
      "[INFO 12-13 23:14:15] ax.service.ax_client: Generated new trial 26 with parameters {'a': 0.067809, 'b': 0.194212} using model GPEI.\n",
      "[INFO 12-13 23:14:15] ax.service.ax_client: Generated new trial 27 with parameters {'a': -0.028423, 'b': 0.16186} using model GPEI.\n",
      "[INFO 12-13 23:14:15] ax.service.ax_client: Generated new trial 28 with parameters {'a': -0.028512, 'b': 0.162021} using model GPEI.\n",
      "[INFO 12-13 23:14:15] ax.service.ax_client: Completed trial 27 with data: {'z': (0.060799, 0.0)}.\n",
      "[INFO 12-13 23:14:15] ax.service.ax_client: Completed trial 26 with data: {'z': (0.267799, 0.0)}.\n",
      "[INFO 12-13 23:14:15] ax.service.ax_client: Completed trial 28 with data: {'z': (0.060615, 0.0)}.\n"
     ]
    },
    {
     "name": "stdout",
     "output_type": "stream",
     "text": [
      "Using GPEI (Exploitation)\n"
     ]
    },
    {
     "name": "stderr",
     "output_type": "stream",
     "text": [
      "[INFO 12-13 23:14:16] ax.service.ax_client: Generated new trial 29 with parameters {'a': 0.075732, 'b': 0.209404} using model GPEI.\n",
      "[INFO 12-13 23:14:17] ax.service.ax_client: Generated new trial 30 with parameters {'a': 0.081783, 'b': 0.172055} using model GPEI.\n",
      "[INFO 12-13 23:14:17] ax.service.ax_client: Generated new trial 31 with parameters {'a': 0.067813, 'b': 0.194204} using model GPEI.\n",
      "[INFO 12-13 23:14:17] ax.service.ax_client: Completed trial 29 with data: {'z': (0.253957, 0.0)}.\n",
      "[INFO 12-13 23:14:17] ax.service.ax_client: Completed trial 30 with data: {'z': (0.383523, 0.0)}.\n",
      "[INFO 12-13 23:14:17] ax.service.ax_client: Completed trial 31 with data: {'z': (0.267832, 0.0)}.\n"
     ]
    },
    {
     "name": "stdout",
     "output_type": "stream",
     "text": [
      "Using GPEI (Exploitation)\n"
     ]
    },
    {
     "name": "stderr",
     "output_type": "stream",
     "text": [
      "[INFO 12-13 23:14:18] ax.service.ax_client: Generated new trial 32 with parameters {'a': 0.081769, 'b': 0.17208} using model GPEI.\n",
      "[INFO 12-13 23:14:18] ax.service.ax_client: Generated new trial 33 with parameters {'a': 0.094591, 'b': 0.178297} using model GPEI.\n",
      "[INFO 12-13 23:14:18] ax.service.ax_client: Generated new trial 34 with parameters {'a': 0.103964, 'b': 0.145038} using model GPEI.\n",
      "[INFO 12-13 23:14:18] ax.service.ax_client: Completed trial 34 with data: {'z': (0.569743, 0.0)}.\n",
      "[INFO 12-13 23:14:18] ax.service.ax_client: Completed trial 32 with data: {'z': (0.383387, 0.0)}.\n",
      "[INFO 12-13 23:14:18] ax.service.ax_client: Completed trial 33 with data: {'z': (0.422287, 0.0)}.\n"
     ]
    },
    {
     "name": "stdout",
     "output_type": "stream",
     "text": [
      "Using GPEI (Exploitation)\n"
     ]
    },
    {
     "name": "stderr",
     "output_type": "stream",
     "text": [
      "[INFO 12-13 23:14:20] ax.service.ax_client: Generated new trial 35 with parameters {'a': 0.095124, 'b': 0.132422} using model GPEI.\n",
      "[INFO 12-13 23:14:20] ax.service.ax_client: Generated new trial 36 with parameters {'a': 0.156908, 'b': 0.084054} using model GPEI.\n",
      "[INFO 12-13 23:14:20] ax.service.ax_client: Generated new trial 37 with parameters {'a': 0.103961, 'b': 0.145039} using model GPEI.\n",
      "[INFO 12-13 23:14:20] ax.service.ax_client: Completed trial 37 with data: {'z': (0.569724, 0.0)}.\n",
      "[INFO 12-13 23:14:20] ax.service.ax_client: Completed trial 35 with data: {'z': (0.547438, 0.0)}.\n",
      "[INFO 12-13 23:14:20] ax.service.ax_client: Completed trial 36 with data: {'z': (0.899818, 0.0)}.\n"
     ]
    },
    {
     "name": "stdout",
     "output_type": "stream",
     "text": [
      "Using GPEI (Exploitation)\n"
     ]
    },
    {
     "name": "stderr",
     "output_type": "stream",
     "text": [
      "[INFO 12-13 23:14:21] ax.service.ax_client: Generated new trial 38 with parameters {'a': 0.186876, 'b': 0.089979} using model GPEI.\n",
      "[INFO 12-13 23:14:22] ax.service.ax_client: Generated new trial 39 with parameters {'a': 0.168347, 'b': 0.091725} using model GPEI.\n",
      "[INFO 12-13 23:14:22] ax.service.ax_client: Completed trial 39 with data: {'z': (0.947888, 0.0)}.\n",
      "[INFO 12-13 23:14:22] ax.service.ax_client: Completed trial 38 with data: {'z': (0.98646, 0.0)}.\n",
      "[INFO 12-13 23:14:22] ax.service.ax_client: Starting optimization with verbose logging. To disable logging, set the `verbose_logging` argument to `False`. Note that float values in the logs are rounded to 6 decimal points.\n",
      "[INFO 12-13 23:14:22] ax.service.utils.instantiation: Inferred value type of ParameterType.FLOAT for parameter a. If that is not the expected value type, you can explicitly specify 'value_type' ('int', 'float', 'bool' or 'str') in parameter dict.\n",
      "[INFO 12-13 23:14:22] ax.service.utils.instantiation: Inferred value type of ParameterType.FLOAT for parameter b. If that is not the expected value type, you can explicitly specify 'value_type' ('int', 'float', 'bool' or 'str') in parameter dict.\n",
      "[INFO 12-13 23:14:22] ax.service.utils.instantiation: Created search space: SearchSpace(parameters=[RangeParameter(name='a', parameter_type=FLOAT, range=[-1.0, 1.0]), RangeParameter(name='b', parameter_type=FLOAT, range=[-1.0, 1.0])], parameter_constraints=[]).\n",
      "[INFO 12-13 23:14:22] ax.service.ax_client: Generated new trial 0 with parameters {'a': 0.620302, 'b': -0.018916} using model Sobol.\n",
      "[INFO 12-13 23:14:22] ax.service.ax_client: Completed trial 0 with data: {'z': (7.2e-05, 0.0)}.\n",
      "[INFO 12-13 23:14:22] ax.service.ax_client: Generated new trial 1 with parameters {'a': -0.054756, 'b': 0.174103} using model Sobol.\n",
      "[INFO 12-13 23:14:22] ax.service.ax_client: Completed trial 1 with data: {'z': (0.029612, 0.0)}.\n",
      "[INFO 12-13 23:14:22] ax.service.ax_client: Generated new trial 2 with parameters {'a': -0.886021, 'b': -0.771747} using model Sobol.\n",
      "[INFO 12-13 23:14:22] ax.service.ax_client: Completed trial 2 with data: {'z': (0.0, 0.0)}.\n",
      "[INFO 12-13 23:14:22] ax.service.ax_client: Generated new trial 3 with parameters {'a': 0.44571, 'b': 0.929069} using model Sobol.\n",
      "[INFO 12-13 23:14:22] ax.service.ax_client: Completed trial 3 with data: {'z': (0.0, 0.0)}.\n",
      "[INFO 12-13 23:14:22] ax.service.ax_client: Generated new trial 4 with parameters {'a': 0.032649, 'b': -0.504528} using model Sobol.\n",
      "[INFO 12-13 23:14:22] ax.service.ax_client: Completed trial 4 with data: {'z': (0.0, 0.0)}.\n",
      "[INFO 12-13 23:14:22] ax.service.ax_client: Generated new trial 5 with parameters {'a': -0.596008, 'b': 0.661848} using model Sobol.\n",
      "[INFO 12-13 23:14:22] ax.service.ax_client: Completed trial 5 with data: {'z': (0.0, 0.0)}.\n",
      "[INFO 12-13 23:14:22] ax.service.ax_client: Generated new trial 6 with parameters {'a': -0.454189, 'b': -0.251682} using model Sobol.\n",
      "[INFO 12-13 23:14:22] ax.service.ax_client: Completed trial 6 with data: {'z': (0.0, 0.0)}.\n",
      "[INFO 12-13 23:14:22] ax.service.ax_client: Generated new trial 7 with parameters {'a': 0.892786, 'b': 0.406867} using model Sobol.\n",
      "[INFO 12-13 23:14:22] ax.service.ax_client: Completed trial 7 with data: {'z': (0.0, 0.0)}.\n",
      "[INFO 12-13 23:14:22] ax.service.ax_client: Generated new trial 8 with parameters {'a': 0.817856, 'b': -0.909104} using model Sobol.\n",
      "[INFO 12-13 23:14:22] ax.service.ax_client: Completed trial 8 with data: {'z': (0.0, 0.0)}.\n",
      "[INFO 12-13 23:14:22] ax.service.ax_client: Generated new trial 9 with parameters {'a': -0.256205, 'b': 0.753866} using model Sobol.\n",
      "[INFO 12-13 23:14:22] ax.service.ax_client: Completed trial 9 with data: {'z': (0.0, 0.0)}.\n",
      "[INFO 12-13 23:14:22] ax.service.ax_client: Generated new trial 10 with parameters {'a': -0.676766, 'b': -0.164025} using model Sobol.\n",
      "[INFO 12-13 23:14:22] ax.service.ax_client: Completed trial 10 with data: {'z': (0.0, 0.0)}.\n",
      "[INFO 12-13 23:14:22] ax.service.ax_client: Generated new trial 11 with parameters {'a': 0.240369, 'b': 0.006772} using model Sobol.\n"
     ]
    },
    {
     "name": "stdout",
     "output_type": "stream",
     "text": [
      "Batch size 3: Async time: 10.626717400000416, Error: 0.013540110666116378\n"
     ]
    },
    {
     "name": "stderr",
     "output_type": "stream",
     "text": [
      "[INFO 12-13 23:14:22] ax.service.ax_client: Completed trial 11 with data: {'z': (0.596872, 0.0)}.\n",
      "[INFO 12-13 23:14:22] ax.service.ax_client: Generated new trial 12 with parameters {'a': 0.280418, 'b': -0.42682} using model Sobol.\n",
      "[INFO 12-13 23:14:22] ax.service.ax_client: Completed trial 12 with data: {'z': (1e-06, 0.0)}.\n",
      "[INFO 12-13 23:14:22] ax.service.ax_client: Generated new trial 13 with parameters {'a': -0.839861, 'b': 0.269566} using model Sobol.\n",
      "[INFO 12-13 23:14:22] ax.service.ax_client: Completed trial 13 with data: {'z': (0.0, 0.0)}.\n",
      "[INFO 12-13 23:14:22] ax.service.ax_client: Generated new trial 14 with parameters {'a': -0.233751, 'b': -0.671914} using model Sobol.\n",
      "[INFO 12-13 23:14:22] ax.service.ax_client: Completed trial 14 with data: {'z': (0.0, 0.0)}.\n",
      "[INFO 12-13 23:14:22] ax.service.ax_client: Generated new trial 15 with parameters {'a': 0.668446, 'b': 0.516675} using model Sobol.\n",
      "[INFO 12-13 23:14:22] ax.service.ax_client: Completed trial 15 with data: {'z': (0.0, 0.0)}.\n",
      "[INFO 12-13 23:14:22] ax.service.ax_client: Generated new trial 16 with parameters {'a': 0.701789, 'b': -0.749404} using model Sobol.\n",
      "[INFO 12-13 23:14:22] ax.service.ax_client: Completed trial 16 with data: {'z': (0.0, 0.0)}.\n",
      "[INFO 12-13 23:14:22] ax.service.ax_client: Generated new trial 17 with parameters {'a': -0.138187, 'b': 0.592265} using model Sobol.\n",
      "[INFO 12-13 23:14:22] ax.service.ax_client: Completed trial 17 with data: {'z': (0.0, 0.0)}.\n",
      "[INFO 12-13 23:14:22] ax.service.ax_client: Generated new trial 18 with parameters {'a': -0.811371, 'b': -0.494604} using model Sobol.\n",
      "[INFO 12-13 23:14:22] ax.service.ax_client: Completed trial 18 with data: {'z': (0.0, 0.0)}.\n",
      "[INFO 12-13 23:14:22] ax.service.ax_client: Generated new trial 19 with parameters {'a': 0.373022, 'b': 0.339237} using model Sobol.\n",
      "[INFO 12-13 23:14:22] ax.service.ax_client: Completed trial 19 with data: {'z': (0.012797, 0.0)}.\n"
     ]
    },
    {
     "name": "stdout",
     "output_type": "stream",
     "text": [
      "Using GPEI (Exploitation)\n"
     ]
    },
    {
     "name": "stderr",
     "output_type": "stream",
     "text": [
      "[INFO 12-13 23:14:24] ax.service.ax_client: Generated new trial 20 with parameters {'a': 0.228543, 'b': -0.03653} using model GPEI.\n",
      "[INFO 12-13 23:14:24] ax.service.ax_client: Generated new trial 21 with parameters {'a': 0.228497, 'b': -0.036618} using model GPEI.\n",
      "[INFO 12-13 23:14:24] ax.service.ax_client: Generated new trial 22 with parameters {'a': 0.228661, 'b': -0.036303} using model GPEI.\n",
      "[INFO 12-13 23:14:24] ax.service.ax_client: Generated new trial 23 with parameters {'a': 0.228495, 'b': -0.036618} using model GPEI.\n",
      "[INFO 12-13 23:14:24] ax.service.ax_client: Completed trial 22 with data: {'z': (0.379084, 0.0)}.\n",
      "[INFO 12-13 23:14:24] ax.service.ax_client: Completed trial 20 with data: {'z': (0.37804, 0.0)}.\n",
      "[INFO 12-13 23:14:24] ax.service.ax_client: Completed trial 21 with data: {'z': (0.377635, 0.0)}.\n",
      "[INFO 12-13 23:14:24] ax.service.ax_client: Completed trial 23 with data: {'z': (0.377637, 0.0)}.\n"
     ]
    },
    {
     "name": "stdout",
     "output_type": "stream",
     "text": [
      "Using GPEI (Exploitation)\n"
     ]
    },
    {
     "name": "stderr",
     "output_type": "stream",
     "text": [
      "[INFO 12-13 23:14:26] ax.service.ax_client: Generated new trial 24 with parameters {'a': 0.228676, 'b': -0.036274} using model GPEI.\n",
      "[INFO 12-13 23:14:26] ax.service.ax_client: Generated new trial 25 with parameters {'a': 0.278357, 'b': 0.020521} using model GPEI.\n",
      "[INFO 12-13 23:14:26] ax.service.ax_client: Generated new trial 26 with parameters {'a': 0.279169, 'b': 0.01736} using model GPEI.\n",
      "[INFO 12-13 23:14:27] ax.service.ax_client: Generated new trial 27 with parameters {'a': 0.233841, 'b': 0.035135} using model GPEI.\n",
      "[INFO 12-13 23:14:27] ax.service.ax_client: Completed trial 27 with data: {'z': (0.765187, 0.0)}.\n",
      "[INFO 12-13 23:14:27] ax.service.ax_client: Completed trial 26 with data: {'z': (0.519516, 0.0)}.\n",
      "[INFO 12-13 23:14:27] ax.service.ax_client: Completed trial 25 with data: {'z': (0.536425, 0.0)}.\n",
      "[INFO 12-13 23:14:27] ax.service.ax_client: Completed trial 24 with data: {'z': (0.379217, 0.0)}.\n"
     ]
    },
    {
     "name": "stdout",
     "output_type": "stream",
     "text": [
      "Using GPEI (Exploitation)\n"
     ]
    },
    {
     "name": "stderr",
     "output_type": "stream",
     "text": [
      "[INFO 12-13 23:14:29] ax.service.ax_client: Generated new trial 28 with parameters {'a': 0.173246, 'b': 0.032531} using model GPEI.\n",
      "[INFO 12-13 23:14:29] ax.service.ax_client: Generated new trial 29 with parameters {'a': 0.172812, 'b': 0.032173} using model GPEI.\n",
      "[INFO 12-13 23:14:29] ax.service.ax_client: Generated new trial 30 with parameters {'a': 0.195371, 'b': 0.08481} using model GPEI.\n",
      "[INFO 12-13 23:14:29] ax.service.ax_client: Generated new trial 31 with parameters {'a': 0.171041, 'b': 0.032353} using model GPEI.\n",
      "[INFO 12-13 23:14:29] ax.service.ax_client: Completed trial 30 with data: {'z': (0.987471, 0.0)}.\n",
      "[INFO 12-13 23:14:29] ax.service.ax_client: Completed trial 29 with data: {'z': (0.765687, 0.0)}.\n",
      "[INFO 12-13 23:14:29] ax.service.ax_client: Completed trial 31 with data: {'z': (0.762818, 0.0)}.\n",
      "[INFO 12-13 23:14:29] ax.service.ax_client: Completed trial 28 with data: {'z': (0.768443, 0.0)}.\n"
     ]
    },
    {
     "name": "stdout",
     "output_type": "stream",
     "text": [
      "Using GPEI (Exploitation)\n"
     ]
    },
    {
     "name": "stderr",
     "output_type": "stream",
     "text": [
      "[INFO 12-13 23:14:31] ax.service.ax_client: Generated new trial 32 with parameters {'a': 0.171246, 'b': 0.076304} using model GPEI.\n",
      "[INFO 12-13 23:14:31] ax.service.ax_client: Generated new trial 33 with parameters {'a': 0.195371, 'b': 0.084808} using model GPEI.\n",
      "[INFO 12-13 23:14:31] ax.service.ax_client: Generated new trial 34 with parameters {'a': 0.170609, 'b': 0.074449} using model GPEI.\n",
      "[INFO 12-13 23:14:31] ax.service.ax_client: Generated new trial 35 with parameters {'a': 0.203239, 'b': 0.105998} using model GPEI.\n",
      "[INFO 12-13 23:14:31] ax.service.ax_client: Completed trial 35 with data: {'z': (0.997679, 0.0)}.\n",
      "[INFO 12-13 23:14:31] ax.service.ax_client: Completed trial 33 with data: {'z': (0.987468, 0.0)}.\n",
      "[INFO 12-13 23:14:31] ax.service.ax_client: Completed trial 34 with data: {'z': (0.926969, 0.0)}.\n",
      "[INFO 12-13 23:14:31] ax.service.ax_client: Completed trial 32 with data: {'z': (0.932942, 0.0)}.\n"
     ]
    },
    {
     "name": "stdout",
     "output_type": "stream",
     "text": [
      "Using qNIPV (Exploration)\n"
     ]
    },
    {
     "name": "stderr",
     "output_type": "stream",
     "text": [
      "[INFO 12-13 23:14:33] ax.service.ax_client: Generated new trial 36 with parameters {'a': -0.346518, 'b': 0.219102} using model GPEI.\n",
      "[INFO 12-13 23:14:33] ax.service.ax_client: Generated new trial 37 with parameters {'a': 0.203258, 'b': 0.106028} using model GPEI.\n",
      "[INFO 12-13 23:14:34] ax.service.ax_client: Generated new trial 38 with parameters {'a': 0.203207, 'b': 0.105957} using model GPEI.\n",
      "[INFO 12-13 23:14:34] ax.service.ax_client: Generated new trial 39 with parameters {'a': 0.213531, 'b': 0.12151} using model GPEI.\n",
      "[INFO 12-13 23:14:34] ax.service.ax_client: Completed trial 39 with data: {'z': (0.968227, 0.0)}.\n",
      "[INFO 12-13 23:14:34] ax.service.ax_client: Completed trial 36 with data: {'z': (0.0, 0.0)}.\n",
      "[INFO 12-13 23:14:34] ax.service.ax_client: Completed trial 37 with data: {'z': (0.997656, 0.0)}.\n",
      "[INFO 12-13 23:14:34] ax.service.ax_client: Completed trial 38 with data: {'z': (0.997714, 0.0)}.\n",
      "[INFO 12-13 23:14:34] ax.service.ax_client: Starting optimization with verbose logging. To disable logging, set the `verbose_logging` argument to `False`. Note that float values in the logs are rounded to 6 decimal points.\n",
      "[INFO 12-13 23:14:34] ax.service.utils.instantiation: Inferred value type of ParameterType.FLOAT for parameter a. If that is not the expected value type, you can explicitly specify 'value_type' ('int', 'float', 'bool' or 'str') in parameter dict.\n",
      "[INFO 12-13 23:14:34] ax.service.utils.instantiation: Inferred value type of ParameterType.FLOAT for parameter b. If that is not the expected value type, you can explicitly specify 'value_type' ('int', 'float', 'bool' or 'str') in parameter dict.\n",
      "[INFO 12-13 23:14:34] ax.service.utils.instantiation: Created search space: SearchSpace(parameters=[RangeParameter(name='a', parameter_type=FLOAT, range=[-1.0, 1.0]), RangeParameter(name='b', parameter_type=FLOAT, range=[-1.0, 1.0])], parameter_constraints=[]).\n",
      "[INFO 12-13 23:14:34] ax.service.ax_client: Generated new trial 0 with parameters {'a': 0.96018, 'b': -0.971381} using model Sobol.\n",
      "[INFO 12-13 23:14:34] ax.service.ax_client: Completed trial 0 with data: {'z': (0.0, 0.0)}.\n",
      "[INFO 12-13 23:14:34] ax.service.ax_client: Generated new trial 1 with parameters {'a': -0.96623, 'b': 0.706345} using model Sobol.\n",
      "[INFO 12-13 23:14:34] ax.service.ax_client: Completed trial 1 with data: {'z': (0.0, 0.0)}.\n",
      "[INFO 12-13 23:14:34] ax.service.ax_client: Generated new trial 2 with parameters {'a': -0.176053, 'b': -0.042607} using model Sobol.\n",
      "[INFO 12-13 23:14:34] ax.service.ax_client: Completed trial 2 with data: {'z': (0.000307, 0.0)}.\n",
      "[INFO 12-13 23:14:34] ax.service.ax_client: Generated new trial 3 with parameters {'a': 0.185627, 'b': 0.275744} using model Sobol.\n",
      "[INFO 12-13 23:14:34] ax.service.ax_client: Completed trial 3 with data: {'z': (0.211267, 0.0)}.\n",
      "[INFO 12-13 23:14:34] ax.service.ax_client: Generated new trial 4 with parameters {'a': 0.404761, 'b': -0.497043} using model Sobol.\n",
      "[INFO 12-13 23:14:34] ax.service.ax_client: Completed trial 4 with data: {'z': (0.0, 0.0)}.\n",
      "[INFO 12-13 23:14:34] ax.service.ax_client: Generated new trial 5 with parameters {'a': -0.394698, 'b': 0.200215} using model Sobol.\n",
      "[INFO 12-13 23:14:34] ax.service.ax_client: Completed trial 5 with data: {'z': (0.0, 0.0)}.\n",
      "[INFO 12-13 23:14:34] ax.service.ax_client: Generated new trial 6 with parameters {'a': -0.7471, 'b': -0.552644} using model Sobol.\n",
      "[INFO 12-13 23:14:34] ax.service.ax_client: Completed trial 6 with data: {'z': (0.0, 0.0)}.\n",
      "[INFO 12-13 23:14:34] ax.service.ax_client: Generated new trial 7 with parameters {'a': 0.741539, 'b': 0.75399} using model Sobol.\n",
      "[INFO 12-13 23:14:34] ax.service.ax_client: Completed trial 7 with data: {'z': (0.0, 0.0)}.\n",
      "[INFO 12-13 23:14:34] ax.service.ax_client: Generated new trial 8 with parameters {'a': 0.616939, 'b': -0.206328} using model Sobol.\n",
      "[INFO 12-13 23:14:34] ax.service.ax_client: Completed trial 8 with data: {'z': (2e-06, 0.0)}.\n",
      "[INFO 12-13 23:14:34] ax.service.ax_client: Generated new trial 9 with parameters {'a': -0.622974, 'b': 0.471414} using model Sobol.\n",
      "[INFO 12-13 23:14:34] ax.service.ax_client: Completed trial 9 with data: {'z': (0.0, 0.0)}.\n",
      "[INFO 12-13 23:14:34] ax.service.ax_client: Generated new trial 10 with parameters {'a': -0.270266, 'b': -0.775724} using model Sobol.\n",
      "[INFO 12-13 23:14:34] ax.service.ax_client: Completed trial 10 with data: {'z': (0.0, 0.0)}.\n",
      "[INFO 12-13 23:14:34] ax.service.ax_client: Generated new trial 11 with parameters {'a': 0.279856, 'b': 0.542644} using model Sobol.\n"
     ]
    },
    {
     "name": "stdout",
     "output_type": "stream",
     "text": [
      "Batch size 4: Async time: 12.228912700000365, Error: 0.0022860980672141373\n"
     ]
    },
    {
     "name": "stderr",
     "output_type": "stream",
     "text": [
      "[INFO 12-13 23:14:34] ax.service.ax_client: Completed trial 11 with data: {'z': (4e-05, 0.0)}.\n",
      "[INFO 12-13 23:14:34] ax.service.ax_client: Generated new trial 12 with parameters {'a': 0.061516, 'b': -0.700251} using model Sobol.\n",
      "[INFO 12-13 23:14:34] ax.service.ax_client: Completed trial 12 with data: {'z': (0.0, 0.0)}.\n",
      "[INFO 12-13 23:14:34] ax.service.ax_client: Generated new trial 13 with parameters {'a': -0.051438, 'b': 0.997021} using model Sobol.\n",
      "[INFO 12-13 23:14:34] ax.service.ax_client: Completed trial 13 with data: {'z': (0.0, 0.0)}.\n",
      "[INFO 12-13 23:14:34] ax.service.ax_client: Generated new trial 14 with parameters {'a': -0.84131, 'b': -0.254022} using model Sobol.\n",
      "[INFO 12-13 23:14:34] ax.service.ax_client: Completed trial 14 with data: {'z': (0.0, 0.0)}.\n",
      "[INFO 12-13 23:14:34] ax.service.ax_client: Generated new trial 15 with parameters {'a': 0.835763, 'b': 0.052627} using model Sobol.\n",
      "[INFO 12-13 23:14:34] ax.service.ax_client: Completed trial 15 with data: {'z': (0.0, 0.0)}.\n",
      "[INFO 12-13 23:14:34] ax.service.ax_client: Generated new trial 16 with parameters {'a': 0.80756, 'b': -0.328325} using model Sobol.\n",
      "[INFO 12-13 23:14:34] ax.service.ax_client: Completed trial 16 with data: {'z': (0.0, 0.0)}.\n",
      "[INFO 12-13 23:14:34] ax.service.ax_client: Generated new trial 17 with parameters {'a': -0.797496, 'b': 0.095493} using model Sobol.\n",
      "[INFO 12-13 23:14:34] ax.service.ax_client: Completed trial 17 with data: {'z': (0.0, 0.0)}.\n",
      "[INFO 12-13 23:14:34] ax.service.ax_client: Generated new trial 18 with parameters {'a': -0.087458, 'b': -0.649553} using model Sobol.\n",
      "[INFO 12-13 23:14:34] ax.service.ax_client: Completed trial 18 with data: {'z': (0.0, 0.0)}.\n",
      "[INFO 12-13 23:14:34] ax.service.ax_client: Generated new trial 19 with parameters {'a': 0.081896, 'b': 0.914893} using model Sobol.\n",
      "[INFO 12-13 23:14:34] ax.service.ax_client: Completed trial 19 with data: {'z': (0.0, 0.0)}.\n"
     ]
    },
    {
     "name": "stdout",
     "output_type": "stream",
     "text": [
      "Using GPEI (Exploitation)\n"
     ]
    },
    {
     "name": "stderr",
     "output_type": "stream",
     "text": [
      "[INFO 12-13 23:14:36] ax.service.ax_client: Generated new trial 20 with parameters {'a': 0.24255, 'b': 0.248117} using model GPEI.\n",
      "[INFO 12-13 23:14:36] ax.service.ax_client: Generated new trial 21 with parameters {'a': 0.242513, 'b': 0.248133} using model GPEI.\n",
      "[INFO 12-13 23:14:36] ax.service.ax_client: Generated new trial 22 with parameters {'a': 0.242744, 'b': 0.248033} using model GPEI.\n",
      "[INFO 12-13 23:14:36] ax.service.ax_client: Generated new trial 23 with parameters {'a': 0.242677, 'b': 0.248062} using model GPEI.\n",
      "[INFO 12-13 23:14:36] ax.service.ax_client: Completed trial 20 with data: {'z': (0.304998, 0.0)}.\n",
      "[INFO 12-13 23:14:36] ax.service.ax_client: Completed trial 22 with data: {'z': (0.305121, 0.0)}.\n",
      "[INFO 12-13 23:14:36] ax.service.ax_client: Completed trial 21 with data: {'z': (0.304972, 0.0)}.\n",
      "[INFO 12-13 23:14:36] ax.service.ax_client: Completed trial 23 with data: {'z': (0.305077, 0.0)}.\n"
     ]
    },
    {
     "name": "stdout",
     "output_type": "stream",
     "text": [
      "Using GPEI (Exploitation)\n"
     ]
    },
    {
     "name": "stderr",
     "output_type": "stream",
     "text": [
      "[INFO 12-13 23:14:38] ax.service.ax_client: Generated new trial 24 with parameters {'a': 0.129744, 'b': 0.257709} using model GPEI.\n",
      "[INFO 12-13 23:14:38] ax.service.ax_client: Generated new trial 25 with parameters {'a': 0.275251, 'b': 0.20172} using model GPEI.\n",
      "[INFO 12-13 23:14:39] ax.service.ax_client: Generated new trial 26 with parameters {'a': 0.124653, 'b': 0.260786} using model GPEI.\n",
      "[INFO 12-13 23:14:39] ax.service.ax_client: Generated new trial 27 with parameters {'a': 0.132615, 'b': 0.255417} using model GPEI.\n",
      "[INFO 12-13 23:14:39] ax.service.ax_client: Completed trial 24 with data: {'z': (0.225282, 0.0)}.\n",
      "[INFO 12-13 23:14:39] ax.service.ax_client: Completed trial 25 with data: {'z': (0.449111, 0.0)}.\n",
      "[INFO 12-13 23:14:39] ax.service.ax_client: Completed trial 27 with data: {'z': (0.238173, 0.0)}.\n",
      "[INFO 12-13 23:14:39] ax.service.ax_client: Completed trial 26 with data: {'z': (0.206704, 0.0)}.\n"
     ]
    },
    {
     "name": "stdout",
     "output_type": "stream",
     "text": [
      "Using GPEI (Exploitation)\n"
     ]
    },
    {
     "name": "stderr",
     "output_type": "stream",
     "text": [
      "[INFO 12-13 23:14:41] ax.service.ax_client: Generated new trial 28 with parameters {'a': 0.275297, 'b': 0.201132} using model GPEI.\n",
      "[INFO 12-13 23:14:41] ax.service.ax_client: Generated new trial 29 with parameters {'a': 0.295336, 'b': 0.269704} using model GPEI.\n",
      "[INFO 12-13 23:14:41] ax.service.ax_client: Generated new trial 30 with parameters {'a': 0.213718, 'b': 0.184146} using model GPEI.\n",
      "[INFO 12-13 23:14:41] ax.service.ax_client: Generated new trial 31 with parameters {'a': 0.295706, 'b': 0.272119} using model GPEI.\n",
      "[INFO 12-13 23:14:41] ax.service.ax_client: Completed trial 29 with data: {'z': (0.150405, 0.0)}.\n",
      "[INFO 12-13 23:14:41] ax.service.ax_client: Completed trial 31 with data: {'z': (0.143813, 0.0)}.\n",
      "[INFO 12-13 23:14:41] ax.service.ax_client: Completed trial 28 with data: {'z': (0.451642, 0.0)}.\n",
      "[INFO 12-13 23:14:41] ax.service.ax_client: Completed trial 30 with data: {'z': (0.695281, 0.0)}.\n"
     ]
    },
    {
     "name": "stdout",
     "output_type": "stream",
     "text": [
      "Using qNIPV (Exploration)\n"
     ]
    },
    {
     "name": "stderr",
     "output_type": "stream",
     "text": [
      "[INFO 12-13 23:14:43] ax.service.ax_client: Generated new trial 32 with parameters {'a': 0.198689, 'b': 0.142235} using model GPEI.\n",
      "[INFO 12-13 23:14:44] ax.service.ax_client: Generated new trial 33 with parameters {'a': 0.213721, 'b': 0.184143} using model GPEI.\n",
      "[INFO 12-13 23:14:44] ax.service.ax_client: Generated new trial 34 with parameters {'a': 0.195632, 'b': 0.170042} using model GPEI.\n",
      "[INFO 12-13 23:14:44] ax.service.ax_client: Generated new trial 35 with parameters {'a': 0.213723, 'b': 0.184149} using model GPEI.\n",
      "[INFO 12-13 23:14:44] ax.service.ax_client: Completed trial 34 with data: {'z': (0.781729, 0.0)}.\n",
      "[INFO 12-13 23:14:44] ax.service.ax_client: Completed trial 32 with data: {'z': (0.914595, 0.0)}.\n",
      "[INFO 12-13 23:14:44] ax.service.ax_client: Completed trial 33 with data: {'z': (0.695295, 0.0)}.\n",
      "[INFO 12-13 23:14:44] ax.service.ax_client: Completed trial 35 with data: {'z': (0.695259, 0.0)}.\n"
     ]
    },
    {
     "name": "stdout",
     "output_type": "stream",
     "text": [
      "Using qNIPV (Exploration)\n"
     ]
    },
    {
     "name": "stderr",
     "output_type": "stream",
     "text": [
      "[INFO 12-13 23:14:46] ax.service.ax_client: Generated new trial 36 with parameters {'a': 0.196986, 'b': 0.088471} using model GPEI.\n",
      "[INFO 12-13 23:14:46] ax.service.ax_client: Generated new trial 37 with parameters {'a': 0.198689, 'b': 0.142233} using model GPEI.\n",
      "[INFO 12-13 23:14:46] ax.service.ax_client: Generated new trial 38 with parameters {'a': 0.198673, 'b': 0.142185} using model GPEI.\n",
      "[INFO 12-13 23:14:46] ax.service.ax_client: Generated new trial 39 with parameters {'a': 0.198669, 'b': 0.142174} using model GPEI.\n",
      "[INFO 12-13 23:14:46] ax.service.ax_client: Completed trial 39 with data: {'z': (0.914826, 0.0)}.\n",
      "[INFO 12-13 23:14:46] ax.service.ax_client: Completed trial 37 with data: {'z': (0.914601, 0.0)}.\n",
      "[INFO 12-13 23:14:46] ax.service.ax_client: Completed trial 38 with data: {'z': (0.914786, 0.0)}.\n",
      "[INFO 12-13 23:14:46] ax.service.ax_client: Completed trial 36 with data: {'z': (0.992925, 0.0)}.\n",
      "[INFO 12-13 23:14:46] ax.service.ax_client: Starting optimization with verbose logging. To disable logging, set the `verbose_logging` argument to `False`. Note that float values in the logs are rounded to 6 decimal points.\n",
      "[INFO 12-13 23:14:46] ax.service.utils.instantiation: Inferred value type of ParameterType.FLOAT for parameter a. If that is not the expected value type, you can explicitly specify 'value_type' ('int', 'float', 'bool' or 'str') in parameter dict.\n",
      "[INFO 12-13 23:14:46] ax.service.utils.instantiation: Inferred value type of ParameterType.FLOAT for parameter b. If that is not the expected value type, you can explicitly specify 'value_type' ('int', 'float', 'bool' or 'str') in parameter dict.\n",
      "[INFO 12-13 23:14:46] ax.service.utils.instantiation: Created search space: SearchSpace(parameters=[RangeParameter(name='a', parameter_type=FLOAT, range=[-1.0, 1.0]), RangeParameter(name='b', parameter_type=FLOAT, range=[-1.0, 1.0])], parameter_constraints=[]).\n",
      "[INFO 12-13 23:14:46] ax.service.ax_client: Generated new trial 0 with parameters {'a': -0.511804, 'b': -0.117721} using model Sobol.\n",
      "[INFO 12-13 23:14:46] ax.service.ax_client: Completed trial 0 with data: {'z': (0.0, 0.0)}.\n",
      "[INFO 12-13 23:14:46] ax.service.ax_client: Generated new trial 1 with parameters {'a': 0.530985, 'b': 0.371415} using model Sobol.\n",
      "[INFO 12-13 23:14:46] ax.service.ax_client: Completed trial 1 with data: {'z': (0.000105, 0.0)}.\n",
      "[INFO 12-13 23:14:46] ax.service.ax_client: Generated new trial 2 with parameters {'a': 0.260025, 'b': -0.843723} using model Sobol.\n",
      "[INFO 12-13 23:14:46] ax.service.ax_client: Completed trial 2 with data: {'z': (0.0, 0.0)}.\n",
      "[INFO 12-13 23:14:46] ax.service.ax_client: Generated new trial 3 with parameters {'a': -0.275326, 'b': 0.589016} using model Sobol.\n",
      "[INFO 12-13 23:14:46] ax.service.ax_client: Completed trial 3 with data: {'z': (0.0, 0.0)}.\n",
      "[INFO 12-13 23:14:46] ax.service.ax_client: Generated new trial 4 with parameters {'a': -0.159077, 'b': -0.517244} using model Sobol.\n",
      "[INFO 12-13 23:14:46] ax.service.ax_client: Completed trial 4 with data: {'z': (0.0, 0.0)}.\n",
      "[INFO 12-13 23:14:46] ax.service.ax_client: Generated new trial 5 with parameters {'a': 0.173133, 'b': 0.770964} using model Sobol.\n",
      "[INFO 12-13 23:14:46] ax.service.ax_client: Completed trial 5 with data: {'z': (0.0, 0.0)}.\n",
      "[INFO 12-13 23:14:46] ax.service.ax_client: Generated new trial 6 with parameters {'a': 0.91083, 'b': -0.303572} using model Sobol.\n",
      "[INFO 12-13 23:14:46] ax.service.ax_client: Completed trial 6 with data: {'z': (0.0, 0.0)}.\n",
      "[INFO 12-13 23:14:46] ax.service.ax_client: Generated new trial 7 with parameters {'a': -0.928819, 'b': 0.048846} using model Sobol.\n",
      "[INFO 12-13 23:14:46] ax.service.ax_client: Completed trial 7 with data: {'z': (0.0, 0.0)}.\n",
      "[INFO 12-13 23:14:46] ax.service.ax_client: Generated new trial 8 with parameters {'a': -0.788796, 'b': -0.987097} using model Sobol.\n",
      "[INFO 12-13 23:14:46] ax.service.ax_client: Completed trial 8 with data: {'z': (0.0, 0.0)}.\n",
      "[INFO 12-13 23:14:47] ax.service.ax_client: Generated new trial 9 with parameters {'a': 0.800869, 'b': 0.74032} using model Sobol.\n",
      "[INFO 12-13 23:14:47] ax.service.ax_client: Completed trial 9 with data: {'z': (0.0, 0.0)}.\n",
      "[INFO 12-13 23:14:47] ax.service.ax_client: Generated new trial 10 with parameters {'a': 0.033141, 'b': -0.20872} using model Sobol.\n",
      "[INFO 12-13 23:14:47] ax.service.ax_client: Completed trial 10 with data: {'z': (0.002118, 0.0)}.\n",
      "[INFO 12-13 23:14:47] ax.service.ax_client: Generated new trial 11 with parameters {'a': -0.049085, 'b': 0.454488} using model Sobol.\n"
     ]
    },
    {
     "name": "stdout",
     "output_type": "stream",
     "text": [
      "Batch size 4: Async time: 12.427255600001445, Error: 0.007075189773476098\n"
     ]
    },
    {
     "name": "stderr",
     "output_type": "stream",
     "text": [
      "[INFO 12-13 23:14:47] ax.service.ax_client: Completed trial 11 with data: {'z': (8.4e-05, 0.0)}.\n",
      "[INFO 12-13 23:14:47] ax.service.ax_client: Generated new trial 12 with parameters {'a': -0.384069, 'b': -0.40226} using model Sobol.\n",
      "[INFO 12-13 23:14:47] ax.service.ax_client: Completed trial 12 with data: {'z': (0.0, 0.0)}.\n",
      "[INFO 12-13 23:14:47] ax.service.ax_client: Generated new trial 13 with parameters {'a': 0.401267, 'b': 0.155479} using model Sobol.\n",
      "[INFO 12-13 23:14:47] ax.service.ax_client: Completed trial 13 with data: {'z': (0.11312, 0.0)}.\n",
      "[INFO 12-13 23:14:47] ax.service.ax_client: Generated new trial 14 with parameters {'a': 0.639758, 'b': -0.684178} using model Sobol.\n",
      "[INFO 12-13 23:14:47] ax.service.ax_client: Completed trial 14 with data: {'z': (0.0, 0.0)}.\n",
      "[INFO 12-13 23:14:47] ax.service.ax_client: Generated new trial 15 with parameters {'a': -0.653016, 'b': 0.929958} using model Sobol.\n",
      "[INFO 12-13 23:14:47] ax.service.ax_client: Completed trial 15 with data: {'z': (0.0, 0.0)}.\n",
      "[INFO 12-13 23:14:47] ax.service.ax_client: Generated new trial 16 with parameters {'a': -0.687756, 'b': -0.71646} using model Sobol.\n",
      "[INFO 12-13 23:14:47] ax.service.ax_client: Completed trial 16 with data: {'z': (0.0, 0.0)}.\n",
      "[INFO 12-13 23:14:47] ax.service.ax_client: Generated new trial 17 with parameters {'a': 0.706969, 'b': 0.962373} using model Sobol.\n",
      "[INFO 12-13 23:14:47] ax.service.ax_client: Completed trial 17 with data: {'z': (0.0, 0.0)}.\n",
      "[INFO 12-13 23:14:47] ax.service.ax_client: Generated new trial 18 with parameters {'a': 0.443446, 'b': -0.494951} using model Sobol.\n",
      "[INFO 12-13 23:14:47] ax.service.ax_client: Completed trial 18 with data: {'z': (0.0, 0.0)}.\n",
      "[INFO 12-13 23:14:47] ax.service.ax_client: Generated new trial 19 with parameters {'a': -0.458719, 'b': 0.24809} using model Sobol.\n",
      "[INFO 12-13 23:14:47] ax.service.ax_client: Completed trial 19 with data: {'z': (0.0, 0.0)}.\n"
     ]
    },
    {
     "name": "stdout",
     "output_type": "stream",
     "text": [
      "Using GPEI (Exploitation)\n"
     ]
    },
    {
     "name": "stderr",
     "output_type": "stream",
     "text": [
      "[INFO 12-13 23:14:49] ax.service.ax_client: Generated new trial 20 with parameters {'a': 0.475159, 'b': 0.127453} using model GPEI.\n",
      "[INFO 12-13 23:14:49] ax.service.ax_client: Generated new trial 21 with parameters {'a': 0.475136, 'b': 0.127466} using model GPEI.\n",
      "[INFO 12-13 23:14:49] ax.service.ax_client: Generated new trial 22 with parameters {'a': 0.475151, 'b': 0.127458} using model GPEI.\n",
      "[INFO 12-13 23:14:49] ax.service.ax_client: Generated new trial 23 with parameters {'a': 0.475192, 'b': 0.127442} using model GPEI.\n",
      "[INFO 12-13 23:14:49] ax.service.ax_client: Completed trial 22 with data: {'z': (0.02186, 0.0)}.\n",
      "[INFO 12-13 23:14:49] ax.service.ax_client: Completed trial 23 with data: {'z': (0.021836, 0.0)}.\n",
      "[INFO 12-13 23:14:49] ax.service.ax_client: Completed trial 20 with data: {'z': (0.021856, 0.0)}.\n",
      "[INFO 12-13 23:14:49] ax.service.ax_client: Completed trial 21 with data: {'z': (0.021868, 0.0)}.\n"
     ]
    },
    {
     "name": "stdout",
     "output_type": "stream",
     "text": [
      "Using GPEI (Exploitation)\n"
     ]
    },
    {
     "name": "stderr",
     "output_type": "stream",
     "text": [
      "[INFO 12-13 23:14:51] ax.service.ax_client: Generated new trial 24 with parameters {'a': 0.475299, 'b': 0.127405} using model GPEI.\n",
      "[INFO 12-13 23:14:51] ax.service.ax_client: Generated new trial 25 with parameters {'a': 0.474862, 'b': 0.127555} using model GPEI.\n",
      "[INFO 12-13 23:14:52] ax.service.ax_client: Generated new trial 26 with parameters {'a': 0.314516, 'b': 0.128489} using model GPEI.\n",
      "[INFO 12-13 23:14:52] ax.service.ax_client: Generated new trial 27 with parameters {'a': 0.388328, 'b': 0.173028} using model GPEI.\n",
      "[INFO 12-13 23:14:52] ax.service.ax_client: Completed trial 26 with data: {'z': (0.498439, 0.0)}.\n",
      "[INFO 12-13 23:14:52] ax.service.ax_client: Completed trial 25 with data: {'z': (0.022028, 0.0)}.\n",
      "[INFO 12-13 23:14:52] ax.service.ax_client: Completed trial 24 with data: {'z': (0.021774, 0.0)}.\n",
      "[INFO 12-13 23:14:52] ax.service.ax_client: Completed trial 27 with data: {'z': (0.130025, 0.0)}.\n"
     ]
    },
    {
     "name": "stdout",
     "output_type": "stream",
     "text": [
      "Using GPEI (Exploitation)\n"
     ]
    },
    {
     "name": "stderr",
     "output_type": "stream",
     "text": [
      "[INFO 12-13 23:14:54] ax.service.ax_client: Generated new trial 28 with parameters {'a': 0.302018, 'b': 0.117147} using model GPEI.\n",
      "[INFO 12-13 23:14:55] ax.service.ax_client: Generated new trial 29 with parameters {'a': 0.39257, 'b': 0.082684} using model GPEI.\n",
      "[INFO 12-13 23:14:55] ax.service.ax_client: Generated new trial 30 with parameters {'a': 0.388333, 'b': 0.173021} using model GPEI.\n",
      "[INFO 12-13 23:14:55] ax.service.ax_client: Generated new trial 31 with parameters {'a': 0.388311, 'b': 0.173071} using model GPEI.\n",
      "[INFO 12-13 23:14:55] ax.service.ax_client: Completed trial 29 with data: {'z': (0.154256, 0.0)}.\n",
      "[INFO 12-13 23:14:55] ax.service.ax_client: Completed trial 30 with data: {'z': (0.130021, 0.0)}.\n",
      "[INFO 12-13 23:14:55] ax.service.ax_client: Completed trial 28 with data: {'z': (0.585619, 0.0)}.\n",
      "[INFO 12-13 23:14:55] ax.service.ax_client: Completed trial 31 with data: {'z': (0.130026, 0.0)}.\n"
     ]
    },
    {
     "name": "stdout",
     "output_type": "stream",
     "text": [
      "Using GPEI (Exploitation)\n"
     ]
    },
    {
     "name": "stderr",
     "output_type": "stream",
     "text": [
      "[INFO 12-13 23:14:57] ax.service.ax_client: Generated new trial 32 with parameters {'a': 0.301999, 'b': 0.117127} using model GPEI.\n",
      "[INFO 12-13 23:14:57] ax.service.ax_client: Generated new trial 33 with parameters {'a': 0.302022, 'b': 0.11715} using model GPEI.\n",
      "[INFO 12-13 23:14:58] ax.service.ax_client: Generated new trial 34 with parameters {'a': 0.27645, 'b': 0.084905} using model GPEI.\n",
      "[INFO 12-13 23:14:58] ax.service.ax_client: Generated new trial 35 with parameters {'a': 0.301998, 'b': 0.117126} using model GPEI.\n",
      "[INFO 12-13 23:14:58] ax.service.ax_client: Completed trial 34 with data: {'z': (0.738137, 0.0)}.\n",
      "[INFO 12-13 23:14:58] ax.service.ax_client: Completed trial 32 with data: {'z': (0.585755, 0.0)}.\n",
      "[INFO 12-13 23:14:58] ax.service.ax_client: Completed trial 33 with data: {'z': (0.585594, 0.0)}.\n",
      "[INFO 12-13 23:14:58] ax.service.ax_client: Completed trial 35 with data: {'z': (0.58576, 0.0)}.\n"
     ]
    },
    {
     "name": "stdout",
     "output_type": "stream",
     "text": [
      "Using GPEI (Exploitation)\n"
     ]
    },
    {
     "name": "stderr",
     "output_type": "stream",
     "text": [
      "[INFO 12-13 23:15:00] ax.service.ax_client: Generated new trial 36 with parameters {'a': 0.24786, 'b': 0.026948} using model GPEI.\n",
      "[INFO 12-13 23:15:00] ax.service.ax_client: Generated new trial 37 with parameters {'a': 0.276451, 'b': 0.084908} using model GPEI.\n",
      "[INFO 12-13 23:15:01] ax.service.ax_client: Generated new trial 38 with parameters {'a': 0.276451, 'b': 0.084907} using model GPEI.\n",
      "[INFO 12-13 23:15:01] ax.service.ax_client: Generated new trial 39 with parameters {'a': 0.274075, 'b': 0.174142} using model GPEI.\n",
      "[INFO 12-13 23:15:01] ax.service.ax_client: Completed trial 38 with data: {'z': (0.738138, 0.0)}.\n",
      "[INFO 12-13 23:15:01] ax.service.ax_client: Completed trial 39 with data: {'z': (0.577408, 0.0)}.\n",
      "[INFO 12-13 23:15:01] ax.service.ax_client: Completed trial 36 with data: {'z': (0.682932, 0.0)}.\n",
      "[INFO 12-13 23:15:01] ax.service.ax_client: Completed trial 37 with data: {'z': (0.738134, 0.0)}.\n",
      "[INFO 12-13 23:15:01] ax.service.ax_client: Starting optimization with verbose logging. To disable logging, set the `verbose_logging` argument to `False`. Note that float values in the logs are rounded to 6 decimal points.\n",
      "[INFO 12-13 23:15:01] ax.service.utils.instantiation: Inferred value type of ParameterType.FLOAT for parameter a. If that is not the expected value type, you can explicitly specify 'value_type' ('int', 'float', 'bool' or 'str') in parameter dict.\n",
      "[INFO 12-13 23:15:01] ax.service.utils.instantiation: Inferred value type of ParameterType.FLOAT for parameter b. If that is not the expected value type, you can explicitly specify 'value_type' ('int', 'float', 'bool' or 'str') in parameter dict.\n",
      "[INFO 12-13 23:15:01] ax.service.utils.instantiation: Created search space: SearchSpace(parameters=[RangeParameter(name='a', parameter_type=FLOAT, range=[-1.0, 1.0]), RangeParameter(name='b', parameter_type=FLOAT, range=[-1.0, 1.0])], parameter_constraints=[]).\n",
      "[INFO 12-13 23:15:01] ax.service.ax_client: Generated new trial 0 with parameters {'a': 0.916854, 'b': 0.779495} using model Sobol.\n",
      "[INFO 12-13 23:15:01] ax.service.ax_client: Completed trial 0 with data: {'z': (0.0, 0.0)}.\n",
      "[INFO 12-13 23:15:01] ax.service.ax_client: Generated new trial 1 with parameters {'a': -0.253808, 'b': -0.412781} using model Sobol.\n",
      "[INFO 12-13 23:15:01] ax.service.ax_client: Completed trial 1 with data: {'z': (0.0, 0.0)}.\n",
      "[INFO 12-13 23:15:01] ax.service.ax_client: Generated new trial 2 with parameters {'a': -0.973287, 'b': 0.202793} using model Sobol.\n",
      "[INFO 12-13 23:15:01] ax.service.ax_client: Completed trial 2 with data: {'z': (0.0, 0.0)}.\n",
      "[INFO 12-13 23:15:01] ax.service.ax_client: Generated new trial 3 with parameters {'a': 0.325778, 'b': -0.616376} using model Sobol.\n",
      "[INFO 12-13 23:15:01] ax.service.ax_client: Completed trial 3 with data: {'z': (0.0, 0.0)}.\n",
      "[INFO 12-13 23:15:01] ax.service.ax_client: Generated new trial 4 with parameters {'a': 0.062027, 'b': 0.405975} using model Sobol.\n",
      "[INFO 12-13 23:15:01] ax.service.ax_client: Completed trial 4 with data: {'z': (0.003578, 0.0)}.\n",
      "[INFO 12-13 23:15:01] ax.service.ax_client: Generated new trial 5 with parameters {'a': -0.647194, 'b': -0.788314} using model Sobol.\n",
      "[INFO 12-13 23:15:01] ax.service.ax_client: Completed trial 5 with data: {'z': (0.0, 0.0)}.\n",
      "[INFO 12-13 23:15:01] ax.service.ax_client: Generated new trial 6 with parameters {'a': -0.111307, 'b': 0.576306} using model Sobol.\n",
      "[INFO 12-13 23:15:01] ax.service.ax_client: Completed trial 6 with data: {'z': (0.0, 0.0)}.\n",
      "[INFO 12-13 23:15:01] ax.service.ax_client: Generated new trial 7 with parameters {'a': 0.711698, 'b': -0.240848} using model Sobol.\n",
      "[INFO 12-13 23:15:01] ax.service.ax_client: Completed trial 7 with data: {'z': (0.0, 0.0)}.\n",
      "[INFO 12-13 23:15:01] ax.service.ax_client: Generated new trial 8 with parameters {'a': 0.581377, 'b': 0.067375} using model Sobol.\n",
      "[INFO 12-13 23:15:01] ax.service.ax_client: Completed trial 8 with data: {'z': (0.000658, 0.0)}.\n",
      "[INFO 12-13 23:15:01] ax.service.ax_client: Generated new trial 9 with parameters {'a': -0.244543, 'b': -0.746574} using model Sobol.\n",
      "[INFO 12-13 23:15:01] ax.service.ax_client: Completed trial 9 with data: {'z': (0.0, 0.0)}.\n",
      "[INFO 12-13 23:15:01] ax.service.ax_client: Generated new trial 10 with parameters {'a': -0.528484, 'b': 0.895894} using model Sobol.\n",
      "[INFO 12-13 23:15:01] ax.service.ax_client: Completed trial 10 with data: {'z': (0.0, 0.0)}.\n"
     ]
    },
    {
     "name": "stdout",
     "output_type": "stream",
     "text": [
      "Batch size 4: Async time: 14.366705500000535, Error: 0.26186242603176046\n"
     ]
    },
    {
     "name": "stderr",
     "output_type": "stream",
     "text": [
      "[INFO 12-13 23:15:01] ax.service.ax_client: Generated new trial 11 with parameters {'a': 0.175869, 'b': -0.294826} using model Sobol.\n",
      "[INFO 12-13 23:15:01] ax.service.ax_client: Completed trial 11 with data: {'z': (0.0004, 0.0)}.\n",
      "[INFO 12-13 23:15:01] ax.service.ax_client: Generated new trial 12 with parameters {'a': 0.443404, 'b': 0.692832} using model Sobol.\n",
      "[INFO 12-13 23:15:01] ax.service.ax_client: Completed trial 12 with data: {'z': (0.0, 0.0)}.\n",
      "[INFO 12-13 23:15:01] ax.service.ax_client: Generated new trial 13 with parameters {'a': -0.858606, 'b': -0.123009} using model Sobol.\n",
      "[INFO 12-13 23:15:01] ax.service.ax_client: Completed trial 13 with data: {'z': (0.0, 0.0)}.\n",
      "[INFO 12-13 23:15:01] ax.service.ax_client: Generated new trial 14 with parameters {'a': -0.38326, 'b': 0.270443} using model Sobol.\n",
      "[INFO 12-13 23:15:01] ax.service.ax_client: Completed trial 14 with data: {'z': (0.0, 0.0)}.\n",
      "[INFO 12-13 23:15:01] ax.service.ax_client: Generated new trial 15 with parameters {'a': 0.782504, 'b': -0.918385} using model Sobol.\n",
      "[INFO 12-13 23:15:01] ax.service.ax_client: Completed trial 15 with data: {'z': (0.0, 0.0)}.\n",
      "[INFO 12-13 23:15:01] ax.service.ax_client: Generated new trial 16 with parameters {'a': 0.837936, 'b': 0.323338} using model Sobol.\n",
      "[INFO 12-13 23:15:01] ax.service.ax_client: Completed trial 16 with data: {'z': (0.0, 0.0)}.\n",
      "[INFO 12-13 23:15:01] ax.service.ax_client: Generated new trial 17 with parameters {'a': -0.487511, 'b': -0.987897} using model Sobol.\n",
      "[INFO 12-13 23:15:01] ax.service.ax_client: Completed trial 17 with data: {'z': (0.0, 0.0)}.\n",
      "[INFO 12-13 23:15:01] ax.service.ax_client: Generated new trial 18 with parameters {'a': -0.769979, 'b': 0.650893} using model Sobol.\n",
      "[INFO 12-13 23:15:01] ax.service.ax_client: Completed trial 18 with data: {'z': (0.0, 0.0)}.\n",
      "[INFO 12-13 23:15:01] ax.service.ax_client: Generated new trial 19 with parameters {'a': 0.434847, 'b': -0.033203} using model Sobol.\n",
      "[INFO 12-13 23:15:01] ax.service.ax_client: Completed trial 19 with data: {'z': (0.026126, 0.0)}.\n"
     ]
    },
    {
     "name": "stdout",
     "output_type": "stream",
     "text": [
      "Using GPEI (Exploitation)\n"
     ]
    },
    {
     "name": "stderr",
     "output_type": "stream",
     "text": [
      "[INFO 12-13 23:15:05] ax.service.ax_client: Generated new trial 20 with parameters {'a': 0.416769, 'b': -0.035555} using model GPEI.\n",
      "[INFO 12-13 23:15:06] ax.service.ax_client: Generated new trial 21 with parameters {'a': 0.416839, 'b': -0.035732} using model GPEI.\n",
      "[INFO 12-13 23:15:06] ax.service.ax_client: Generated new trial 22 with parameters {'a': 0.416676, 'b': -0.035306} using model GPEI.\n",
      "[INFO 12-13 23:15:06] ax.service.ax_client: Generated new trial 23 with parameters {'a': 0.416728, 'b': -0.035446} using model GPEI.\n",
      "[INFO 12-13 23:15:06] ax.service.ax_client: Generated new trial 24 with parameters {'a': 0.416828, 'b': -0.035704} using model GPEI.\n",
      "[INFO 12-13 23:15:06] ax.service.ax_client: Completed trial 24 with data: {'z': (0.037949, 0.0)}.\n",
      "[INFO 12-13 23:15:06] ax.service.ax_client: Completed trial 21 with data: {'z': (0.037926, 0.0)}.\n",
      "[INFO 12-13 23:15:06] ax.service.ax_client: Completed trial 23 with data: {'z': (0.038165, 0.0)}.\n",
      "[INFO 12-13 23:15:06] ax.service.ax_client: Completed trial 20 with data: {'z': (0.038075, 0.0)}.\n",
      "[INFO 12-13 23:15:06] ax.service.ax_client: Completed trial 22 with data: {'z': (0.038281, 0.0)}.\n"
     ]
    },
    {
     "name": "stdout",
     "output_type": "stream",
     "text": [
      "Using GPEI (Exploitation)\n"
     ]
    },
    {
     "name": "stderr",
     "output_type": "stream",
     "text": [
      "[INFO 12-13 23:15:09] ax.service.ax_client: Generated new trial 25 with parameters {'a': 0.394253, 'b': -0.012182} using model GPEI.\n",
      "[INFO 12-13 23:15:10] ax.service.ax_client: Generated new trial 26 with parameters {'a': 0.445775, 'b': -0.098513} using model GPEI.\n",
      "[INFO 12-13 23:15:10] ax.service.ax_client: Generated new trial 27 with parameters {'a': 0.416772, 'b': -0.035561} using model GPEI.\n",
      "[INFO 12-13 23:15:10] ax.service.ax_client: Generated new trial 28 with parameters {'a': 0.443792, 'b': -0.110939} using model GPEI.\n",
      "[INFO 12-13 23:15:10] ax.service.ax_client: Generated new trial 29 with parameters {'a': 0.416724, 'b': -0.035434} using model GPEI.\n",
      "[INFO 12-13 23:15:10] ax.service.ax_client: Completed trial 25 with data: {'z': (0.080785, 0.0)}.\n",
      "[INFO 12-13 23:15:10] ax.service.ax_client: Completed trial 27 with data: {'z': (0.038069, 0.0)}.\n",
      "[INFO 12-13 23:15:10] ax.service.ax_client: Completed trial 28 with data: {'z': (0.005536, 0.0)}.\n",
      "[INFO 12-13 23:15:10] ax.service.ax_client: Completed trial 26 with data: {'z': (0.006801, 0.0)}.\n",
      "[INFO 12-13 23:15:10] ax.service.ax_client: Completed trial 29 with data: {'z': (0.038175, 0.0)}.\n"
     ]
    },
    {
     "name": "stdout",
     "output_type": "stream",
     "text": [
      "Using GPEI (Exploitation)\n"
     ]
    },
    {
     "name": "stderr",
     "output_type": "stream",
     "text": [
      "[INFO 12-13 23:15:12] ax.service.ax_client: Generated new trial 30 with parameters {'a': 0.394253, 'b': -0.012184} using model GPEI.\n",
      "[INFO 12-13 23:15:12] ax.service.ax_client: Generated new trial 31 with parameters {'a': 0.394218, 'b': -0.012163} using model GPEI.\n",
      "[INFO 12-13 23:15:13] ax.service.ax_client: Generated new trial 32 with parameters {'a': 0.39425, 'b': -0.012182} using model GPEI.\n",
      "[INFO 12-13 23:15:13] ax.service.ax_client: Generated new trial 33 with parameters {'a': 0.39424, 'b': -0.012174} using model GPEI.\n",
      "[INFO 12-13 23:15:13] ax.service.ax_client: Generated new trial 34 with parameters {'a': 0.367346, 'b': 0.006303} using model GPEI.\n",
      "[INFO 12-13 23:15:13] ax.service.ax_client: Completed trial 30 with data: {'z': (0.080784, 0.0)}.\n",
      "[INFO 12-13 23:15:13] ax.service.ax_client: Completed trial 34 with data: {'z': (0.158945, 0.0)}.\n",
      "[INFO 12-13 23:15:13] ax.service.ax_client: Completed trial 32 with data: {'z': (0.08079, 0.0)}.\n",
      "[INFO 12-13 23:15:13] ax.service.ax_client: Completed trial 33 with data: {'z': (0.080813, 0.0)}.\n",
      "[INFO 12-13 23:15:13] ax.service.ax_client: Completed trial 31 with data: {'z': (0.080857, 0.0)}.\n"
     ]
    },
    {
     "name": "stdout",
     "output_type": "stream",
     "text": [
      "Using GPEI (Exploitation)\n"
     ]
    },
    {
     "name": "stderr",
     "output_type": "stream",
     "text": [
      "[INFO 12-13 23:15:15] ax.service.ax_client: Generated new trial 35 with parameters {'a': 0.367352, 'b': 0.0063} using model GPEI.\n",
      "[INFO 12-13 23:15:15] ax.service.ax_client: Generated new trial 36 with parameters {'a': 0.360761, 'b': -0.003626} using model GPEI.\n",
      "[INFO 12-13 23:15:15] ax.service.ax_client: Generated new trial 37 with parameters {'a': 0.367346, 'b': 0.006303} using model GPEI.\n",
      "[INFO 12-13 23:15:15] ax.service.ax_client: Generated new trial 38 with parameters {'a': 0.367345, 'b': 0.006304} using model GPEI.\n",
      "[INFO 12-13 23:15:16] ax.service.ax_client: Generated new trial 39 with parameters {'a': 0.335501, 'b': 0.03567} using model GPEI.\n",
      "[INFO 12-13 23:15:16] ax.service.ax_client: Completed trial 39 with data: {'z': (0.324671, 0.0)}.\n",
      "[INFO 12-13 23:15:16] ax.service.ax_client: Completed trial 35 with data: {'z': (0.158927, 0.0)}.\n",
      "[INFO 12-13 23:15:16] ax.service.ax_client: Completed trial 38 with data: {'z': (0.158948, 0.0)}.\n",
      "[INFO 12-13 23:15:16] ax.service.ax_client: Completed trial 36 with data: {'z': (0.160553, 0.0)}.\n",
      "[INFO 12-13 23:15:16] ax.service.ax_client: Completed trial 37 with data: {'z': (0.158946, 0.0)}.\n",
      "[INFO 12-13 23:15:16] ax.service.ax_client: Starting optimization with verbose logging. To disable logging, set the `verbose_logging` argument to `False`. Note that float values in the logs are rounded to 6 decimal points.\n",
      "[INFO 12-13 23:15:16] ax.service.utils.instantiation: Inferred value type of ParameterType.FLOAT for parameter a. If that is not the expected value type, you can explicitly specify 'value_type' ('int', 'float', 'bool' or 'str') in parameter dict.\n",
      "[INFO 12-13 23:15:16] ax.service.utils.instantiation: Inferred value type of ParameterType.FLOAT for parameter b. If that is not the expected value type, you can explicitly specify 'value_type' ('int', 'float', 'bool' or 'str') in parameter dict.\n",
      "[INFO 12-13 23:15:16] ax.service.utils.instantiation: Created search space: SearchSpace(parameters=[RangeParameter(name='a', parameter_type=FLOAT, range=[-1.0, 1.0]), RangeParameter(name='b', parameter_type=FLOAT, range=[-1.0, 1.0])], parameter_constraints=[]).\n",
      "[INFO 12-13 23:15:16] ax.service.ax_client: Generated new trial 0 with parameters {'a': 0.010608, 'b': -0.03919} using model Sobol.\n",
      "[INFO 12-13 23:15:16] ax.service.ax_client: Completed trial 0 with data: {'z': (0.063155, 0.0)}.\n",
      "[INFO 12-13 23:15:16] ax.service.ax_client: Generated new trial 1 with parameters {'a': -0.450284, 'b': 0.653368} using model Sobol.\n",
      "[INFO 12-13 23:15:16] ax.service.ax_client: Completed trial 1 with data: {'z': (0.0, 0.0)}.\n",
      "[INFO 12-13 23:15:16] ax.service.ax_client: Generated new trial 2 with parameters {'a': -0.532065, 'b': -0.65705} using model Sobol.\n",
      "[INFO 12-13 23:15:16] ax.service.ax_client: Completed trial 2 with data: {'z': (0.0, 0.0)}.\n",
      "[INFO 12-13 23:15:16] ax.service.ax_client: Generated new trial 3 with parameters {'a': 0.975702, 'b': 0.021472} using model Sobol.\n",
      "[INFO 12-13 23:15:16] ax.service.ax_client: Completed trial 3 with data: {'z': (0.0, 0.0)}.\n",
      "[INFO 12-13 23:15:16] ax.service.ax_client: Generated new trial 4 with parameters {'a': 0.543314, 'b': -0.862599} using model Sobol.\n",
      "[INFO 12-13 23:15:16] ax.service.ax_client: Completed trial 4 with data: {'z': (0.0, 0.0)}.\n",
      "[INFO 12-13 23:15:16] ax.service.ax_client: Generated new trial 5 with parameters {'a': -0.980046, 'b': 0.443726} using model Sobol.\n",
      "[INFO 12-13 23:15:16] ax.service.ax_client: Completed trial 5 with data: {'z': (0.0, 0.0)}.\n",
      "[INFO 12-13 23:15:16] ax.service.ax_client: Generated new trial 6 with parameters {'a': -0.006179, 'b': -0.49584} using model Sobol.\n",
      "[INFO 12-13 23:15:16] ax.service.ax_client: Completed trial 6 with data: {'z': (0.0, 0.0)}.\n",
      "[INFO 12-13 23:15:16] ax.service.ax_client: Generated new trial 7 with parameters {'a': 0.439057, 'b': 0.826723} using model Sobol.\n",
      "[INFO 12-13 23:15:16] ax.service.ax_client: Completed trial 7 with data: {'z': (0.0, 0.0)}.\n",
      "[INFO 12-13 23:15:16] ax.service.ax_client: Generated new trial 8 with parameters {'a': 0.254111, 'b': -0.590661} using model Sobol.\n",
      "[INFO 12-13 23:15:16] ax.service.ax_client: Completed trial 8 with data: {'z': (0.0, 0.0)}.\n",
      "[INFO 12-13 23:15:16] ax.service.ax_client: Generated new trial 9 with parameters {'a': -0.191399, 'b': 0.228497} using model Sobol.\n",
      "[INFO 12-13 23:15:16] ax.service.ax_client: Completed trial 9 with data: {'z': (0.000206, 0.0)}.\n",
      "[INFO 12-13 23:15:16] ax.service.ax_client: Generated new trial 10 with parameters {'a': -0.795153, 'b': -0.207178} using model Sobol.\n",
      "[INFO 12-13 23:15:16] ax.service.ax_client: Completed trial 10 with data: {'z': (0.0, 0.0)}.\n",
      "[INFO 12-13 23:15:16] ax.service.ax_client: Generated new trial 11 with parameters {'a': 0.728483, 'b': 0.59477} using model Sobol.\n"
     ]
    },
    {
     "name": "stdout",
     "output_type": "stream",
     "text": [
      "Batch size 5: Async time: 14.856739400000151, Error: 0.6753285175406929\n"
     ]
    },
    {
     "name": "stderr",
     "output_type": "stream",
     "text": [
      "[INFO 12-13 23:15:16] ax.service.ax_client: Completed trial 11 with data: {'z': (0.0, 0.0)}.\n",
      "[INFO 12-13 23:15:16] ax.service.ax_client: Generated new trial 12 with parameters {'a': 0.783889, 'b': -0.257548} using model Sobol.\n",
      "[INFO 12-13 23:15:16] ax.service.ax_client: Completed trial 12 with data: {'z': (0.0, 0.0)}.\n",
      "[INFO 12-13 23:15:16] ax.service.ax_client: Generated new trial 13 with parameters {'a': -0.724092, 'b': 0.924406} using model Sobol.\n",
      "[INFO 12-13 23:15:16] ax.service.ax_client: Completed trial 13 with data: {'z': (0.0, 0.0)}.\n",
      "[INFO 12-13 23:15:16] ax.service.ax_client: Generated new trial 14 with parameters {'a': -0.258526, 'b': -0.889934} using model Sobol.\n",
      "[INFO 12-13 23:15:16] ax.service.ax_client: Completed trial 14 with data: {'z': (0.0, 0.0)}.\n",
      "[INFO 12-13 23:15:16] ax.service.ax_client: Generated new trial 15 with parameters {'a': 0.20258, 'b': 0.307037} using model Sobol.\n",
      "[INFO 12-13 23:15:16] ax.service.ax_client: Completed trial 15 with data: {'z': (0.117239, 0.0)}.\n",
      "[INFO 12-13 23:15:16] ax.service.ax_client: Generated new trial 16 with parameters {'a': 0.150422, 'b': -0.994097} using model Sobol.\n",
      "[INFO 12-13 23:15:16] ax.service.ax_client: Completed trial 16 with data: {'z': (0.0, 0.0)}.\n",
      "[INFO 12-13 23:15:16] ax.service.ax_client: Generated new trial 17 with parameters {'a': -0.341566, 'b': 0.325048} using model Sobol.\n",
      "[INFO 12-13 23:15:16] ax.service.ax_client: Completed trial 17 with data: {'z': (0.0, 0.0)}.\n",
      "[INFO 12-13 23:15:16] ax.service.ax_client: Generated new trial 18 with parameters {'a': -0.671879, 'b': -0.36037} using model Sobol.\n",
      "[INFO 12-13 23:15:16] ax.service.ax_client: Completed trial 18 with data: {'z': (0.0, 0.0)}.\n",
      "[INFO 12-13 23:15:16] ax.service.ax_client: Generated new trial 19 with parameters {'a': 0.866985, 'b': 0.941566} using model Sobol.\n",
      "[INFO 12-13 23:15:16] ax.service.ax_client: Completed trial 19 with data: {'z': (0.0, 0.0)}.\n"
     ]
    },
    {
     "name": "stdout",
     "output_type": "stream",
     "text": [
      "Using GPEI (Exploitation)\n"
     ]
    },
    {
     "name": "stderr",
     "output_type": "stream",
     "text": [
      "[INFO 12-13 23:15:18] ax.service.ax_client: Generated new trial 20 with parameters {'a': 0.179691, 'b': 0.203392} using model GPEI.\n",
      "[INFO 12-13 23:15:18] ax.service.ax_client: Generated new trial 21 with parameters {'a': 0.179661, 'b': 0.203589} using model GPEI.\n",
      "[INFO 12-13 23:15:18] ax.service.ax_client: Generated new trial 22 with parameters {'a': 0.179635, 'b': 0.203756} using model GPEI.\n",
      "[INFO 12-13 23:15:18] ax.service.ax_client: Generated new trial 23 with parameters {'a': 0.179658, 'b': 0.203608} using model GPEI.\n",
      "[INFO 12-13 23:15:19] ax.service.ax_client: Generated new trial 24 with parameters {'a': 0.179682, 'b': 0.203451} using model GPEI.\n",
      "[INFO 12-13 23:15:19] ax.service.ax_client: Completed trial 20 with data: {'z': (0.574005, 0.0)}.\n",
      "[INFO 12-13 23:15:19] ax.service.ax_client: Completed trial 22 with data: {'z': (0.571779, 0.0)}.\n",
      "[INFO 12-13 23:15:19] ax.service.ax_client: Completed trial 24 with data: {'z': (0.573641, 0.0)}.\n",
      "[INFO 12-13 23:15:19] ax.service.ax_client: Completed trial 21 with data: {'z': (0.5728, 0.0)}.\n",
      "[INFO 12-13 23:15:19] ax.service.ax_client: Completed trial 23 with data: {'z': (0.572686, 0.0)}.\n"
     ]
    },
    {
     "name": "stdout",
     "output_type": "stream",
     "text": [
      "Using GPEI (Exploitation)\n"
     ]
    },
    {
     "name": "stderr",
     "output_type": "stream",
     "text": [
      "[INFO 12-13 23:15:21] ax.service.ax_client: Generated new trial 25 with parameters {'a': 0.179663, 'b': 0.203576} using model GPEI.\n",
      "[INFO 12-13 23:15:21] ax.service.ax_client: Generated new trial 26 with parameters {'a': 0.179655, 'b': 0.203622} using model GPEI.\n",
      "[INFO 12-13 23:15:21] ax.service.ax_client: Generated new trial 27 with parameters {'a': 0.17963, 'b': 0.203787} using model GPEI.\n",
      "[INFO 12-13 23:15:21] ax.service.ax_client: Generated new trial 28 with parameters {'a': 0.149265, 'b': 0.299546} using model GPEI.\n",
      "[INFO 12-13 23:15:22] ax.service.ax_client: Generated new trial 29 with parameters {'a': 0.195025, 'b': 0.172365} using model GPEI.\n",
      "[INFO 12-13 23:15:22] ax.service.ax_client: Completed trial 28 with data: {'z': (0.120076, 0.0)}.\n",
      "[INFO 12-13 23:15:22] ax.service.ax_client: Completed trial 25 with data: {'z': (0.572882, 0.0)}.\n",
      "[INFO 12-13 23:15:22] ax.service.ax_client: Completed trial 27 with data: {'z': (0.571592, 0.0)}.\n",
      "[INFO 12-13 23:15:22] ax.service.ax_client: Completed trial 26 with data: {'z': (0.572596, 0.0)}.\n",
      "[INFO 12-13 23:15:22] ax.service.ax_client: Completed trial 29 with data: {'z': (0.768684, 0.0)}.\n"
     ]
    },
    {
     "name": "stdout",
     "output_type": "stream",
     "text": [
      "Using qNIPV (Exploration)\n"
     ]
    },
    {
     "name": "stderr",
     "output_type": "stream",
     "text": [
      "[INFO 12-13 23:15:24] ax.service.ax_client: Generated new trial 30 with parameters {'a': 0.195014, 'b': 0.172362} using model GPEI.\n",
      "[INFO 12-13 23:15:25] ax.service.ax_client: Generated new trial 31 with parameters {'a': 0.276445, 'b': 0.130408} using model GPEI.\n",
      "[INFO 12-13 23:15:26] ax.service.ax_client: Generated new trial 32 with parameters {'a': 0.281239, 'b': 0.175568} using model GPEI.\n",
      "[INFO 12-13 23:15:26] ax.service.ax_client: Generated new trial 33 with parameters {'a': 0.195332, 'b': 0.17219} using model GPEI.\n",
      "[INFO 12-13 23:15:26] ax.service.ax_client: Generated new trial 34 with parameters {'a': 0.283072, 'b': 0.174904} using model GPEI.\n",
      "[INFO 12-13 23:15:26] ax.service.ax_client: Completed trial 32 with data: {'z': (0.540364, 0.0)}.\n",
      "[INFO 12-13 23:15:26] ax.service.ax_client: Completed trial 31 with data: {'z': (0.712893, 0.0)}.\n",
      "[INFO 12-13 23:15:26] ax.service.ax_client: Completed trial 34 with data: {'z': (0.534952, 0.0)}.\n",
      "[INFO 12-13 23:15:26] ax.service.ax_client: Completed trial 33 with data: {'z': (0.769773, 0.0)}.\n",
      "[INFO 12-13 23:15:26] ax.service.ax_client: Completed trial 30 with data: {'z': (0.768701, 0.0)}.\n"
     ]
    },
    {
     "name": "stdout",
     "output_type": "stream",
     "text": [
      "Using GPEI (Exploitation)\n"
     ]
    },
    {
     "name": "stderr",
     "output_type": "stream",
     "text": [
      "[INFO 12-13 23:15:28] ax.service.ax_client: Generated new trial 35 with parameters {'a': 0.27669, 'b': 0.130383} using model GPEI.\n",
      "[INFO 12-13 23:15:28] ax.service.ax_client: Generated new trial 36 with parameters {'a': 0.111903, 'b': 0.549815} using model GPEI.\n",
      "[INFO 12-13 23:15:29] ax.service.ax_client: Generated new trial 37 with parameters {'a': 0.172623, 'b': 0.12304} using model GPEI.\n",
      "[INFO 12-13 23:15:29] ax.service.ax_client: Generated new trial 38 with parameters {'a': 0.276692, 'b': 0.130381} using model GPEI.\n",
      "[INFO 12-13 23:15:29] ax.service.ax_client: Generated new trial 39 with parameters {'a': 0.384942, 'b': 0.137959} using model GPEI.\n",
      "[INFO 12-13 23:15:29] ax.service.ax_client: Completed trial 36 with data: {'z': (2.7e-05, 0.0)}.\n",
      "[INFO 12-13 23:15:29] ax.service.ax_client: Completed trial 39 with data: {'z': (0.168263, 0.0)}.\n",
      "[INFO 12-13 23:15:29] ax.service.ax_client: Completed trial 38 with data: {'z': (0.711606, 0.0)}.\n",
      "[INFO 12-13 23:15:29] ax.service.ax_client: Completed trial 37 with data: {'z': (0.937991, 0.0)}.\n",
      "[INFO 12-13 23:15:29] ax.service.ax_client: Completed trial 35 with data: {'z': (0.711612, 0.0)}.\n",
      "[INFO 12-13 23:15:29] ax.service.ax_client: Starting optimization with verbose logging. To disable logging, set the `verbose_logging` argument to `False`. Note that float values in the logs are rounded to 6 decimal points.\n",
      "[INFO 12-13 23:15:29] ax.service.utils.instantiation: Inferred value type of ParameterType.FLOAT for parameter a. If that is not the expected value type, you can explicitly specify 'value_type' ('int', 'float', 'bool' or 'str') in parameter dict.\n",
      "[INFO 12-13 23:15:29] ax.service.utils.instantiation: Inferred value type of ParameterType.FLOAT for parameter b. If that is not the expected value type, you can explicitly specify 'value_type' ('int', 'float', 'bool' or 'str') in parameter dict.\n",
      "[INFO 12-13 23:15:29] ax.service.utils.instantiation: Created search space: SearchSpace(parameters=[RangeParameter(name='a', parameter_type=FLOAT, range=[-1.0, 1.0]), RangeParameter(name='b', parameter_type=FLOAT, range=[-1.0, 1.0])], parameter_constraints=[]).\n",
      "[INFO 12-13 23:15:29] ax.service.ax_client: Generated new trial 0 with parameters {'a': 0.95954, 'b': -0.01086} using model Sobol.\n",
      "[INFO 12-13 23:15:29] ax.service.ax_client: Completed trial 0 with data: {'z': (0.0, 0.0)}.\n",
      "[INFO 12-13 23:15:29] ax.service.ax_client: Generated new trial 1 with parameters {'a': -0.713419, 'b': 0.044611} using model Sobol.\n",
      "[INFO 12-13 23:15:29] ax.service.ax_client: Completed trial 1 with data: {'z': (0.0, 0.0)}.\n",
      "[INFO 12-13 23:15:29] ax.service.ax_client: Generated new trial 2 with parameters {'a': -0.227198, 'b': -0.911577} using model Sobol.\n",
      "[INFO 12-13 23:15:29] ax.service.ax_client: Completed trial 2 with data: {'z': (0.0, 0.0)}.\n",
      "[INFO 12-13 23:15:29] ax.service.ax_client: Generated new trial 3 with parameters {'a': 0.473378, 'b': 0.878681} using model Sobol.\n",
      "[INFO 12-13 23:15:29] ax.service.ax_client: Completed trial 3 with data: {'z': (0.0, 0.0)}.\n",
      "[INFO 12-13 23:15:29] ax.service.ax_client: Generated new trial 4 with parameters {'a': 0.115233, 'b': -0.643349} using model Sobol.\n",
      "[INFO 12-13 23:15:29] ax.service.ax_client: Completed trial 4 with data: {'z': (0.0, 0.0)}.\n",
      "[INFO 12-13 23:15:29] ax.service.ax_client: Generated new trial 5 with parameters {'a': -0.369035, 'b': 0.676249} using model Sobol.\n",
      "[INFO 12-13 23:15:29] ax.service.ax_client: Completed trial 5 with data: {'z': (0.0, 0.0)}.\n",
      "[INFO 12-13 23:15:29] ax.service.ax_client: Generated new trial 6 with parameters {'a': -0.824008, 'b': -0.309206} using model Sobol.\n",
      "[INFO 12-13 23:15:29] ax.service.ax_client: Completed trial 6 with data: {'z': (0.0, 0.0)}.\n",
      "[INFO 12-13 23:15:29] ax.service.ax_client: Generated new trial 7 with parameters {'a': 0.570142, 'b': 0.275452} using model Sobol.\n",
      "[INFO 12-13 23:15:29] ax.service.ax_client: Completed trial 7 with data: {'z': (0.000227, 0.0)}.\n",
      "[INFO 12-13 23:15:29] ax.service.ax_client: Generated new trial 8 with parameters {'a': 0.631261, 'b': -0.775589} using model Sobol.\n",
      "[INFO 12-13 23:15:29] ax.service.ax_client: Completed trial 8 with data: {'z': (0.0, 0.0)}.\n",
      "[INFO 12-13 23:15:29] ax.service.ax_client: Generated new trial 9 with parameters {'a': -0.885203, 'b': 0.809095} using model Sobol.\n",
      "[INFO 12-13 23:15:29] ax.service.ax_client: Completed trial 9 with data: {'z': (0.0, 0.0)}.\n",
      "[INFO 12-13 23:15:29] ax.service.ax_client: Generated new trial 10 with parameters {'a': -0.430048, 'b': -0.176122} using model Sobol.\n",
      "[INFO 12-13 23:15:29] ax.service.ax_client: Completed trial 10 with data: {'z': (0.0, 0.0)}.\n",
      "[INFO 12-13 23:15:29] ax.service.ax_client: Generated new trial 11 with parameters {'a': 0.176047, 'b': 0.143471} using model Sobol.\n",
      "[INFO 12-13 23:15:29] ax.service.ax_client: Completed trial 11 with data: {'z': (0.884112, 0.0)}.\n"
     ]
    },
    {
     "name": "stdout",
     "output_type": "stream",
     "text": [
      "Batch size 5: Async time: 13.487647899999502, Error: 0.062009286784892925\n"
     ]
    },
    {
     "name": "stderr",
     "output_type": "stream",
     "text": [
      "[INFO 12-13 23:15:29] ax.service.ax_client: Generated new trial 12 with parameters {'a': 0.286161, 'b': -0.378811} using model Sobol.\n",
      "[INFO 12-13 23:15:29] ax.service.ax_client: Completed trial 12 with data: {'z': (7e-06, 0.0)}.\n",
      "[INFO 12-13 23:15:29] ax.service.ax_client: Generated new trial 13 with parameters {'a': -0.040149, 'b': 0.411467} using model Sobol.\n",
      "[INFO 12-13 23:15:29] ax.service.ax_client: Completed trial 13 with data: {'z': (0.000438, 0.0)}.\n",
      "[INFO 12-13 23:15:29] ax.service.ax_client: Generated new trial 14 with parameters {'a': -0.526552, 'b': -0.544485} using model Sobol.\n",
      "[INFO 12-13 23:15:29] ax.service.ax_client: Completed trial 14 with data: {'z': (0.0, 0.0)}.\n",
      "[INFO 12-13 23:15:29] ax.service.ax_client: Generated new trial 15 with parameters {'a': 0.772627, 'b': 0.510975} using model Sobol.\n",
      "[INFO 12-13 23:15:29] ax.service.ax_client: Completed trial 15 with data: {'z': (0.0, 0.0)}.\n",
      "[INFO 12-13 23:15:29] ax.service.ax_client: Generated new trial 16 with parameters {'a': 0.84798, 'b': -0.575636} using model Sobol.\n",
      "[INFO 12-13 23:15:29] ax.service.ax_client: Completed trial 16 with data: {'z': (0.0, 0.0)}.\n",
      "[INFO 12-13 23:15:29] ax.service.ax_client: Generated new trial 17 with parameters {'a': -0.601864, 'b': 0.605236} using model Sobol.\n",
      "[INFO 12-13 23:15:29] ax.service.ax_client: Completed trial 17 with data: {'z': (0.0, 0.0)}.\n",
      "[INFO 12-13 23:15:29] ax.service.ax_client: Generated new trial 18 with parameters {'a': -0.088272, 'b': -0.471775} using model Sobol.\n",
      "[INFO 12-13 23:15:29] ax.service.ax_client: Completed trial 18 with data: {'z': (0.0, 0.0)}.\n",
      "[INFO 12-13 23:15:29] ax.service.ax_client: Generated new trial 19 with parameters {'a': 0.334443, 'b': 0.44303} using model Sobol.\n",
      "[INFO 12-13 23:15:29] ax.service.ax_client: Completed trial 19 with data: {'z': (0.001128, 0.0)}.\n"
     ]
    },
    {
     "name": "stdout",
     "output_type": "stream",
     "text": [
      "Using GPEI (Exploitation)\n"
     ]
    },
    {
     "name": "stderr",
     "output_type": "stream",
     "text": [
      "[INFO 12-13 23:15:33] ax.service.ax_client: Generated new trial 20 with parameters {'a': 0.656601, 'b': 0.155868} using model GPEI.\n",
      "[INFO 12-13 23:15:34] ax.service.ax_client: Generated new trial 21 with parameters {'a': 0.652449, 'b': 0.155863} using model GPEI.\n",
      "[INFO 12-13 23:15:34] ax.service.ax_client: Generated new trial 22 with parameters {'a': 0.652576, 'b': 0.155863} using model GPEI.\n",
      "[INFO 12-13 23:15:34] ax.service.ax_client: Generated new trial 23 with parameters {'a': 0.652665, 'b': 0.15586} using model GPEI.\n",
      "[INFO 12-13 23:15:34] ax.service.ax_client: Generated new trial 24 with parameters {'a': 0.652613, 'b': 0.155862} using model GPEI.\n",
      "[INFO 12-13 23:15:34] ax.service.ax_client: Completed trial 21 with data: {'z': (3.1e-05, 0.0)}.\n",
      "[INFO 12-13 23:15:34] ax.service.ax_client: Completed trial 24 with data: {'z': (3e-05, 0.0)}.\n",
      "[INFO 12-13 23:15:34] ax.service.ax_client: Completed trial 22 with data: {'z': (3.1e-05, 0.0)}.\n",
      "[INFO 12-13 23:15:34] ax.service.ax_client: Completed trial 23 with data: {'z': (3e-05, 0.0)}.\n",
      "[INFO 12-13 23:15:34] ax.service.ax_client: Completed trial 20 with data: {'z': (2.5e-05, 0.0)}.\n"
     ]
    },
    {
     "name": "stdout",
     "output_type": "stream",
     "text": [
      "Using GPEI (Exploitation)\n"
     ]
    },
    {
     "name": "stderr",
     "output_type": "stream",
     "text": [
      "[INFO 12-13 23:15:36] ax.service.ax_client: Generated new trial 25 with parameters {'a': 0.151293, 'b': 0.110274} using model GPEI.\n",
      "[INFO 12-13 23:15:37] ax.service.ax_client: Generated new trial 26 with parameters {'a': -0.550817, 'b': 0.154837} using model GPEI.\n",
      "[INFO 12-13 23:15:38] ax.service.ax_client: Generated new trial 27 with parameters {'a': 0.653106, 'b': 0.155863} using model GPEI.\n",
      "[INFO 12-13 23:15:38] ax.service.ax_client: Generated new trial 28 with parameters {'a': -0.558009, 'b': 0.154407} using model GPEI.\n",
      "[INFO 12-13 23:15:38] ax.service.ax_client: Generated new trial 29 with parameters {'a': 0.658042, 'b': 0.155871} using model GPEI.\n",
      "[INFO 12-13 23:15:38] ax.service.ax_client: Completed trial 25 with data: {'z': (0.88347, 0.0)}.\n",
      "[INFO 12-13 23:15:38] ax.service.ax_client: Completed trial 27 with data: {'z': (3e-05, 0.0)}.\n",
      "[INFO 12-13 23:15:38] ax.service.ax_client: Completed trial 28 with data: {'z': (0.0, 0.0)}.\n",
      "[INFO 12-13 23:15:38] ax.service.ax_client: Completed trial 29 with data: {'z': (2.4e-05, 0.0)}.\n",
      "[INFO 12-13 23:15:38] ax.service.ax_client: Completed trial 26 with data: {'z': (0.0, 0.0)}.\n"
     ]
    },
    {
     "name": "stdout",
     "output_type": "stream",
     "text": [
      "Using GPEI (Exploitation)\n"
     ]
    },
    {
     "name": "stderr",
     "output_type": "stream",
     "text": [
      "[INFO 12-13 23:15:41] ax.service.ax_client: Generated new trial 30 with parameters {'a': 0.197682, 'b': 0.10399} using model GPEI.\n",
      "[INFO 12-13 23:15:41] ax.service.ax_client: Generated new trial 31 with parameters {'a': 0.15122, 'b': 0.110173} using model GPEI.\n",
      "[INFO 12-13 23:15:41] ax.service.ax_client: Generated new trial 32 with parameters {'a': 0.134955, 'b': 0.157699} using model GPEI.\n",
      "[INFO 12-13 23:15:41] ax.service.ax_client: Generated new trial 33 with parameters {'a': 0.151309, 'b': 0.110296} using model GPEI.\n",
      "[INFO 12-13 23:15:42] ax.service.ax_client: Generated new trial 34 with parameters {'a': 0.135028, 'b': 0.157729} using model GPEI.\n",
      "[INFO 12-13 23:15:42] ax.service.ax_client: Completed trial 30 with data: {'z': (0.998936, 0.0)}.\n",
      "[INFO 12-13 23:15:42] ax.service.ax_client: Completed trial 33 with data: {'z': (0.883519, 0.0)}.\n",
      "[INFO 12-13 23:15:42] ax.service.ax_client: Completed trial 32 with data: {'z': (0.685232, 0.0)}.\n",
      "[INFO 12-13 23:15:42] ax.service.ax_client: Completed trial 31 with data: {'z': (0.883249, 0.0)}.\n",
      "[INFO 12-13 23:15:42] ax.service.ax_client: Completed trial 34 with data: {'z': (0.685435, 0.0)}.\n"
     ]
    },
    {
     "name": "stdout",
     "output_type": "stream",
     "text": [
      "Using GPEI (Exploitation)\n"
     ]
    },
    {
     "name": "stderr",
     "output_type": "stream",
     "text": [
      "[INFO 12-13 23:15:43] ax.service.ax_client: Generated new trial 35 with parameters {'a': -1.0, 'b': -1.0} using model GPEI.\n",
      "[INFO 12-13 23:15:43] ax.service.ax_client: Generated new trial 36 with parameters {'a': 0.197623, 'b': 0.104035} using model GPEI.\n",
      "[INFO 12-13 23:15:44] ax.service.ax_client: Generated new trial 37 with parameters {'a': 0.197581, 'b': 0.104071} using model GPEI.\n",
      "[INFO 12-13 23:15:44] ax.service.ax_client: Generated new trial 38 with parameters {'a': 0.198018, 'b': 0.103715} using model GPEI.\n",
      "[INFO 12-13 23:15:45] ax.service.ax_client: Generated new trial 39 with parameters {'a': 0.162178, 'b': 0.1286} using model GPEI.\n",
      "[INFO 12-13 23:15:45] ax.service.ax_client: Completed trial 35 with data: {'z': (0.0, 0.0)}.\n",
      "[INFO 12-13 23:15:45] ax.service.ax_client: Completed trial 39 with data: {'z': (0.893667, 0.0)}.\n",
      "[INFO 12-13 23:15:45] ax.service.ax_client: Completed trial 38 with data: {'z': (0.999114, 0.0)}.\n",
      "[INFO 12-13 23:15:45] ax.service.ax_client: Completed trial 36 with data: {'z': (0.998904, 0.0)}.\n",
      "[INFO 12-13 23:15:45] ax.service.ax_client: Completed trial 37 with data: {'z': (0.99888, 0.0)}.\n",
      "[INFO 12-13 23:15:45] ax.service.ax_client: Starting optimization with verbose logging. To disable logging, set the `verbose_logging` argument to `False`. Note that float values in the logs are rounded to 6 decimal points.\n",
      "[INFO 12-13 23:15:45] ax.service.utils.instantiation: Inferred value type of ParameterType.FLOAT for parameter a. If that is not the expected value type, you can explicitly specify 'value_type' ('int', 'float', 'bool' or 'str') in parameter dict.\n",
      "[INFO 12-13 23:15:45] ax.service.utils.instantiation: Inferred value type of ParameterType.FLOAT for parameter b. If that is not the expected value type, you can explicitly specify 'value_type' ('int', 'float', 'bool' or 'str') in parameter dict.\n",
      "[INFO 12-13 23:15:45] ax.service.utils.instantiation: Created search space: SearchSpace(parameters=[RangeParameter(name='a', parameter_type=FLOAT, range=[-1.0, 1.0]), RangeParameter(name='b', parameter_type=FLOAT, range=[-1.0, 1.0])], parameter_constraints=[]).\n",
      "[INFO 12-13 23:15:45] ax.service.ax_client: Generated new trial 0 with parameters {'a': 0.146697, 'b': -0.995673} using model Sobol.\n",
      "[INFO 12-13 23:15:45] ax.service.ax_client: Completed trial 0 with data: {'z': (0.0, 0.0)}.\n",
      "[INFO 12-13 23:15:45] ax.service.ax_client: Generated new trial 1 with parameters {'a': -0.283738, 'b': 0.777286} using model Sobol.\n",
      "[INFO 12-13 23:15:45] ax.service.ax_client: Completed trial 1 with data: {'z': (0.0, 0.0)}.\n",
      "[INFO 12-13 23:15:45] ax.service.ax_client: Generated new trial 2 with parameters {'a': -0.779264, 'b': -0.326425} using model Sobol.\n",
      "[INFO 12-13 23:15:45] ax.service.ax_client: Completed trial 2 with data: {'z': (0.0, 0.0)}.\n",
      "[INFO 12-13 23:15:45] ax.service.ax_client: Generated new trial 3 with parameters {'a': 0.665332, 'b': 0.420056} using model Sobol.\n",
      "[INFO 12-13 23:15:45] ax.service.ax_client: Completed trial 3 with data: {'z': (0.0, 0.0)}.\n",
      "[INFO 12-13 23:15:45] ax.service.ax_client: Generated new trial 4 with parameters {'a': 0.850765, 'b': -0.183435} using model Sobol.\n",
      "[INFO 12-13 23:15:45] ax.service.ax_client: Completed trial 4 with data: {'z': (0.0, 0.0)}.\n",
      "[INFO 12-13 23:15:45] ax.service.ax_client: Generated new trial 5 with parameters {'a': -0.706625, 'b': 0.089567} using model Sobol.\n",
      "[INFO 12-13 23:15:45] ax.service.ax_client: Completed trial 5 with data: {'z': (0.0, 0.0)}.\n",
      "[INFO 12-13 23:15:45] ax.service.ax_client: Generated new trial 6 with parameters {'a': -0.231377, 'b': -0.513693} using model Sobol.\n",
      "[INFO 12-13 23:15:45] ax.service.ax_client: Completed trial 6 with data: {'z': (0.0, 0.0)}.\n",
      "[INFO 12-13 23:15:45] ax.service.ax_client: Generated new trial 7 with parameters {'a': 0.336264, 'b': 0.732805} using model Sobol.\n",
      "[INFO 12-13 23:15:45] ax.service.ax_client: Completed trial 7 with data: {'z': (0.0, 0.0)}.\n",
      "[INFO 12-13 23:15:45] ax.service.ax_client: Generated new trial 8 with parameters {'a': 0.464112, 'b': -0.475127} using model Sobol.\n",
      "[INFO 12-13 23:15:45] ax.service.ax_client: Completed trial 8 with data: {'z': (0.0, 0.0)}.\n",
      "[INFO 12-13 23:15:45] ax.service.ax_client: Generated new trial 9 with parameters {'a': -0.109359, 'b': 0.25674} using model Sobol.\n",
      "[INFO 12-13 23:15:45] ax.service.ax_client: Completed trial 9 with data: {'z': (0.002445, 0.0)}.\n",
      "[INFO 12-13 23:15:45] ax.service.ax_client: Generated new trial 10 with parameters {'a': -0.578616, 'b': -0.831376} using model Sobol.\n",
      "[INFO 12-13 23:15:45] ax.service.ax_client: Completed trial 10 with data: {'z': (0.0, 0.0)}.\n"
     ]
    },
    {
     "name": "stdout",
     "output_type": "stream",
     "text": [
      "Batch size 5: Async time: 15.599686499999734, Error: 0.0008861686807194458\n"
     ]
    },
    {
     "name": "stderr",
     "output_type": "stream",
     "text": [
      "[INFO 12-13 23:15:45] ax.service.ax_client: Generated new trial 11 with parameters {'a': 0.972882, 'b': 0.925008} using model Sobol.\n",
      "[INFO 12-13 23:15:45] ax.service.ax_client: Completed trial 11 with data: {'z': (0.0, 0.0)}.\n",
      "[INFO 12-13 23:15:45] ax.service.ax_client: Generated new trial 12 with parameters {'a': 0.541355, 'b': -0.662843} using model Sobol.\n",
      "[INFO 12-13 23:15:45] ax.service.ax_client: Completed trial 12 with data: {'z': (0.0, 0.0)}.\n",
      "[INFO 12-13 23:15:45] ax.service.ax_client: Generated new trial 13 with parameters {'a': -0.905161, 'b': 0.568975} using model Sobol.\n",
      "[INFO 12-13 23:15:45] ax.service.ax_client: Completed trial 13 with data: {'z': (0.0, 0.0)}.\n",
      "[INFO 12-13 23:15:45] ax.service.ax_client: Generated new trial 14 with parameters {'a': -0.407813, 'b': -0.018629} using model Sobol.\n",
      "[INFO 12-13 23:15:45] ax.service.ax_client: Completed trial 14 with data: {'z': (0.0, 0.0)}.\n",
      "[INFO 12-13 23:15:45] ax.service.ax_client: Generated new trial 15 with parameters {'a': 0.020639, 'b': 0.237742} using model Sobol.\n",
      "[INFO 12-13 23:15:45] ax.service.ax_client: Completed trial 15 with data: {'z': (0.077524, 0.0)}.\n",
      "[INFO 12-13 23:15:45] ax.service.ax_client: Generated new trial 16 with parameters {'a': 0.110645, 'b': -0.103012} using model Sobol.\n",
      "[INFO 12-13 23:15:45] ax.service.ax_client: Completed trial 16 with data: {'z': (0.085443, 0.0)}.\n",
      "[INFO 12-13 23:15:45] ax.service.ax_client: Generated new trial 17 with parameters {'a': -0.443327, 'b': 0.133892} using model Sobol.\n",
      "[INFO 12-13 23:15:45] ax.service.ax_client: Completed trial 17 with data: {'z': (0.0, 0.0)}.\n",
      "[INFO 12-13 23:15:45] ax.service.ax_client: Generated new trial 18 with parameters {'a': -0.994675, 'b': -0.715485} using model Sobol.\n",
      "[INFO 12-13 23:15:45] ax.service.ax_client: Completed trial 18 with data: {'z': (0.0, 0.0)}.\n",
      "[INFO 12-13 23:15:45] ax.service.ax_client: Generated new trial 19 with parameters {'a': 0.576384, 'b': 0.559361} using model Sobol.\n",
      "[INFO 12-13 23:15:45] ax.service.ax_client: Completed trial 19 with data: {'z': (0.0, 0.0)}.\n"
     ]
    },
    {
     "name": "stdout",
     "output_type": "stream",
     "text": [
      "Using GPEI (Exploitation)\n"
     ]
    },
    {
     "name": "stderr",
     "output_type": "stream",
     "text": [
      "[INFO 12-13 23:15:46] ax.service.ax_client: Generated new trial 20 with parameters {'a': 0.085689, 'b': 0.134572} using model GPEI.\n",
      "[INFO 12-13 23:15:46] ax.service.ax_client: Completed trial 20 with data: {'z': (0.490115, 0.0)}.\n"
     ]
    },
    {
     "name": "stdout",
     "output_type": "stream",
     "text": [
      "Using GPEI (Exploitation)\n"
     ]
    },
    {
     "name": "stderr",
     "output_type": "stream",
     "text": [
      "[INFO 12-13 23:15:47] ax.service.ax_client: Generated new trial 21 with parameters {'a': 0.145597, 'b': 0.12733} using model GPEI.\n",
      "[INFO 12-13 23:15:47] ax.service.ax_client: Completed trial 21 with data: {'z': (0.830831, 0.0)}.\n"
     ]
    },
    {
     "name": "stdout",
     "output_type": "stream",
     "text": [
      "Using qNIPV (Exploration)\n"
     ]
    },
    {
     "name": "stderr",
     "output_type": "stream",
     "text": [
      "[INFO 12-13 23:15:48] ax.service.ax_client: Generated new trial 22 with parameters {'a': 0.160073, 'b': 0.155039} using model GPEI.\n",
      "[INFO 12-13 23:15:48] ax.service.ax_client: Completed trial 22 with data: {'z': (0.793602, 0.0)}.\n"
     ]
    },
    {
     "name": "stdout",
     "output_type": "stream",
     "text": [
      "Using qNIPV (Exploration)\n"
     ]
    },
    {
     "name": "stderr",
     "output_type": "stream",
     "text": [
      "[INFO 12-13 23:15:49] ax.service.ax_client: Generated new trial 23 with parameters {'a': 0.161205, 'b': 0.097584} using model GPEI.\n",
      "[INFO 12-13 23:15:49] ax.service.ax_client: Completed trial 23 with data: {'z': (0.927239, 0.0)}.\n"
     ]
    },
    {
     "name": "stdout",
     "output_type": "stream",
     "text": [
      "Using GPEI (Exploitation)\n"
     ]
    },
    {
     "name": "stderr",
     "output_type": "stream",
     "text": [
      "[INFO 12-13 23:15:50] ax.service.ax_client: Generated new trial 24 with parameters {'a': 0.190225, 'b': 0.087472} using model GPEI.\n",
      "[INFO 12-13 23:15:50] ax.service.ax_client: Completed trial 24 with data: {'z': (0.987455, 0.0)}.\n"
     ]
    },
    {
     "name": "stdout",
     "output_type": "stream",
     "text": [
      "Using GPEI (Exploitation)\n"
     ]
    },
    {
     "name": "stderr",
     "output_type": "stream",
     "text": [
      "[INFO 12-13 23:15:50] ax.service.ax_client: Generated new trial 25 with parameters {'a': 0.201095, 'b': 0.070492} using model GPEI.\n",
      "[INFO 12-13 23:15:50] ax.service.ax_client: Completed trial 25 with data: {'z': (0.95734, 0.0)}.\n"
     ]
    },
    {
     "name": "stdout",
     "output_type": "stream",
     "text": [
      "Using GPEI (Exploitation)\n"
     ]
    },
    {
     "name": "stderr",
     "output_type": "stream",
     "text": [
      "[INFO 12-13 23:15:51] ax.service.ax_client: Generated new trial 26 with parameters {'a': 0.211449, 'b': 0.104552} using model GPEI.\n",
      "[INFO 12-13 23:15:51] ax.service.ax_client: Completed trial 26 with data: {'z': (0.992439, 0.0)}.\n"
     ]
    },
    {
     "name": "stdout",
     "output_type": "stream",
     "text": [
      "Using GPEI (Exploitation)\n"
     ]
    },
    {
     "name": "stderr",
     "output_type": "stream",
     "text": [
      "[INFO 12-13 23:15:52] ax.service.ax_client: Generated new trial 27 with parameters {'a': 0.106315, 'b': -0.420172} using model GPEI.\n",
      "[INFO 12-13 23:15:52] ax.service.ax_client: Completed trial 27 with data: {'z': (1e-06, 0.0)}.\n"
     ]
    },
    {
     "name": "stdout",
     "output_type": "stream",
     "text": [
      "Using GPEI (Exploitation)\n"
     ]
    },
    {
     "name": "stderr",
     "output_type": "stream",
     "text": [
      "[INFO 12-13 23:15:52] ax.service.ax_client: Generated new trial 28 with parameters {'a': 1.0, 'b': -1.0} using model GPEI.\n",
      "[INFO 12-13 23:15:53] ax.service.ax_client: Completed trial 28 with data: {'z': (0.0, 0.0)}.\n"
     ]
    },
    {
     "name": "stdout",
     "output_type": "stream",
     "text": [
      "Using GPEI (Exploitation)\n"
     ]
    },
    {
     "name": "stderr",
     "output_type": "stream",
     "text": [
      "[INFO 12-13 23:15:53] ax.service.ax_client: Generated new trial 29 with parameters {'a': -0.724236, 'b': 1.0} using model GPEI.\n",
      "[INFO 12-13 23:15:53] ax.service.ax_client: Completed trial 29 with data: {'z': (0.0, 0.0)}.\n"
     ]
    },
    {
     "name": "stdout",
     "output_type": "stream",
     "text": [
      "Using qNIPV (Exploration)\n"
     ]
    },
    {
     "name": "stderr",
     "output_type": "stream",
     "text": [
      "[INFO 12-13 23:15:54] ax.service.ax_client: Generated new trial 30 with parameters {'a': 0.200047, 'b': 0.100214} using model GPEI.\n",
      "[INFO 12-13 23:15:54] ax.service.ax_client: Completed trial 30 with data: {'z': (0.999998, 0.0)}.\n"
     ]
    },
    {
     "name": "stdout",
     "output_type": "stream",
     "text": [
      "Using GPEI (Exploitation)\n"
     ]
    },
    {
     "name": "stderr",
     "output_type": "stream",
     "text": [
      "[INFO 12-13 23:15:55] ax.service.ax_client: Generated new trial 31 with parameters {'a': 1.0, 'b': -0.5756} using model GPEI.\n",
      "[INFO 12-13 23:15:55] ax.service.ax_client: Completed trial 31 with data: {'z': (0.0, 0.0)}.\n"
     ]
    },
    {
     "name": "stdout",
     "output_type": "stream",
     "text": [
      "Using GPEI (Exploitation)\n"
     ]
    },
    {
     "name": "stderr",
     "output_type": "stream",
     "text": [
      "[INFO 12-13 23:15:56] ax.service.ax_client: Generated new trial 32 with parameters {'a': 1.0, 'b': 0.211103} using model GPEI.\n",
      "[INFO 12-13 23:15:56] ax.service.ax_client: Completed trial 32 with data: {'z': (0.0, 0.0)}.\n"
     ]
    },
    {
     "name": "stdout",
     "output_type": "stream",
     "text": [
      "Using qNIPV (Exploration)\n"
     ]
    },
    {
     "name": "stderr",
     "output_type": "stream",
     "text": [
      "[INFO 12-13 23:15:57] ax.service.ax_client: Generated new trial 33 with parameters {'a': 0.046102, 'b': 1.0} using model GPEI.\n",
      "[INFO 12-13 23:15:57] ax.service.ax_client: Completed trial 33 with data: {'z': (0.0, 0.0)}.\n"
     ]
    },
    {
     "name": "stdout",
     "output_type": "stream",
     "text": [
      "Using qNIPV (Exploration)\n"
     ]
    },
    {
     "name": "stderr",
     "output_type": "stream",
     "text": [
      "[INFO 12-13 23:15:57] ax.service.ax_client: Generated new trial 34 with parameters {'a': -0.236617, 'b': -1.0} using model GPEI.\n",
      "[INFO 12-13 23:15:57] ax.service.ax_client: Completed trial 34 with data: {'z': (0.0, 0.0)}.\n"
     ]
    },
    {
     "name": "stdout",
     "output_type": "stream",
     "text": [
      "Using GPEI (Exploitation)\n"
     ]
    },
    {
     "name": "stderr",
     "output_type": "stream",
     "text": [
      "[INFO 12-13 23:15:58] ax.service.ax_client: Generated new trial 35 with parameters {'a': 0.598377, 'b': 1.0} using model GPEI.\n",
      "[INFO 12-13 23:15:58] ax.service.ax_client: Completed trial 35 with data: {'z': (0.0, 0.0)}.\n"
     ]
    },
    {
     "name": "stdout",
     "output_type": "stream",
     "text": [
      "Using GPEI (Exploitation)\n"
     ]
    },
    {
     "name": "stderr",
     "output_type": "stream",
     "text": [
      "[INFO 12-13 23:15:59] ax.service.ax_client: Generated new trial 36 with parameters {'a': -0.539894, 'b': 0.503695} using model GPEI.\n",
      "[INFO 12-13 23:15:59] ax.service.ax_client: Completed trial 36 with data: {'z': (0.0, 0.0)}.\n"
     ]
    },
    {
     "name": "stdout",
     "output_type": "stream",
     "text": [
      "Using GPEI (Exploitation)\n"
     ]
    },
    {
     "name": "stderr",
     "output_type": "stream",
     "text": [
      "[INFO 12-13 23:15:59] ax.service.ax_client: Generated new trial 37 with parameters {'a': 0.615177, 'b': -1.0} using model GPEI.\n",
      "[INFO 12-13 23:15:59] ax.service.ax_client: Completed trial 37 with data: {'z': (0.0, 0.0)}.\n"
     ]
    },
    {
     "name": "stdout",
     "output_type": "stream",
     "text": [
      "Using GPEI (Exploitation)\n"
     ]
    },
    {
     "name": "stderr",
     "output_type": "stream",
     "text": [
      "[INFO 12-13 23:16:00] ax.service.ax_client: Generated new trial 38 with parameters {'a': 1.0, 'b': 0.572081} using model GPEI.\n",
      "[INFO 12-13 23:16:00] ax.service.ax_client: Completed trial 38 with data: {'z': (0.0, 0.0)}.\n"
     ]
    },
    {
     "name": "stdout",
     "output_type": "stream",
     "text": [
      "Using GPEI (Exploitation)\n"
     ]
    },
    {
     "name": "stderr",
     "output_type": "stream",
     "text": [
      "[INFO 12-13 23:16:01] ax.service.ax_client: Generated new trial 39 with parameters {'a': 0.013173, 'b': 0.602594} using model GPEI.\n",
      "[INFO 12-13 23:16:01] ax.service.ax_client: Completed trial 39 with data: {'z': (1e-06, 0.0)}.\n",
      "[INFO 12-13 23:16:01] ax.service.ax_client: Starting optimization with verbose logging. To disable logging, set the `verbose_logging` argument to `False`. Note that float values in the logs are rounded to 6 decimal points.\n",
      "[INFO 12-13 23:16:01] ax.service.utils.instantiation: Inferred value type of ParameterType.FLOAT for parameter a. If that is not the expected value type, you can explicitly specify 'value_type' ('int', 'float', 'bool' or 'str') in parameter dict.\n",
      "[INFO 12-13 23:16:01] ax.service.utils.instantiation: Inferred value type of ParameterType.FLOAT for parameter b. If that is not the expected value type, you can explicitly specify 'value_type' ('int', 'float', 'bool' or 'str') in parameter dict.\n",
      "[INFO 12-13 23:16:01] ax.service.utils.instantiation: Created search space: SearchSpace(parameters=[RangeParameter(name='a', parameter_type=FLOAT, range=[-1.0, 1.0]), RangeParameter(name='b', parameter_type=FLOAT, range=[-1.0, 1.0])], parameter_constraints=[]).\n",
      "[INFO 12-13 23:16:01] ax.service.ax_client: Generated new trial 0 with parameters {'a': 0.432888, 'b': 0.922231} using model Sobol.\n",
      "[INFO 12-13 23:16:01] ax.service.ax_client: Completed trial 0 with data: {'z': (0.0, 0.0)}.\n",
      "[INFO 12-13 23:16:01] ax.service.ax_client: Generated new trial 1 with parameters {'a': -0.851812, 'b': -0.165212} using model Sobol.\n",
      "[INFO 12-13 23:16:01] ax.service.ax_client: Completed trial 1 with data: {'z': (0.0, 0.0)}.\n",
      "[INFO 12-13 23:16:01] ax.service.ax_client: Generated new trial 2 with parameters {'a': -0.328929, 'b': 0.068946} using model Sobol.\n",
      "[INFO 12-13 23:16:01] ax.service.ax_client: Completed trial 2 with data: {'z': (1e-06, 0.0)}.\n",
      "[INFO 12-13 23:16:01] ax.service.ax_client: Generated new trial 3 with parameters {'a': 0.878742, 'b': -0.843666} using model Sobol.\n",
      "[INFO 12-13 23:16:01] ax.service.ax_client: Completed trial 3 with data: {'z': (0.0, 0.0)}.\n",
      "[INFO 12-13 23:16:01] ax.service.ax_client: Generated new trial 4 with parameters {'a': 0.690851, 'b': 0.417779} using model Sobol.\n",
      "[INFO 12-13 23:16:01] ax.service.ax_client: Completed trial 4 with data: {'z': (0.0, 0.0)}.\n",
      "[INFO 12-13 23:16:01] ax.service.ax_client: Generated new trial 5 with parameters {'a': -0.016025, 'b': -0.674555} using model Sobol.\n",
      "[INFO 12-13 23:16:01] ax.service.ax_client: Completed trial 5 with data: {'z': (0.0, 0.0)}.\n",
      "[INFO 12-13 23:16:01] ax.service.ax_client: Generated new trial 6 with parameters {'a': -0.540021, 'b': 0.590862} using model Sobol.\n",
      "[INFO 12-13 23:16:01] ax.service.ax_client: Completed trial 6 with data: {'z': (0.0, 0.0)}.\n",
      "[INFO 12-13 23:16:01] ax.service.ax_client: Generated new trial 7 with parameters {'a': 0.246084, 'b': -0.316874} using model Sobol.\n",
      "[INFO 12-13 23:16:01] ax.service.ax_client: Completed trial 7 with data: {'z': (0.000151, 0.0)}.\n",
      "[INFO 12-13 23:16:01] ax.service.ax_client: Generated new trial 8 with parameters {'a': 0.094517, 'b': 0.190634} using model Sobol.\n",
      "[INFO 12-13 23:16:01] ax.service.ax_client: Completed trial 8 with data: {'z': (0.3802, 0.0)}.\n",
      "[INFO 12-13 23:16:01] ax.service.ax_client: Generated new trial 9 with parameters {'a': -0.675596, 'b': -0.963154} using model Sobol.\n",
      "[INFO 12-13 23:16:01] ax.service.ax_client: Completed trial 9 with data: {'z': (0.0, 0.0)}.\n",
      "[INFO 12-13 23:16:01] ax.service.ax_client: Generated new trial 10 with parameters {'a': -0.136096, 'b': 0.80268} using model Sobol.\n",
      "[INFO 12-13 23:16:01] ax.service.ax_client: Completed trial 10 with data: {'z': (0.0, 0.0)}.\n"
     ]
    },
    {
     "name": "stdout",
     "output_type": "stream",
     "text": [
      "Batch size 1: Sync time: 16.129198099999485, Error: 2.402736693718488e-06\n"
     ]
    },
    {
     "name": "stderr",
     "output_type": "stream",
     "text": [
      "[INFO 12-13 23:16:01] ax.service.ax_client: Generated new trial 11 with parameters {'a': 0.586284, 'b': -0.043464} using model Sobol.\n",
      "[INFO 12-13 23:16:01] ax.service.ax_client: Completed trial 11 with data: {'z': (0.000206, 0.0)}.\n",
      "[INFO 12-13 23:16:01] ax.service.ax_client: Generated new trial 12 with parameters {'a': 0.774294, 'b': 0.711572} using model Sobol.\n",
      "[INFO 12-13 23:16:01] ax.service.ax_client: Completed trial 12 with data: {'z': (0.0, 0.0)}.\n",
      "[INFO 12-13 23:16:01] ax.service.ax_client: Generated new trial 13 with parameters {'a': -0.449123, 'b': -0.439294} using model Sobol.\n",
      "[INFO 12-13 23:16:01] ax.service.ax_client: Completed trial 13 with data: {'z': (0.0, 0.0)}.\n",
      "[INFO 12-13 23:16:01] ax.service.ax_client: Generated new trial 14 with parameters {'a': -0.987752, 'b': 0.295299} using model Sobol.\n",
      "[INFO 12-13 23:16:01] ax.service.ax_client: Completed trial 14 with data: {'z': (0.0, 0.0)}.\n",
      "[INFO 12-13 23:16:01] ax.service.ax_client: Generated new trial 15 with parameters {'a': 0.28169, 'b': -0.553782} using model Sobol.\n",
      "[INFO 12-13 23:16:01] ax.service.ax_client: Completed trial 15 with data: {'z': (0.0, 0.0)}.\n",
      "[INFO 12-13 23:16:01] ax.service.ax_client: Generated new trial 16 with parameters {'a': 0.336941, 'b': 0.355571} using model Sobol.\n",
      "[INFO 12-13 23:16:01] ax.service.ax_client: Completed trial 16 with data: {'z': (0.014944, 0.0)}.\n",
      "[INFO 12-13 23:16:01] ax.service.ax_client: Generated new trial 17 with parameters {'a': -0.884771, 'b': -0.614665} using model Sobol.\n",
      "[INFO 12-13 23:16:01] ax.service.ax_client: Completed trial 17 with data: {'z': (0.0, 0.0)}.\n",
      "[INFO 12-13 23:16:01] ax.service.ax_client: Generated new trial 18 with parameters {'a': -0.424388, 'b': 0.651238} using model Sobol.\n",
      "[INFO 12-13 23:16:01] ax.service.ax_client: Completed trial 18 with data: {'z': (0.0, 0.0)}.\n",
      "[INFO 12-13 23:16:01] ax.service.ax_client: Generated new trial 19 with parameters {'a': 0.845295, 'b': -0.378595} using model Sobol.\n",
      "[INFO 12-13 23:16:01] ax.service.ax_client: Completed trial 19 with data: {'z': (0.0, 0.0)}.\n"
     ]
    },
    {
     "name": "stdout",
     "output_type": "stream",
     "text": [
      "Using GPEI (Exploitation)\n"
     ]
    },
    {
     "name": "stderr",
     "output_type": "stream",
     "text": [
      "[INFO 12-13 23:16:02] ax.service.ax_client: Generated new trial 20 with parameters {'a': 0.104145, 'b': 1.0} using model GPEI.\n",
      "[INFO 12-13 23:16:02] ax.service.ax_client: Completed trial 20 with data: {'z': (0.0, 0.0)}.\n"
     ]
    },
    {
     "name": "stdout",
     "output_type": "stream",
     "text": [
      "Using GPEI (Exploitation)\n"
     ]
    },
    {
     "name": "stderr",
     "output_type": "stream",
     "text": [
      "[INFO 12-13 23:16:03] ax.service.ax_client: Generated new trial 21 with parameters {'a': 0.064283, 'b': 0.211615} using model GPEI.\n",
      "[INFO 12-13 23:16:03] ax.service.ax_client: Completed trial 21 with data: {'z': (0.213558, 0.0)}.\n"
     ]
    },
    {
     "name": "stdout",
     "output_type": "stream",
     "text": [
      "Using qNIPV (Exploration)\n"
     ]
    },
    {
     "name": "stderr",
     "output_type": "stream",
     "text": [
      "[INFO 12-13 23:16:04] ax.service.ax_client: Generated new trial 22 with parameters {'a': 0.10663, 'b': 0.182228} using model GPEI.\n",
      "[INFO 12-13 23:16:04] ax.service.ax_client: Completed trial 22 with data: {'z': (0.461178, 0.0)}.\n"
     ]
    },
    {
     "name": "stdout",
     "output_type": "stream",
     "text": [
      "Using GPEI (Exploitation)\n"
     ]
    },
    {
     "name": "stderr",
     "output_type": "stream",
     "text": [
      "[INFO 12-13 23:16:04] ax.service.ax_client: Generated new trial 23 with parameters {'a': 0.127354, 'b': 0.167845} using model GPEI.\n",
      "[INFO 12-13 23:16:04] ax.service.ax_client: Completed trial 23 with data: {'z': (0.61017, 0.0)}.\n"
     ]
    },
    {
     "name": "stdout",
     "output_type": "stream",
     "text": [
      "Using qNIPV (Exploration)\n"
     ]
    },
    {
     "name": "stderr",
     "output_type": "stream",
     "text": [
      "[INFO 12-13 23:16:06] ax.service.ax_client: Generated new trial 24 with parameters {'a': 0.156568, 'b': 0.145929} using model GPEI.\n",
      "[INFO 12-13 23:16:06] ax.service.ax_client: Completed trial 24 with data: {'z': (0.818904, 0.0)}.\n"
     ]
    },
    {
     "name": "stdout",
     "output_type": "stream",
     "text": [
      "Using GPEI (Exploitation)\n"
     ]
    },
    {
     "name": "stderr",
     "output_type": "stream",
     "text": [
      "[INFO 12-13 23:16:06] ax.service.ax_client: Generated new trial 25 with parameters {'a': 0.204318, 'b': 0.116908} using model GPEI.\n",
      "[INFO 12-13 23:16:06] ax.service.ax_client: Completed trial 25 with data: {'z': (0.984889, 0.0)}.\n"
     ]
    },
    {
     "name": "stdout",
     "output_type": "stream",
     "text": [
      "Using GPEI (Exploitation)\n"
     ]
    },
    {
     "name": "stderr",
     "output_type": "stream",
     "text": [
      "[INFO 12-13 23:16:07] ax.service.ax_client: Generated new trial 26 with parameters {'a': 0.246099, 'b': 0.124161} using model GPEI.\n",
      "[INFO 12-13 23:16:07] ax.service.ax_client: Completed trial 26 with data: {'z': (0.87333, 0.0)}.\n"
     ]
    },
    {
     "name": "stdout",
     "output_type": "stream",
     "text": [
      "Using GPEI (Exploitation)\n"
     ]
    },
    {
     "name": "stderr",
     "output_type": "stream",
     "text": [
      "[INFO 12-13 23:16:08] ax.service.ax_client: Generated new trial 27 with parameters {'a': 0.188568, 'b': 0.077806} using model GPEI.\n",
      "[INFO 12-13 23:16:08] ax.service.ax_client: Completed trial 27 with data: {'z': (0.969317, 0.0)}.\n"
     ]
    },
    {
     "name": "stdout",
     "output_type": "stream",
     "text": [
      "Using GPEI (Exploitation)\n"
     ]
    },
    {
     "name": "stderr",
     "output_type": "stream",
     "text": [
      "[INFO 12-13 23:16:08] ax.service.ax_client: Generated new trial 28 with parameters {'a': -1.0, 'b': 1.0} using model GPEI.\n",
      "[INFO 12-13 23:16:08] ax.service.ax_client: Completed trial 28 with data: {'z': (0.0, 0.0)}.\n"
     ]
    },
    {
     "name": "stdout",
     "output_type": "stream",
     "text": [
      "Using GPEI (Exploitation)\n"
     ]
    },
    {
     "name": "stderr",
     "output_type": "stream",
     "text": [
      "[INFO 12-13 23:16:09] ax.service.ax_client: Generated new trial 29 with parameters {'a': 0.444736, 'b': -1.0} using model GPEI.\n",
      "[INFO 12-13 23:16:09] ax.service.ax_client: Completed trial 29 with data: {'z': (0.0, 0.0)}.\n"
     ]
    },
    {
     "name": "stdout",
     "output_type": "stream",
     "text": [
      "Using GPEI (Exploitation)\n"
     ]
    },
    {
     "name": "stderr",
     "output_type": "stream",
     "text": [
      "[INFO 12-13 23:16:09] ax.service.ax_client: Generated new trial 30 with parameters {'a': 1.0, 'b': 0.093057} using model GPEI.\n",
      "[INFO 12-13 23:16:10] ax.service.ax_client: Completed trial 30 with data: {'z': (0.0, 0.0)}.\n"
     ]
    },
    {
     "name": "stdout",
     "output_type": "stream",
     "text": [
      "Using GPEI (Exploitation)\n"
     ]
    },
    {
     "name": "stderr",
     "output_type": "stream",
     "text": [
      "[INFO 12-13 23:16:10] ax.service.ax_client: Generated new trial 31 with parameters {'a': 0.200537, 'b': 0.100882} using model GPEI.\n",
      "[INFO 12-13 23:16:10] ax.service.ax_client: Completed trial 31 with data: {'z': (0.999947, 0.0)}.\n"
     ]
    },
    {
     "name": "stdout",
     "output_type": "stream",
     "text": [
      "Using GPEI (Exploitation)\n"
     ]
    },
    {
     "name": "stderr",
     "output_type": "stream",
     "text": [
      "[INFO 12-13 23:16:11] ax.service.ax_client: Generated new trial 32 with parameters {'a': -0.56932, 'b': 1.0} using model GPEI.\n",
      "[INFO 12-13 23:16:11] ax.service.ax_client: Completed trial 32 with data: {'z': (0.0, 0.0)}.\n"
     ]
    },
    {
     "name": "stdout",
     "output_type": "stream",
     "text": [
      "Using GPEI (Exploitation)\n"
     ]
    },
    {
     "name": "stderr",
     "output_type": "stream",
     "text": [
      "[INFO 12-13 23:16:12] ax.service.ax_client: Generated new trial 33 with parameters {'a': -0.245526, 'b': -1.0} using model GPEI.\n",
      "[INFO 12-13 23:16:12] ax.service.ax_client: Completed trial 33 with data: {'z': (0.0, 0.0)}.\n"
     ]
    },
    {
     "name": "stdout",
     "output_type": "stream",
     "text": [
      "Using GPEI (Exploitation)\n"
     ]
    },
    {
     "name": "stderr",
     "output_type": "stream",
     "text": [
      "[INFO 12-13 23:16:13] ax.service.ax_client: Generated new trial 34 with parameters {'a': 1.0, 'b': 1.0} using model GPEI.\n",
      "[INFO 12-13 23:16:13] ax.service.ax_client: Completed trial 34 with data: {'z': (0.0, 0.0)}.\n"
     ]
    },
    {
     "name": "stdout",
     "output_type": "stream",
     "text": [
      "Using GPEI (Exploitation)\n"
     ]
    },
    {
     "name": "stderr",
     "output_type": "stream",
     "text": [
      "[INFO 12-13 23:16:13] ax.service.ax_client: Generated new trial 35 with parameters {'a': 0.206314, 'b': 0.634181} using model GPEI.\n",
      "[INFO 12-13 23:16:13] ax.service.ax_client: Completed trial 35 with data: {'z': (1e-06, 0.0)}.\n"
     ]
    },
    {
     "name": "stdout",
     "output_type": "stream",
     "text": [
      "Using GPEI (Exploitation)\n"
     ]
    },
    {
     "name": "stderr",
     "output_type": "stream",
     "text": [
      "[INFO 12-13 23:16:14] ax.service.ax_client: Generated new trial 36 with parameters {'a': -1.0, 'b': 0.647671} using model GPEI.\n",
      "[INFO 12-13 23:16:14] ax.service.ax_client: Completed trial 36 with data: {'z': (0.0, 0.0)}.\n"
     ]
    },
    {
     "name": "stdout",
     "output_type": "stream",
     "text": [
      "Using GPEI (Exploitation)\n"
     ]
    },
    {
     "name": "stderr",
     "output_type": "stream",
     "text": [
      "[INFO 12-13 23:16:15] ax.service.ax_client: Generated new trial 37 with parameters {'a': -0.637596, 'b': 0.234573} using model GPEI.\n",
      "[INFO 12-13 23:16:15] ax.service.ax_client: Completed trial 37 with data: {'z': (0.0, 0.0)}.\n"
     ]
    },
    {
     "name": "stdout",
     "output_type": "stream",
     "text": [
      "Using GPEI (Exploitation)\n"
     ]
    },
    {
     "name": "stderr",
     "output_type": "stream",
     "text": [
      "[INFO 12-13 23:16:16] ax.service.ax_client: Generated new trial 38 with parameters {'a': -0.128228, 'b': -0.292245} using model GPEI.\n",
      "[INFO 12-13 23:16:16] ax.service.ax_client: Completed trial 38 with data: {'z': (2e-06, 0.0)}.\n"
     ]
    },
    {
     "name": "stdout",
     "output_type": "stream",
     "text": [
      "Using GPEI (Exploitation)\n"
     ]
    },
    {
     "name": "stderr",
     "output_type": "stream",
     "text": [
      "[INFO 12-13 23:16:17] ax.service.ax_client: Generated new trial 39 with parameters {'a': -1.0, 'b': -1.0} using model GPEI.\n",
      "[INFO 12-13 23:16:17] ax.service.ax_client: Completed trial 39 with data: {'z': (0.0, 0.0)}.\n",
      "[INFO 12-13 23:16:17] ax.service.ax_client: Starting optimization with verbose logging. To disable logging, set the `verbose_logging` argument to `False`. Note that float values in the logs are rounded to 6 decimal points.\n",
      "[INFO 12-13 23:16:17] ax.service.utils.instantiation: Inferred value type of ParameterType.FLOAT for parameter a. If that is not the expected value type, you can explicitly specify 'value_type' ('int', 'float', 'bool' or 'str') in parameter dict.\n",
      "[INFO 12-13 23:16:17] ax.service.utils.instantiation: Inferred value type of ParameterType.FLOAT for parameter b. If that is not the expected value type, you can explicitly specify 'value_type' ('int', 'float', 'bool' or 'str') in parameter dict.\n",
      "[INFO 12-13 23:16:17] ax.service.utils.instantiation: Created search space: SearchSpace(parameters=[RangeParameter(name='a', parameter_type=FLOAT, range=[-1.0, 1.0]), RangeParameter(name='b', parameter_type=FLOAT, range=[-1.0, 1.0])], parameter_constraints=[]).\n",
      "[INFO 12-13 23:16:17] ax.service.ax_client: Generated new trial 0 with parameters {'a': -0.731191, 'b': -0.740167} using model Sobol.\n",
      "[INFO 12-13 23:16:17] ax.service.ax_client: Completed trial 0 with data: {'z': (0.0, 0.0)}.\n",
      "[INFO 12-13 23:16:17] ax.service.ax_client: Generated new trial 1 with parameters {'a': 0.167637, 'b': 0.114597} using model Sobol.\n",
      "[INFO 12-13 23:16:17] ax.service.ax_client: Completed trial 1 with data: {'z': (0.938922, 0.0)}.\n",
      "[INFO 12-13 23:16:17] ax.service.ax_client: Generated new trial 2 with parameters {'a': 0.986932, 'b': -0.341769} using model Sobol.\n",
      "[INFO 12-13 23:16:17] ax.service.ax_client: Completed trial 2 with data: {'z': (0.0, 0.0)}.\n",
      "[INFO 12-13 23:16:17] ax.service.ax_client: Generated new trial 3 with parameters {'a': -0.427284, 'b': 0.966125} using model Sobol.\n",
      "[INFO 12-13 23:16:17] ax.service.ax_client: Completed trial 3 with data: {'z': (0.0, 0.0)}.\n",
      "[INFO 12-13 23:16:17] ax.service.ax_client: Generated new trial 4 with parameters {'a': -0.104298, 'b': -0.013099} using model Sobol.\n",
      "[INFO 12-13 23:16:17] ax.service.ax_client: Completed trial 4 with data: {'z': (0.005147, 0.0)}.\n",
      "[INFO 12-13 23:16:17] ax.service.ax_client: Generated new trial 5 with parameters {'a': 0.544772, 'b': 0.638545} using model Sobol.\n",
      "[INFO 12-13 23:16:17] ax.service.ax_client: Completed trial 5 with data: {'z': (0.0, 0.0)}.\n",
      "[INFO 12-13 23:16:17] ax.service.ax_client: Generated new trial 6 with parameters {'a': 0.364197, 'b': -0.911618} using model Sobol.\n",
      "[INFO 12-13 23:16:17] ax.service.ax_client: Completed trial 6 with data: {'z': (0.0, 0.0)}.\n",
      "[INFO 12-13 23:16:17] ax.service.ax_client: Generated new trial 7 with parameters {'a': -0.800765, 'b': 0.286897} using model Sobol.\n",
      "[INFO 12-13 23:16:17] ax.service.ax_client: Completed trial 7 with data: {'z': (0.0, 0.0)}.\n",
      "[INFO 12-13 23:16:17] ax.service.ax_client: Generated new trial 8 with parameters {'a': -0.963234, 'b': -0.484191} using model Sobol.\n",
      "[INFO 12-13 23:16:17] ax.service.ax_client: Completed trial 8 with data: {'z': (0.0, 0.0)}.\n",
      "[INFO 12-13 23:16:17] ax.service.ax_client: Generated new trial 9 with parameters {'a': 0.403617, 'b': 0.858858} using model Sobol.\n",
      "[INFO 12-13 23:16:17] ax.service.ax_client: Completed trial 9 with data: {'z': (0.0, 0.0)}.\n",
      "[INFO 12-13 23:16:17] ax.service.ax_client: Generated new trial 10 with parameters {'a': 0.691875, 'b': -0.570165} using model Sobol.\n",
      "[INFO 12-13 23:16:17] ax.service.ax_client: Completed trial 10 with data: {'z': (0.0, 0.0)}.\n",
      "[INFO 12-13 23:16:17] ax.service.ax_client: Generated new trial 11 with parameters {'a': -0.128352, 'b': 0.194757} using model Sobol.\n",
      "[INFO 12-13 23:16:17] ax.service.ax_client: Completed trial 11 with data: {'z': (0.00291, 0.0)}.\n"
     ]
    },
    {
     "name": "stdout",
     "output_type": "stream",
     "text": [
      "Batch size 1: Sync time: 15.785782900000413, Error: 5.333064352108785e-05\n"
     ]
    },
    {
     "name": "stderr",
     "output_type": "stream",
     "text": [
      "[INFO 12-13 23:16:17] ax.service.ax_client: Generated new trial 12 with parameters {'a': -0.339997, 'b': -0.772737} using model Sobol.\n",
      "[INFO 12-13 23:16:17] ax.service.ax_client: Completed trial 12 with data: {'z': (0.0, 0.0)}.\n",
      "[INFO 12-13 23:16:17] ax.service.ax_client: Generated new trial 13 with parameters {'a': 0.776596, 'b': 0.398434} using model Sobol.\n",
      "[INFO 12-13 23:16:17] ax.service.ax_client: Completed trial 13 with data: {'z': (0.0, 0.0)}.\n",
      "[INFO 12-13 23:16:17] ax.service.ax_client: Generated new trial 14 with parameters {'a': 0.064496, 'b': -0.186884} using model Sobol.\n",
      "[INFO 12-13 23:16:17] ax.service.ax_client: Completed trial 14 with data: {'z': (0.006518, 0.0)}.\n",
      "[INFO 12-13 23:16:17] ax.service.ax_client: Generated new trial 15 with parameters {'a': -0.505001, 'b': 0.562415} using model Sobol.\n",
      "[INFO 12-13 23:16:17] ax.service.ax_client: Completed trial 15 with data: {'z': (0.0, 0.0)}.\n",
      "[INFO 12-13 23:16:17] ax.service.ax_client: Generated new trial 16 with parameters {'a': -0.595678, 'b': -0.243323} using model Sobol.\n",
      "[INFO 12-13 23:16:17] ax.service.ax_client: Completed trial 16 with data: {'z': (0.0, 0.0)}.\n",
      "[INFO 12-13 23:16:17] ax.service.ax_client: Generated new trial 17 with parameters {'a': 0.038014, 'b': 0.618769} using model Sobol.\n",
      "[INFO 12-13 23:16:17] ax.service.ax_client: Completed trial 17 with data: {'z': (0.0, 0.0)}.\n",
      "[INFO 12-13 23:16:17] ax.service.ax_client: Generated new trial 18 with parameters {'a': 0.874856, 'b': -0.829343} using model Sobol.\n",
      "[INFO 12-13 23:16:17] ax.service.ax_client: Completed trial 18 with data: {'z': (0.0, 0.0)}.\n",
      "[INFO 12-13 23:16:17] ax.service.ax_client: Generated new trial 19 with parameters {'a': -0.305474, 'b': 0.454622} using model Sobol.\n",
      "[INFO 12-13 23:16:17] ax.service.ax_client: Completed trial 19 with data: {'z': (0.0, 0.0)}.\n"
     ]
    },
    {
     "name": "stdout",
     "output_type": "stream",
     "text": [
      "Using qNIPV (Exploration)\n"
     ]
    },
    {
     "name": "stderr",
     "output_type": "stream",
     "text": [
      "[INFO 12-13 23:16:18] ax.service.ax_client: Generated new trial 20 with parameters {'a': 0.194998, 'b': 0.142816} using model GPEI.\n",
      "[INFO 12-13 23:16:18] ax.service.ax_client: Completed trial 20 with data: {'z': (0.911275, 0.0)}.\n"
     ]
    },
    {
     "name": "stdout",
     "output_type": "stream",
     "text": [
      "Using GPEI (Exploitation)\n"
     ]
    },
    {
     "name": "stderr",
     "output_type": "stream",
     "text": [
      "[INFO 12-13 23:16:18] ax.service.ax_client: Generated new trial 21 with parameters {'a': -1.0, 'b': 1.0} using model GPEI.\n",
      "[INFO 12-13 23:16:18] ax.service.ax_client: Completed trial 21 with data: {'z': (0.0, 0.0)}.\n"
     ]
    },
    {
     "name": "stdout",
     "output_type": "stream",
     "text": [
      "Using GPEI (Exploitation)\n"
     ]
    },
    {
     "name": "stderr",
     "output_type": "stream",
     "text": [
      "[INFO 12-13 23:16:19] ax.service.ax_client: Generated new trial 22 with parameters {'a': 0.202966, 'b': 0.072777} using model GPEI.\n",
      "[INFO 12-13 23:16:19] ax.service.ax_client: Completed trial 22 with data: {'z': (0.9632, 0.0)}.\n"
     ]
    },
    {
     "name": "stdout",
     "output_type": "stream",
     "text": [
      "Using GPEI (Exploitation)\n"
     ]
    },
    {
     "name": "stderr",
     "output_type": "stream",
     "text": [
      "[INFO 12-13 23:16:20] ax.service.ax_client: Generated new trial 23 with parameters {'a': 0.199659, 'b': 0.086425} using model GPEI.\n",
      "[INFO 12-13 23:16:20] ax.service.ax_client: Completed trial 23 with data: {'z': (0.990823, 0.0)}.\n"
     ]
    },
    {
     "name": "stdout",
     "output_type": "stream",
     "text": [
      "Using GPEI (Exploitation)\n"
     ]
    },
    {
     "name": "stderr",
     "output_type": "stream",
     "text": [
      "[INFO 12-13 23:16:21] ax.service.ax_client: Generated new trial 24 with parameters {'a': 0.351053, 'b': 0.103743} using model GPEI.\n",
      "[INFO 12-13 23:16:21] ax.service.ax_client: Completed trial 24 with data: {'z': (0.319322, 0.0)}.\n"
     ]
    },
    {
     "name": "stdout",
     "output_type": "stream",
     "text": [
      "Using GPEI (Exploitation)\n"
     ]
    },
    {
     "name": "stderr",
     "output_type": "stream",
     "text": [
      "[INFO 12-13 23:16:21] ax.service.ax_client: Generated new trial 25 with parameters {'a': 1.0, 'b': 1.0} using model GPEI.\n",
      "[INFO 12-13 23:16:21] ax.service.ax_client: Completed trial 25 with data: {'z': (0.0, 0.0)}.\n"
     ]
    },
    {
     "name": "stdout",
     "output_type": "stream",
     "text": [
      "Using GPEI (Exploitation)\n"
     ]
    },
    {
     "name": "stderr",
     "output_type": "stream",
     "text": [
      "[INFO 12-13 23:16:23] ax.service.ax_client: Generated new trial 26 with parameters {'a': 0.201417, 'b': 0.100217} using model GPEI.\n",
      "[INFO 12-13 23:16:23] ax.service.ax_client: Completed trial 26 with data: {'z': (0.999897, 0.0)}.\n"
     ]
    },
    {
     "name": "stdout",
     "output_type": "stream",
     "text": [
      "Using GPEI (Exploitation)\n"
     ]
    },
    {
     "name": "stderr",
     "output_type": "stream",
     "text": [
      "[INFO 12-13 23:16:24] ax.service.ax_client: Generated new trial 27 with parameters {'a': 0.080761, 'b': -0.57147} using model GPEI.\n",
      "[INFO 12-13 23:16:24] ax.service.ax_client: Completed trial 27 with data: {'z': (0.0, 0.0)}.\n"
     ]
    },
    {
     "name": "stdout",
     "output_type": "stream",
     "text": [
      "Using GPEI (Exploitation)\n"
     ]
    },
    {
     "name": "stderr",
     "output_type": "stream",
     "text": [
      "[INFO 12-13 23:16:24] ax.service.ax_client: Generated new trial 28 with parameters {'a': 1.0, 'b': 0.062171} using model GPEI.\n",
      "[INFO 12-13 23:16:24] ax.service.ax_client: Completed trial 28 with data: {'z': (0.0, 0.0)}.\n"
     ]
    },
    {
     "name": "stdout",
     "output_type": "stream",
     "text": [
      "Using GPEI (Exploitation)\n"
     ]
    },
    {
     "name": "stderr",
     "output_type": "stream",
     "text": [
      "[INFO 12-13 23:16:25] ax.service.ax_client: Generated new trial 29 with parameters {'a': -1.0, 'b': -1.0} using model GPEI.\n",
      "[INFO 12-13 23:16:25] ax.service.ax_client: Completed trial 29 with data: {'z': (0.0, 0.0)}.\n"
     ]
    },
    {
     "name": "stdout",
     "output_type": "stream",
     "text": [
      "Using GPEI (Exploitation)\n"
     ]
    },
    {
     "name": "stderr",
     "output_type": "stream",
     "text": [
      "[INFO 12-13 23:16:26] ax.service.ax_client: Generated new trial 30 with parameters {'a': -1.0, 'b': -0.068574} using model GPEI.\n",
      "[INFO 12-13 23:16:26] ax.service.ax_client: Completed trial 30 with data: {'z': (0.0, 0.0)}.\n"
     ]
    },
    {
     "name": "stdout",
     "output_type": "stream",
     "text": [
      "Using qNIPV (Exploration)\n"
     ]
    },
    {
     "name": "stderr",
     "output_type": "stream",
     "text": [
      "[INFO 12-13 23:16:27] ax.service.ax_client: Generated new trial 31 with parameters {'a': -1.0, 'b': 0.615442} using model GPEI.\n",
      "[INFO 12-13 23:16:27] ax.service.ax_client: Completed trial 31 with data: {'z': (0.0, 0.0)}.\n"
     ]
    },
    {
     "name": "stdout",
     "output_type": "stream",
     "text": [
      "Using GPEI (Exploitation)\n"
     ]
    },
    {
     "name": "stderr",
     "output_type": "stream",
     "text": [
      "[INFO 12-13 23:16:28] ax.service.ax_client: Generated new trial 32 with parameters {'a': -0.001303, 'b': 1.0} using model GPEI.\n",
      "[INFO 12-13 23:16:28] ax.service.ax_client: Completed trial 32 with data: {'z': (0.0, 0.0)}.\n"
     ]
    },
    {
     "name": "stdout",
     "output_type": "stream",
     "text": [
      "Using GPEI (Exploitation)\n"
     ]
    },
    {
     "name": "stderr",
     "output_type": "stream",
     "text": [
      "[INFO 12-13 23:16:29] ax.service.ax_client: Generated new trial 33 with parameters {'a': -0.026724, 'b': -1.0} using model GPEI.\n",
      "[INFO 12-13 23:16:29] ax.service.ax_client: Completed trial 33 with data: {'z': (0.0, 0.0)}.\n"
     ]
    },
    {
     "name": "stdout",
     "output_type": "stream",
     "text": [
      "Using GPEI (Exploitation)\n"
     ]
    },
    {
     "name": "stderr",
     "output_type": "stream",
     "text": [
      "[INFO 12-13 23:16:30] ax.service.ax_client: Generated new trial 34 with parameters {'a': -0.256049, 'b': -0.395973} using model GPEI.\n",
      "[INFO 12-13 23:16:30] ax.service.ax_client: Completed trial 34 with data: {'z': (0.0, 0.0)}.\n"
     ]
    },
    {
     "name": "stdout",
     "output_type": "stream",
     "text": [
      "Using GPEI (Exploitation)\n"
     ]
    },
    {
     "name": "stderr",
     "output_type": "stream",
     "text": [
      "[INFO 12-13 23:16:30] ax.service.ax_client: Generated new trial 35 with parameters {'a': -0.483542, 'b': 0.10178} using model GPEI.\n",
      "[INFO 12-13 23:16:30] ax.service.ax_client: Completed trial 35 with data: {'z': (0.0, 0.0)}.\n"
     ]
    },
    {
     "name": "stdout",
     "output_type": "stream",
     "text": [
      "Using GPEI (Exploitation)\n"
     ]
    },
    {
     "name": "stderr",
     "output_type": "stream",
     "text": [
      "[INFO 12-13 23:16:31] ax.service.ax_client: Generated new trial 36 with parameters {'a': 1.0, 'b': 0.656285} using model GPEI.\n",
      "[INFO 12-13 23:16:31] ax.service.ax_client: Completed trial 36 with data: {'z': (0.0, 0.0)}.\n"
     ]
    },
    {
     "name": "stdout",
     "output_type": "stream",
     "text": [
      "Using GPEI (Exploitation)\n"
     ]
    },
    {
     "name": "stderr",
     "output_type": "stream",
     "text": [
      "[INFO 12-13 23:16:32] ax.service.ax_client: Generated new trial 37 with parameters {'a': 0.399863, 'b': -0.376249} using model GPEI.\n",
      "[INFO 12-13 23:16:32] ax.service.ax_client: Completed trial 37 with data: {'z': (2e-06, 0.0)}.\n"
     ]
    },
    {
     "name": "stdout",
     "output_type": "stream",
     "text": [
      "Using qNIPV (Exploration)\n"
     ]
    },
    {
     "name": "stderr",
     "output_type": "stream",
     "text": [
      "[INFO 12-13 23:16:33] ax.service.ax_client: Generated new trial 38 with parameters {'a': 0.696931, 'b': -0.151726} using model GPEI.\n",
      "[INFO 12-13 23:16:33] ax.service.ax_client: Completed trial 38 with data: {'z': (0.0, 0.0)}.\n"
     ]
    },
    {
     "name": "stdout",
     "output_type": "stream",
     "text": [
      "Using GPEI (Exploitation)\n"
     ]
    },
    {
     "name": "stderr",
     "output_type": "stream",
     "text": [
      "[INFO 12-13 23:16:34] ax.service.ax_client: Generated new trial 39 with parameters {'a': 0.198401, 'b': 0.10033} using model GPEI.\n",
      "[INFO 12-13 23:16:34] ax.service.ax_client: Completed trial 39 with data: {'z': (0.999867, 0.0)}.\n",
      "[INFO 12-13 23:16:34] ax.service.ax_client: Starting optimization with verbose logging. To disable logging, set the `verbose_logging` argument to `False`. Note that float values in the logs are rounded to 6 decimal points.\n",
      "[INFO 12-13 23:16:34] ax.service.utils.instantiation: Inferred value type of ParameterType.FLOAT for parameter a. If that is not the expected value type, you can explicitly specify 'value_type' ('int', 'float', 'bool' or 'str') in parameter dict.\n",
      "[INFO 12-13 23:16:34] ax.service.utils.instantiation: Inferred value type of ParameterType.FLOAT for parameter b. If that is not the expected value type, you can explicitly specify 'value_type' ('int', 'float', 'bool' or 'str') in parameter dict.\n",
      "[INFO 12-13 23:16:34] ax.service.utils.instantiation: Created search space: SearchSpace(parameters=[RangeParameter(name='a', parameter_type=FLOAT, range=[-1.0, 1.0]), RangeParameter(name='b', parameter_type=FLOAT, range=[-1.0, 1.0])], parameter_constraints=[]).\n",
      "[INFO 12-13 23:16:34] ax.service.ax_client: Generated new trial 0 with parameters {'a': 0.326142, 'b': 0.806155} using model Sobol.\n",
      "[INFO 12-13 23:16:34] ax.service.ax_client: Completed trial 0 with data: {'z': (0.0, 0.0)}.\n",
      "[INFO 12-13 23:16:34] ax.service.ax_client: Generated new trial 1 with parameters {'a': -0.658106, 'b': -0.809887} using model Sobol.\n",
      "[INFO 12-13 23:16:34] ax.service.ax_client: Completed trial 1 with data: {'z': (0.0, 0.0)}.\n",
      "[INFO 12-13 23:16:34] ax.service.ax_client: Generated new trial 2 with parameters {'a': -0.479461, 'b': 0.308125} using model Sobol.\n",
      "[INFO 12-13 23:16:34] ax.service.ax_client: Completed trial 2 with data: {'z': (0.0, 0.0)}.\n",
      "[INFO 12-13 23:16:34] ax.service.ax_client: Generated new trial 3 with parameters {'a': 0.50675, 'b': -0.311855} using model Sobol.\n",
      "[INFO 12-13 23:16:34] ax.service.ax_client: Completed trial 3 with data: {'z': (2e-06, 0.0)}.\n",
      "[INFO 12-13 23:16:34] ax.service.ax_client: Generated new trial 4 with parameters {'a': 0.755808, 'b': 0.138489} using model Sobol.\n",
      "[INFO 12-13 23:16:34] ax.service.ax_client: Completed trial 4 with data: {'z': (0.0, 0.0)}.\n",
      "[INFO 12-13 23:16:34] ax.service.ax_client: Generated new trial 5 with parameters {'a': -0.228443, 'b': -0.133804} using model Sobol.\n",
      "[INFO 12-13 23:16:34] ax.service.ax_client: Completed trial 5 with data: {'z': (7e-06, 0.0)}.\n",
      "[INFO 12-13 23:16:34] ax.service.ax_client: Generated new trial 6 with parameters {'a': -0.909171, 'b': 0.640464} using model Sobol.\n",
      "[INFO 12-13 23:16:34] ax.service.ax_client: Completed trial 6 with data: {'z': (0.0, 0.0)}.\n",
      "[INFO 12-13 23:16:34] ax.service.ax_client: Generated new trial 7 with parameters {'a': 0.077039, 'b': -0.635765} using model Sobol.\n",
      "[INFO 12-13 23:16:34] ax.service.ax_client: Completed trial 7 with data: {'z': (0.0, 0.0)}.\n",
      "[INFO 12-13 23:16:34] ax.service.ax_client: Generated new trial 8 with parameters {'a': 0.133169, 'b': 0.419581} using model Sobol.\n",
      "[INFO 12-13 23:16:34] ax.service.ax_client: Completed trial 8 with data: {'z': (0.004844, 0.0)}.\n",
      "[INFO 12-13 23:16:34] ax.service.ax_client: Generated new trial 9 with parameters {'a': -0.847912, 'b': -0.415487} using model Sobol.\n",
      "[INFO 12-13 23:16:34] ax.service.ax_client: Completed trial 9 with data: {'z': (0.0, 0.0)}.\n",
      "[INFO 12-13 23:16:34] ax.service.ax_client: Generated new trial 10 with parameters {'a': -0.046212, 'b': 0.921522} using model Sobol.\n",
      "[INFO 12-13 23:16:34] ax.service.ax_client: Completed trial 10 with data: {'z': (0.0, 0.0)}.\n"
     ]
    },
    {
     "name": "stdout",
     "output_type": "stream",
     "text": [
      "Batch size 1: Sync time: 17.397778099999414, Error: 0.00010274114848018989\n"
     ]
    },
    {
     "name": "stderr",
     "output_type": "stream",
     "text": [
      "[INFO 12-13 23:16:34] ax.service.ax_client: Generated new trial 11 with parameters {'a': 0.940723, 'b': -0.917422} using model Sobol.\n",
      "[INFO 12-13 23:16:34] ax.service.ax_client: Completed trial 11 with data: {'z': (0.0, 0.0)}.\n",
      "[INFO 12-13 23:16:34] ax.service.ax_client: Generated new trial 12 with parameters {'a': 0.687835, 'b': 0.525354} using model Sobol.\n",
      "[INFO 12-13 23:16:34] ax.service.ax_client: Completed trial 12 with data: {'z': (0.0, 0.0)}.\n",
      "[INFO 12-13 23:16:34] ax.service.ax_client: Generated new trial 13 with parameters {'a': -0.293248, 'b': -0.528464} using model Sobol.\n",
      "[INFO 12-13 23:16:34] ax.service.ax_client: Completed trial 13 with data: {'z': (0.0, 0.0)}.\n",
      "[INFO 12-13 23:16:34] ax.service.ax_client: Generated new trial 14 with parameters {'a': -0.600922, 'b': 0.027297} using model Sobol.\n",
      "[INFO 12-13 23:16:34] ax.service.ax_client: Completed trial 14 with data: {'z': (0.0, 0.0)}.\n",
      "[INFO 12-13 23:16:34] ax.service.ax_client: Generated new trial 15 with parameters {'a': 0.386012, 'b': -0.030397} using model Sobol.\n",
      "[INFO 12-13 23:16:34] ax.service.ax_client: Completed trial 15 with data: {'z': (0.07576, 0.0)}.\n",
      "[INFO 12-13 23:16:34] ax.service.ax_client: Generated new trial 16 with parameters {'a': 0.442912, 'b': 0.106971} using model Sobol.\n",
      "[INFO 12-13 23:16:34] ax.service.ax_client: Completed trial 16 with data: {'z': (0.052196, 0.0)}.\n",
      "[INFO 12-13 23:16:34] ax.service.ax_client: Generated new trial 17 with parameters {'a': -0.540604, 'b': -0.102883} using model Sobol.\n",
      "[INFO 12-13 23:16:34] ax.service.ax_client: Completed trial 17 with data: {'z': (0.0, 0.0)}.\n",
      "[INFO 12-13 23:16:34] ax.service.ax_client: Generated new trial 18 with parameters {'a': -0.346212, 'b': 0.608933} using model Sobol.\n",
      "[INFO 12-13 23:16:34] ax.service.ax_client: Completed trial 18 with data: {'z': (0.0, 0.0)}.\n",
      "[INFO 12-13 23:16:34] ax.service.ax_client: Generated new trial 19 with parameters {'a': 0.639267, 'b': -0.604858} using model Sobol.\n",
      "[INFO 12-13 23:16:34] ax.service.ax_client: Completed trial 19 with data: {'z': (0.0, 0.0)}.\n"
     ]
    },
    {
     "name": "stdout",
     "output_type": "stream",
     "text": [
      "Using GPEI (Exploitation)\n"
     ]
    },
    {
     "name": "stderr",
     "output_type": "stream",
     "text": [
      "[INFO 12-13 23:16:35] ax.service.ax_client: Generated new trial 20 with parameters {'a': 0.319308, 'b': -0.009263} using model GPEI.\n",
      "[INFO 12-13 23:16:35] ax.service.ax_client: Completed trial 20 with data: {'z': (0.270189, 0.0)}.\n",
      "[INFO 12-13 23:16:36] ax.service.ax_client: Generated new trial 21 with parameters {'a': 0.305222, 'b': -0.011056} using model GPEI.\n",
      "[INFO 12-13 23:16:36] ax.service.ax_client: Completed trial 21 with data: {'z': (0.310288, 0.0)}.\n"
     ]
    },
    {
     "name": "stdout",
     "output_type": "stream",
     "text": [
      "Using GPEI (Exploitation)\n"
     ]
    },
    {
     "name": "stderr",
     "output_type": "stream",
     "text": [
      "[INFO 12-13 23:16:37] ax.service.ax_client: Generated new trial 22 with parameters {'a': 0.278512, 'b': -0.032512} using model GPEI.\n",
      "[INFO 12-13 23:16:37] ax.service.ax_client: Completed trial 22 with data: {'z': (0.305387, 0.0)}.\n",
      "[INFO 12-13 23:16:38] ax.service.ax_client: Generated new trial 23 with parameters {'a': 0.292905, 'b': -0.014326} using model GPEI.\n",
      "[INFO 12-13 23:16:38] ax.service.ax_client: Completed trial 23 with data: {'z': (0.337872, 0.0)}.\n"
     ]
    },
    {
     "name": "stdout",
     "output_type": "stream",
     "text": [
      "Using GPEI (Exploitation)\n"
     ]
    },
    {
     "name": "stderr",
     "output_type": "stream",
     "text": [
      "[INFO 12-13 23:16:39] ax.service.ax_client: Generated new trial 24 with parameters {'a': 0.246994, 'b': -0.004204} using model GPEI.\n",
      "[INFO 12-13 23:16:39] ax.service.ax_client: Completed trial 24 with data: {'z': (0.520304, 0.0)}.\n",
      "[INFO 12-13 23:16:40] ax.service.ax_client: Generated new trial 25 with parameters {'a': 0.206929, 'b': 0.023784} using model GPEI.\n",
      "[INFO 12-13 23:16:40] ax.service.ax_client: Completed trial 25 with data: {'z': (0.746138, 0.0)}.\n"
     ]
    },
    {
     "name": "stdout",
     "output_type": "stream",
     "text": [
      "Using GPEI (Exploitation)\n"
     ]
    },
    {
     "name": "stderr",
     "output_type": "stream",
     "text": [
      "[INFO 12-13 23:16:40] ax.service.ax_client: Generated new trial 26 with parameters {'a': 0.165435, 'b': 0.057504} using model GPEI.\n",
      "[INFO 12-13 23:16:40] ax.service.ax_client: Completed trial 26 with data: {'z': (0.860678, 0.0)}.\n",
      "[INFO 12-13 23:16:41] ax.service.ax_client: Generated new trial 27 with parameters {'a': 0.134081, 'b': 0.04864} using model GPEI.\n",
      "[INFO 12-13 23:16:41] ax.service.ax_client: Completed trial 27 with data: {'z': (0.705279, 0.0)}.\n"
     ]
    },
    {
     "name": "stdout",
     "output_type": "stream",
     "text": [
      "Using GPEI (Exploitation)\n"
     ]
    },
    {
     "name": "stderr",
     "output_type": "stream",
     "text": [
      "[INFO 12-13 23:16:42] ax.service.ax_client: Generated new trial 28 with parameters {'a': 0.19826, 'b': 0.105773} using model GPEI.\n",
      "[INFO 12-13 23:16:42] ax.service.ax_client: Completed trial 28 with data: {'z': (0.998184, 0.0)}.\n",
      "[INFO 12-13 23:16:43] ax.service.ax_client: Generated new trial 29 with parameters {'a': 0.192496, 'b': 0.115816} using model GPEI.\n",
      "[INFO 12-13 23:16:43] ax.service.ax_client: Completed trial 29 with data: {'z': (0.984793, 0.0)}.\n"
     ]
    },
    {
     "name": "stdout",
     "output_type": "stream",
     "text": [
      "Using qNIPV (Exploration)\n"
     ]
    },
    {
     "name": "stderr",
     "output_type": "stream",
     "text": [
      "[INFO 12-13 23:16:44] ax.service.ax_client: Generated new trial 30 with parameters {'a': 1.0, 'b': 1.0} using model GPEI.\n",
      "[INFO 12-13 23:16:44] ax.service.ax_client: Completed trial 30 with data: {'z': (0.0, 0.0)}.\n",
      "[INFO 12-13 23:16:45] ax.service.ax_client: Generated new trial 31 with parameters {'a': 0.203367, 'b': 0.101746} using model GPEI.\n",
      "[INFO 12-13 23:16:45] ax.service.ax_client: Completed trial 31 with data: {'z': (0.999281, 0.0)}.\n"
     ]
    },
    {
     "name": "stdout",
     "output_type": "stream",
     "text": [
      "Using GPEI (Exploitation)\n"
     ]
    },
    {
     "name": "stderr",
     "output_type": "stream",
     "text": [
      "[INFO 12-13 23:16:46] ax.service.ax_client: Generated new trial 32 with parameters {'a': 0.380864, 'b': -1.0} using model GPEI.\n",
      "[INFO 12-13 23:16:46] ax.service.ax_client: Completed trial 32 with data: {'z': (0.0, 0.0)}.\n",
      "[INFO 12-13 23:16:47] ax.service.ax_client: Generated new trial 33 with parameters {'a': 1.0, 'b': -0.280555} using model GPEI.\n",
      "[INFO 12-13 23:16:47] ax.service.ax_client: Completed trial 33 with data: {'z': (0.0, 0.0)}.\n"
     ]
    },
    {
     "name": "stdout",
     "output_type": "stream",
     "text": [
      "Using GPEI (Exploitation)\n"
     ]
    },
    {
     "name": "stderr",
     "output_type": "stream",
     "text": [
      "[INFO 12-13 23:16:47] ax.service.ax_client: Generated new trial 34 with parameters {'a': -0.604383, 'b': 1.0} using model GPEI.\n",
      "[INFO 12-13 23:16:47] ax.service.ax_client: Completed trial 34 with data: {'z': (0.0, 0.0)}.\n",
      "[INFO 12-13 23:16:48] ax.service.ax_client: Generated new trial 35 with parameters {'a': -0.205362, 'b': -1.0} using model GPEI.\n",
      "[INFO 12-13 23:16:48] ax.service.ax_client: Completed trial 35 with data: {'z': (0.0, 0.0)}.\n"
     ]
    },
    {
     "name": "stdout",
     "output_type": "stream",
     "text": [
      "Using GPEI (Exploitation)\n"
     ]
    },
    {
     "name": "stderr",
     "output_type": "stream",
     "text": [
      "[INFO 12-13 23:16:50] ax.service.ax_client: Generated new trial 36 with parameters {'a': 0.200255, 'b': 0.100024} using model GPEI.\n",
      "[INFO 12-13 23:16:50] ax.service.ax_client: Completed trial 36 with data: {'z': (0.999997, 0.0)}.\n",
      "[INFO 12-13 23:16:50] ax.service.ax_client: Generated new trial 37 with parameters {'a': -1.0, 'b': 0.194396} using model GPEI.\n",
      "[INFO 12-13 23:16:50] ax.service.ax_client: Completed trial 37 with data: {'z': (0.0, 0.0)}.\n"
     ]
    },
    {
     "name": "stdout",
     "output_type": "stream",
     "text": [
      "Using GPEI (Exploitation)\n"
     ]
    },
    {
     "name": "stderr",
     "output_type": "stream",
     "text": [
      "[INFO 12-13 23:16:51] ax.service.ax_client: Generated new trial 38 with parameters {'a': -1.0, 'b': 1.0} using model GPEI.\n",
      "[INFO 12-13 23:16:51] ax.service.ax_client: Completed trial 38 with data: {'z': (0.0, 0.0)}.\n",
      "[INFO 12-13 23:16:52] ax.service.ax_client: Generated new trial 39 with parameters {'a': -1.0, 'b': -1.0} using model GPEI.\n",
      "[INFO 12-13 23:16:52] ax.service.ax_client: Completed trial 39 with data: {'z': (0.0, 0.0)}.\n",
      "[INFO 12-13 23:16:52] ax.service.ax_client: Starting optimization with verbose logging. To disable logging, set the `verbose_logging` argument to `False`. Note that float values in the logs are rounded to 6 decimal points.\n",
      "[INFO 12-13 23:16:52] ax.service.utils.instantiation: Inferred value type of ParameterType.FLOAT for parameter a. If that is not the expected value type, you can explicitly specify 'value_type' ('int', 'float', 'bool' or 'str') in parameter dict.\n",
      "[INFO 12-13 23:16:52] ax.service.utils.instantiation: Inferred value type of ParameterType.FLOAT for parameter b. If that is not the expected value type, you can explicitly specify 'value_type' ('int', 'float', 'bool' or 'str') in parameter dict.\n",
      "[INFO 12-13 23:16:52] ax.service.utils.instantiation: Created search space: SearchSpace(parameters=[RangeParameter(name='a', parameter_type=FLOAT, range=[-1.0, 1.0]), RangeParameter(name='b', parameter_type=FLOAT, range=[-1.0, 1.0])], parameter_constraints=[]).\n",
      "[INFO 12-13 23:16:52] ax.service.ax_client: Generated new trial 0 with parameters {'a': -0.692299, 'b': -0.18941} using model Sobol.\n",
      "[INFO 12-13 23:16:52] ax.service.ax_client: Completed trial 0 with data: {'z': (0.0, 0.0)}.\n",
      "[INFO 12-13 23:16:52] ax.service.ax_client: Generated new trial 1 with parameters {'a': 0.98728, 'b': 0.342723} using model Sobol.\n",
      "[INFO 12-13 23:16:52] ax.service.ax_client: Completed trial 1 with data: {'z': (0.0, 0.0)}.\n",
      "[INFO 12-13 23:16:52] ax.service.ax_client: Generated new trial 2 with parameters {'a': 0.405394, 'b': -0.742933} using model Sobol.\n",
      "[INFO 12-13 23:16:52] ax.service.ax_client: Completed trial 2 with data: {'z': (0.0, 0.0)}.\n",
      "[INFO 12-13 23:16:52] ax.service.ax_client: Generated new trial 3 with parameters {'a': -0.165088, 'b': 0.851339} using model Sobol.\n",
      "[INFO 12-13 23:16:52] ax.service.ax_client: Completed trial 3 with data: {'z': (0.0, 0.0)}.\n",
      "[INFO 12-13 23:16:52] ax.service.ax_client: Generated new trial 4 with parameters {'a': -0.442525, 'b': -0.984827} using model Sobol.\n",
      "[INFO 12-13 23:16:52] ax.service.ax_client: Completed trial 4 with data: {'z': (0.0, 0.0)}.\n",
      "[INFO 12-13 23:16:52] ax.service.ax_client: Generated new trial 5 with parameters {'a': 0.237513, 'b': 0.608827} using model Sobol.\n",
      "[INFO 12-13 23:16:52] ax.service.ax_client: Completed trial 5 with data: {'z': (2e-06, 0.0)}.\n",
      "[INFO 12-13 23:16:52] ax.service.ax_client: Generated new trial 6 with parameters {'a': 0.655091, 'b': -0.446541} using model Sobol.\n",
      "[INFO 12-13 23:16:52] ax.service.ax_client: Completed trial 6 with data: {'z': (0.0, 0.0)}.\n",
      "[INFO 12-13 23:16:52] ax.service.ax_client: Generated new trial 7 with parameters {'a': -0.91481, 'b': 0.084259} using model Sobol.\n",
      "[INFO 12-13 23:16:52] ax.service.ax_client: Completed trial 7 with data: {'z': (0.0, 0.0)}.\n",
      "[INFO 12-13 23:16:52] ax.service.ax_client: Generated new trial 8 with parameters {'a': -0.863232, 'b': -0.558822} using model Sobol.\n",
      "[INFO 12-13 23:16:52] ax.service.ax_client: Completed trial 8 with data: {'z': (0.0, 0.0)}.\n",
      "[INFO 12-13 23:16:52] ax.service.ax_client: Generated new trial 9 with parameters {'a': 0.56824, 'b': 0.909416} using model Sobol.\n",
      "[INFO 12-13 23:16:52] ax.service.ax_client: Completed trial 9 with data: {'z': (0.0, 0.0)}.\n",
      "[INFO 12-13 23:16:52] ax.service.ax_client: Generated new trial 10 with parameters {'a': 0.039087, 'b': -0.00493} using model Sobol.\n",
      "[INFO 12-13 23:16:52] ax.service.ax_client: Completed trial 10 with data: {'z': (0.157999, 0.0)}.\n",
      "[INFO 12-13 23:16:52] ax.service.ax_client: Generated new trial 11 with parameters {'a': -0.279381, 'b': 0.40043} using model Sobol.\n"
     ]
    },
    {
     "name": "stdout",
     "output_type": "stream",
     "text": [
      "Batch size 2: Sync time: 17.888005099999646, Error: 3.2830280151108227e-06\n"
     ]
    },
    {
     "name": "stderr",
     "output_type": "stream",
     "text": [
      "[INFO 12-13 23:16:52] ax.service.ax_client: Completed trial 11 with data: {'z': (0.0, 0.0)}.\n",
      "[INFO 12-13 23:16:52] ax.service.ax_client: Generated new trial 12 with parameters {'a': -0.111558, 'b': -0.263403} using model Sobol.\n",
      "[INFO 12-13 23:16:52] ax.service.ax_client: Completed trial 12 with data: {'z': (1.1e-05, 0.0)}.\n",
      "[INFO 12-13 23:16:52] ax.service.ax_client: Generated new trial 13 with parameters {'a': 0.316588, 'b': 0.143308} using model Sobol.\n",
      "[INFO 12-13 23:16:52] ax.service.ax_client: Completed trial 13 with data: {'z': (0.461432, 0.0)}.\n",
      "[INFO 12-13 23:16:52] ax.service.ax_client: Generated new trial 14 with parameters {'a': 0.790807, 'b': -0.801326} using model Sobol.\n",
      "[INFO 12-13 23:16:52] ax.service.ax_client: Completed trial 14 with data: {'z': (0.0, 0.0)}.\n",
      "[INFO 12-13 23:16:52] ax.service.ax_client: Generated new trial 15 with parameters {'a': -0.531108, 'b': 0.667514} using model Sobol.\n",
      "[INFO 12-13 23:16:52] ax.service.ax_client: Completed trial 15 with data: {'z': (0.0, 0.0)}.\n",
      "[INFO 12-13 23:16:52] ax.service.ax_client: Generated new trial 16 with parameters {'a': -0.589232, 'b': -0.854847} using model Sobol.\n",
      "[INFO 12-13 23:16:52] ax.service.ax_client: Completed trial 16 with data: {'z': (0.0, 0.0)}.\n",
      "[INFO 12-13 23:16:52] ax.service.ax_client: Generated new trial 17 with parameters {'a': 0.856736, 'b': 0.738629} using model Sobol.\n",
      "[INFO 12-13 23:16:52] ax.service.ax_client: Completed trial 17 with data: {'z': (0.0, 0.0)}.\n",
      "[INFO 12-13 23:16:52] ax.service.ax_client: Generated new trial 18 with parameters {'a': 0.250652, 'b': -0.330485} using model Sobol.\n",
      "[INFO 12-13 23:16:52] ax.service.ax_client: Completed trial 18 with data: {'z': (8.3e-05, 0.0)}.\n",
      "[INFO 12-13 23:16:52] ax.service.ax_client: Generated new trial 19 with parameters {'a': -0.053441, 'b': 0.20061} using model Sobol.\n",
      "[INFO 12-13 23:16:52] ax.service.ax_client: Completed trial 19 with data: {'z': (0.024289, 0.0)}.\n"
     ]
    },
    {
     "name": "stdout",
     "output_type": "stream",
     "text": [
      "Using GPEI (Exploitation)\n"
     ]
    },
    {
     "name": "stderr",
     "output_type": "stream",
     "text": [
      "[INFO 12-13 23:16:53] ax.service.ax_client: Generated new trial 20 with parameters {'a': 0.35706, 'b': 0.100492} using model GPEI.\n",
      "[INFO 12-13 23:16:53] ax.service.ax_client: Completed trial 20 with data: {'z': (0.291299, 0.0)}.\n",
      "[INFO 12-13 23:16:54] ax.service.ax_client: Generated new trial 21 with parameters {'a': 0.311963, 'b': 0.201862} using model GPEI.\n",
      "[INFO 12-13 23:16:54] ax.service.ax_client: Completed trial 21 with data: {'z': (0.31804, 0.0)}.\n"
     ]
    },
    {
     "name": "stdout",
     "output_type": "stream",
     "text": [
      "Using GPEI (Exploitation)\n"
     ]
    },
    {
     "name": "stderr",
     "output_type": "stream",
     "text": [
      "[INFO 12-13 23:16:55] ax.service.ax_client: Generated new trial 22 with parameters {'a': 0.264708, 'b': 0.149416} using model GPEI.\n",
      "[INFO 12-13 23:16:55] ax.service.ax_client: Completed trial 22 with data: {'z': (0.717881, 0.0)}.\n",
      "[INFO 12-13 23:16:56] ax.service.ax_client: Generated new trial 23 with parameters {'a': 0.24789, 'b': 0.126418} using model GPEI.\n",
      "[INFO 12-13 23:16:56] ax.service.ax_client: Completed trial 23 with data: {'z': (0.86108, 0.0)}.\n"
     ]
    },
    {
     "name": "stdout",
     "output_type": "stream",
     "text": [
      "Using GPEI (Exploitation)\n"
     ]
    },
    {
     "name": "stderr",
     "output_type": "stream",
     "text": [
      "[INFO 12-13 23:16:57] ax.service.ax_client: Generated new trial 24 with parameters {'a': 0.214364, 'b': 0.083128} using model GPEI.\n",
      "[INFO 12-13 23:16:57] ax.service.ax_client: Completed trial 24 with data: {'z': (0.97575, 0.0)}.\n",
      "[INFO 12-13 23:16:58] ax.service.ax_client: Generated new trial 25 with parameters {'a': 0.192792, 'b': 0.107272} using model GPEI.\n",
      "[INFO 12-13 23:16:58] ax.service.ax_client: Completed trial 25 with data: {'z': (0.994772, 0.0)}.\n"
     ]
    },
    {
     "name": "stdout",
     "output_type": "stream",
     "text": [
      "Using GPEI (Exploitation)\n"
     ]
    },
    {
     "name": "stderr",
     "output_type": "stream",
     "text": [
      "[INFO 12-13 23:16:58] ax.service.ax_client: Generated new trial 26 with parameters {'a': -1.0, 'b': 1.0} using model GPEI.\n",
      "[INFO 12-13 23:16:58] ax.service.ax_client: Completed trial 26 with data: {'z': (0.0, 0.0)}.\n",
      "[INFO 12-13 23:16:59] ax.service.ax_client: Generated new trial 27 with parameters {'a': 0.546884, 'b': 0.425054} using model GPEI.\n",
      "[INFO 12-13 23:16:59] ax.service.ax_client: Completed trial 27 with data: {'z': (1.2e-05, 0.0)}.\n"
     ]
    },
    {
     "name": "stdout",
     "output_type": "stream",
     "text": [
      "Using qNIPV (Exploration)\n"
     ]
    },
    {
     "name": "stderr",
     "output_type": "stream",
     "text": [
      "[INFO 12-13 23:17:00] ax.service.ax_client: Generated new trial 28 with parameters {'a': 0.197925, 'b': 0.10038} using model GPEI.\n",
      "[INFO 12-13 23:17:00] ax.service.ax_client: Completed trial 28 with data: {'z': (0.999777, 0.0)}.\n",
      "[INFO 12-13 23:17:00] ax.service.ax_client: Generated new trial 29 with parameters {'a': 0.692841, 'b': -0.052466} using model GPEI.\n",
      "[INFO 12-13 23:17:00] ax.service.ax_client: Completed trial 29 with data: {'z': (2e-06, 0.0)}.\n"
     ]
    },
    {
     "name": "stdout",
     "output_type": "stream",
     "text": [
      "Using GPEI (Exploitation)\n"
     ]
    },
    {
     "name": "stderr",
     "output_type": "stream",
     "text": [
      "[INFO 12-13 23:17:01] ax.service.ax_client: Generated new trial 30 with parameters {'a': -1.0, 'b': 0.526719} using model GPEI.\n",
      "[INFO 12-13 23:17:01] ax.service.ax_client: Completed trial 30 with data: {'z': (0.0, 0.0)}.\n",
      "[INFO 12-13 23:17:02] ax.service.ax_client: Generated new trial 31 with parameters {'a': -0.089925, 'b': -0.694178} using model GPEI.\n",
      "[INFO 12-13 23:17:02] ax.service.ax_client: Completed trial 31 with data: {'z': (0.0, 0.0)}.\n"
     ]
    },
    {
     "name": "stdout",
     "output_type": "stream",
     "text": [
      "Using GPEI (Exploitation)\n"
     ]
    },
    {
     "name": "stderr",
     "output_type": "stream",
     "text": [
      "[INFO 12-13 23:17:02] ax.service.ax_client: Generated new trial 32 with parameters {'a': -1.0, 'b': -1.0} using model GPEI.\n",
      "[INFO 12-13 23:17:02] ax.service.ax_client: Completed trial 32 with data: {'z': (0.0, 0.0)}.\n",
      "[INFO 12-13 23:17:03] ax.service.ax_client: Generated new trial 33 with parameters {'a': 0.195523, 'b': 0.097384} using model GPEI.\n",
      "[INFO 12-13 23:17:03] ax.service.ax_client: Completed trial 33 with data: {'z': (0.998657, 0.0)}.\n"
     ]
    },
    {
     "name": "stdout",
     "output_type": "stream",
     "text": [
      "Using GPEI (Exploitation)\n"
     ]
    },
    {
     "name": "stderr",
     "output_type": "stream",
     "text": [
      "[INFO 12-13 23:17:04] ax.service.ax_client: Generated new trial 34 with parameters {'a': -0.34866, 'b': 0.038761} using model GPEI.\n",
      "[INFO 12-13 23:17:04] ax.service.ax_client: Completed trial 34 with data: {'z': (0.0, 0.0)}.\n",
      "[INFO 12-13 23:17:05] ax.service.ax_client: Generated new trial 35 with parameters {'a': 1.0, 'b': -0.29549} using model GPEI.\n",
      "[INFO 12-13 23:17:05] ax.service.ax_client: Completed trial 35 with data: {'z': (0.0, 0.0)}.\n"
     ]
    },
    {
     "name": "stdout",
     "output_type": "stream",
     "text": [
      "Using GPEI (Exploitation)\n"
     ]
    },
    {
     "name": "stderr",
     "output_type": "stream",
     "text": [
      "[INFO 12-13 23:17:05] ax.service.ax_client: Generated new trial 36 with parameters {'a': 0.122445, 'b': -1.0} using model GPEI.\n",
      "[INFO 12-13 23:17:05] ax.service.ax_client: Completed trial 36 with data: {'z': (0.0, 0.0)}.\n",
      "[INFO 12-13 23:17:06] ax.service.ax_client: Generated new trial 37 with parameters {'a': 0.189473, 'b': 1.0} using model GPEI.\n",
      "[INFO 12-13 23:17:06] ax.service.ax_client: Completed trial 37 with data: {'z': (0.0, 0.0)}.\n"
     ]
    },
    {
     "name": "stdout",
     "output_type": "stream",
     "text": [
      "Using GPEI (Exploitation)\n"
     ]
    },
    {
     "name": "stderr",
     "output_type": "stream",
     "text": [
      "[INFO 12-13 23:17:07] ax.service.ax_client: Generated new trial 38 with parameters {'a': -0.440917, 'b': -0.491964} using model GPEI.\n",
      "[INFO 12-13 23:17:07] ax.service.ax_client: Completed trial 38 with data: {'z': (0.0, 0.0)}.\n",
      "[INFO 12-13 23:17:08] ax.service.ax_client: Generated new trial 39 with parameters {'a': -0.60435, 'b': 1.0} using model GPEI.\n",
      "[INFO 12-13 23:17:08] ax.service.ax_client: Completed trial 39 with data: {'z': (0.0, 0.0)}.\n",
      "[INFO 12-13 23:17:08] ax.service.ax_client: Starting optimization with verbose logging. To disable logging, set the `verbose_logging` argument to `False`. Note that float values in the logs are rounded to 6 decimal points.\n",
      "[INFO 12-13 23:17:08] ax.service.utils.instantiation: Inferred value type of ParameterType.FLOAT for parameter a. If that is not the expected value type, you can explicitly specify 'value_type' ('int', 'float', 'bool' or 'str') in parameter dict.\n",
      "[INFO 12-13 23:17:08] ax.service.utils.instantiation: Inferred value type of ParameterType.FLOAT for parameter b. If that is not the expected value type, you can explicitly specify 'value_type' ('int', 'float', 'bool' or 'str') in parameter dict.\n",
      "[INFO 12-13 23:17:08] ax.service.utils.instantiation: Created search space: SearchSpace(parameters=[RangeParameter(name='a', parameter_type=FLOAT, range=[-1.0, 1.0]), RangeParameter(name='b', parameter_type=FLOAT, range=[-1.0, 1.0])], parameter_constraints=[]).\n",
      "[INFO 12-13 23:17:08] ax.service.ax_client: Generated new trial 0 with parameters {'a': -0.083396, 'b': -0.302219} using model Sobol.\n",
      "[INFO 12-13 23:17:08] ax.service.ax_client: Completed trial 0 with data: {'z': (6e-06, 0.0)}.\n",
      "[INFO 12-13 23:17:08] ax.service.ax_client: Generated new trial 1 with parameters {'a': 0.495098, 'b': 0.540832} using model Sobol.\n",
      "[INFO 12-13 23:17:08] ax.service.ax_client: Completed trial 1 with data: {'z': (1e-06, 0.0)}.\n",
      "[INFO 12-13 23:17:08] ax.service.ax_client: Generated new trial 2 with parameters {'a': 0.54097, 'b': -0.658479} using model Sobol.\n",
      "[INFO 12-13 23:17:08] ax.service.ax_client: Completed trial 2 with data: {'z': (0.0, 0.0)}.\n",
      "[INFO 12-13 23:17:08] ax.service.ax_client: Generated new trial 3 with parameters {'a': -0.881268, 'b': 0.436521} using model Sobol.\n",
      "[INFO 12-13 23:17:08] ax.service.ax_client: Completed trial 3 with data: {'z': (0.0, 0.0)}.\n",
      "[INFO 12-13 23:17:08] ax.service.ax_client: Generated new trial 4 with parameters {'a': -0.691049, 'b': -0.814075} using model Sobol.\n",
      "[INFO 12-13 23:17:08] ax.service.ax_client: Completed trial 4 with data: {'z': (0.0, 0.0)}.\n",
      "[INFO 12-13 23:17:08] ax.service.ax_client: Generated new trial 5 with parameters {'a': 0.8557, 'b': 0.090986} using model Sobol.\n",
      "[INFO 12-13 23:17:08] ax.service.ax_client: Completed trial 5 with data: {'z': (0.0, 0.0)}.\n",
      "[INFO 12-13 23:17:08] ax.service.ax_client: Generated new trial 6 with parameters {'a': 0.186721, 'b': -0.209641} using model Sobol.\n",
      "[INFO 12-13 23:17:08] ax.service.ax_client: Completed trial 6 with data: {'z': (0.008208, 0.0)}.\n",
      "[INFO 12-13 23:17:08] ax.service.ax_client: Generated new trial 7 with parameters {'a': -0.266287, 'b': 0.94737} using model Sobol.\n",
      "[INFO 12-13 23:17:08] ax.service.ax_client: Completed trial 7 with data: {'z': (0.0, 0.0)}.\n",
      "[INFO 12-13 23:17:08] ax.service.ax_client: Generated new trial 8 with parameters {'a': -0.432246, 'b': -0.579836} using model Sobol.\n",
      "[INFO 12-13 23:17:08] ax.service.ax_client: Completed trial 8 with data: {'z': (0.0, 0.0)}.\n",
      "[INFO 12-13 23:17:08] ax.service.ax_client: Generated new trial 9 with parameters {'a': 0.020509, 'b': 0.325653} using model Sobol.\n",
      "[INFO 12-13 23:17:08] ax.service.ax_client: Completed trial 9 with data: {'z': (0.015657, 0.0)}.\n",
      "[INFO 12-13 23:17:08] ax.service.ax_client: Generated new trial 10 with parameters {'a': 0.943418, 'b': -0.444276} using model Sobol.\n",
      "[INFO 12-13 23:17:08] ax.service.ax_client: Completed trial 10 with data: {'z': (0.0, 0.0)}.\n"
     ]
    },
    {
     "name": "stdout",
     "output_type": "stream",
     "text": [
      "Batch size 2: Sync time: 15.87836100000095, Error: 0.0002225242896972679\n"
     ]
    },
    {
     "name": "stderr",
     "output_type": "stream",
     "text": [
      "[INFO 12-13 23:17:08] ax.service.ax_client: Generated new trial 11 with parameters {'a': -0.603095, 'b': 0.713162} using model Sobol.\n",
      "[INFO 12-13 23:17:08] ax.service.ax_client: Completed trial 11 with data: {'z': (0.0, 0.0)}.\n",
      "[INFO 12-13 23:17:08] ax.service.ax_client: Generated new trial 12 with parameters {'a': -0.793309, 'b': -0.036273} using model Sobol.\n",
      "[INFO 12-13 23:17:08] ax.service.ax_client: Completed trial 12 with data: {'z': (0.0, 0.0)}.\n",
      "[INFO 12-13 23:17:08] ax.service.ax_client: Generated new trial 13 with parameters {'a': 0.628692, 'b': 0.806228} using model Sobol.\n",
      "[INFO 12-13 23:17:08] ax.service.ax_client: Completed trial 13 with data: {'z': (0.0, 0.0)}.\n",
      "[INFO 12-13 23:17:08] ax.service.ax_client: Generated new trial 14 with parameters {'a': 0.328891, 'b': -0.923906} using model Sobol.\n",
      "[INFO 12-13 23:17:08] ax.service.ax_client: Completed trial 14 with data: {'z': (0.0, 0.0)}.\n",
      "[INFO 12-13 23:17:08] ax.service.ax_client: Generated new trial 15 with parameters {'a': -0.249352, 'b': 0.170545} using model Sobol.\n",
      "[INFO 12-13 23:17:08] ax.service.ax_client: Completed trial 15 with data: {'z': (3.2e-05, 0.0)}.\n",
      "[INFO 12-13 23:17:08] ax.service.ax_client: Generated new trial 16 with parameters {'a': -0.145528, 'b': -0.941552} using model Sobol.\n",
      "[INFO 12-13 23:17:08] ax.service.ax_client: Completed trial 16 with data: {'z': (0.0, 0.0)}.\n",
      "[INFO 12-13 23:17:08] ax.service.ax_client: Generated new trial 17 with parameters {'a': 0.307235, 'b': 0.211492} using model Sobol.\n",
      "[INFO 12-13 23:17:08] ax.service.ax_client: Completed trial 17 with data: {'z': (0.302252, 0.0)}.\n",
      "[INFO 12-13 23:17:08] ax.service.ax_client: Generated new trial 18 with parameters {'a': 0.728106, 'b': -0.081142} using model Sobol.\n",
      "[INFO 12-13 23:17:08] ax.service.ax_client: Completed trial 18 with data: {'z': (0.0, 0.0)}.\n",
      "[INFO 12-13 23:17:08] ax.service.ax_client: Generated new trial 19 with parameters {'a': -0.818399, 'b': 0.827765} using model Sobol.\n",
      "[INFO 12-13 23:17:08] ax.service.ax_client: Completed trial 19 with data: {'z': (0.0, 0.0)}.\n"
     ]
    },
    {
     "name": "stdout",
     "output_type": "stream",
     "text": [
      "Using GPEI (Exploitation)\n"
     ]
    },
    {
     "name": "stderr",
     "output_type": "stream",
     "text": [
      "[INFO 12-13 23:17:09] ax.service.ax_client: Generated new trial 20 with parameters {'a': 0.331257, 'b': 0.172626} using model GPEI.\n",
      "[INFO 12-13 23:17:09] ax.service.ax_client: Completed trial 20 with data: {'z': (0.324603, 0.0)}.\n",
      "[INFO 12-13 23:17:10] ax.service.ax_client: Generated new trial 21 with parameters {'a': 0.398125, 'b': 0.169642} using model GPEI.\n",
      "[INFO 12-13 23:17:10] ax.service.ax_client: Completed trial 21 with data: {'z': (0.110231, 0.0)}.\n"
     ]
    },
    {
     "name": "stdout",
     "output_type": "stream",
     "text": [
      "Using GPEI (Exploitation)\n"
     ]
    },
    {
     "name": "stderr",
     "output_type": "stream",
     "text": [
      "[INFO 12-13 23:17:11] ax.service.ax_client: Generated new trial 22 with parameters {'a': 0.329618, 'b': 0.345511} using model GPEI.\n",
      "[INFO 12-13 23:17:11] ax.service.ax_client: Completed trial 22 with data: {'z': (0.021199, 0.0)}.\n",
      "[INFO 12-13 23:17:12] ax.service.ax_client: Generated new trial 23 with parameters {'a': 0.311934, 'b': 0.165193} using model GPEI.\n",
      "[INFO 12-13 23:17:12] ax.service.ax_client: Completed trial 23 with data: {'z': (0.432154, 0.0)}.\n"
     ]
    },
    {
     "name": "stdout",
     "output_type": "stream",
     "text": [
      "Using GPEI (Exploitation)\n"
     ]
    },
    {
     "name": "stderr",
     "output_type": "stream",
     "text": [
      "[INFO 12-13 23:17:12] ax.service.ax_client: Generated new trial 24 with parameters {'a': 0.293778, 'b': 0.151684} using model GPEI.\n",
      "[INFO 12-13 23:17:12] ax.service.ax_client: Completed trial 24 with data: {'z': (0.563676, 0.0)}.\n",
      "[INFO 12-13 23:17:13] ax.service.ax_client: Generated new trial 25 with parameters {'a': 0.270829, 'b': 0.126051} using model GPEI.\n",
      "[INFO 12-13 23:17:13] ax.service.ax_client: Completed trial 25 with data: {'z': (0.752189, 0.0)}.\n"
     ]
    },
    {
     "name": "stdout",
     "output_type": "stream",
     "text": [
      "Using qNIPV (Exploration)\n"
     ]
    },
    {
     "name": "stderr",
     "output_type": "stream",
     "text": [
      "[INFO 12-13 23:17:13] ax.service.ax_client: Generated new trial 26 with parameters {'a': 0.224431, 'b': 0.082446} using model GPEI.\n",
      "[INFO 12-13 23:17:13] ax.service.ax_client: Completed trial 26 with data: {'z': (0.955757, 0.0)}.\n",
      "[INFO 12-13 23:17:14] ax.service.ax_client: Generated new trial 27 with parameters {'a': 0.20411, 'b': 0.093743} using model GPEI.\n",
      "[INFO 12-13 23:17:14] ax.service.ax_client: Completed trial 27 with data: {'z': (0.997202, 0.0)}.\n"
     ]
    },
    {
     "name": "stdout",
     "output_type": "stream",
     "text": [
      "Using GPEI (Exploitation)\n"
     ]
    },
    {
     "name": "stderr",
     "output_type": "stream",
     "text": [
      "[INFO 12-13 23:17:15] ax.service.ax_client: Generated new trial 28 with parameters {'a': 0.179485, 'b': 0.105729} using model GPEI.\n",
      "[INFO 12-13 23:17:15] ax.service.ax_client: Completed trial 28 with data: {'z': (0.977571, 0.0)}.\n",
      "[INFO 12-13 23:17:15] ax.service.ax_client: Generated new trial 29 with parameters {'a': 1.0, 'b': -1.0} using model GPEI.\n",
      "[INFO 12-13 23:17:15] ax.service.ax_client: Completed trial 29 with data: {'z': (0.0, 0.0)}.\n"
     ]
    },
    {
     "name": "stdout",
     "output_type": "stream",
     "text": [
      "Using GPEI (Exploitation)\n"
     ]
    },
    {
     "name": "stderr",
     "output_type": "stream",
     "text": [
      "[INFO 12-13 23:17:16] ax.service.ax_client: Generated new trial 30 with parameters {'a': 0.01514, 'b': 0.659755} using model GPEI.\n",
      "[INFO 12-13 23:17:16] ax.service.ax_client: Completed trial 30 with data: {'z': (0.0, 0.0)}.\n",
      "[INFO 12-13 23:17:17] ax.service.ax_client: Generated new trial 31 with parameters {'a': -1.0, 'b': -0.46096} using model GPEI.\n",
      "[INFO 12-13 23:17:17] ax.service.ax_client: Completed trial 31 with data: {'z': (0.0, 0.0)}.\n"
     ]
    },
    {
     "name": "stdout",
     "output_type": "stream",
     "text": [
      "Using GPEI (Exploitation)\n"
     ]
    },
    {
     "name": "stderr",
     "output_type": "stream",
     "text": [
      "[INFO 12-13 23:17:17] ax.service.ax_client: Generated new trial 32 with parameters {'a': 1.0, 'b': 0.532584} using model GPEI.\n",
      "[INFO 12-13 23:17:17] ax.service.ax_client: Completed trial 32 with data: {'z': (0.0, 0.0)}.\n",
      "[INFO 12-13 23:17:19] ax.service.ax_client: Generated new trial 33 with parameters {'a': 0.199488, 'b': 0.09881} using model GPEI.\n",
      "[INFO 12-13 23:17:19] ax.service.ax_client: Completed trial 33 with data: {'z': (0.999916, 0.0)}.\n"
     ]
    },
    {
     "name": "stdout",
     "output_type": "stream",
     "text": [
      "Using GPEI (Exploitation)\n"
     ]
    },
    {
     "name": "stderr",
     "output_type": "stream",
     "text": [
      "[INFO 12-13 23:17:19] ax.service.ax_client: Generated new trial 34 with parameters {'a': 1.0, 'b': 1.0} using model GPEI.\n",
      "[INFO 12-13 23:17:19] ax.service.ax_client: Completed trial 34 with data: {'z': (0.0, 0.0)}.\n",
      "[INFO 12-13 23:17:20] ax.service.ax_client: Generated new trial 35 with parameters {'a': 0.200599, 'b': 0.101633} using model GPEI.\n",
      "[INFO 12-13 23:17:20] ax.service.ax_client: Completed trial 35 with data: {'z': (0.999849, 0.0)}.\n"
     ]
    },
    {
     "name": "stdout",
     "output_type": "stream",
     "text": [
      "Using GPEI (Exploitation)\n"
     ]
    },
    {
     "name": "stderr",
     "output_type": "stream",
     "text": [
      "[INFO 12-13 23:17:21] ax.service.ax_client: Generated new trial 36 with parameters {'a': 0.188893, 'b': -0.539236} using model GPEI.\n",
      "[INFO 12-13 23:17:21] ax.service.ax_client: Completed trial 36 with data: {'z': (0.0, 0.0)}.\n",
      "[INFO 12-13 23:17:22] ax.service.ax_client: Generated new trial 37 with parameters {'a': 0.253254, 'b': 1.0} using model GPEI.\n",
      "[INFO 12-13 23:17:22] ax.service.ax_client: Completed trial 37 with data: {'z': (0.0, 0.0)}.\n"
     ]
    },
    {
     "name": "stdout",
     "output_type": "stream",
     "text": [
      "Using GPEI (Exploitation)\n"
     ]
    },
    {
     "name": "stderr",
     "output_type": "stream",
     "text": [
      "[INFO 12-13 23:17:23] ax.service.ax_client: Generated new trial 38 with parameters {'a': -1.0, 'b': -1.0} using model GPEI.\n",
      "[INFO 12-13 23:17:23] ax.service.ax_client: Completed trial 38 with data: {'z': (0.0, 0.0)}.\n",
      "[INFO 12-13 23:17:24] ax.service.ax_client: Generated new trial 39 with parameters {'a': -0.448216, 'b': -0.178918} using model GPEI.\n",
      "[INFO 12-13 23:17:24] ax.service.ax_client: Completed trial 39 with data: {'z': (0.0, 0.0)}.\n",
      "[INFO 12-13 23:17:24] ax.service.ax_client: Starting optimization with verbose logging. To disable logging, set the `verbose_logging` argument to `False`. Note that float values in the logs are rounded to 6 decimal points.\n",
      "[INFO 12-13 23:17:24] ax.service.utils.instantiation: Inferred value type of ParameterType.FLOAT for parameter a. If that is not the expected value type, you can explicitly specify 'value_type' ('int', 'float', 'bool' or 'str') in parameter dict.\n",
      "[INFO 12-13 23:17:24] ax.service.utils.instantiation: Inferred value type of ParameterType.FLOAT for parameter b. If that is not the expected value type, you can explicitly specify 'value_type' ('int', 'float', 'bool' or 'str') in parameter dict.\n",
      "[INFO 12-13 23:17:24] ax.service.utils.instantiation: Created search space: SearchSpace(parameters=[RangeParameter(name='a', parameter_type=FLOAT, range=[-1.0, 1.0]), RangeParameter(name='b', parameter_type=FLOAT, range=[-1.0, 1.0])], parameter_constraints=[]).\n",
      "[INFO 12-13 23:17:24] ax.service.ax_client: Generated new trial 0 with parameters {'a': 0.947235, 'b': -0.40014} using model Sobol.\n",
      "[INFO 12-13 23:17:24] ax.service.ax_client: Completed trial 0 with data: {'z': (0.0, 0.0)}.\n",
      "[INFO 12-13 23:17:24] ax.service.ax_client: Generated new trial 1 with parameters {'a': -0.24583, 'b': 0.086521} using model Sobol.\n",
      "[INFO 12-13 23:17:24] ax.service.ax_client: Completed trial 1 with data: {'z': (4.8e-05, 0.0)}.\n",
      "[INFO 12-13 23:17:24] ax.service.ax_client: Generated new trial 2 with parameters {'a': -0.922777, 'b': -0.975817} using model Sobol.\n",
      "[INFO 12-13 23:17:24] ax.service.ax_client: Completed trial 2 with data: {'z': (0.0, 0.0)}.\n",
      "[INFO 12-13 23:17:24] ax.service.ax_client: Generated new trial 3 with parameters {'a': 0.127619, 'b': 0.537209} using model Sobol.\n",
      "[INFO 12-13 23:17:24] ax.service.ax_client: Completed trial 3 with data: {'z': (5.4e-05, 0.0)}.\n",
      "[INFO 12-13 23:17:24] ax.service.ax_client: Generated new trial 4 with parameters {'a': 0.399454, 'b': -0.524397} using model Sobol.\n",
      "[INFO 12-13 23:17:24] ax.service.ax_client: Completed trial 4 with data: {'z': (0.0, 0.0)}.\n",
      "[INFO 12-13 23:17:24] ax.service.ax_client: Generated new trial 5 with parameters {'a': -0.667268, 'b': 0.962757} using model Sobol.\n",
      "[INFO 12-13 23:17:24] ax.service.ax_client: Completed trial 5 with data: {'z': (0.0, 0.0)}.\n",
      "[INFO 12-13 23:17:24] ax.service.ax_client: Generated new trial 6 with parameters {'a': -0.468868, 'b': -0.100072} using model Sobol.\n",
      "[INFO 12-13 23:17:24] ax.service.ax_client: Completed trial 6 with data: {'z': (0.0, 0.0)}.\n",
      "[INFO 12-13 23:17:24] ax.service.ax_client: Generated new trial 7 with parameters {'a': 0.705429, 'b': 0.413451} using model Sobol.\n",
      "[INFO 12-13 23:17:24] ax.service.ax_client: Completed trial 7 with data: {'z': (0.0, 0.0)}.\n",
      "[INFO 12-13 23:17:24] ax.service.ax_client: Generated new trial 8 with parameters {'a': 0.562904, 'b': -0.829617} using model Sobol.\n",
      "[INFO 12-13 23:17:24] ax.service.ax_client: Completed trial 8 with data: {'z': (0.0, 0.0)}.\n",
      "[INFO 12-13 23:17:24] ax.service.ax_client: Generated new trial 9 with parameters {'a': -0.361493, 'b': 0.641242} using model Sobol.\n",
      "[INFO 12-13 23:17:24] ax.service.ax_client: Completed trial 9 with data: {'z': (0.0, 0.0)}.\n",
      "[INFO 12-13 23:17:24] ax.service.ax_client: Generated new trial 10 with parameters {'a': -0.556143, 'b': -0.295921} using model Sobol.\n",
      "[INFO 12-13 23:17:24] ax.service.ax_client: Completed trial 10 with data: {'z': (0.0, 0.0)}.\n",
      "[INFO 12-13 23:17:24] ax.service.ax_client: Generated new trial 11 with parameters {'a': 0.260984, 'b': 0.232557} using model Sobol.\n",
      "[INFO 12-13 23:17:24] ax.service.ax_client: Completed trial 11 with data: {'z': (0.344893, 0.0)}.\n"
     ]
    },
    {
     "name": "stdout",
     "output_type": "stream",
     "text": [
      "Batch size 2: Sync time: 16.05580740000005, Error: 8.384999748367594e-05\n"
     ]
    },
    {
     "name": "stderr",
     "output_type": "stream",
     "text": [
      "[INFO 12-13 23:17:24] ax.service.ax_client: Generated new trial 12 with parameters {'a': 0.016218, 'b': -0.203868} using model Sobol.\n",
      "[INFO 12-13 23:17:24] ax.service.ax_client: Completed trial 12 with data: {'z': (0.001826, 0.0)}.\n",
      "[INFO 12-13 23:17:24] ax.service.ax_client: Generated new trial 13 with parameters {'a': -0.784034, 'b': 0.267473} using model Sobol.\n",
      "[INFO 12-13 23:17:24] ax.service.ax_client: Completed trial 13 with data: {'z': (0.0, 0.0)}.\n",
      "[INFO 12-13 23:17:24] ax.service.ax_client: Generated new trial 14 with parameters {'a': -0.103085, 'b': -0.670167} using model Sobol.\n",
      "[INFO 12-13 23:17:24] ax.service.ax_client: Completed trial 14 with data: {'z': (0.0, 0.0)}.\n",
      "[INFO 12-13 23:17:24] ax.service.ax_client: Generated new trial 15 with parameters {'a': 0.839653, 'b': 0.85879} using model Sobol.\n",
      "[INFO 12-13 23:17:24] ax.service.ax_client: Completed trial 15 with data: {'z': (0.0, 0.0)}.\n",
      "[INFO 12-13 23:17:24] ax.service.ax_client: Generated new trial 16 with parameters {'a': 0.80382, 'b': -0.696284} using model Sobol.\n",
      "[INFO 12-13 23:17:24] ax.service.ax_client: Completed trial 16 with data: {'z': (0.0, 0.0)}.\n",
      "[INFO 12-13 23:17:24] ax.service.ax_client: Generated new trial 17 with parameters {'a': -0.005242, 'b': 0.759614} using model Sobol.\n",
      "[INFO 12-13 23:17:24] ax.service.ax_client: Completed trial 17 with data: {'z': (0.0, 0.0)}.\n",
      "[INFO 12-13 23:17:24] ax.service.ax_client: Generated new trial 18 with parameters {'a': -0.826205, 'b': -0.178208} using model Sobol.\n",
      "[INFO 12-13 23:17:24] ax.service.ax_client: Completed trial 18 with data: {'z': (0.0, 0.0)}.\n",
      "[INFO 12-13 23:17:24] ax.service.ax_client: Generated new trial 19 with parameters {'a': 0.121376, 'b': 0.366556} using model Sobol.\n",
      "[INFO 12-13 23:17:24] ax.service.ax_client: Completed trial 19 with data: {'z': (0.021032, 0.0)}.\n"
     ]
    },
    {
     "name": "stdout",
     "output_type": "stream",
     "text": [
      "Using GPEI (Exploitation)\n"
     ]
    },
    {
     "name": "stderr",
     "output_type": "stream",
     "text": [
      "[INFO 12-13 23:17:25] ax.service.ax_client: Generated new trial 20 with parameters {'a': 0.262514, 'b': 0.080714} using model GPEI.\n",
      "[INFO 12-13 23:17:25] ax.service.ax_client: Completed trial 20 with data: {'z': (0.807349, 0.0)}.\n",
      "[INFO 12-13 23:17:26] ax.service.ax_client: Generated new trial 21 with parameters {'a': 0.320247, 'b': 0.058039} using model GPEI.\n",
      "[INFO 12-13 23:17:26] ax.service.ax_client: Completed trial 21 with data: {'z': (0.444411, 0.0)}.\n",
      "[INFO 12-13 23:17:27] ax.service.ax_client: Generated new trial 22 with parameters {'a': 0.250036, 'b': 0.055293} using model GPEI.\n",
      "[INFO 12-13 23:17:27] ax.service.ax_client: Completed trial 22 with data: {'z': (0.79842, 0.0)}.\n"
     ]
    },
    {
     "name": "stdout",
     "output_type": "stream",
     "text": [
      "Using GPEI (Exploitation)\n"
     ]
    },
    {
     "name": "stderr",
     "output_type": "stream",
     "text": [
      "[INFO 12-13 23:17:28] ax.service.ax_client: Generated new trial 23 with parameters {'a': 0.24653, 'b': 0.08996} using model GPEI.\n",
      "[INFO 12-13 23:17:28] ax.service.ax_client: Completed trial 23 with data: {'z': (0.892889, 0.0)}.\n",
      "[INFO 12-13 23:17:29] ax.service.ax_client: Generated new trial 24 with parameters {'a': 0.192999, 'b': 0.100981} using model GPEI.\n",
      "[INFO 12-13 23:17:29] ax.service.ax_client: Completed trial 24 with data: {'z': (0.997504, 0.0)}.\n",
      "[INFO 12-13 23:17:30] ax.service.ax_client: Generated new trial 25 with parameters {'a': 0.653088, 'b': -0.055558} using model GPEI.\n",
      "[INFO 12-13 23:17:30] ax.service.ax_client: Completed trial 25 with data: {'z': (1e-05, 0.0)}.\n"
     ]
    },
    {
     "name": "stdout",
     "output_type": "stream",
     "text": [
      "Using GPEI (Exploitation)\n"
     ]
    },
    {
     "name": "stderr",
     "output_type": "stream",
     "text": [
      "[INFO 12-13 23:17:31] ax.service.ax_client: Generated new trial 26 with parameters {'a': 0.199369, 'b': 0.116756} using model GPEI.\n",
      "[INFO 12-13 23:17:31] ax.service.ax_client: Completed trial 26 with data: {'z': (0.98604, 0.0)}.\n",
      "[INFO 12-13 23:17:31] ax.service.ax_client: Generated new trial 27 with parameters {'a': -0.445933, 'b': -1.0} using model GPEI.\n",
      "[INFO 12-13 23:17:31] ax.service.ax_client: Completed trial 27 with data: {'z': (0.0, 0.0)}.\n",
      "[INFO 12-13 23:17:32] ax.service.ax_client: Generated new trial 28 with parameters {'a': 0.198962, 'b': 0.098884} using model GPEI.\n",
      "[INFO 12-13 23:17:32] ax.service.ax_client: Completed trial 28 with data: {'z': (0.999884, 0.0)}.\n"
     ]
    },
    {
     "name": "stdout",
     "output_type": "stream",
     "text": [
      "Using GPEI (Exploitation)\n"
     ]
    },
    {
     "name": "stderr",
     "output_type": "stream",
     "text": [
      "[INFO 12-13 23:17:33] ax.service.ax_client: Generated new trial 29 with parameters {'a': 0.395697, 'b': 1.0} using model GPEI.\n",
      "[INFO 12-13 23:17:33] ax.service.ax_client: Completed trial 29 with data: {'z': (0.0, 0.0)}.\n",
      "[INFO 12-13 23:17:34] ax.service.ax_client: Generated new trial 30 with parameters {'a': -1.0, 'b': 0.674901} using model GPEI.\n",
      "[INFO 12-13 23:17:34] ax.service.ax_client: Completed trial 30 with data: {'z': (0.0, 0.0)}.\n",
      "[INFO 12-13 23:17:35] ax.service.ax_client: Generated new trial 31 with parameters {'a': 0.170149, 'b': -1.0} using model GPEI.\n",
      "[INFO 12-13 23:17:35] ax.service.ax_client: Completed trial 31 with data: {'z': (0.0, 0.0)}.\n"
     ]
    },
    {
     "name": "stdout",
     "output_type": "stream",
     "text": [
      "Using GPEI (Exploitation)\n"
     ]
    },
    {
     "name": "stderr",
     "output_type": "stream",
     "text": [
      "[INFO 12-13 23:17:35] ax.service.ax_client: Generated new trial 32 with parameters {'a': -1.0, 'b': -0.557814} using model GPEI.\n",
      "[INFO 12-13 23:17:35] ax.service.ax_client: Completed trial 32 with data: {'z': (0.0, 0.0)}.\n",
      "[INFO 12-13 23:17:36] ax.service.ax_client: Generated new trial 33 with parameters {'a': 1.0, 'b': 0.135639} using model GPEI.\n",
      "[INFO 12-13 23:17:36] ax.service.ax_client: Completed trial 33 with data: {'z': (0.0, 0.0)}.\n",
      "[INFO 12-13 23:17:37] ax.service.ax_client: Generated new trial 34 with parameters {'a': -0.632691, 'b': -0.671252} using model GPEI.\n",
      "[INFO 12-13 23:17:37] ax.service.ax_client: Completed trial 34 with data: {'z': (0.0, 0.0)}.\n"
     ]
    },
    {
     "name": "stdout",
     "output_type": "stream",
     "text": [
      "Using GPEI (Exploitation)\n"
     ]
    },
    {
     "name": "stderr",
     "output_type": "stream",
     "text": [
      "[INFO 12-13 23:17:37] ax.service.ax_client: Generated new trial 35 with parameters {'a': 1.0, 'b': -1.0} using model GPEI.\n",
      "[INFO 12-13 23:17:37] ax.service.ax_client: Completed trial 35 with data: {'z': (0.0, 0.0)}.\n",
      "[INFO 12-13 23:17:38] ax.service.ax_client: Generated new trial 36 with parameters {'a': -0.280808, 'b': 1.0} using model GPEI.\n",
      "[INFO 12-13 23:17:38] ax.service.ax_client: Completed trial 36 with data: {'z': (0.0, 0.0)}.\n",
      "[INFO 12-13 23:17:39] ax.service.ax_client: Generated new trial 37 with parameters {'a': 0.479709, 'b': 0.667296} using model GPEI.\n",
      "[INFO 12-13 23:17:39] ax.service.ax_client: Completed trial 37 with data: {'z': (0.0, 0.0)}.\n"
     ]
    },
    {
     "name": "stdout",
     "output_type": "stream",
     "text": [
      "Using GPEI (Exploitation)\n"
     ]
    },
    {
     "name": "stderr",
     "output_type": "stream",
     "text": [
      "[INFO 12-13 23:17:40] ax.service.ax_client: Generated new trial 38 with parameters {'a': 1.0, 'b': 0.54567} using model GPEI.\n",
      "[INFO 12-13 23:17:40] ax.service.ax_client: Completed trial 38 with data: {'z': (0.0, 0.0)}.\n",
      "[INFO 12-13 23:17:40] ax.service.ax_client: Generated new trial 39 with parameters {'a': -1.0, 'b': 1.0} using model GPEI.\n",
      "[INFO 12-13 23:17:40] ax.service.ax_client: Completed trial 39 with data: {'z': (0.0, 0.0)}.\n",
      "[INFO 12-13 23:17:40] ax.service.ax_client: Starting optimization with verbose logging. To disable logging, set the `verbose_logging` argument to `False`. Note that float values in the logs are rounded to 6 decimal points.\n",
      "[INFO 12-13 23:17:40] ax.service.utils.instantiation: Inferred value type of ParameterType.FLOAT for parameter a. If that is not the expected value type, you can explicitly specify 'value_type' ('int', 'float', 'bool' or 'str') in parameter dict.\n",
      "[INFO 12-13 23:17:40] ax.service.utils.instantiation: Inferred value type of ParameterType.FLOAT for parameter b. If that is not the expected value type, you can explicitly specify 'value_type' ('int', 'float', 'bool' or 'str') in parameter dict.\n",
      "[INFO 12-13 23:17:40] ax.service.utils.instantiation: Created search space: SearchSpace(parameters=[RangeParameter(name='a', parameter_type=FLOAT, range=[-1.0, 1.0]), RangeParameter(name='b', parameter_type=FLOAT, range=[-1.0, 1.0])], parameter_constraints=[]).\n",
      "[INFO 12-13 23:17:40] ax.service.ax_client: Generated new trial 0 with parameters {'a': -0.450439, 'b': -0.106242} using model Sobol.\n",
      "[INFO 12-13 23:17:40] ax.service.ax_client: Completed trial 0 with data: {'z': (0.0, 0.0)}.\n",
      "[INFO 12-13 23:17:40] ax.service.ax_client: Generated new trial 1 with parameters {'a': 0.793507, 'b': 0.864114} using model Sobol.\n",
      "[INFO 12-13 23:17:40] ax.service.ax_client: Completed trial 1 with data: {'z': (0.0, 0.0)}.\n",
      "[INFO 12-13 23:17:40] ax.service.ax_client: Generated new trial 2 with parameters {'a': 0.138844, 'b': -0.9091} using model Sobol.\n",
      "[INFO 12-13 23:17:40] ax.service.ax_client: Completed trial 2 with data: {'z': (0.0, 0.0)}.\n",
      "[INFO 12-13 23:17:40] ax.service.ax_client: Generated new trial 3 with parameters {'a': -0.609008, 'b': 0.182602} using model Sobol.\n",
      "[INFO 12-13 23:17:40] ax.service.ax_client: Completed trial 3 with data: {'z': (0.0, 0.0)}.\n",
      "[INFO 12-13 23:17:40] ax.service.ax_client: Generated new trial 4 with parameters {'a': -0.959363, 'b': -0.538672} using model Sobol.\n",
      "[INFO 12-13 23:17:40] ax.service.ax_client: Completed trial 4 with data: {'z': (0.0, 0.0)}.\n",
      "[INFO 12-13 23:17:40] ax.service.ax_client: Generated new trial 5 with parameters {'a': 0.304511, 'b': 0.312047} using model Sobol.\n",
      "[INFO 12-13 23:17:40] ax.service.ax_client: Completed trial 5 with data: {'z': (0.061156, 0.0)}.\n",
      "[INFO 12-13 23:17:40] ax.service.ax_client: Generated new trial 6 with parameters {'a': 0.645942, 'b': -0.478242} using model Sobol.\n",
      "[INFO 12-13 23:17:40] ax.service.ax_client: Completed trial 6 with data: {'z': (0.0, 0.0)}.\n",
      "[INFO 12-13 23:17:40] ax.service.ax_client: Generated new trial 7 with parameters {'a': -0.114026, 'b': 0.735996} using model Sobol.\n",
      "[INFO 12-13 23:17:40] ax.service.ax_client: Completed trial 7 with data: {'z': (0.0, 0.0)}.\n",
      "[INFO 12-13 23:17:40] ax.service.ax_client: Generated new trial 8 with parameters {'a': -0.148684, 'b': -0.833565} using model Sobol.\n",
      "[INFO 12-13 23:17:40] ax.service.ax_client: Completed trial 8 with data: {'z': (0.0, 0.0)}.\n",
      "[INFO 12-13 23:17:40] ax.service.ax_client: Generated new trial 9 with parameters {'a': 0.619089, 'b': 0.075695} using model Sobol.\n",
      "[INFO 12-13 23:17:40] ax.service.ax_client: Completed trial 9 with data: {'z': (0.000149, 0.0)}.\n",
      "[INFO 12-13 23:17:40] ax.service.ax_client: Generated new trial 10 with parameters {'a': 0.464181, 'b': -0.152052} using model Sobol.\n",
      "[INFO 12-13 23:17:41] ax.service.ax_client: Completed trial 10 with data: {'z': (0.001273, 0.0)}.\n",
      "[INFO 12-13 23:17:41] ax.service.ax_client: Generated new trial 11 with parameters {'a': -0.807498, 'b': 0.878553} using model Sobol.\n",
      "[INFO 12-13 23:17:41] ax.service.ax_client: Completed trial 11 with data: {'z': (0.0, 0.0)}.\n"
     ]
    },
    {
     "name": "stdout",
     "output_type": "stream",
     "text": [
      "Batch size 3: Sync time: 16.54113899999902, Error: 0.00011607308024685903\n"
     ]
    },
    {
     "name": "stderr",
     "output_type": "stream",
     "text": [
      "[INFO 12-13 23:17:41] ax.service.ax_client: Generated new trial 12 with parameters {'a': -0.628037, 'b': -0.280034} using model Sobol.\n",
      "[INFO 12-13 23:17:41] ax.service.ax_client: Completed trial 12 with data: {'z': (0.0, 0.0)}.\n",
      "[INFO 12-13 23:17:41] ax.service.ax_client: Generated new trial 13 with parameters {'a': 0.09637, 'b': 0.50666} using model Sobol.\n",
      "[INFO 12-13 23:17:41] ax.service.ax_client: Completed trial 13 with data: {'z': (0.00015, 0.0)}.\n",
      "[INFO 12-13 23:17:41] ax.service.ax_client: Generated new trial 14 with parameters {'a': 0.937557, 'b': -0.703981} using model Sobol.\n",
      "[INFO 12-13 23:17:41] ax.service.ax_client: Completed trial 14 with data: {'z': (0.0, 0.0)}.\n",
      "[INFO 12-13 23:17:41] ax.service.ax_client: Generated new trial 15 with parameters {'a': -0.282944, 'b': 0.446229} using model Sobol.\n",
      "[INFO 12-13 23:17:41] ax.service.ax_client: Completed trial 15 with data: {'z': (0.0, 0.0)}.\n",
      "[INFO 12-13 23:17:41] ax.service.ax_client: Generated new trial 16 with parameters {'a': -0.337112, 'b': -0.664581} using model Sobol.\n",
      "[INFO 12-13 23:17:41] ax.service.ax_client: Completed trial 16 with data: {'z': (0.0, 0.0)}.\n",
      "[INFO 12-13 23:17:41] ax.service.ax_client: Generated new trial 17 with parameters {'a': 0.93018, 'b': 0.422458} using model Sobol.\n",
      "[INFO 12-13 23:17:41] ax.service.ax_client: Completed trial 17 with data: {'z': (0.0, 0.0)}.\n",
      "[INFO 12-13 23:17:41] ax.service.ax_client: Generated new trial 18 with parameters {'a': 0.025517, 'b': -0.350257} using model Sobol.\n",
      "[INFO 12-13 23:17:41] ax.service.ax_client: Completed trial 18 with data: {'z': (9e-06, 0.0)}.\n",
      "[INFO 12-13 23:17:41] ax.service.ax_client: Generated new trial 19 with parameters {'a': -0.745681, 'b': 0.623754} using model Sobol.\n",
      "[INFO 12-13 23:17:41] ax.service.ax_client: Completed trial 19 with data: {'z': (0.0, 0.0)}.\n"
     ]
    },
    {
     "name": "stdout",
     "output_type": "stream",
     "text": [
      "Using GPEI (Exploitation)\n"
     ]
    },
    {
     "name": "stderr",
     "output_type": "stream",
     "text": [
      "[INFO 12-13 23:17:42] ax.service.ax_client: Generated new trial 20 with parameters {'a': 0.316797, 'b': 1.0} using model GPEI.\n",
      "[INFO 12-13 23:17:42] ax.service.ax_client: Completed trial 20 with data: {'z': (0.0, 0.0)}.\n",
      "[INFO 12-13 23:17:43] ax.service.ax_client: Generated new trial 21 with parameters {'a': 0.298105, 'b': 0.237303} using model GPEI.\n",
      "[INFO 12-13 23:17:43] ax.service.ax_client: Completed trial 21 with data: {'z': (0.240788, 0.0)}.\n",
      "[INFO 12-13 23:17:44] ax.service.ax_client: Generated new trial 22 with parameters {'a': 0.367598, 'b': 0.227193} using model GPEI.\n",
      "[INFO 12-13 23:17:44] ax.service.ax_client: Completed trial 22 with data: {'z': (0.109334, 0.0)}.\n"
     ]
    },
    {
     "name": "stdout",
     "output_type": "stream",
     "text": [
      "Using qNIPV (Exploration)\n"
     ]
    },
    {
     "name": "stderr",
     "output_type": "stream",
     "text": [
      "[INFO 12-13 23:17:44] ax.service.ax_client: Generated new trial 23 with parameters {'a': 0.288423, 'b': 0.226137} using model GPEI.\n",
      "[INFO 12-13 23:17:44] ax.service.ax_client: Completed trial 23 with data: {'z': (0.305302, 0.0)}.\n",
      "[INFO 12-13 23:17:45] ax.service.ax_client: Generated new trial 24 with parameters {'a': 0.274168, 'b': 0.206872} using model GPEI.\n",
      "[INFO 12-13 23:17:45] ax.service.ax_client: Completed trial 24 with data: {'z': (0.429076, 0.0)}.\n",
      "[INFO 12-13 23:17:45] ax.service.ax_client: Generated new trial 25 with parameters {'a': 0.259102, 'b': 0.18363} using model GPEI.\n",
      "[INFO 12-13 23:17:45] ax.service.ax_client: Completed trial 25 with data: {'z': (0.591937, 0.0)}.\n"
     ]
    },
    {
     "name": "stdout",
     "output_type": "stream",
     "text": [
      "Using GPEI (Exploitation)\n"
     ]
    },
    {
     "name": "stderr",
     "output_type": "stream",
     "text": [
      "[INFO 12-13 23:17:46] ax.service.ax_client: Generated new trial 26 with parameters {'a': 0.241683, 'b': 0.15692} using model GPEI.\n",
      "[INFO 12-13 23:17:46] ax.service.ax_client: Completed trial 26 with data: {'z': (0.779684, 0.0)}.\n",
      "[INFO 12-13 23:17:47] ax.service.ax_client: Generated new trial 27 with parameters {'a': 0.194828, 'b': 0.094796} using model GPEI.\n",
      "[INFO 12-13 23:17:47] ax.service.ax_client: Completed trial 27 with data: {'z': (0.997312, 0.0)}.\n",
      "[INFO 12-13 23:17:48] ax.service.ax_client: Generated new trial 28 with parameters {'a': 0.164362, 'b': 0.117835} using model GPEI.\n",
      "[INFO 12-13 23:17:48] ax.service.ax_client: Completed trial 28 with data: {'z': (0.923662, 0.0)}.\n"
     ]
    },
    {
     "name": "stdout",
     "output_type": "stream",
     "text": [
      "Using GPEI (Exploitation)\n"
     ]
    },
    {
     "name": "stderr",
     "output_type": "stream",
     "text": [
      "[INFO 12-13 23:17:48] ax.service.ax_client: Generated new trial 29 with parameters {'a': 0.220839, 'b': 0.086308} using model GPEI.\n",
      "[INFO 12-13 23:17:48] ax.service.ax_client: Completed trial 29 with data: {'z': (0.969392, 0.0)}.\n",
      "[INFO 12-13 23:17:49] ax.service.ax_client: Generated new trial 30 with parameters {'a': -0.721403, 'b': -1.0} using model GPEI.\n",
      "[INFO 12-13 23:17:49] ax.service.ax_client: Completed trial 30 with data: {'z': (0.0, 0.0)}.\n",
      "[INFO 12-13 23:17:49] ax.service.ax_client: Generated new trial 31 with parameters {'a': 0.579943, 'b': -1.0} using model GPEI.\n",
      "[INFO 12-13 23:17:49] ax.service.ax_client: Completed trial 31 with data: {'z': (0.0, 0.0)}.\n"
     ]
    },
    {
     "name": "stdout",
     "output_type": "stream",
     "text": [
      "Using GPEI (Exploitation)\n"
     ]
    },
    {
     "name": "stderr",
     "output_type": "stream",
     "text": [
      "[INFO 12-13 23:17:51] ax.service.ax_client: Generated new trial 32 with parameters {'a': 0.199755, 'b': 0.100145} using model GPEI.\n",
      "[INFO 12-13 23:17:51] ax.service.ax_client: Completed trial 32 with data: {'z': (0.999996, 0.0)}.\n",
      "[INFO 12-13 23:17:51] ax.service.ax_client: Generated new trial 33 with parameters {'a': 1.0, 'b': -0.165292} using model GPEI.\n",
      "[INFO 12-13 23:17:51] ax.service.ax_client: Completed trial 33 with data: {'z': (0.0, 0.0)}.\n",
      "[INFO 12-13 23:17:52] ax.service.ax_client: Generated new trial 34 with parameters {'a': -1.0, 'b': 0.003274} using model GPEI.\n",
      "[INFO 12-13 23:17:52] ax.service.ax_client: Completed trial 34 with data: {'z': (0.0, 0.0)}.\n"
     ]
    },
    {
     "name": "stdout",
     "output_type": "stream",
     "text": [
      "Using GPEI (Exploitation)\n"
     ]
    },
    {
     "name": "stderr",
     "output_type": "stream",
     "text": [
      "[INFO 12-13 23:17:52] ax.service.ax_client: Generated new trial 35 with parameters {'a': -0.425548, 'b': 1.0} using model GPEI.\n",
      "[INFO 12-13 23:17:52] ax.service.ax_client: Completed trial 35 with data: {'z': (0.0, 0.0)}.\n",
      "[INFO 12-13 23:17:53] ax.service.ax_client: Generated new trial 36 with parameters {'a': -1.0, 'b': -1.0} using model GPEI.\n",
      "[INFO 12-13 23:17:53] ax.service.ax_client: Completed trial 36 with data: {'z': (0.0, 0.0)}.\n",
      "[INFO 12-13 23:17:54] ax.service.ax_client: Generated new trial 37 with parameters {'a': 0.199123, 'b': 0.101297} using model GPEI.\n",
      "[INFO 12-13 23:17:54] ax.service.ax_client: Completed trial 37 with data: {'z': (0.999877, 0.0)}.\n"
     ]
    },
    {
     "name": "stdout",
     "output_type": "stream",
     "text": [
      "Using GPEI (Exploitation)\n"
     ]
    },
    {
     "name": "stderr",
     "output_type": "stream",
     "text": [
      "[INFO 12-13 23:17:54] ax.service.ax_client: Generated new trial 38 with parameters {'a': 0.314335, 'b': -0.573585} using model GPEI.\n",
      "[INFO 12-13 23:17:54] ax.service.ax_client: Completed trial 38 with data: {'z': (0.0, 0.0)}.\n",
      "[INFO 12-13 23:17:55] ax.service.ax_client: Generated new trial 39 with parameters {'a': -1.0, 'b': 0.388099} using model GPEI.\n",
      "[INFO 12-13 23:17:55] ax.service.ax_client: Completed trial 39 with data: {'z': (0.0, 0.0)}.\n",
      "[INFO 12-13 23:17:55] ax.service.ax_client: Starting optimization with verbose logging. To disable logging, set the `verbose_logging` argument to `False`. Note that float values in the logs are rounded to 6 decimal points.\n",
      "[INFO 12-13 23:17:55] ax.service.utils.instantiation: Inferred value type of ParameterType.FLOAT for parameter a. If that is not the expected value type, you can explicitly specify 'value_type' ('int', 'float', 'bool' or 'str') in parameter dict.\n",
      "[INFO 12-13 23:17:55] ax.service.utils.instantiation: Inferred value type of ParameterType.FLOAT for parameter b. If that is not the expected value type, you can explicitly specify 'value_type' ('int', 'float', 'bool' or 'str') in parameter dict.\n",
      "[INFO 12-13 23:17:55] ax.service.utils.instantiation: Created search space: SearchSpace(parameters=[RangeParameter(name='a', parameter_type=FLOAT, range=[-1.0, 1.0]), RangeParameter(name='b', parameter_type=FLOAT, range=[-1.0, 1.0])], parameter_constraints=[]).\n",
      "[INFO 12-13 23:17:55] ax.service.ax_client: Generated new trial 0 with parameters {'a': -0.813726, 'b': 0.33404} using model Sobol.\n",
      "[INFO 12-13 23:17:55] ax.service.ax_client: Completed trial 0 with data: {'z': (0.0, 0.0)}.\n",
      "[INFO 12-13 23:17:55] ax.service.ax_client: Generated new trial 1 with parameters {'a': 0.833187, 'b': -0.440771} using model Sobol.\n",
      "[INFO 12-13 23:17:55] ax.service.ax_client: Completed trial 1 with data: {'z': (0.0, 0.0)}.\n",
      "[INFO 12-13 23:17:55] ax.service.ax_client: Generated new trial 2 with parameters {'a': 0.440448, 'b': 0.660386} using model Sobol.\n",
      "[INFO 12-13 23:17:55] ax.service.ax_client: Completed trial 2 with data: {'z': (0.0, 0.0)}.\n",
      "[INFO 12-13 23:17:55] ax.service.ax_client: Generated new trial 3 with parameters {'a': -0.460367, 'b': -0.548262} using model Sobol.\n",
      "[INFO 12-13 23:17:55] ax.service.ax_client: Completed trial 3 with data: {'z': (0.0, 0.0)}.\n",
      "[INFO 12-13 23:17:55] ax.service.ax_client: Generated new trial 4 with parameters {'a': -0.012821, 'b': 0.816578} using model Sobol.\n",
      "[INFO 12-13 23:17:55] ax.service.ax_client: Completed trial 4 with data: {'z': (0.0, 0.0)}.\n",
      "[INFO 12-13 23:17:55] ax.service.ax_client: Generated new trial 5 with parameters {'a': 0.024717, 'b': -0.954571} using model Sobol.\n",
      "[INFO 12-13 23:17:55] ax.service.ax_client: Completed trial 5 with data: {'z': (0.0, 0.0)}.\n",
      "[INFO 12-13 23:17:55] ax.service.ax_client: Generated new trial 6 with parameters {'a': 0.640032, 'b': 0.177856} using model Sobol.\n",
      "[INFO 12-13 23:17:55] ax.service.ax_client: Completed trial 6 with data: {'z': (4.6e-05, 0.0)}.\n",
      "[INFO 12-13 23:17:55] ax.service.ax_client: Generated new trial 7 with parameters {'a': -0.651408, 'b': -0.034455} using model Sobol.\n",
      "[INFO 12-13 23:17:55] ax.service.ax_client: Completed trial 7 with data: {'z': (0.0, 0.0)}.\n",
      "[INFO 12-13 23:17:55] ax.service.ax_client: Generated new trial 8 with parameters {'a': -0.51267, 'b': 0.624121} using model Sobol.\n",
      "[INFO 12-13 23:17:55] ax.service.ax_client: Completed trial 8 with data: {'z': (0.0, 0.0)}.\n",
      "[INFO 12-13 23:17:55] ax.service.ax_client: Generated new trial 9 with parameters {'a': 0.524014, 'b': -0.728815} using model Sobol.\n",
      "[INFO 12-13 23:17:55] ax.service.ax_client: Completed trial 9 with data: {'z': (0.0, 0.0)}.\n",
      "[INFO 12-13 23:17:55] ax.service.ax_client: Generated new trial 10 with parameters {'a': 0.139392, 'b': 0.387861} using model Sobol.\n",
      "[INFO 12-13 23:17:55] ax.service.ax_client: Completed trial 10 with data: {'z': (0.013209, 0.0)}.\n",
      "[INFO 12-13 23:17:55] ax.service.ax_client: Generated new trial 11 with parameters {'a': -0.151194, 'b': -0.273912} using model Sobol.\n",
      "[INFO 12-13 23:17:55] ax.service.ax_client: Completed trial 11 with data: {'z': (2e-06, 0.0)}.\n",
      "[INFO 12-13 23:17:55] ax.service.ax_client: Generated new trial 12 with parameters {'a': -0.313084, 'b': 0.106667} using model Sobol.\n",
      "[INFO 12-13 23:17:55] ax.service.ax_client: Completed trial 12 with data: {'z': (2e-06, 0.0)}.\n"
     ]
    },
    {
     "name": "stdout",
     "output_type": "stream",
     "text": [
      "Batch size 3: Sync time: 14.887479100001656, Error: 4.05555117111156e-06\n"
     ]
    },
    {
     "name": "stderr",
     "output_type": "stream",
     "text": [
      "[INFO 12-13 23:17:55] ax.service.ax_client: Generated new trial 13 with parameters {'a': 0.332974, 'b': -0.242606} using model Sobol.\n",
      "[INFO 12-13 23:17:55] ax.service.ax_client: Completed trial 13 with data: {'z': (0.001167, 0.0)}.\n",
      "[INFO 12-13 23:17:55] ax.service.ax_client: Generated new trial 14 with parameters {'a': 0.940294, 'b': 0.905307} using model Sobol.\n",
      "[INFO 12-13 23:17:55] ax.service.ax_client: Completed trial 14 with data: {'z': (0.0, 0.0)}.\n",
      "[INFO 12-13 23:17:55] ax.service.ax_client: Generated new trial 15 with parameters {'a': -0.959667, 'b': -0.760129} using model Sobol.\n",
      "[INFO 12-13 23:17:55] ax.service.ax_client: Completed trial 15 with data: {'z': (0.0, 0.0)}.\n",
      "[INFO 12-13 23:17:55] ax.service.ax_client: Generated new trial 16 with parameters {'a': -0.912438, 'b': 0.98542} using model Sobol.\n",
      "[INFO 12-13 23:17:55] ax.service.ax_client: Completed trial 16 with data: {'z': (0.0, 0.0)}.\n",
      "[INFO 12-13 23:17:56] ax.service.ax_client: Generated new trial 17 with parameters {'a': 0.924043, 'b': -0.847923} using model Sobol.\n",
      "[INFO 12-13 23:17:56] ax.service.ax_client: Completed trial 17 with data: {'z': (0.0, 0.0)}.\n",
      "[INFO 12-13 23:17:56] ax.service.ax_client: Generated new trial 18 with parameters {'a': 0.285231, 'b': 0.003055} using model Sobol.\n",
      "[INFO 12-13 23:17:56] ax.service.ax_client: Completed trial 18 with data: {'z': (0.434687, 0.0)}.\n",
      "[INFO 12-13 23:17:56] ax.service.ax_client: Generated new trial 19 with parameters {'a': -0.297355, 'b': -0.146939} using model Sobol.\n",
      "[INFO 12-13 23:17:56] ax.service.ax_client: Completed trial 19 with data: {'z': (0.0, 0.0)}.\n"
     ]
    },
    {
     "name": "stdout",
     "output_type": "stream",
     "text": [
      "Using GPEI (Exploitation)\n"
     ]
    },
    {
     "name": "stderr",
     "output_type": "stream",
     "text": [
      "[INFO 12-13 23:17:57] ax.service.ax_client: Generated new trial 20 with parameters {'a': 0.220211, 'b': -0.000673} using model GPEI.\n",
      "[INFO 12-13 23:17:57] ax.service.ax_client: Completed trial 20 with data: {'z': (0.590267, 0.0)}.\n",
      "[INFO 12-13 23:17:58] ax.service.ax_client: Generated new trial 21 with parameters {'a': 0.203295, 'b': 0.038133} using model GPEI.\n",
      "[INFO 12-13 23:17:58] ax.service.ax_client: Completed trial 21 with data: {'z': (0.825373, 0.0)}.\n",
      "[INFO 12-13 23:17:59] ax.service.ax_client: Generated new trial 22 with parameters {'a': 0.172677, 'b': 0.050574} using model GPEI.\n",
      "[INFO 12-13 23:17:59] ax.service.ax_client: Completed trial 22 with data: {'z': (0.852592, 0.0)}.\n"
     ]
    },
    {
     "name": "stdout",
     "output_type": "stream",
     "text": [
      "Using GPEI (Exploitation)\n"
     ]
    },
    {
     "name": "stderr",
     "output_type": "stream",
     "text": [
      "[INFO 12-13 23:18:00] ax.service.ax_client: Generated new trial 23 with parameters {'a': 0.203785, 'b': 0.069969} using model GPEI.\n",
      "[INFO 12-13 23:18:00] ax.service.ax_client: Completed trial 23 with data: {'z': (0.955225, 0.0)}.\n",
      "[INFO 12-13 23:18:01] ax.service.ax_client: Generated new trial 24 with parameters {'a': 0.209139, 'b': 0.109442} using model GPEI.\n",
      "[INFO 12-13 23:18:01] ax.service.ax_client: Completed trial 24 with data: {'z': (0.991404, 0.0)}.\n",
      "[INFO 12-13 23:18:02] ax.service.ax_client: Generated new trial 25 with parameters {'a': 0.196846, 'b': 0.101193} using model GPEI.\n",
      "[INFO 12-13 23:18:02] ax.service.ax_client: Completed trial 25 with data: {'z': (0.999431, 0.0)}.\n"
     ]
    },
    {
     "name": "stdout",
     "output_type": "stream",
     "text": [
      "Using GPEI (Exploitation)\n"
     ]
    },
    {
     "name": "stderr",
     "output_type": "stream",
     "text": [
      "[INFO 12-13 23:18:03] ax.service.ax_client: Generated new trial 26 with parameters {'a': -0.029625, 'b': 0.195487} using model GPEI.\n",
      "[INFO 12-13 23:18:03] ax.service.ax_client: Completed trial 26 with data: {'z': (0.045399, 0.0)}.\n",
      "[INFO 12-13 23:18:03] ax.service.ax_client: Generated new trial 27 with parameters {'a': -0.508638, 'b': -1.0} using model GPEI.\n",
      "[INFO 12-13 23:18:03] ax.service.ax_client: Completed trial 27 with data: {'z': (0.0, 0.0)}.\n",
      "[INFO 12-13 23:18:05] ax.service.ax_client: Generated new trial 28 with parameters {'a': 1.0, 'b': 0.443389} using model GPEI.\n",
      "[INFO 12-13 23:18:05] ax.service.ax_client: Completed trial 28 with data: {'z': (0.0, 0.0)}.\n"
     ]
    },
    {
     "name": "stdout",
     "output_type": "stream",
     "text": [
      "Using GPEI (Exploitation)\n"
     ]
    },
    {
     "name": "stderr",
     "output_type": "stream",
     "text": [
      "[INFO 12-13 23:18:06] ax.service.ax_client: Generated new trial 29 with parameters {'a': -1.0, 'b': -0.314882} using model GPEI.\n",
      "[INFO 12-13 23:18:06] ax.service.ax_client: Completed trial 29 with data: {'z': (0.0, 0.0)}.\n",
      "[INFO 12-13 23:18:07] ax.service.ax_client: Generated new trial 30 with parameters {'a': -0.416272, 'b': 1.0} using model GPEI.\n",
      "[INFO 12-13 23:18:07] ax.service.ax_client: Completed trial 30 with data: {'z': (0.0, 0.0)}.\n",
      "[INFO 12-13 23:18:08] ax.service.ax_client: Generated new trial 31 with parameters {'a': 1.0, 'b': -0.042542} using model GPEI.\n",
      "[INFO 12-13 23:18:08] ax.service.ax_client: Completed trial 31 with data: {'z': (0.0, 0.0)}.\n"
     ]
    },
    {
     "name": "stdout",
     "output_type": "stream",
     "text": [
      "Using GPEI (Exploitation)\n"
     ]
    },
    {
     "name": "stderr",
     "output_type": "stream",
     "text": [
      "[INFO 12-13 23:18:08] ax.service.ax_client: Generated new trial 32 with parameters {'a': 0.128466, 'b': -0.559738} using model GPEI.\n",
      "[INFO 12-13 23:18:08] ax.service.ax_client: Completed trial 32 with data: {'z': (0.0, 0.0)}.\n",
      "[INFO 12-13 23:18:09] ax.service.ax_client: Generated new trial 33 with parameters {'a': 0.53243, 'b': 1.0} using model GPEI.\n",
      "[INFO 12-13 23:18:09] ax.service.ax_client: Completed trial 33 with data: {'z': (0.0, 0.0)}.\n",
      "[INFO 12-13 23:18:10] ax.service.ax_client: Generated new trial 34 with parameters {'a': -1.0, 'b': 0.639316} using model GPEI.\n",
      "[INFO 12-13 23:18:10] ax.service.ax_client: Completed trial 34 with data: {'z': (0.0, 0.0)}.\n"
     ]
    },
    {
     "name": "stdout",
     "output_type": "stream",
     "text": [
      "Using GPEI (Exploitation)\n"
     ]
    },
    {
     "name": "stderr",
     "output_type": "stream",
     "text": [
      "[INFO 12-13 23:18:11] ax.service.ax_client: Generated new trial 35 with parameters {'a': -1.0, 'b': 0.042159} using model GPEI.\n",
      "[INFO 12-13 23:18:11] ax.service.ax_client: Completed trial 35 with data: {'z': (0.0, 0.0)}.\n",
      "[INFO 12-13 23:18:12] ax.service.ax_client: Generated new trial 36 with parameters {'a': -0.186136, 'b': 0.527571} using model GPEI.\n",
      "[INFO 12-13 23:18:12] ax.service.ax_client: Completed trial 36 with data: {'z': (0.0, 0.0)}.\n",
      "[INFO 12-13 23:18:12] ax.service.ax_client: Generated new trial 37 with parameters {'a': 0.371493, 'b': -1.0} using model GPEI.\n",
      "[INFO 12-13 23:18:12] ax.service.ax_client: Completed trial 37 with data: {'z': (0.0, 0.0)}.\n"
     ]
    },
    {
     "name": "stdout",
     "output_type": "stream",
     "text": [
      "Using GPEI (Exploitation)\n"
     ]
    },
    {
     "name": "stderr",
     "output_type": "stream",
     "text": [
      "[INFO 12-13 23:18:14] ax.service.ax_client: Generated new trial 38 with parameters {'a': -0.19503, 'b': -0.72529} using model GPEI.\n",
      "[INFO 12-13 23:18:14] ax.service.ax_client: Completed trial 38 with data: {'z': (0.0, 0.0)}.\n",
      "[INFO 12-13 23:18:15] ax.service.ax_client: Generated new trial 39 with parameters {'a': 0.199691, 'b': 0.100142} using model GPEI.\n",
      "[INFO 12-13 23:18:15] ax.service.ax_client: Completed trial 39 with data: {'z': (0.999994, 0.0)}.\n",
      "[INFO 12-13 23:18:15] ax.service.ax_client: Starting optimization with verbose logging. To disable logging, set the `verbose_logging` argument to `False`. Note that float values in the logs are rounded to 6 decimal points.\n",
      "[INFO 12-13 23:18:15] ax.service.utils.instantiation: Inferred value type of ParameterType.FLOAT for parameter a. If that is not the expected value type, you can explicitly specify 'value_type' ('int', 'float', 'bool' or 'str') in parameter dict.\n",
      "[INFO 12-13 23:18:15] ax.service.utils.instantiation: Inferred value type of ParameterType.FLOAT for parameter b. If that is not the expected value type, you can explicitly specify 'value_type' ('int', 'float', 'bool' or 'str') in parameter dict.\n",
      "[INFO 12-13 23:18:15] ax.service.utils.instantiation: Created search space: SearchSpace(parameters=[RangeParameter(name='a', parameter_type=FLOAT, range=[-1.0, 1.0]), RangeParameter(name='b', parameter_type=FLOAT, range=[-1.0, 1.0])], parameter_constraints=[]).\n",
      "[INFO 12-13 23:18:15] ax.service.ax_client: Generated new trial 0 with parameters {'a': 0.102435, 'b': -0.309196} using model Sobol.\n",
      "[INFO 12-13 23:18:15] ax.service.ax_client: Completed trial 0 with data: {'z': (0.000144, 0.0)}.\n",
      "[INFO 12-13 23:18:15] ax.service.ax_client: Generated new trial 1 with parameters {'a': -0.321045, 'b': 0.463574} using model Sobol.\n",
      "[INFO 12-13 23:18:15] ax.service.ax_client: Completed trial 1 with data: {'z': (0.0, 0.0)}.\n",
      "[INFO 12-13 23:18:15] ax.service.ax_client: Generated new trial 2 with parameters {'a': -0.9715, 'b': -0.954121} using model Sobol.\n",
      "[INFO 12-13 23:18:15] ax.service.ax_client: Completed trial 2 with data: {'z': (0.0, 0.0)}.\n",
      "[INFO 12-13 23:18:15] ax.service.ax_client: Generated new trial 3 with parameters {'a': 0.690384, 'b': 0.803879} using model Sobol.\n",
      "[INFO 12-13 23:18:15] ax.service.ax_client: Completed trial 3 with data: {'z': (0.0, 0.0)}.\n",
      "[INFO 12-13 23:18:15] ax.service.ax_client: Generated new trial 4 with parameters {'a': 0.906187, 'b': -0.532822} using model Sobol.\n",
      "[INFO 12-13 23:18:15] ax.service.ax_client: Completed trial 4 with data: {'z': (0.0, 0.0)}.\n",
      "[INFO 12-13 23:18:15] ax.service.ax_client: Generated new trial 5 with parameters {'a': -0.6873, 'b': 0.695019} using model Sobol.\n",
      "[INFO 12-13 23:18:15] ax.service.ax_client: Completed trial 5 with data: {'z': (0.0, 0.0)}.\n",
      "[INFO 12-13 23:18:15] ax.service.ax_client: Generated new trial 6 with parameters {'a': -0.021345, 'b': -0.199237} using model Sobol.\n",
      "[INFO 12-13 23:18:15] ax.service.ax_client: Completed trial 6 with data: {'z': (0.000981, 0.0)}.\n",
      "[INFO 12-13 23:18:15] ax.service.ax_client: Generated new trial 7 with parameters {'a': 0.302733, 'b': 0.041176} using model Sobol.\n",
      "[INFO 12-13 23:18:15] ax.service.ax_client: Completed trial 7 with data: {'z': (0.496229, 0.0)}.\n",
      "[INFO 12-13 23:18:15] ax.service.ax_client: Generated new trial 8 with parameters {'a': 0.377461, 'b': -0.761586} using model Sobol.\n",
      "[INFO 12-13 23:18:15] ax.service.ax_client: Completed trial 8 with data: {'z': (0.0, 0.0)}.\n",
      "[INFO 12-13 23:18:15] ax.service.ax_client: Generated new trial 9 with parameters {'a': -0.158821, 'b': 0.982376} using model Sobol.\n",
      "[INFO 12-13 23:18:15] ax.service.ax_client: Completed trial 9 with data: {'z': (0.0, 0.0)}.\n",
      "[INFO 12-13 23:18:15] ax.service.ax_client: Generated new trial 10 with parameters {'a': -0.508488, 'b': -0.474876} using model Sobol.\n",
      "[INFO 12-13 23:18:15] ax.service.ax_client: Completed trial 10 with data: {'z': (0.0, 0.0)}.\n",
      "[INFO 12-13 23:18:15] ax.service.ax_client: Generated new trial 11 with parameters {'a': 0.789634, 'b': 0.250409} using model Sobol.\n",
      "[INFO 12-13 23:18:15] ax.service.ax_client: Completed trial 11 with data: {'z': (0.0, 0.0)}.\n",
      "[INFO 12-13 23:18:15] ax.service.ax_client: Generated new trial 12 with parameters {'a': 0.614802, 'b': -0.022327} using model Sobol.\n",
      "[INFO 12-13 23:18:15] ax.service.ax_client: Completed trial 12 with data: {'z': (8.7e-05, 0.0)}.\n"
     ]
    },
    {
     "name": "stdout",
     "output_type": "stream",
     "text": [
      "Batch size 3: Sync time: 19.554758199999924, Error: 5.775492011195205e-06\n"
     ]
    },
    {
     "name": "stderr",
     "output_type": "stream",
     "text": [
      "[INFO 12-13 23:18:15] ax.service.ax_client: Generated new trial 13 with parameters {'a': -0.833658, 'b': 0.235299} using model Sobol.\n",
      "[INFO 12-13 23:18:15] ax.service.ax_client: Completed trial 13 with data: {'z': (0.0, 0.0)}.\n",
      "[INFO 12-13 23:18:15] ax.service.ax_client: Generated new trial 14 with parameters {'a': -0.499735, 'b': -0.745378} using model Sobol.\n",
      "[INFO 12-13 23:18:15] ax.service.ax_client: Completed trial 14 with data: {'z': (0.0, 0.0)}.\n",
      "[INFO 12-13 23:18:15] ax.service.ax_client: Generated new trial 15 with parameters {'a': 0.218378, 'b': 0.528728} using model Sobol.\n",
      "[INFO 12-13 23:18:15] ax.service.ax_client: Completed trial 15 with data: {'z': (0.0001, 0.0)}.\n",
      "[INFO 12-13 23:18:15] ax.service.ax_client: Generated new trial 16 with parameters {'a': 0.128934, 'b': -0.648178} using model Sobol.\n",
      "[INFO 12-13 23:18:15] ax.service.ax_client: Completed trial 16 with data: {'z': (0.0, 0.0)}.\n",
      "[INFO 12-13 23:18:15] ax.service.ax_client: Generated new trial 17 with parameters {'a': -0.410292, 'b': 0.61092} using model Sobol.\n",
      "[INFO 12-13 23:18:15] ax.service.ax_client: Completed trial 17 with data: {'z': (0.0, 0.0)}.\n",
      "[INFO 12-13 23:18:15] ax.service.ax_client: Generated new trial 18 with parameters {'a': -0.763868, 'b': -0.119275} using model Sobol.\n",
      "[INFO 12-13 23:18:15] ax.service.ax_client: Completed trial 18 with data: {'z': (0.0, 0.0)}.\n",
      "[INFO 12-13 23:18:15] ax.service.ax_client: Generated new trial 19 with parameters {'a': 0.545012, 'b': 0.152397} using model Sobol.\n",
      "[INFO 12-13 23:18:15] ax.service.ax_client: Completed trial 19 with data: {'z': (0.002268, 0.0)}.\n"
     ]
    },
    {
     "name": "stdout",
     "output_type": "stream",
     "text": [
      "Using qNIPV (Exploration)\n"
     ]
    },
    {
     "name": "stderr",
     "output_type": "stream",
     "text": [
      "[INFO 12-13 23:18:17] ax.service.ax_client: Generated new trial 20 with parameters {'a': 0.312732, 'b': 0.157399} using model GPEI.\n",
      "[INFO 12-13 23:18:17] ax.service.ax_client: Completed trial 20 with data: {'z': (0.449259, 0.0)}.\n",
      "[INFO 12-13 23:18:17] ax.service.ax_client: Generated new trial 21 with parameters {'a': 0.329565, 'b': -0.019167} using model GPEI.\n",
      "[INFO 12-13 23:18:17] ax.service.ax_client: Completed trial 21 with data: {'z': (0.212378, 0.0)}.\n",
      "[INFO 12-13 23:18:18] ax.service.ax_client: Generated new trial 22 with parameters {'a': 0.293856, 'b': 0.086811} using model GPEI.\n",
      "[INFO 12-13 23:18:18] ax.service.ax_client: Completed trial 22 with data: {'z': (0.638173, 0.0)}.\n",
      "[INFO 12-13 23:18:19] ax.service.ax_client: Generated new trial 23 with parameters {'a': 0.244298, 'b': 0.097185} using model GPEI.\n",
      "[INFO 12-13 23:18:19] ax.service.ax_client: Completed trial 23 with data: {'z': (0.906187, 0.0)}.\n"
     ]
    },
    {
     "name": "stdout",
     "output_type": "stream",
     "text": [
      "Using GPEI (Exploitation)\n"
     ]
    },
    {
     "name": "stderr",
     "output_type": "stream",
     "text": [
      "[INFO 12-13 23:18:20] ax.service.ax_client: Generated new trial 24 with parameters {'a': 0.242248, 'b': 0.138261} using model GPEI.\n",
      "[INFO 12-13 23:18:20] ax.service.ax_client: Completed trial 24 with data: {'z': (0.850068, 0.0)}.\n",
      "[INFO 12-13 23:18:21] ax.service.ax_client: Generated new trial 25 with parameters {'a': 0.219477, 'b': 0.092086} using model GPEI.\n",
      "[INFO 12-13 23:18:21] ax.service.ax_client: Completed trial 25 with data: {'z': (0.978142, 0.0)}.\n",
      "[INFO 12-13 23:18:22] ax.service.ax_client: Generated new trial 26 with parameters {'a': 0.196493, 'b': 0.09422} using model GPEI.\n",
      "[INFO 12-13 23:18:22] ax.service.ax_client: Completed trial 26 with data: {'z': (0.997717, 0.0)}.\n",
      "[INFO 12-13 23:18:22] ax.service.ax_client: Generated new trial 27 with parameters {'a': 0.441533, 'b': -0.316641} using model GPEI.\n",
      "[INFO 12-13 23:18:22] ax.service.ax_client: Completed trial 27 with data: {'z': (9e-06, 0.0)}.\n"
     ]
    },
    {
     "name": "stdout",
     "output_type": "stream",
     "text": [
      "Using GPEI (Exploitation)\n"
     ]
    },
    {
     "name": "stderr",
     "output_type": "stream",
     "text": [
      "[INFO 12-13 23:18:23] ax.service.ax_client: Generated new trial 28 with parameters {'a': 0.1928, 'b': 0.077788} using model GPEI.\n",
      "[INFO 12-13 23:18:23] ax.service.ax_client: Completed trial 28 with data: {'z': (0.973107, 0.0)}.\n",
      "[INFO 12-13 23:18:24] ax.service.ax_client: Generated new trial 29 with parameters {'a': 1.0, 'b': -1.0} using model GPEI.\n",
      "[INFO 12-13 23:18:24] ax.service.ax_client: Completed trial 29 with data: {'z': (0.0, 0.0)}.\n",
      "[INFO 12-13 23:18:24] ax.service.ax_client: Generated new trial 30 with parameters {'a': -1.0, 'b': 1.0} using model GPEI.\n",
      "[INFO 12-13 23:18:24] ax.service.ax_client: Completed trial 30 with data: {'z': (0.0, 0.0)}.\n",
      "[INFO 12-13 23:18:25] ax.service.ax_client: Generated new trial 31 with parameters {'a': -0.1325, 'b': -1.0} using model GPEI.\n",
      "[INFO 12-13 23:18:25] ax.service.ax_client: Completed trial 31 with data: {'z': (0.0, 0.0)}.\n"
     ]
    },
    {
     "name": "stdout",
     "output_type": "stream",
     "text": [
      "Using GPEI (Exploitation)\n"
     ]
    },
    {
     "name": "stderr",
     "output_type": "stream",
     "text": [
      "[INFO 12-13 23:18:27] ax.service.ax_client: Generated new trial 32 with parameters {'a': 0.199402, 'b': 0.100929} using model GPEI.\n",
      "[INFO 12-13 23:18:27] ax.service.ax_client: Completed trial 32 with data: {'z': (0.999939, 0.0)}.\n",
      "[INFO 12-13 23:18:28] ax.service.ax_client: Generated new trial 33 with parameters {'a': -0.354391, 'b': -0.082004} using model GPEI.\n",
      "[INFO 12-13 23:18:28] ax.service.ax_client: Completed trial 33 with data: {'z': (0.0, 0.0)}.\n",
      "[INFO 12-13 23:18:28] ax.service.ax_client: Generated new trial 34 with parameters {'a': -1.0, 'b': -0.49832} using model GPEI.\n",
      "[INFO 12-13 23:18:28] ax.service.ax_client: Completed trial 34 with data: {'z': (0.0, 0.0)}.\n",
      "[INFO 12-13 23:18:29] ax.service.ax_client: Generated new trial 35 with parameters {'a': 0.290051, 'b': 1.0} using model GPEI.\n",
      "[INFO 12-13 23:18:29] ax.service.ax_client: Completed trial 35 with data: {'z': (0.0, 0.0)}.\n"
     ]
    },
    {
     "name": "stdout",
     "output_type": "stream",
     "text": [
      "Using GPEI (Exploitation)\n"
     ]
    },
    {
     "name": "stderr",
     "output_type": "stream",
     "text": [
      "[INFO 12-13 23:18:30] ax.service.ax_client: Generated new trial 36 with parameters {'a': 1.0, 'b': -0.123647} using model GPEI.\n",
      "[INFO 12-13 23:18:30] ax.service.ax_client: Completed trial 36 with data: {'z': (0.0, 0.0)}.\n",
      "[INFO 12-13 23:18:30] ax.service.ax_client: Generated new trial 37 with parameters {'a': 1.0, 'b': 1.0} using model GPEI.\n",
      "[INFO 12-13 23:18:30] ax.service.ax_client: Completed trial 37 with data: {'z': (0.0, 0.0)}.\n",
      "[INFO 12-13 23:18:31] ax.service.ax_client: Generated new trial 38 with parameters {'a': 1.0, 'b': 0.569458} using model GPEI.\n",
      "[INFO 12-13 23:18:31] ax.service.ax_client: Completed trial 38 with data: {'z': (0.0, 0.0)}.\n",
      "[INFO 12-13 23:18:32] ax.service.ax_client: Generated new trial 39 with parameters {'a': 0.638831, 'b': -1.0} using model GPEI.\n",
      "[INFO 12-13 23:18:32] ax.service.ax_client: Completed trial 39 with data: {'z': (0.0, 0.0)}.\n",
      "[INFO 12-13 23:18:32] ax.service.ax_client: Starting optimization with verbose logging. To disable logging, set the `verbose_logging` argument to `False`. Note that float values in the logs are rounded to 6 decimal points.\n",
      "[INFO 12-13 23:18:32] ax.service.utils.instantiation: Inferred value type of ParameterType.FLOAT for parameter a. If that is not the expected value type, you can explicitly specify 'value_type' ('int', 'float', 'bool' or 'str') in parameter dict.\n",
      "[INFO 12-13 23:18:32] ax.service.utils.instantiation: Inferred value type of ParameterType.FLOAT for parameter b. If that is not the expected value type, you can explicitly specify 'value_type' ('int', 'float', 'bool' or 'str') in parameter dict.\n",
      "[INFO 12-13 23:18:32] ax.service.utils.instantiation: Created search space: SearchSpace(parameters=[RangeParameter(name='a', parameter_type=FLOAT, range=[-1.0, 1.0]), RangeParameter(name='b', parameter_type=FLOAT, range=[-1.0, 1.0])], parameter_constraints=[]).\n",
      "[INFO 12-13 23:18:32] ax.service.ax_client: Generated new trial 0 with parameters {'a': -0.399779, 'b': 0.518696} using model Sobol.\n",
      "[INFO 12-13 23:18:32] ax.service.ax_client: Completed trial 0 with data: {'z': (0.0, 0.0)}.\n",
      "[INFO 12-13 23:18:32] ax.service.ax_client: Generated new trial 1 with parameters {'a': 0.317903, 'b': -0.48836} using model Sobol.\n",
      "[INFO 12-13 23:18:32] ax.service.ax_client: Completed trial 1 with data: {'z': (0.0, 0.0)}.\n",
      "[INFO 12-13 23:18:32] ax.service.ax_client: Generated new trial 2 with parameters {'a': 0.730578, 'b': 0.126839} using model Sobol.\n",
      "[INFO 12-13 23:18:32] ax.service.ax_client: Completed trial 2 with data: {'z': (1e-06, 0.0)}.\n",
      "[INFO 12-13 23:18:32] ax.service.ax_client: Generated new trial 3 with parameters {'a': -0.547651, 'b': -0.850412} using model Sobol.\n",
      "[INFO 12-13 23:18:32] ax.service.ax_client: Completed trial 3 with data: {'z': (0.0, 0.0)}.\n",
      "[INFO 12-13 23:18:32] ax.service.ax_client: Generated new trial 4 with parameters {'a': -0.988136, 'b': 0.369657} using model Sobol.\n",
      "[INFO 12-13 23:18:32] ax.service.ax_client: Completed trial 4 with data: {'z': (0.0, 0.0)}.\n",
      "[INFO 12-13 23:18:32] ax.service.ax_client: Generated new trial 5 with parameters {'a': 0.795953, 'b': -0.654019} using model Sobol.\n",
      "[INFO 12-13 23:18:32] ax.service.ax_client: Completed trial 5 with data: {'z': (0.0, 0.0)}.\n",
      "[INFO 12-13 23:18:32] ax.service.ax_client: Generated new trial 6 with parameters {'a': 0.13145, 'b': 0.976812} using model Sobol.\n",
      "[INFO 12-13 23:18:32] ax.service.ax_client: Completed trial 6 with data: {'z': (0.0, 0.0)}.\n",
      "[INFO 12-13 23:18:32] ax.service.ax_client: Generated new trial 7 with parameters {'a': -0.088185, 'b': -0.015083} using model Sobol.\n",
      "[INFO 12-13 23:18:32] ax.service.ax_client: Completed trial 7 with data: {'z': (0.008109, 0.0)}.\n",
      "[INFO 12-13 23:18:32] ax.service.ax_client: Generated new trial 8 with parameters {'a': -0.234056, 'b': 0.099241} using model Sobol.\n",
      "[INFO 12-13 23:18:32] ax.service.ax_client: Completed trial 8 with data: {'z': (8.1e-05, 0.0)}.\n",
      "[INFO 12-13 23:18:32] ax.service.ax_client: Generated new trial 9 with parameters {'a': 0.050276, 'b': -0.877621} using model Sobol.\n",
      "[INFO 12-13 23:18:32] ax.service.ax_client: Completed trial 9 with data: {'z': (0.0, 0.0)}.\n",
      "[INFO 12-13 23:18:32] ax.service.ax_client: Generated new trial 10 with parameters {'a': 0.901304, 'b': 0.741553} using model Sobol.\n",
      "[INFO 12-13 23:18:32] ax.service.ax_client: Completed trial 10 with data: {'z': (0.0, 0.0)}.\n",
      "[INFO 12-13 23:18:32] ax.service.ax_client: Generated new trial 11 with parameters {'a': -0.818575, 'b': -0.266029} using model Sobol.\n",
      "[INFO 12-13 23:18:32] ax.service.ax_client: Completed trial 11 with data: {'z': (0.0, 0.0)}.\n",
      "[INFO 12-13 23:18:32] ax.service.ax_client: Generated new trial 12 with parameters {'a': -0.630044, 'b': 0.761951} using model Sobol.\n"
     ]
    },
    {
     "name": "stdout",
     "output_type": "stream",
     "text": [
      "Batch size 4: Sync time: 17.239139100000102, Error: 6.099041138085681e-05\n"
     ]
    },
    {
     "name": "stderr",
     "output_type": "stream",
     "text": [
      "[INFO 12-13 23:18:32] ax.service.ax_client: Completed trial 12 with data: {'z': (0.0, 0.0)}.\n",
      "[INFO 12-13 23:18:32] ax.service.ax_client: Generated new trial 13 with parameters {'a': 0.587882, 'b': -0.22954} using model Sobol.\n",
      "[INFO 12-13 23:18:32] ax.service.ax_client: Completed trial 13 with data: {'z': (2e-06, 0.0)}.\n",
      "[INFO 12-13 23:18:32] ax.service.ax_client: Generated new trial 14 with parameters {'a': 0.484776, 'b': 0.405251} using model Sobol.\n",
      "[INFO 12-13 23:18:32] ax.service.ax_client: Completed trial 14 with data: {'z': (0.000164, 0.0)}.\n",
      "[INFO 12-13 23:18:32] ax.service.ax_client: Generated new trial 15 with parameters {'a': -0.293697, 'b': -0.618936} using model Sobol.\n",
      "[INFO 12-13 23:18:32] ax.service.ax_client: Completed trial 15 with data: {'z': (0.0, 0.0)}.\n",
      "[INFO 12-13 23:18:32] ax.service.ax_client: Generated new trial 16 with parameters {'a': -0.327537, 'b': 0.483348} using model Sobol.\n",
      "[INFO 12-13 23:18:32] ax.service.ax_client: Completed trial 16 with data: {'z': (0.0, 0.0)}.\n",
      "[INFO 12-13 23:18:32] ax.service.ax_client: Generated new trial 17 with parameters {'a': 0.394235, 'b': -0.509532} using model Sobol.\n",
      "[INFO 12-13 23:18:32] ax.service.ax_client: Completed trial 17 with data: {'z': (0.0, 0.0)}.\n",
      "[INFO 12-13 23:18:32] ax.service.ax_client: Generated new trial 18 with parameters {'a': 0.556789, 'b': 0.871294} using model Sobol.\n",
      "[INFO 12-13 23:18:32] ax.service.ax_client: Completed trial 18 with data: {'z': (0.0, 0.0)}.\n",
      "[INFO 12-13 23:18:32] ax.service.ax_client: Generated new trial 19 with parameters {'a': -0.72553, 'b': -0.151383} using model Sobol.\n",
      "[INFO 12-13 23:18:32] ax.service.ax_client: Completed trial 19 with data: {'z': (0.0, 0.0)}.\n"
     ]
    },
    {
     "name": "stdout",
     "output_type": "stream",
     "text": [
      "Using GPEI (Exploitation)\n"
     ]
    },
    {
     "name": "stderr",
     "output_type": "stream",
     "text": [
      "[INFO 12-13 23:18:34] ax.service.ax_client: Generated new trial 20 with parameters {'a': 1.0, 'b': -0.027189} using model GPEI.\n",
      "[INFO 12-13 23:18:34] ax.service.ax_client: Completed trial 20 with data: {'z': (0.0, 0.0)}.\n",
      "[INFO 12-13 23:18:35] ax.service.ax_client: Generated new trial 21 with parameters {'a': -0.10174, 'b': -0.031033} using model GPEI.\n",
      "[INFO 12-13 23:18:35] ax.service.ax_client: Completed trial 21 with data: {'z': (0.004468, 0.0)}.\n",
      "[INFO 12-13 23:18:35] ax.service.ax_client: Generated new trial 22 with parameters {'a': -0.071417, 'b': 0.004642} using model GPEI.\n",
      "[INFO 12-13 23:18:35] ax.service.ax_client: Completed trial 22 with data: {'z': (0.015955, 0.0)}.\n",
      "[INFO 12-13 23:18:36] ax.service.ax_client: Generated new trial 23 with parameters {'a': -0.05091, 'b': 0.028754} using model GPEI.\n",
      "[INFO 12-13 23:18:36] ax.service.ax_client: Completed trial 23 with data: {'z': (0.033321, 0.0)}.\n"
     ]
    },
    {
     "name": "stdout",
     "output_type": "stream",
     "text": [
      "Using qNIPV (Exploration)\n"
     ]
    },
    {
     "name": "stderr",
     "output_type": "stream",
     "text": [
      "[INFO 12-13 23:18:36] ax.service.ax_client: Generated new trial 24 with parameters {'a': -0.030823, 'b': 0.052366} using model GPEI.\n",
      "[INFO 12-13 23:18:36] ax.service.ax_client: Completed trial 24 with data: {'z': (0.062199, 0.0)}.\n",
      "[INFO 12-13 23:18:37] ax.service.ax_client: Generated new trial 25 with parameters {'a': -0.011329, 'b': 0.075277} using model GPEI.\n",
      "[INFO 12-13 23:18:37] ax.service.ax_client: Completed trial 25 with data: {'z': (0.10398, 0.0)}.\n",
      "[INFO 12-13 23:18:38] ax.service.ax_client: Generated new trial 26 with parameters {'a': 0.007496, 'b': 0.0974} using model GPEI.\n",
      "[INFO 12-13 23:18:38] ax.service.ax_client: Completed trial 26 with data: {'z': (0.156731, 0.0)}.\n",
      "[INFO 12-13 23:18:38] ax.service.ax_client: Generated new trial 27 with parameters {'a': 0.028175, 'b': 0.121701} using model GPEI.\n",
      "[INFO 12-13 23:18:38] ax.service.ax_client: Completed trial 27 with data: {'z': (0.22319, 0.0)}.\n"
     ]
    },
    {
     "name": "stdout",
     "output_type": "stream",
     "text": [
      "Using GPEI (Exploitation)\n"
     ]
    },
    {
     "name": "stderr",
     "output_type": "stream",
     "text": [
      "[INFO 12-13 23:18:39] ax.service.ax_client: Generated new trial 28 with parameters {'a': 0.091461, 'b': 0.191662} using model GPEI.\n",
      "[INFO 12-13 23:18:39] ax.service.ax_client: Completed trial 28 with data: {'z': (0.364538, 0.0)}.\n",
      "[INFO 12-13 23:18:40] ax.service.ax_client: Generated new trial 29 with parameters {'a': 0.103579, 'b': 0.107896} using model GPEI.\n",
      "[INFO 12-13 23:18:40] ax.service.ax_client: Completed trial 29 with data: {'z': (0.626272, 0.0)}.\n",
      "[INFO 12-13 23:18:41] ax.service.ax_client: Generated new trial 30 with parameters {'a': 0.136168, 'b': 0.06718} using model GPEI.\n",
      "[INFO 12-13 23:18:41] ax.service.ax_client: Completed trial 30 with data: {'z': (0.772918, 0.0)}.\n",
      "[INFO 12-13 23:18:42] ax.service.ax_client: Generated new trial 31 with parameters {'a': 0.154107, 'b': 0.041224} using model GPEI.\n",
      "[INFO 12-13 23:18:42] ax.service.ax_client: Completed trial 31 with data: {'z': (0.757268, 0.0)}.\n"
     ]
    },
    {
     "name": "stdout",
     "output_type": "stream",
     "text": [
      "Using GPEI (Exploitation)\n"
     ]
    },
    {
     "name": "stderr",
     "output_type": "stream",
     "text": [
      "[INFO 12-13 23:18:42] ax.service.ax_client: Generated new trial 32 with parameters {'a': 0.172168, 'b': 0.088283} using model GPEI.\n",
      "[INFO 12-13 23:18:42] ax.service.ax_client: Completed trial 32 with data: {'z': (0.955429, 0.0)}.\n",
      "[INFO 12-13 23:18:43] ax.service.ax_client: Generated new trial 33 with parameters {'a': 0.230148, 'b': 0.102581} using model GPEI.\n",
      "[INFO 12-13 23:18:43] ax.service.ax_client: Completed trial 33 with data: {'z': (0.955254, 0.0)}.\n",
      "[INFO 12-13 23:18:44] ax.service.ax_client: Generated new trial 34 with parameters {'a': -1.0, 'b': -1.0} using model GPEI.\n",
      "[INFO 12-13 23:18:44] ax.service.ax_client: Completed trial 34 with data: {'z': (0.0, 0.0)}.\n",
      "[INFO 12-13 23:18:45] ax.service.ax_client: Generated new trial 35 with parameters {'a': 0.1995, 'b': 0.103143} using model GPEI.\n",
      "[INFO 12-13 23:18:45] ax.service.ax_client: Completed trial 35 with data: {'z': (0.999494, 0.0)}.\n"
     ]
    },
    {
     "name": "stdout",
     "output_type": "stream",
     "text": [
      "Using GPEI (Exploitation)\n"
     ]
    },
    {
     "name": "stderr",
     "output_type": "stream",
     "text": [
      "[INFO 12-13 23:18:45] ax.service.ax_client: Generated new trial 36 with parameters {'a': -1.0, 'b': 1.0} using model GPEI.\n",
      "[INFO 12-13 23:18:45] ax.service.ax_client: Completed trial 36 with data: {'z': (0.0, 0.0)}.\n",
      "[INFO 12-13 23:18:46] ax.service.ax_client: Generated new trial 37 with parameters {'a': 0.492566, 'b': -1.0} using model GPEI.\n",
      "[INFO 12-13 23:18:46] ax.service.ax_client: Completed trial 37 with data: {'z': (0.0, 0.0)}.\n",
      "[INFO 12-13 23:18:48] ax.service.ax_client: Generated new trial 38 with parameters {'a': 0.200565, 'b': 0.098619} using model GPEI.\n",
      "[INFO 12-13 23:18:48] ax.service.ax_client: Completed trial 38 with data: {'z': (0.999889, 0.0)}.\n",
      "[INFO 12-13 23:18:48] ax.service.ax_client: Generated new trial 39 with parameters {'a': 1.0, 'b': -1.0} using model GPEI.\n",
      "[INFO 12-13 23:18:48] ax.service.ax_client: Completed trial 39 with data: {'z': (0.0, 0.0)}.\n",
      "[INFO 12-13 23:18:48] ax.service.ax_client: Starting optimization with verbose logging. To disable logging, set the `verbose_logging` argument to `False`. Note that float values in the logs are rounded to 6 decimal points.\n",
      "[INFO 12-13 23:18:48] ax.service.utils.instantiation: Inferred value type of ParameterType.FLOAT for parameter a. If that is not the expected value type, you can explicitly specify 'value_type' ('int', 'float', 'bool' or 'str') in parameter dict.\n",
      "[INFO 12-13 23:18:48] ax.service.utils.instantiation: Inferred value type of ParameterType.FLOAT for parameter b. If that is not the expected value type, you can explicitly specify 'value_type' ('int', 'float', 'bool' or 'str') in parameter dict.\n",
      "[INFO 12-13 23:18:48] ax.service.utils.instantiation: Created search space: SearchSpace(parameters=[RangeParameter(name='a', parameter_type=FLOAT, range=[-1.0, 1.0]), RangeParameter(name='b', parameter_type=FLOAT, range=[-1.0, 1.0])], parameter_constraints=[]).\n",
      "[INFO 12-13 23:18:48] ax.service.ax_client: Generated new trial 0 with parameters {'a': -0.470175, 'b': 0.781543} using model Sobol.\n",
      "[INFO 12-13 23:18:48] ax.service.ax_client: Completed trial 0 with data: {'z': (0.0, 0.0)}.\n",
      "[INFO 12-13 23:18:48] ax.service.ax_client: Generated new trial 1 with parameters {'a': 0.733213, 'b': -0.562765} using model Sobol.\n",
      "[INFO 12-13 23:18:48] ax.service.ax_client: Completed trial 1 with data: {'z': (0.0, 0.0)}.\n",
      "[INFO 12-13 23:18:48] ax.service.ax_client: Generated new trial 2 with parameters {'a': 0.088623, 'b': 0.240893} using model Sobol.\n",
      "[INFO 12-13 23:18:48] ax.service.ax_client: Completed trial 2 with data: {'z': (0.19933, 0.0)}.\n",
      "[INFO 12-13 23:18:48] ax.service.ax_client: Generated new trial 3 with parameters {'a': -0.833031, 'b': -0.397115} using model Sobol.\n",
      "[INFO 12-13 23:18:48] ax.service.ax_client: Completed trial 3 with data: {'z': (0.0, 0.0)}.\n",
      "[INFO 12-13 23:18:48] ax.service.ax_client: Generated new trial 4 with parameters {'a': -0.549099, 'b': 0.300578} using model Sobol.\n",
      "[INFO 12-13 23:18:48] ax.service.ax_client: Completed trial 4 with data: {'z': (0.0, 0.0)}.\n",
      "[INFO 12-13 23:18:48] ax.service.ax_client: Generated new trial 5 with parameters {'a': 0.310536, 'b': -0.0818} using model Sobol.\n",
      "[INFO 12-13 23:18:48] ax.service.ax_client: Completed trial 5 with data: {'z': (0.10399, 0.0)}.\n",
      "[INFO 12-13 23:18:48] ax.service.ax_client: Generated new trial 6 with parameters {'a': 0.884329, 'b': 0.723796} using model Sobol.\n",
      "[INFO 12-13 23:18:48] ax.service.ax_client: Completed trial 6 with data: {'z': (0.0, 0.0)}.\n",
      "[INFO 12-13 23:18:48] ax.service.ax_client: Generated new trial 7 with parameters {'a': -0.131072, 'b': -0.880018} using model Sobol.\n",
      "[INFO 12-13 23:18:48] ax.service.ax_client: Completed trial 7 with data: {'z': (0.0, 0.0)}.\n",
      "[INFO 12-13 23:18:48] ax.service.ax_client: Generated new trial 8 with parameters {'a': -0.092505, 'b': 0.01853} using model Sobol.\n",
      "[INFO 12-13 23:18:48] ax.service.ax_client: Completed trial 8 with data: {'z': (0.009954, 0.0)}.\n",
      "[INFO 12-13 23:18:48] ax.service.ax_client: Generated new trial 9 with parameters {'a': 0.829115, 'b': -0.362244} using model Sobol.\n",
      "[INFO 12-13 23:18:48] ax.service.ax_client: Completed trial 9 with data: {'z': (0.0, 0.0)}.\n",
      "[INFO 12-13 23:18:49] ax.service.ax_client: Generated new trial 10 with parameters {'a': 0.474072, 'b': 0.941504} using model Sobol.\n",
      "[INFO 12-13 23:18:49] ax.service.ax_client: Completed trial 10 with data: {'z': (0.0, 0.0)}.\n",
      "[INFO 12-13 23:18:49] ax.service.ax_client: Generated new trial 11 with parameters {'a': -0.729283, 'b': -0.660218} using model Sobol.\n",
      "[INFO 12-13 23:18:49] ax.service.ax_client: Completed trial 11 with data: {'z': (0.0, 0.0)}.\n",
      "[INFO 12-13 23:18:49] ax.service.ax_client: Generated new trial 12 with parameters {'a': -0.888229, 'b': 0.501464} using model Sobol.\n"
     ]
    },
    {
     "name": "stdout",
     "output_type": "stream",
     "text": [
      "Batch size 4: Sync time: 16.347354900000937, Error: 0.00011132957723225534\n"
     ]
    },
    {
     "name": "stderr",
     "output_type": "stream",
     "text": [
      "[INFO 12-13 23:18:49] ax.service.ax_client: Completed trial 12 with data: {'z': (0.0, 0.0)}.\n",
      "[INFO 12-13 23:18:49] ax.service.ax_client: Generated new trial 13 with parameters {'a': 0.127144, 'b': -0.845177} using model Sobol.\n",
      "[INFO 12-13 23:18:49] ax.service.ax_client: Completed trial 13 with data: {'z': (0.0, 0.0)}.\n",
      "[INFO 12-13 23:18:49] ax.service.ax_client: Generated new trial 14 with parameters {'a': 0.552984, 'b': 0.46057} using model Sobol.\n",
      "[INFO 12-13 23:18:49] ax.service.ax_client: Completed trial 14 with data: {'z': (3e-06, 0.0)}.\n",
      "[INFO 12-13 23:18:49] ax.service.ax_client: Generated new trial 15 with parameters {'a': -0.306623, 'b': -0.179284} using model Sobol.\n",
      "[INFO 12-13 23:18:49] ax.service.ax_client: Completed trial 15 with data: {'z': (0.0, 0.0)}.\n",
      "[INFO 12-13 23:18:49] ax.service.ax_client: Generated new trial 16 with parameters {'a': -0.348769, 'b': 0.429576} using model Sobol.\n",
      "[INFO 12-13 23:18:49] ax.service.ax_client: Completed trial 16 with data: {'z': (0.0, 0.0)}.\n",
      "[INFO 12-13 23:18:49] ax.service.ax_client: Generated new trial 17 with parameters {'a': 0.604102, 'b': -0.210858} using model Sobol.\n",
      "[INFO 12-13 23:18:49] ax.service.ax_client: Completed trial 17 with data: {'z': (2e-06, 0.0)}.\n",
      "[INFO 12-13 23:18:49] ax.service.ax_client: Generated new trial 18 with parameters {'a': 0.217686, 'b': 0.594736} using model Sobol.\n",
      "[INFO 12-13 23:18:49] ax.service.ax_client: Completed trial 18 with data: {'z': (5e-06, 0.0)}.\n",
      "[INFO 12-13 23:18:49] ax.service.ax_client: Generated new trial 19 with parameters {'a': -0.954419, 'b': -0.751019} using model Sobol.\n",
      "[INFO 12-13 23:18:49] ax.service.ax_client: Completed trial 19 with data: {'z': (0.0, 0.0)}.\n"
     ]
    },
    {
     "name": "stdout",
     "output_type": "stream",
     "text": [
      "Using GPEI (Exploitation)\n"
     ]
    },
    {
     "name": "stderr",
     "output_type": "stream",
     "text": [
      "[INFO 12-13 23:18:49] ax.service.ax_client: Generated new trial 20 with parameters {'a': 0.15008, 'b': 0.208049} using model GPEI.\n",
      "[INFO 12-13 23:18:49] ax.service.ax_client: Completed trial 20 with data: {'z': (0.492463, 0.0)}.\n",
      "[INFO 12-13 23:18:50] ax.service.ax_client: Generated new trial 21 with parameters {'a': 0.156636, 'b': 0.158711} using model GPEI.\n",
      "[INFO 12-13 23:18:50] ax.service.ax_client: Completed trial 21 with data: {'z': (0.766155, 0.0)}.\n",
      "[INFO 12-13 23:18:51] ax.service.ax_client: Generated new trial 22 with parameters {'a': -1.0, 'b': 0.156341} using model GPEI.\n",
      "[INFO 12-13 23:18:51] ax.service.ax_client: Completed trial 22 with data: {'z': (0.0, 0.0)}.\n",
      "[INFO 12-13 23:18:52] ax.service.ax_client: Generated new trial 23 with parameters {'a': 0.322803, 'b': 0.15478} using model GPEI.\n",
      "[INFO 12-13 23:18:52] ax.service.ax_client: Completed trial 23 with data: {'z': (0.404914, 0.0)}.\n"
     ]
    },
    {
     "name": "stdout",
     "output_type": "stream",
     "text": [
      "Using GPEI (Exploitation)\n"
     ]
    },
    {
     "name": "stderr",
     "output_type": "stream",
     "text": [
      "[INFO 12-13 23:18:53] ax.service.ax_client: Generated new trial 24 with parameters {'a': 0.124318, 'b': 0.148239} using model GPEI.\n",
      "[INFO 12-13 23:18:53] ax.service.ax_client: Completed trial 24 with data: {'z': (0.668489, 0.0)}.\n",
      "[INFO 12-13 23:18:54] ax.service.ax_client: Generated new trial 25 with parameters {'a': 0.18862, 'b': 0.158529} using model GPEI.\n",
      "[INFO 12-13 23:18:54] ax.service.ax_client: Completed trial 25 with data: {'z': (0.837145, 0.0)}.\n",
      "[INFO 12-13 23:18:55] ax.service.ax_client: Generated new trial 26 with parameters {'a': 0.200994, 'b': 0.127745} using model GPEI.\n",
      "[INFO 12-13 23:18:55] ax.service.ax_client: Completed trial 26 with data: {'z': (0.962195, 0.0)}.\n",
      "[INFO 12-13 23:18:56] ax.service.ax_client: Generated new trial 27 with parameters {'a': 0.201791, 'b': 0.096461} using model GPEI.\n",
      "[INFO 12-13 23:18:56] ax.service.ax_client: Completed trial 27 with data: {'z': (0.999214, 0.0)}.\n"
     ]
    },
    {
     "name": "stdout",
     "output_type": "stream",
     "text": [
      "Using GPEI (Exploitation)\n"
     ]
    },
    {
     "name": "stderr",
     "output_type": "stream",
     "text": [
      "[INFO 12-13 23:18:56] ax.service.ax_client: Generated new trial 28 with parameters {'a': 0.213184, 'b': 0.097486} using model GPEI.\n",
      "[INFO 12-13 23:18:56] ax.service.ax_client: Completed trial 28 with data: {'z': (0.991034, 0.0)}.\n",
      "[INFO 12-13 23:18:57] ax.service.ax_client: Generated new trial 29 with parameters {'a': 0.221417, 'b': -0.399691} using model GPEI.\n",
      "[INFO 12-13 23:18:57] ax.service.ax_client: Completed trial 29 with data: {'z': (4e-06, 0.0)}.\n",
      "[INFO 12-13 23:18:57] ax.service.ax_client: Generated new trial 30 with parameters {'a': 1.0, 'b': -1.0} using model GPEI.\n",
      "[INFO 12-13 23:18:57] ax.service.ax_client: Completed trial 30 with data: {'z': (0.0, 0.0)}.\n",
      "[INFO 12-13 23:18:58] ax.service.ax_client: Generated new trial 31 with parameters {'a': -1.0, 'b': 1.0} using model GPEI.\n",
      "[INFO 12-13 23:18:58] ax.service.ax_client: Completed trial 31 with data: {'z': (0.0, 0.0)}.\n"
     ]
    },
    {
     "name": "stdout",
     "output_type": "stream",
     "text": [
      "Using GPEI (Exploitation)\n"
     ]
    },
    {
     "name": "stderr",
     "output_type": "stream",
     "text": [
      "[INFO 12-13 23:18:59] ax.service.ax_client: Generated new trial 32 with parameters {'a': 1.0, 'b': 0.167894} using model GPEI.\n",
      "[INFO 12-13 23:18:59] ax.service.ax_client: Completed trial 32 with data: {'z': (0.0, 0.0)}.\n",
      "[INFO 12-13 23:19:00] ax.service.ax_client: Generated new trial 33 with parameters {'a': -0.03882, 'b': 1.0} using model GPEI.\n",
      "[INFO 12-13 23:19:00] ax.service.ax_client: Completed trial 33 with data: {'z': (0.0, 0.0)}.\n",
      "[INFO 12-13 23:19:00] ax.service.ax_client: Generated new trial 34 with parameters {'a': 0.542525, 'b': -1.0} using model GPEI.\n",
      "[INFO 12-13 23:19:01] ax.service.ax_client: Completed trial 34 with data: {'z': (0.0, 0.0)}.\n",
      "[INFO 12-13 23:19:02] ax.service.ax_client: Generated new trial 35 with parameters {'a': -0.543446, 'b': -1.0} using model GPEI.\n",
      "[INFO 12-13 23:19:02] ax.service.ax_client: Completed trial 35 with data: {'z': (0.0, 0.0)}.\n"
     ]
    },
    {
     "name": "stdout",
     "output_type": "stream",
     "text": [
      "Using GPEI (Exploitation)\n"
     ]
    },
    {
     "name": "stderr",
     "output_type": "stream",
     "text": [
      "[INFO 12-13 23:19:03] ax.service.ax_client: Generated new trial 36 with parameters {'a': 0.199332, 'b': 0.099508} using model GPEI.\n",
      "[INFO 12-13 23:19:03] ax.service.ax_client: Completed trial 36 with data: {'z': (0.999966, 0.0)}.\n",
      "[INFO 12-13 23:19:04] ax.service.ax_client: Generated new trial 37 with parameters {'a': 0.065949, 'b': -0.175686} using model GPEI.\n",
      "[INFO 12-13 23:19:04] ax.service.ax_client: Completed trial 37 with data: {'z': (0.009108, 0.0)}.\n",
      "[INFO 12-13 23:19:05] ax.service.ax_client: Generated new trial 38 with parameters {'a': -0.326904, 'b': -0.556162} using model GPEI.\n",
      "[INFO 12-13 23:19:05] ax.service.ax_client: Completed trial 38 with data: {'z': (0.0, 0.0)}.\n",
      "[INFO 12-13 23:19:06] ax.service.ax_client: Generated new trial 39 with parameters {'a': -0.681011, 'b': -0.057259} using model GPEI.\n",
      "[INFO 12-13 23:19:06] ax.service.ax_client: Completed trial 39 with data: {'z': (0.0, 0.0)}.\n",
      "[INFO 12-13 23:19:06] ax.service.ax_client: Starting optimization with verbose logging. To disable logging, set the `verbose_logging` argument to `False`. Note that float values in the logs are rounded to 6 decimal points.\n",
      "[INFO 12-13 23:19:06] ax.service.utils.instantiation: Inferred value type of ParameterType.FLOAT for parameter a. If that is not the expected value type, you can explicitly specify 'value_type' ('int', 'float', 'bool' or 'str') in parameter dict.\n",
      "[INFO 12-13 23:19:06] ax.service.utils.instantiation: Inferred value type of ParameterType.FLOAT for parameter b. If that is not the expected value type, you can explicitly specify 'value_type' ('int', 'float', 'bool' or 'str') in parameter dict.\n",
      "[INFO 12-13 23:19:06] ax.service.utils.instantiation: Created search space: SearchSpace(parameters=[RangeParameter(name='a', parameter_type=FLOAT, range=[-1.0, 1.0]), RangeParameter(name='b', parameter_type=FLOAT, range=[-1.0, 1.0])], parameter_constraints=[]).\n",
      "[INFO 12-13 23:19:06] ax.service.ax_client: Generated new trial 0 with parameters {'a': -0.179596, 'b': -0.030631} using model Sobol.\n",
      "[INFO 12-13 23:19:06] ax.service.ax_client: Completed trial 0 with data: {'z': (0.000317, 0.0)}.\n",
      "[INFO 12-13 23:19:06] ax.service.ax_client: Generated new trial 1 with parameters {'a': 0.990034, 'b': 0.197965} using model Sobol.\n",
      "[INFO 12-13 23:19:06] ax.service.ax_client: Completed trial 1 with data: {'z': (0.0, 0.0)}.\n",
      "[INFO 12-13 23:19:06] ax.service.ax_client: Generated new trial 2 with parameters {'a': 0.134319, 'b': -0.697652} using model Sobol.\n",
      "[INFO 12-13 23:19:06] ax.service.ax_client: Completed trial 2 with data: {'z': (0.0, 0.0)}.\n",
      "[INFO 12-13 23:19:06] ax.service.ax_client: Generated new trial 3 with parameters {'a': -0.948885, 'b': 0.530821} using model Sobol.\n",
      "[INFO 12-13 23:19:06] ax.service.ax_client: Completed trial 3 with data: {'z': (0.0, 0.0)}.\n",
      "[INFO 12-13 23:19:06] ax.service.ax_client: Generated new trial 4 with parameters {'a': -0.723335, 'b': -0.978501} using model Sobol.\n",
      "[INFO 12-13 23:19:06] ax.service.ax_client: Completed trial 4 with data: {'z': (0.0, 0.0)}.\n",
      "[INFO 12-13 23:19:06] ax.service.ax_client: Generated new trial 5 with parameters {'a': 0.412668, 'b': 0.808681} using model Sobol.\n",
      "[INFO 12-13 23:19:06] ax.service.ax_client: Completed trial 5 with data: {'z': (0.0, 0.0)}.\n",
      "[INFO 12-13 23:19:06] ax.service.ax_client: Generated new trial 6 with parameters {'a': 0.713695, 'b': -0.309345} using model Sobol.\n",
      "[INFO 12-13 23:19:06] ax.service.ax_client: Completed trial 6 with data: {'z': (0.0, 0.0)}.\n",
      "[INFO 12-13 23:19:06] ax.service.ax_client: Generated new trial 7 with parameters {'a': -0.399359, 'b': 0.477715} using model Sobol.\n",
      "[INFO 12-13 23:19:06] ax.service.ax_client: Completed trial 7 with data: {'z': (0.0, 0.0)}.\n",
      "[INFO 12-13 23:19:06] ax.service.ax_client: Generated new trial 8 with parameters {'a': -0.265385, 'b': -0.60956} using model Sobol.\n",
      "[INFO 12-13 23:19:06] ax.service.ax_client: Completed trial 8 with data: {'z': (0.0, 0.0)}.\n",
      "[INFO 12-13 23:19:06] ax.service.ax_client: Generated new trial 9 with parameters {'a': 0.576063, 'b': 0.661967} using model Sobol.\n",
      "[INFO 12-13 23:19:06] ax.service.ax_client: Completed trial 9 with data: {'z': (0.0, 0.0)}.\n",
      "[INFO 12-13 23:19:06] ax.service.ax_client: Generated new trial 10 with parameters {'a': 0.298477, 'b': -0.161166} using model Sobol.\n",
      "[INFO 12-13 23:19:06] ax.service.ax_client: Completed trial 10 with data: {'z': (0.020338, 0.0)}.\n",
      "[INFO 12-13 23:19:06] ax.service.ax_client: Generated new trial 11 with parameters {'a': -0.612795, 'b': 0.110239} using model Sobol.\n",
      "[INFO 12-13 23:19:06] ax.service.ax_client: Completed trial 11 with data: {'z': (0.0, 0.0)}.\n"
     ]
    },
    {
     "name": "stdout",
     "output_type": "stream",
     "text": [
      "Batch size 4: Sync time: 17.16989620000095, Error: 3.442969214884073e-05\n"
     ]
    },
    {
     "name": "stderr",
     "output_type": "stream",
     "text": [
      "[INFO 12-13 23:19:06] ax.service.ax_client: Generated new trial 12 with parameters {'a': -0.840428, 'b': -0.381416} using model Sobol.\n",
      "[INFO 12-13 23:19:06] ax.service.ax_client: Completed trial 12 with data: {'z': (0.0, 0.0)}.\n",
      "[INFO 12-13 23:19:06] ax.service.ax_client: Generated new trial 13 with parameters {'a': 0.030008, 'b': 0.331524} using model Sobol.\n",
      "[INFO 12-13 23:19:06] ax.service.ax_client: Completed trial 13 with data: {'z': (0.016163, 0.0)}.\n",
      "[INFO 12-13 23:19:06] ax.service.ax_client: Generated new trial 14 with parameters {'a': 0.846657, 'b': -0.8317} using model Sobol.\n",
      "[INFO 12-13 23:19:06] ax.service.ax_client: Completed trial 14 with data: {'z': (0.0, 0.0)}.\n",
      "[INFO 12-13 23:19:06] ax.service.ax_client: Generated new trial 15 with parameters {'a': -0.03208, 'b': 0.881118} using model Sobol.\n",
      "[INFO 12-13 23:19:06] ax.service.ax_client: Completed trial 15 with data: {'z': (0.0, 0.0)}.\n",
      "[INFO 12-13 23:19:06] ax.service.ax_client: Generated new trial 16 with parameters {'a': -0.121781, 'b': -0.781007} using model Sobol.\n",
      "[INFO 12-13 23:19:06] ax.service.ax_client: Completed trial 16 with data: {'z': (0.0, 0.0)}.\n",
      "[INFO 12-13 23:19:06] ax.service.ax_client: Generated new trial 17 with parameters {'a': 0.811124, 'b': 0.947428} using model Sobol.\n",
      "[INFO 12-13 23:19:06] ax.service.ax_client: Completed trial 17 with data: {'z': (0.0, 0.0)}.\n",
      "[INFO 12-13 23:19:06] ax.service.ax_client: Generated new trial 18 with parameters {'a': 0.065274, 'b': -0.448214} using model Sobol.\n",
      "[INFO 12-13 23:19:06] ax.service.ax_client: Completed trial 18 with data: {'z': (0.0, 0.0)}.\n",
      "[INFO 12-13 23:19:06] ax.service.ax_client: Generated new trial 19 with parameters {'a': -0.750932, 'b': 0.280343} using model Sobol.\n",
      "[INFO 12-13 23:19:06] ax.service.ax_client: Completed trial 19 with data: {'z': (0.0, 0.0)}.\n"
     ]
    },
    {
     "name": "stdout",
     "output_type": "stream",
     "text": [
      "Using GPEI (Exploitation)\n"
     ]
    },
    {
     "name": "stderr",
     "output_type": "stream",
     "text": [
      "[INFO 12-13 23:19:07] ax.service.ax_client: Generated new trial 20 with parameters {'a': 0.255035, 'b': 0.050205} using model GPEI.\n",
      "[INFO 12-13 23:19:07] ax.service.ax_client: Completed trial 20 with data: {'z': (0.759252, 0.0)}.\n",
      "[INFO 12-13 23:19:08] ax.service.ax_client: Generated new trial 21 with parameters {'a': 0.286166, 'b': 0.07226} using model GPEI.\n",
      "[INFO 12-13 23:19:08] ax.service.ax_client: Completed trial 21 with data: {'z': (0.663846, 0.0)}.\n",
      "[INFO 12-13 23:19:09] ax.service.ax_client: Generated new trial 22 with parameters {'a': 0.247393, 'b': 0.027824} using model GPEI.\n",
      "[INFO 12-13 23:19:09] ax.service.ax_client: Completed trial 22 with data: {'z': (0.68882, 0.0)}.\n",
      "[INFO 12-13 23:19:10] ax.service.ax_client: Generated new trial 23 with parameters {'a': 0.526042, 'b': 0.046952} using model GPEI.\n",
      "[INFO 12-13 23:19:10] ax.service.ax_client: Completed trial 23 with data: {'z': (0.004271, 0.0)}.\n",
      "[INFO 12-13 23:19:11] ax.service.ax_client: Generated new trial 24 with parameters {'a': 0.208194, 'b': 0.05718} using model GPEI.\n",
      "[INFO 12-13 23:19:11] ax.service.ax_client: Completed trial 24 with data: {'z': (0.909341, 0.0)}.\n"
     ]
    },
    {
     "name": "stdout",
     "output_type": "stream",
     "text": [
      "Using GPEI (Exploitation)\n"
     ]
    },
    {
     "name": "stderr",
     "output_type": "stream",
     "text": [
      "[INFO 12-13 23:19:12] ax.service.ax_client: Generated new trial 25 with parameters {'a': 0.179177, 'b': 0.077829} using model GPEI.\n",
      "[INFO 12-13 23:19:12] ax.service.ax_client: Completed trial 25 with data: {'z': (0.954795, 0.0)}.\n",
      "[INFO 12-13 23:19:13] ax.service.ax_client: Generated new trial 26 with parameters {'a': -0.813687, 'b': 1.0} using model GPEI.\n",
      "[INFO 12-13 23:19:13] ax.service.ax_client: Completed trial 26 with data: {'z': (0.0, 0.0)}.\n",
      "[INFO 12-13 23:19:14] ax.service.ax_client: Generated new trial 27 with parameters {'a': 0.152281, 'b': 0.066309} using model GPEI.\n",
      "[INFO 12-13 23:19:14] ax.service.ax_client: Completed trial 27 with data: {'z': (0.843149, 0.0)}.\n",
      "[INFO 12-13 23:19:14] ax.service.ax_client: Generated new trial 28 with parameters {'a': 0.403379, 'b': -0.438225} using model GPEI.\n",
      "[INFO 12-13 23:19:14] ax.service.ax_client: Completed trial 28 with data: {'z': (0.0, 0.0)}.\n",
      "[INFO 12-13 23:19:15] ax.service.ax_client: Generated new trial 29 with parameters {'a': 0.202756, 'b': 0.111857} using model GPEI.\n",
      "[INFO 12-13 23:19:15] ax.service.ax_client: Completed trial 29 with data: {'z': (0.992619, 0.0)}.\n"
     ]
    },
    {
     "name": "stdout",
     "output_type": "stream",
     "text": [
      "Using GPEI (Exploitation)\n"
     ]
    },
    {
     "name": "stderr",
     "output_type": "stream",
     "text": [
      "[INFO 12-13 23:19:16] ax.service.ax_client: Generated new trial 30 with parameters {'a': 0.43308, 'b': -1.0} using model GPEI.\n",
      "[INFO 12-13 23:19:16] ax.service.ax_client: Completed trial 30 with data: {'z': (0.0, 0.0)}.\n",
      "[INFO 12-13 23:19:16] ax.service.ax_client: Generated new trial 31 with parameters {'a': -0.412516, 'b': 1.0} using model GPEI.\n",
      "[INFO 12-13 23:19:16] ax.service.ax_client: Completed trial 31 with data: {'z': (0.0, 0.0)}.\n",
      "[INFO 12-13 23:19:16] ax.service.ax_client: Generated new trial 32 with parameters {'a': -1.0, 'b': -0.021506} using model GPEI.\n",
      "[INFO 12-13 23:19:16] ax.service.ax_client: Completed trial 32 with data: {'z': (0.0, 0.0)}.\n",
      "[INFO 12-13 23:19:17] ax.service.ax_client: Generated new trial 33 with parameters {'a': 1.0, 'b': 0.596518} using model GPEI.\n",
      "[INFO 12-13 23:19:17] ax.service.ax_client: Completed trial 33 with data: {'z': (0.0, 0.0)}.\n",
      "[INFO 12-13 23:19:18] ax.service.ax_client: Generated new trial 34 with parameters {'a': -0.451176, 'b': -0.263181} using model GPEI.\n",
      "[INFO 12-13 23:19:18] ax.service.ax_client: Completed trial 34 with data: {'z': (0.0, 0.0)}.\n"
     ]
    },
    {
     "name": "stdout",
     "output_type": "stream",
     "text": [
      "Using GPEI (Exploitation)\n"
     ]
    },
    {
     "name": "stderr",
     "output_type": "stream",
     "text": [
      "[INFO 12-13 23:19:18] ax.service.ax_client: Generated new trial 35 with parameters {'a': -1.0, 'b': -0.726926} using model GPEI.\n",
      "[INFO 12-13 23:19:18] ax.service.ax_client: Completed trial 35 with data: {'z': (0.0, 0.0)}.\n",
      "[INFO 12-13 23:19:19] ax.service.ax_client: Generated new trial 36 with parameters {'a': 0.669284, 'b': 0.337224} using model GPEI.\n",
      "[INFO 12-13 23:19:19] ax.service.ax_client: Completed trial 36 with data: {'z': (1e-06, 0.0)}.\n",
      "[INFO 12-13 23:19:20] ax.service.ax_client: Generated new trial 37 with parameters {'a': -0.641444, 'b': 0.7093} using model GPEI.\n",
      "[INFO 12-13 23:19:20] ax.service.ax_client: Completed trial 37 with data: {'z': (0.0, 0.0)}.\n",
      "[INFO 12-13 23:19:20] ax.service.ax_client: Generated new trial 38 with parameters {'a': 0.198753, 'b': 0.101069} using model GPEI.\n",
      "[INFO 12-13 23:19:20] ax.service.ax_client: Completed trial 38 with data: {'z': (0.999865, 0.0)}.\n",
      "[INFO 12-13 23:19:21] ax.service.ax_client: Generated new trial 39 with parameters {'a': 1.0, 'b': -0.146271} using model GPEI.\n",
      "[INFO 12-13 23:19:21] ax.service.ax_client: Completed trial 39 with data: {'z': (0.0, 0.0)}.\n",
      "[INFO 12-13 23:19:21] ax.service.ax_client: Starting optimization with verbose logging. To disable logging, set the `verbose_logging` argument to `False`. Note that float values in the logs are rounded to 6 decimal points.\n",
      "[INFO 12-13 23:19:21] ax.service.utils.instantiation: Inferred value type of ParameterType.FLOAT for parameter a. If that is not the expected value type, you can explicitly specify 'value_type' ('int', 'float', 'bool' or 'str') in parameter dict.\n",
      "[INFO 12-13 23:19:21] ax.service.utils.instantiation: Inferred value type of ParameterType.FLOAT for parameter b. If that is not the expected value type, you can explicitly specify 'value_type' ('int', 'float', 'bool' or 'str') in parameter dict.\n",
      "[INFO 12-13 23:19:21] ax.service.utils.instantiation: Created search space: SearchSpace(parameters=[RangeParameter(name='a', parameter_type=FLOAT, range=[-1.0, 1.0]), RangeParameter(name='b', parameter_type=FLOAT, range=[-1.0, 1.0])], parameter_constraints=[]).\n",
      "[INFO 12-13 23:19:21] ax.service.ax_client: Generated new trial 0 with parameters {'a': 0.472841, 'b': -0.659778} using model Sobol.\n",
      "[INFO 12-13 23:19:21] ax.service.ax_client: Completed trial 0 with data: {'z': (0.0, 0.0)}.\n",
      "[INFO 12-13 23:19:21] ax.service.ax_client: Generated new trial 1 with parameters {'a': -0.975221, 'b': 0.847723} using model Sobol.\n",
      "[INFO 12-13 23:19:21] ax.service.ax_client: Completed trial 1 with data: {'z': (0.0, 0.0)}.\n",
      "[INFO 12-13 23:19:21] ax.service.ax_client: Generated new trial 2 with parameters {'a': -0.048736, 'b': -0.12831} using model Sobol.\n",
      "[INFO 12-13 23:19:21] ax.service.ax_client: Completed trial 2 with data: {'z': (0.003347, 0.0)}.\n",
      "[INFO 12-13 23:19:21] ax.service.ax_client: Generated new trial 3 with parameters {'a': 0.550262, 'b': 0.317315} using model Sobol.\n",
      "[INFO 12-13 23:19:21] ax.service.ax_client: Completed trial 3 with data: {'z': (0.000204, 0.0)}.\n",
      "[INFO 12-13 23:19:21] ax.service.ax_client: Generated new trial 4 with parameters {'a': 0.82952, 'b': -0.476521} using model Sobol.\n",
      "[INFO 12-13 23:19:21] ax.service.ax_client: Completed trial 4 with data: {'z': (0.0, 0.0)}.\n",
      "[INFO 12-13 23:19:21] ax.service.ax_client: Generated new trial 5 with parameters {'a': -0.332022, 'b': 0.031712} using model Sobol.\n",
      "[INFO 12-13 23:19:21] ax.service.ax_client: Completed trial 5 with data: {'z': (1e-06, 0.0)}.\n",
      "[INFO 12-13 23:19:21] ax.service.ax_client: Generated new trial 6 with parameters {'a': -0.629616, 'b': -0.944374} using model Sobol.\n",
      "[INFO 12-13 23:19:21] ax.service.ax_client: Completed trial 6 with data: {'z': (0.0, 0.0)}.\n",
      "[INFO 12-13 23:19:21] ax.service.ax_client: Generated new trial 7 with parameters {'a': 0.13102, 'b': 0.500518} using model Sobol.\n",
      "[INFO 12-13 23:19:21] ax.service.ax_client: Completed trial 7 with data: {'z': (0.000259, 0.0)}.\n",
      "[INFO 12-13 23:19:21] ax.service.ax_client: Generated new trial 8 with parameters {'a': 0.09744, 'b': -0.007065} using model Sobol.\n",
      "[INFO 12-13 23:19:21] ax.service.ax_client: Completed trial 8 with data: {'z': (0.333182, 0.0)}.\n",
      "[INFO 12-13 23:19:21] ax.service.ax_client: Generated new trial 9 with parameters {'a': -0.595059, 'b': 0.438195} using model Sobol.\n",
      "[INFO 12-13 23:19:21] ax.service.ax_client: Completed trial 9 with data: {'z': (0.0, 0.0)}.\n",
      "[INFO 12-13 23:19:21] ax.service.ax_client: Generated new trial 10 with parameters {'a': -0.427799, 'b': -0.538837} using model Sobol.\n",
      "[INFO 12-13 23:19:21] ax.service.ax_client: Completed trial 10 with data: {'z': (0.0, 0.0)}.\n",
      "[INFO 12-13 23:19:21] ax.service.ax_client: Generated new trial 11 with parameters {'a': 0.926273, 'b': 0.969029} using model Sobol.\n",
      "[INFO 12-13 23:19:21] ax.service.ax_client: Completed trial 11 with data: {'z': (0.0, 0.0)}.\n",
      "[INFO 12-13 23:19:21] ax.service.ax_client: Generated new trial 12 with parameters {'a': 0.709574, 'b': -0.815744} using model Sobol.\n",
      "[INFO 12-13 23:19:21] ax.service.ax_client: Completed trial 12 with data: {'z': (0.0, 0.0)}.\n"
     ]
    },
    {
     "name": "stdout",
     "output_type": "stream",
     "text": [
      "Batch size 5: Sync time: 15.358859500000108, Error: 0.00013490655245995686\n"
     ]
    },
    {
     "name": "stderr",
     "output_type": "stream",
     "text": [
      "[INFO 12-13 23:19:21] ax.service.ax_client: Generated new trial 13 with parameters {'a': -0.207072, 'b': 0.62976} using model Sobol.\n",
      "[INFO 12-13 23:19:21] ax.service.ax_client: Completed trial 13 with data: {'z': (0.0, 0.0)}.\n",
      "[INFO 12-13 23:19:21] ax.service.ax_client: Generated new trial 14 with parameters {'a': -0.753224, 'b': -0.347341} using model Sobol.\n",
      "[INFO 12-13 23:19:21] ax.service.ax_client: Completed trial 14 with data: {'z': (0.0, 0.0)}.\n",
      "[INFO 12-13 23:19:21] ax.service.ax_client: Generated new trial 15 with parameters {'a': 0.25182, 'b': 0.160281} using model Sobol.\n",
      "[INFO 12-13 23:19:21] ax.service.ax_client: Completed trial 15 with data: {'z': (0.729095, 0.0)}.\n",
      "[INFO 12-13 23:19:21] ax.service.ax_client: Generated new trial 16 with parameters {'a': 0.366813, 'b': -0.267436} using model Sobol.\n",
      "[INFO 12-13 23:19:21] ax.service.ax_client: Completed trial 16 with data: {'z': (0.000291, 0.0)}.\n",
      "[INFO 12-13 23:19:21] ax.service.ax_client: Generated new trial 17 with parameters {'a': -0.864311, 'b': 0.209318} using model Sobol.\n",
      "[INFO 12-13 23:19:21] ax.service.ax_client: Completed trial 17 with data: {'z': (0.0, 0.0)}.\n",
      "[INFO 12-13 23:19:21] ax.service.ax_client: Generated new trial 18 with parameters {'a': -0.158487, 'b': -0.797995} using model Sobol.\n",
      "[INFO 12-13 23:19:21] ax.service.ax_client: Completed trial 18 with data: {'z': (0.0, 0.0)}.\n",
      "[INFO 12-13 23:19:21] ax.service.ax_client: Generated new trial 19 with parameters {'a': 0.657083, 'b': 0.740876} using model Sobol.\n",
      "[INFO 12-13 23:19:21] ax.service.ax_client: Completed trial 19 with data: {'z': (0.0, 0.0)}.\n"
     ]
    },
    {
     "name": "stdout",
     "output_type": "stream",
     "text": [
      "Using GPEI (Exploitation)\n"
     ]
    },
    {
     "name": "stderr",
     "output_type": "stream",
     "text": [
      "[INFO 12-13 23:19:22] ax.service.ax_client: Generated new trial 20 with parameters {'a': 0.202222, 'b': 0.162653} using model GPEI.\n",
      "[INFO 12-13 23:19:22] ax.service.ax_client: Completed trial 20 with data: {'z': (0.821588, 0.0)}.\n",
      "[INFO 12-13 23:19:23] ax.service.ax_client: Generated new trial 21 with parameters {'a': 0.153993, 'b': 0.176235} using model GPEI.\n",
      "[INFO 12-13 23:19:23] ax.service.ax_client: Completed trial 21 with data: {'z': (0.67272, 0.0)}.\n",
      "[INFO 12-13 23:19:24] ax.service.ax_client: Generated new trial 22 with parameters {'a': 0.207439, 'b': 0.089224} using model GPEI.\n",
      "[INFO 12-13 23:19:24] ax.service.ax_client: Completed trial 22 with data: {'z': (0.991463, 0.0)}.\n",
      "[INFO 12-13 23:19:25] ax.service.ax_client: Generated new trial 23 with parameters {'a': 0.220514, 'b': 0.049129} using model GPEI.\n",
      "[INFO 12-13 23:19:25] ax.service.ax_client: Completed trial 23 with data: {'z': (0.860336, 0.0)}.\n",
      "[INFO 12-13 23:19:26] ax.service.ax_client: Generated new trial 24 with parameters {'a': 0.194719, 'b': 0.099836} using model GPEI.\n",
      "[INFO 12-13 23:19:26] ax.service.ax_client: Completed trial 24 with data: {'z': (0.998605, 0.0)}.\n"
     ]
    },
    {
     "name": "stdout",
     "output_type": "stream",
     "text": [
      "Using qNIPV (Exploration)\n"
     ]
    },
    {
     "name": "stderr",
     "output_type": "stream",
     "text": [
      "[INFO 12-13 23:19:26] ax.service.ax_client: Generated new trial 25 with parameters {'a': 1.0, 'b': 0.190116} using model GPEI.\n",
      "[INFO 12-13 23:19:26] ax.service.ax_client: Completed trial 25 with data: {'z': (0.0, 0.0)}.\n",
      "[INFO 12-13 23:19:27] ax.service.ax_client: Generated new trial 26 with parameters {'a': 0.177611, 'b': 1.0} using model GPEI.\n",
      "[INFO 12-13 23:19:27] ax.service.ax_client: Completed trial 26 with data: {'z': (0.0, 0.0)}.\n",
      "[INFO 12-13 23:19:28] ax.service.ax_client: Generated new trial 27 with parameters {'a': -0.497397, 'b': 1.0} using model GPEI.\n",
      "[INFO 12-13 23:19:28] ax.service.ax_client: Completed trial 27 with data: {'z': (0.0, 0.0)}.\n",
      "[INFO 12-13 23:19:29] ax.service.ax_client: Generated new trial 28 with parameters {'a': -1.0, 'b': -0.713407} using model GPEI.\n",
      "[INFO 12-13 23:19:29] ax.service.ax_client: Completed trial 28 with data: {'z': (0.0, 0.0)}.\n",
      "[INFO 12-13 23:19:29] ax.service.ax_client: Generated new trial 29 with parameters {'a': 0.232879, 'b': -1.0} using model GPEI.\n",
      "[INFO 12-13 23:19:29] ax.service.ax_client: Completed trial 29 with data: {'z': (0.0, 0.0)}.\n"
     ]
    },
    {
     "name": "stdout",
     "output_type": "stream",
     "text": [
      "Using GPEI (Exploitation)\n"
     ]
    },
    {
     "name": "stderr",
     "output_type": "stream",
     "text": [
      "[INFO 12-13 23:19:30] ax.service.ax_client: Generated new trial 30 with parameters {'a': 0.02397, 'b': -0.466361} using model GPEI.\n",
      "[INFO 12-13 23:19:30] ax.service.ax_client: Completed trial 30 with data: {'z': (0.0, 0.0)}.\n",
      "[INFO 12-13 23:19:31] ax.service.ax_client: Generated new trial 31 with parameters {'a': 0.744771, 'b': -0.100818} using model GPEI.\n",
      "[INFO 12-13 23:19:31] ax.service.ax_client: Completed trial 31 with data: {'z': (0.0, 0.0)}.\n",
      "[INFO 12-13 23:19:31] ax.service.ax_client: Generated new trial 32 with parameters {'a': 1.0, 'b': 0.567399} using model GPEI.\n",
      "[INFO 12-13 23:19:31] ax.service.ax_client: Completed trial 32 with data: {'z': (0.0, 0.0)}.\n",
      "[INFO 12-13 23:19:32] ax.service.ax_client: Generated new trial 33 with parameters {'a': 1.0, 'b': -1.0} using model GPEI.\n",
      "[INFO 12-13 23:19:32] ax.service.ax_client: Completed trial 33 with data: {'z': (0.0, 0.0)}.\n",
      "[INFO 12-13 23:19:33] ax.service.ax_client: Generated new trial 34 with parameters {'a': 0.20211, 'b': 0.102587} using model GPEI.\n",
      "[INFO 12-13 23:19:33] ax.service.ax_client: Completed trial 34 with data: {'z': (0.999443, 0.0)}.\n"
     ]
    },
    {
     "name": "stdout",
     "output_type": "stream",
     "text": [
      "Using GPEI (Exploitation)\n"
     ]
    },
    {
     "name": "stderr",
     "output_type": "stream",
     "text": [
      "[INFO 12-13 23:19:34] ax.service.ax_client: Generated new trial 35 with parameters {'a': -1.0, 'b': -0.111994} using model GPEI.\n",
      "[INFO 12-13 23:19:34] ax.service.ax_client: Completed trial 35 with data: {'z': (0.0, 0.0)}.\n",
      "[INFO 12-13 23:19:35] ax.service.ax_client: Generated new trial 36 with parameters {'a': 0.200026, 'b': 0.100242} using model GPEI.\n",
      "[INFO 12-13 23:19:35] ax.service.ax_client: Completed trial 36 with data: {'z': (0.999997, 0.0)}.\n",
      "[INFO 12-13 23:19:36] ax.service.ax_client: Generated new trial 37 with parameters {'a': -1.0, 'b': 0.513318} using model GPEI.\n",
      "[INFO 12-13 23:19:36] ax.service.ax_client: Completed trial 37 with data: {'z': (0.0, 0.0)}.\n",
      "[INFO 12-13 23:19:37] ax.service.ax_client: Generated new trial 38 with parameters {'a': -0.159273, 'b': 1.0} using model GPEI.\n",
      "[INFO 12-13 23:19:37] ax.service.ax_client: Completed trial 38 with data: {'z': (0.0, 0.0)}.\n",
      "[INFO 12-13 23:19:38] ax.service.ax_client: Generated new trial 39 with parameters {'a': -0.646148, 'b': -0.037639} using model GPEI.\n",
      "[INFO 12-13 23:19:38] ax.service.ax_client: Completed trial 39 with data: {'z': (0.0, 0.0)}.\n",
      "[INFO 12-13 23:19:38] ax.service.ax_client: Starting optimization with verbose logging. To disable logging, set the `verbose_logging` argument to `False`. Note that float values in the logs are rounded to 6 decimal points.\n",
      "[INFO 12-13 23:19:38] ax.service.utils.instantiation: Inferred value type of ParameterType.FLOAT for parameter a. If that is not the expected value type, you can explicitly specify 'value_type' ('int', 'float', 'bool' or 'str') in parameter dict.\n",
      "[INFO 12-13 23:19:38] ax.service.utils.instantiation: Inferred value type of ParameterType.FLOAT for parameter b. If that is not the expected value type, you can explicitly specify 'value_type' ('int', 'float', 'bool' or 'str') in parameter dict.\n",
      "[INFO 12-13 23:19:38] ax.service.utils.instantiation: Created search space: SearchSpace(parameters=[RangeParameter(name='a', parameter_type=FLOAT, range=[-1.0, 1.0]), RangeParameter(name='b', parameter_type=FLOAT, range=[-1.0, 1.0])], parameter_constraints=[]).\n",
      "[INFO 12-13 23:19:38] ax.service.ax_client: Generated new trial 0 with parameters {'a': -0.004346, 'b': -0.536592} using model Sobol.\n",
      "[INFO 12-13 23:19:38] ax.service.ax_client: Completed trial 0 with data: {'z': (0.0, 0.0)}.\n",
      "[INFO 12-13 23:19:38] ax.service.ax_client: Generated new trial 1 with parameters {'a': 0.899922, 'b': 0.823768} using model Sobol.\n",
      "[INFO 12-13 23:19:38] ax.service.ax_client: Completed trial 1 with data: {'z': (0.0, 0.0)}.\n",
      "[INFO 12-13 23:19:38] ax.service.ax_client: Generated new trial 2 with parameters {'a': 0.310209, 'b': -0.426924} using model Sobol.\n",
      "[INFO 12-13 23:19:38] ax.service.ax_client: Completed trial 2 with data: {'z': (1e-06, 0.0)}.\n",
      "[INFO 12-13 23:19:38] ax.service.ax_client: Generated new trial 3 with parameters {'a': -0.656561, 'b': 0.214699} using model Sobol.\n",
      "[INFO 12-13 23:19:38] ax.service.ax_client: Completed trial 3 with data: {'z': (0.0, 0.0)}.\n",
      "[INFO 12-13 23:19:38] ax.service.ax_client: Generated new trial 4 with parameters {'a': -0.901438, 'b': -0.131005} using model Sobol.\n",
      "[INFO 12-13 23:19:38] ax.service.ax_client: Completed trial 4 with data: {'z': (0.0, 0.0)}.\n",
      "[INFO 12-13 23:19:38] ax.service.ax_client: Generated new trial 5 with parameters {'a': 0.006732, 'b': 0.477386} using model Sobol.\n",
      "[INFO 12-13 23:19:38] ax.service.ax_client: Completed trial 5 with data: {'z': (0.000125, 0.0)}.\n",
      "[INFO 12-13 23:19:38] ax.service.ax_client: Generated new trial 6 with parameters {'a': 0.658962, 'b': -0.771933} using model Sobol.\n",
      "[INFO 12-13 23:19:38] ax.service.ax_client: Completed trial 6 with data: {'z': (0.0, 0.0)}.\n",
      "[INFO 12-13 23:19:38] ax.service.ax_client: Generated new trial 7 with parameters {'a': -0.31171, 'b': 0.617691} using model Sobol.\n",
      "[INFO 12-13 23:19:38] ax.service.ax_client: Completed trial 7 with data: {'z': (0.0, 0.0)}.\n",
      "[INFO 12-13 23:19:38] ax.service.ax_client: Generated new trial 8 with parameters {'a': -0.403992, 'b': -0.25077} using model Sobol.\n",
      "[INFO 12-13 23:19:38] ax.service.ax_client: Completed trial 8 with data: {'z': (0.0, 0.0)}.\n",
      "[INFO 12-13 23:19:38] ax.service.ax_client: Generated new trial 9 with parameters {'a': 0.500267, 'b': 0.107637} using model Sobol.\n",
      "[INFO 12-13 23:19:38] ax.service.ax_client: Completed trial 9 with data: {'z': (0.010988, 0.0)}.\n",
      "[INFO 12-13 23:19:38] ax.service.ax_client: Generated new trial 10 with parameters {'a': 0.160539, 'b': -0.641213} using model Sobol.\n",
      "[INFO 12-13 23:19:38] ax.service.ax_client: Completed trial 10 with data: {'z': (0.0, 0.0)}.\n",
      "[INFO 12-13 23:19:38] ax.service.ax_client: Generated new trial 11 with parameters {'a': -0.806222, 'b': 0.998457} using model Sobol.\n",
      "[INFO 12-13 23:19:38] ax.service.ax_client: Completed trial 11 with data: {'z': (0.0, 0.0)}.\n",
      "[INFO 12-13 23:19:38] ax.service.ax_client: Generated new trial 12 with parameters {'a': -0.502753, 'b': -0.909759} using model Sobol.\n",
      "[INFO 12-13 23:19:38] ax.service.ax_client: Completed trial 12 with data: {'z': (0.0, 0.0)}.\n"
     ]
    },
    {
     "name": "stdout",
     "output_type": "stream",
     "text": [
      "Batch size 5: Sync time: 16.890702099999544, Error: 2.954751637362918e-06\n"
     ]
    },
    {
     "name": "stderr",
     "output_type": "stream",
     "text": [
      "[INFO 12-13 23:19:38] ax.service.ax_client: Generated new trial 13 with parameters {'a': 0.405425, 'b': 0.700585} using model Sobol.\n",
      "[INFO 12-13 23:19:38] ax.service.ax_client: Completed trial 13 with data: {'z': (0.0, 0.0)}.\n",
      "[INFO 12-13 23:19:38] ax.service.ax_client: Generated new trial 14 with parameters {'a': 0.807639, 'b': -0.050553} using model Sobol.\n",
      "[INFO 12-13 23:19:38] ax.service.ax_client: Completed trial 14 with data: {'z': (0.0, 0.0)}.\n",
      "[INFO 12-13 23:19:38] ax.service.ax_client: Generated new trial 15 with parameters {'a': -0.163039, 'b': 0.341025} using model Sobol.\n",
      "[INFO 12-13 23:19:38] ax.service.ax_client: Completed trial 15 with data: {'z': (7.5e-05, 0.0)}.\n",
      "[INFO 12-13 23:19:38] ax.service.ax_client: Generated new trial 16 with parameters {'a': -0.225596, 'b': -0.110314} using model Sobol.\n",
      "[INFO 12-13 23:19:38] ax.service.ax_client: Completed trial 16 with data: {'z': (1.3e-05, 0.0)}.\n",
      "[INFO 12-13 23:19:38] ax.service.ax_client: Generated new trial 17 with parameters {'a': 0.870074, 'b': 0.279326} using model Sobol.\n",
      "[INFO 12-13 23:19:38] ax.service.ax_client: Completed trial 17 with data: {'z': (0.0, 0.0)}.\n",
      "[INFO 12-13 23:19:38] ax.service.ax_client: Generated new trial 18 with parameters {'a': 0.467617, 'b': -0.969382} using model Sobol.\n",
      "[INFO 12-13 23:19:38] ax.service.ax_client: Completed trial 18 with data: {'z': (0.0, 0.0)}.\n",
      "[INFO 12-13 23:19:38] ax.service.ax_client: Generated new trial 19 with parameters {'a': -0.565555, 'b': 0.638994} using model Sobol.\n",
      "[INFO 12-13 23:19:38] ax.service.ax_client: Completed trial 19 with data: {'z': (0.0, 0.0)}.\n"
     ]
    },
    {
     "name": "stdout",
     "output_type": "stream",
     "text": [
      "Using GPEI (Exploitation)\n"
     ]
    },
    {
     "name": "stderr",
     "output_type": "stream",
     "text": [
      "[INFO 12-13 23:19:39] ax.service.ax_client: Generated new trial 20 with parameters {'a': 0.455579, 'b': 0.126238} using model GPEI.\n",
      "[INFO 12-13 23:19:39] ax.service.ax_client: Completed trial 20 with data: {'z': (0.036866, 0.0)}.\n",
      "[INFO 12-13 23:19:40] ax.service.ax_client: Generated new trial 21 with parameters {'a': 0.43936, 'b': 0.130786} using model GPEI.\n",
      "[INFO 12-13 23:19:40] ax.service.ax_client: Completed trial 21 with data: {'z': (0.054365, 0.0)}.\n",
      "[INFO 12-13 23:19:40] ax.service.ax_client: Generated new trial 22 with parameters {'a': 0.410267, 'b': 0.138277} using model GPEI.\n",
      "[INFO 12-13 23:19:40] ax.service.ax_client: Completed trial 22 with data: {'z': (0.101889, 0.0)}.\n",
      "[INFO 12-13 23:19:41] ax.service.ax_client: Generated new trial 23 with parameters {'a': 0.381029, 'b': 0.145491} using model GPEI.\n",
      "[INFO 12-13 23:19:41] ax.service.ax_client: Completed trial 23 with data: {'z': (0.175161, 0.0)}.\n",
      "[INFO 12-13 23:19:42] ax.service.ax_client: Generated new trial 24 with parameters {'a': 0.350541, 'b': 0.152837} using model GPEI.\n",
      "[INFO 12-13 23:19:42] ax.service.ax_client: Completed trial 24 with data: {'z': (0.28007, 0.0)}.\n"
     ]
    },
    {
     "name": "stdout",
     "output_type": "stream",
     "text": [
      "Using GPEI (Exploitation)\n"
     ]
    },
    {
     "name": "stderr",
     "output_type": "stream",
     "text": [
      "[INFO 12-13 23:19:42] ax.service.ax_client: Generated new trial 25 with parameters {'a': 0.32257, 'b': 0.160241} using model GPEI.\n",
      "[INFO 12-13 23:19:42] ax.service.ax_client: Completed trial 25 with data: {'z': (0.393523, 0.0)}.\n",
      "[INFO 12-13 23:19:43] ax.service.ax_client: Generated new trial 26 with parameters {'a': 0.249386, 'b': 0.185594} using model GPEI.\n",
      "[INFO 12-13 23:19:43] ax.service.ax_client: Completed trial 26 with data: {'z': (0.613688, 0.0)}.\n",
      "[INFO 12-13 23:19:45] ax.service.ax_client: Generated new trial 27 with parameters {'a': 0.239924, 'b': 0.265512} using model GPEI.\n",
      "[INFO 12-13 23:19:45] ax.service.ax_client: Completed trial 27 with data: {'z': (0.23471, 0.0)}.\n",
      "[INFO 12-13 23:19:45] ax.service.ax_client: Generated new trial 28 with parameters {'a': 0.220343, 'b': 0.17067} using model GPEI.\n",
      "[INFO 12-13 23:19:45] ax.service.ax_client: Completed trial 28 with data: {'z': (0.763073, 0.0)}.\n",
      "[INFO 12-13 23:19:46] ax.service.ax_client: Generated new trial 29 with parameters {'a': 0.186379, 'b': 0.145786} using model GPEI.\n",
      "[INFO 12-13 23:19:46] ax.service.ax_client: Completed trial 29 with data: {'z': (0.892174, 0.0)}.\n"
     ]
    },
    {
     "name": "stdout",
     "output_type": "stream",
     "text": [
      "Using GPEI (Exploitation)\n"
     ]
    },
    {
     "name": "stderr",
     "output_type": "stream",
     "text": [
      "[INFO 12-13 23:19:47] ax.service.ax_client: Generated new trial 30 with parameters {'a': 0.188039, 'b': 0.122777} using model GPEI.\n",
      "[INFO 12-13 23:19:47] ax.service.ax_client: Completed trial 30 with data: {'z': (0.967447, 0.0)}.\n",
      "[INFO 12-13 23:19:49] ax.service.ax_client: Generated new trial 31 with parameters {'a': 0.19923, 'b': 0.092123} using model GPEI.\n",
      "[INFO 12-13 23:19:49] ax.service.ax_client: Completed trial 31 with data: {'z': (0.996873, 0.0)}.\n",
      "[INFO 12-13 23:19:49] ax.service.ax_client: Generated new trial 32 with parameters {'a': -1.0, 'b': -0.662282} using model GPEI.\n",
      "[INFO 12-13 23:19:49] ax.service.ax_client: Completed trial 32 with data: {'z': (0.0, 0.0)}.\n",
      "[INFO 12-13 23:19:51] ax.service.ax_client: Generated new trial 33 with parameters {'a': 0.196327, 'b': 0.098133} using model GPEI.\n",
      "[INFO 12-13 23:19:51] ax.service.ax_client: Completed trial 33 with data: {'z': (0.999151, 0.0)}.\n",
      "[INFO 12-13 23:19:51] ax.service.ax_client: Generated new trial 34 with parameters {'a': -0.015744, 'b': 1.0} using model GPEI.\n",
      "[INFO 12-13 23:19:51] ax.service.ax_client: Completed trial 34 with data: {'z': (0.0, 0.0)}.\n"
     ]
    },
    {
     "name": "stdout",
     "output_type": "stream",
     "text": [
      "Using GPEI (Exploitation)\n"
     ]
    },
    {
     "name": "stderr",
     "output_type": "stream",
     "text": [
      "[INFO 12-13 23:19:52] ax.service.ax_client: Generated new trial 35 with parameters {'a': 1.0, 'b': -0.477809} using model GPEI.\n",
      "[INFO 12-13 23:19:52] ax.service.ax_client: Completed trial 35 with data: {'z': (0.0, 0.0)}.\n",
      "[INFO 12-13 23:19:53] ax.service.ax_client: Generated new trial 36 with parameters {'a': 0.187678, 'b': 0.093625} using model GPEI.\n",
      "[INFO 12-13 23:19:53] ax.service.ax_client: Completed trial 36 with data: {'z': (0.990423, 0.0)}.\n",
      "[INFO 12-13 23:19:53] ax.service.ax_client: Generated new trial 37 with parameters {'a': -1.0, 'b': 0.527261} using model GPEI.\n",
      "[INFO 12-13 23:19:53] ax.service.ax_client: Completed trial 37 with data: {'z': (0.0, 0.0)}.\n",
      "[INFO 12-13 23:19:54] ax.service.ax_client: Generated new trial 38 with parameters {'a': 1.0, 'b': -1.0} using model GPEI.\n",
      "[INFO 12-13 23:19:54] ax.service.ax_client: Completed trial 38 with data: {'z': (0.0, 0.0)}.\n",
      "[INFO 12-13 23:19:54] ax.service.ax_client: Generated new trial 39 with parameters {'a': -0.048073, 'b': -1.0} using model GPEI.\n",
      "[INFO 12-13 23:19:54] ax.service.ax_client: Completed trial 39 with data: {'z': (0.0, 0.0)}.\n"
     ]
    },
    {
     "name": "stdout",
     "output_type": "stream",
     "text": [
      "Batch size 5: Sync time: 16.423436799999763, Error: 0.0008485648697963422\n"
     ]
    },
    {
     "data": {
      "image/png": "[encoded data removed]",
      "text/plain": [
       "<Figure size 1000x600 with 2 Axes>"
      ]
     },
     "metadata": {},
     "output_type": "display_data"
    }
   ],
   "source": [
    "import time\n",
    "import asyncio\n",
    "import pandas as pd\n",
    "import matplotlib.pyplot as plt\n",
    "import numpy as np\n",
    "\n",
    "TRUE_PEAK_VALUE = 1.0  # The true peak value of the ZReader function\n",
    "REPEATS = 3  # Number of times to repeat each batch size\n",
    "\n",
    "async def run_async_experiment(batch_size, results):\n",
    "    for _ in range(REPEATS):\n",
    "        suggested_params = []\n",
    "        observed_z = []\n",
    "        best_result = {\"params\": None, \"value\": float(\"-inf\")}\n",
    "\n",
    "        start = time.perf_counter()\n",
    "        async for params in bayesian_optimizer_iterator(\n",
    "            z_reader, param_names, param_bounds,\n",
    "            num_initial_samples=20, num_bo_samples=20, batch_size=batch_size, async_mode=True\n",
    "        ):\n",
    "            z_mean, z_sem = z_reader.read([params[name] for name in param_names])\n",
    "            suggested_params.append(params)\n",
    "            observed_z.append(z_mean)\n",
    "            if z_mean > best_result[\"value\"]:\n",
    "                best_result = {\"params\": params, \"value\": z_mean}\n",
    "\n",
    "        end = time.perf_counter()\n",
    "        elapsed_time = end - start\n",
    "        error = abs(TRUE_PEAK_VALUE - best_result[\"value\"])\n",
    "        print(f\"Batch size {batch_size}: Async time: {elapsed_time}, Error: {error}\")\n",
    "\n",
    "        results.append({\n",
    "            \"mode\": \"async\",\n",
    "            \"batch_size\": batch_size,\n",
    "            \"time\": elapsed_time,\n",
    "            \"best_value\": best_result[\"value\"],\n",
    "            \"error\": error\n",
    "        })\n",
    "\n",
    "\n",
    "async def main_async(results):\n",
    "    for b_size in [1, 2, 3, 4, 5]:\n",
    "        await run_async_experiment(b_size, results)\n",
    "\n",
    "\n",
    "def run_sync_experiment(batch_size, results):\n",
    "    for _ in range(REPEATS):\n",
    "        suggested_params = []\n",
    "        observed_z = []\n",
    "        best_result = {\"params\": None, \"value\": float(\"-inf\")}\n",
    "\n",
    "        start = time.perf_counter()\n",
    "        for params in bayesian_optimizer_iterator_sync(\n",
    "            z_reader, param_names, param_bounds,\n",
    "            num_initial_samples=20, num_bo_samples=20, batch_size=batch_size\n",
    "        ):\n",
    "            z_mean, z_sem = z_reader.read([params[name] for name in param_names])\n",
    "            suggested_params.append(params)\n",
    "            observed_z.append(z_mean)\n",
    "            if z_mean > best_result[\"value\"]:\n",
    "                best_result = {\"params\": params, \"value\": z_mean}\n",
    "\n",
    "        end = time.perf_counter()\n",
    "        elapsed_time = end - start\n",
    "        error = abs(TRUE_PEAK_VALUE - best_result[\"value\"])\n",
    "        print(f\"Batch size {batch_size}: Sync time: {elapsed_time}, Error: {error}\")\n",
    "\n",
    "        results.append({\n",
    "            \"mode\": \"sync\",\n",
    "            \"batch_size\": batch_size,\n",
    "            \"time\": elapsed_time,\n",
    "            \"best_value\": best_result[\"value\"],\n",
    "            \"error\": error\n",
    "        })\n",
    "\n",
    "\n",
    "def main_sync(results):\n",
    "    for batch_size in [1, 2, 3, 4, 5]:\n",
    "        run_sync_experiment(batch_size, results)\n",
    "\n",
    "\n",
    "# Collect results\n",
    "results = []\n",
    "await main_async(results)\n",
    "main_sync(results)\n",
    "\n",
    "# Convert results to a pandas DataFrame\n",
    "df = pd.DataFrame(results)\n",
    "\n",
    "# Calculate mean and std for each metric\n",
    "summary = df.groupby(['mode', 'batch_size']).agg(\n",
    "    time_mean=('time', 'mean'),\n",
    "    time_std=('time', 'std'),\n",
    "    best_value_mean=('best_value', 'mean'),\n",
    "    best_value_std=('best_value', 'std'),\n",
    "    error_mean=('error', 'mean'),\n",
    "    error_std=('error', 'std')\n",
    ").reset_index()\n",
    "\n",
    "# Visualization\n",
    "fig, ax1 = plt.subplots(figsize=(10, 6))\n",
    "\n",
    "# Normalize time to trial rate (trials/second)\n",
    "time_data = (summary.pivot(index='batch_size', columns='mode', values='time_mean') / 20) ** -1\n",
    "error_data = summary.pivot(index='batch_size', columns='mode', values='error_mean')\n",
    "\n",
    "# Bar plot for time (primary Y-axis)\n",
    "indices = np.arange(len(time_data.index))\n",
    "width = 0.35\n",
    "cmap = plt.get_cmap(\"viridis\")\n",
    "async_color, sync_color = cmap(0.5), cmap(0.25)\n",
    "\n",
    "bars_async = ax1.bar(indices - width / 2, time_data['async'], width, color=async_color, label='Async')\n",
    "bars_sync = ax1.bar(indices + width / 2, time_data['sync'], width, color=sync_color, label='Sync')\n",
    "\n",
    "ax1.set_xlabel(\"Batch Size\")\n",
    "ax1.set_ylabel(\"Trial Rate (trials/s)\", color=\"black\")\n",
    "ax1.set_title(\"Bayesian Optimization: Async vs Sync Performance\")\n",
    "ax1.set_xticks(indices)\n",
    "ax1.set_xticklabels(time_data.index)\n",
    "ax1.legend(loc='upper left')\n",
    "ax1.grid(axis='y', linestyle='--', alpha=0.7)\n",
    "\n",
    "# Error bar for trial rate\n",
    "ax1.errorbar(\n",
    "    indices - width / 2, time_data['async'], \n",
    "    yerr=summary.query(\"mode == 'async'\")[\"time_std\"], \n",
    "    fmt=\"none\", color=\"black\", capsize=5\n",
    ")\n",
    "ax1.errorbar(\n",
    "    indices + width / 2, time_data['sync'], \n",
    "    yerr=summary.query(\"mode == 'sync'\")[\"time_std\"], \n",
    "    fmt=\"none\", color=\"black\", capsize=5\n",
    ")\n",
    "\n",
    "# Line plot for error (secondary Y-axis)\n",
    "ax2 = ax1.twinx()\n",
    "ax2.plot(\n",
    "    indices, error_data['async'], color=\"tab:red\", marker=\"o\", label=\"Async Error\"\n",
    ")\n",
    "ax2.plot(\n",
    "    indices, error_data['sync'], color=\"tab:orange\", marker=\"o\", label=\"Sync Error\"\n",
    ")\n",
    "ax2.set_ylabel(\"Error\", color=\"tab:red\")\n",
    "ax2.tick_params(axis=\"y\", labelcolor=\"tab:red\")\n",
    "ax2.legend(loc='upper right')\n",
    "\n",
    "plt.tight_layout()\n",
    "plt.show()\n"
   ]
  },
  {
   "cell_type": "code",
   "execution_count": 26,
   "metadata": {},
   "outputs": [
    {
     "data": {
      "image/png": "[encoded data removed]",
      "text/plain": [
       "<Figure size 1000x600 with 2 Axes>"
      ]
     },
     "metadata": {},
     "output_type": "display_data"
    }
   ],
   "source": [
    "import matplotlib.pyplot as plt\n",
    "import numpy as np\n",
    "\n",
    "# Correctly compute trial rate mean and standard deviation\n",
    "trial_rate_mean = 20 / summary.pivot(index=\"batch_size\", columns=\"mode\", values=\"time_mean\")\n",
    "trial_rate_std = (20 / summary.pivot(index=\"batch_size\", columns=\"mode\", values=\"time_mean\") ** 2) * \\\n",
    "                 summary.pivot(index=\"batch_size\", columns=\"mode\", values=\"time_std\")\n",
    "\n",
    "# Clamp negative trial rate stds\n",
    "trial_rate_std = np.clip(trial_rate_std, 0, None)\n",
    "\n",
    "# Error data\n",
    "error_mean = summary.pivot(index=\"batch_size\", columns=\"mode\", values=\"error_mean\")\n",
    "error_std = summary.pivot(index=\"batch_size\", columns=\"mode\", values=\"error_std\")\n",
    "\n",
    "# Plot time and error\n",
    "fig, ax1 = plt.subplots(figsize=(10, 6))\n",
    "\n",
    "# Bar plot for trial rates\n",
    "indices = np.arange(len(trial_rate_mean.index))\n",
    "width = 0.35\n",
    "cmap = plt.get_cmap(\"viridis\")\n",
    "async_color = cmap(0.5)\n",
    "sync_color = cmap(0.25)\n",
    "\n",
    "# Add bars\n",
    "ax1.bar(\n",
    "    indices - width / 2, trial_rate_mean[\"async\"], width=width, color=async_color, label=\"Async\"\n",
    ")\n",
    "ax1.bar(\n",
    "    indices + width / 2, trial_rate_mean[\"sync\"], width=width, color=sync_color, label=\"Sync\"\n",
    ")\n",
    "\n",
    "# Add error bars for trial rates\n",
    "ax1.errorbar(\n",
    "    indices - width / 2, trial_rate_mean[\"async\"], \n",
    "    yerr=trial_rate_std[\"async\"], fmt=\"none\", color=\"black\", capsize=5\n",
    ")\n",
    "ax1.errorbar(\n",
    "    indices + width / 2, trial_rate_mean[\"sync\"], \n",
    "    yerr=trial_rate_std[\"sync\"], fmt=\"none\", color=\"black\", capsize=5\n",
    ")\n",
    "\n",
    "# Set labels for primary y-axis\n",
    "ax1.set_xlabel(\"Batch Size\")\n",
    "ax1.set_ylabel(\"Trial Rate (trials/s)\", color=\"black\")\n",
    "ax1.set_title(\"20 Shots on goal BO\")\n",
    "ax1.set_xticks(indices)\n",
    "ax1.set_xticklabels(trial_rate_mean.index)\n",
    "ax1.legend(loc=\"upper left\")\n",
    "ax1.grid(axis=\"y\", linestyle=\"--\", alpha=0.7)\n",
    "\n",
    "# Line plot for error (on secondary y-axis)\n",
    "ax2 = ax1.twinx()\n",
    "ax2.plot(\n",
    "    indices, error_mean[\"async\"], color=\"tab:red\", marker=\"o\", label=\"Async Error\"\n",
    ")\n",
    "ax2.plot(\n",
    "    indices, error_mean[\"sync\"], color=\"tab:orange\", marker=\"o\", label=\"Sync Error\"\n",
    ")\n",
    "\n",
    "# Add error bars for error\n",
    "ax2.errorbar(\n",
    "    indices, error_mean[\"async\"], \n",
    "    yerr=error_std[\"async\"], fmt=\"none\", color=\"tab:red\", capsize=5\n",
    ")\n",
    "ax2.errorbar(\n",
    "    indices, error_mean[\"sync\"], \n",
    "    yerr=error_std[\"sync\"], fmt=\"none\", color=\"tab:orange\", capsize=5\n",
    ")\n",
    "\n",
    "# Set labels for secondary y-axis\n",
    "ax2.set_ylabel(\"Error\", color=\"tab:red\")\n",
    "ax2.tick_params(axis=\"y\", labelcolor=\"tab:red\")\n",
    "ax2.legend(loc=\"upper right\")\n",
    "\n",
    "# Finalize the layout\n",
    "plt.tight_layout()\n",
    "plt.show()\n"
   ]
  },
  {
   "cell_type": "code",
   "execution_count": null,
   "metadata": {},
   "outputs": [],
   "source": []
  }
 ],
 "metadata": {
  "kernelspec": {
   "display_name": "ds310",
   "language": "python",
   "name": "python3"
  },
  "language_info": {
   "codemirror_mode": {
    "name": "ipython",
    "version": 3
   },
   "file_extension": ".py",
   "mimetype": "text/x-python",
   "name": "python",
   "nbconvert_exporter": "python",
   "pygments_lexer": "ipython3",
   "version": "3.10.11"
  }
 },
 "nbformat": 4,
 "nbformat_minor": 2
}
