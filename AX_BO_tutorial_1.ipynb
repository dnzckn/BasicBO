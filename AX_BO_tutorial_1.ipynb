{
 "cells": [
  {
   "cell_type": "markdown",
   "metadata": {},
   "source": [
    "# BO with `ax_platform=0.4.3`"
   ]
  },
  {
   "cell_type": "code",
   "execution_count": 11,
   "metadata": {},
   "outputs": [],
   "source": [
    "import asyncio\n",
    "import numpy as np\n",
    "import torch\n",
    "from ax.service.ax_client import AxClient\n",
    "from ax.modelbridge.generation_strategy import GenerationStrategy, GenerationStep\n",
    "from ax.modelbridge.registry import Models\n",
    "from ax.models.torch.botorch_modular.surrogate import Surrogate\n",
    "from botorch.acquisition import qNegIntegratedPosteriorVariance\n",
    "from botorch.models.gp_regression import SingleTaskGP\n",
    "from ax.service.utils.instantiation import ObjectiveProperties\n",
    "import random\n",
    "import matplotlib.pyplot as plt\n",
    "from scipy.interpolate import griddata\n",
    "import numpy as np\n",
    "\n",
    "\n",
    "class ZReader:\n",
    "    \"\"\"Fake response object simulating a noisy Gaussian-like surface as the objective.\"\"\"\n",
    "\n",
    "    def __init__(self, centers, sigma=0.1, n_samples=1):\n",
    "        \"\"\"\n",
    "        Initialize the Gaussian response surface.\n",
    "\n",
    "        Args:\n",
    "            centers (list): The \"peak\" of the Gaussian for each parameter.\n",
    "            sigma (float): Spread of the Gaussian.\n",
    "            n_samples (int): Number of samples to simulate measurement noise.\n",
    "        \"\"\"\n",
    "        self.centers = np.array(centers)\n",
    "        self.sigma = sigma\n",
    "        self.n_samples = n_samples\n",
    "\n",
    "    def read(self, params):\n",
    "        \"\"\"\n",
    "        Compute the objective value (mean and SEM if multiple samples).\n",
    "\n",
    "        Args:\n",
    "            params (list): Parameter values at which to evaluate.\n",
    "        Returns:\n",
    "            tuple: (mean, sem) representing the evaluated objective and its SEM.\n",
    "        \"\"\"\n",
    "        params = np.array(params)\n",
    "        # Gaussian-like function\n",
    "        z = np.exp(-np.sum((params - self.centers) ** 2) / (2 * self.sigma**2))\n",
    "        if self.n_samples > 1:\n",
    "            # Add noise for multiple samples and compute mean and SEM\n",
    "            noisy_z = [\n",
    "                z + np.random.normal(0, self.sigma) for _ in range(self.n_samples)\n",
    "            ]\n",
    "            mean_z = np.mean(noisy_z)\n",
    "            sem_z = np.std(noisy_z) / np.sqrt(self.n_samples)\n",
    "            return mean_z, sem_z\n",
    "        return z, 0.0\n",
    "\n",
    "\n",
    "async def get_next_batch_async(ax_client, batch_size):\n",
    "    \"\"\"Asynchronously request the next batch of trials from AxClient.\"\"\"\n",
    "    loop = asyncio.get_event_loop()\n",
    "    return await asyncio.gather(\n",
    "        *[\n",
    "            loop.run_in_executor(None, ax_client.get_next_trial)\n",
    "            for _ in range(batch_size)\n",
    "        ]\n",
    "    )\n",
    "\n",
    "\n",
    "async def complete_trial_async(ax_client, trial_index, result):\n",
    "    \"\"\"Asynchronously mark a given trial as completed with results.\"\"\"\n",
    "    loop = asyncio.get_event_loop()\n",
    "    return await loop.run_in_executor(\n",
    "        None, ax_client.complete_trial, trial_index, result\n",
    "    )\n",
    "\n",
    "\n",
    "async def bayesian_optimizer_iterator(\n",
    "    z_reader,\n",
    "    param_names,\n",
    "    param_bounds,\n",
    "    num_initial_samples=10,\n",
    "    num_bo_samples=20,\n",
    "    batch_size=1,\n",
    "    explore_ratio=0.1,\n",
    "    threshold=None,\n",
    "    epsilon=0.0,\n",
    "    patience=10,\n",
    "):\n",
    "    \"\"\"\n",
    "    An asynchronous Bayesian optimization iterator using Ax and BoTorch with early stopping criteria.\n",
    "\n",
    "    This tries up to `num_bo_samples` Bayesian optimization steps beyond the initial samples.\n",
    "    If early stopping conditions (threshold or lack of improvement) are met before reaching\n",
    "    `num_bo_samples`, the iteration stops early.\n",
    "\n",
    "    Args:\n",
    "        z_reader: Object with a .read() method that returns (mean, sem) for given params.\n",
    "        param_names (list): Names of each parameter.\n",
    "        param_bounds (list): Bounds for each parameter as (min, max).\n",
    "        num_initial_samples (int): Number of initial random samples via Sobol sequence.\n",
    "        num_bo_samples (int): Maximum number of Bayesian optimization steps (beyond initial samples).\n",
    "        batch_size (int): Number of trials per batch.\n",
    "        explore_ratio (float): Probability of using qNIPV-based exploration.\n",
    "        threshold (float or None): If best observed value > threshold, stop early.\n",
    "        epsilon (float): Minimum absolute improvement in exploitation steps to reset patience.\n",
    "        patience (int): Number of exploitation steps allowed without improvement above epsilon before stopping.\n",
    "\n",
    "    Yields:\n",
    "        dict: Parameter dictionary suggested by the optimizer for evaluation.\n",
    "    \"\"\"\n",
    "    device = torch.device(\"cuda\" if torch.cuda.is_available() else \"cpu\")\n",
    "\n",
    "    # Define strategy: start with Sobol, then GPEI\n",
    "    generation_strategy = GenerationStrategy(\n",
    "        steps=[\n",
    "            GenerationStep(model=Models.SOBOL, num_trials=num_initial_samples),\n",
    "            GenerationStep(\n",
    "                model=Models.GPEI, num_trials=-1, max_parallelism=batch_size\n",
    "            ),\n",
    "        ]\n",
    "    )\n",
    "\n",
    "    # Create a new experiment in Ax\n",
    "    ax_client = AxClient(generation_strategy=generation_strategy, torch_device=device)\n",
    "    ax_client.create_experiment(\n",
    "        name=\"modular_iterator_optimization\",\n",
    "        parameters=[\n",
    "            {\"name\": name, \"type\": \"range\", \"bounds\": bounds}\n",
    "            for name, bounds in zip(param_names, param_bounds)\n",
    "        ],\n",
    "        objectives={\"z\": ObjectiveProperties(minimize=False)},\n",
    "        parameter_constraints=[],\n",
    "        tracking_metric_names=[],\n",
    "    )\n",
    "\n",
    "    best_value = float(\"-inf\")\n",
    "    no_improvement_count = 0\n",
    "\n",
    "    # Generate initial Sobol samples\n",
    "    trials = await get_next_batch_async(ax_client, num_initial_samples)\n",
    "    for params, trial_index in trials:\n",
    "        yield params\n",
    "        z_mean, z_sem = z_reader.read([params[name] for name in param_names])\n",
    "        await complete_trial_async(ax_client, trial_index, {\"z\": (z_mean, z_sem)})\n",
    "        if z_mean > best_value:\n",
    "            best_value = z_mean\n",
    "            no_improvement_count = 0\n",
    "\n",
    "    last_best_value = best_value\n",
    "\n",
    "    # Main Bayesian optimization loop, up to `num_bo_samples` steps\n",
    "    # Each step may involve multiple trials if batch_size > 1\n",
    "    steps_taken = 0\n",
    "    while steps_taken < num_bo_samples:\n",
    "        current_batch_size = min(batch_size, num_bo_samples - steps_taken)\n",
    "\n",
    "        # Decide if we explore (qNIPV) or exploit (GPEI)\n",
    "        explore = np.random.rand() < explore_ratio\n",
    "        if explore:\n",
    "            print(\"Using qNIPV (Exploration)\")\n",
    "            ax_client.generation_strategy._steps[-1].model = Models.BOTORCH_MODULAR\n",
    "            ax_client.generation_strategy._steps[-1].model_kwargs = {\n",
    "                \"surrogate\": Surrogate(SingleTaskGP),\n",
    "                \"botorch_acqf_class\": qNegIntegratedPosteriorVariance,\n",
    "                \"acquisition_options\": {\"mc_points\": 50},\n",
    "            }\n",
    "        else:\n",
    "            print(\"Using GPEI (Exploitation)\")\n",
    "            ax_client.generation_strategy._steps[-1].model = Models.GPEI\n",
    "            ax_client.generation_strategy._steps[-1].model_kwargs = {}\n",
    "\n",
    "        trials = await get_next_batch_async(ax_client, current_batch_size)\n",
    "        for params, trial_index in trials:\n",
    "            yield params\n",
    "            z_mean, z_sem = z_reader.read([params[name] for name in param_names])\n",
    "            await complete_trial_async(ax_client, trial_index, {\"z\": (z_mean, z_sem)})\n",
    "\n",
    "            # Check improvement\n",
    "            if z_mean > best_value:\n",
    "                improvement = z_mean - best_value\n",
    "                best_value = z_mean\n",
    "                # Reset patience only if we are in exploitation mode\n",
    "                if not explore:\n",
    "                    no_improvement_count = 0\n",
    "            else:\n",
    "                # If exploitation step and no improvement >= epsilon\n",
    "                if not explore:\n",
    "                    if best_value - last_best_value < epsilon:\n",
    "                        no_improvement_count += 1\n",
    "\n",
    "            last_best_value = best_value\n",
    "\n",
    "            # Early stopping checks\n",
    "            if threshold is not None and best_value > threshold:\n",
    "                print(\"Stopping early: threshold exceeded.\")\n",
    "                return\n",
    "\n",
    "            if not explore and no_improvement_count > patience:\n",
    "                print(\n",
    "                    \"Stopping early: no sufficient improvement in exploitation steps.\"\n",
    "                )\n",
    "                return\n",
    "\n",
    "        steps_taken += 1\n",
    "\n",
    "\n",
    "def bayesian_optimizer_iterator_sync(\n",
    "    z_reader,\n",
    "    param_names,\n",
    "    param_bounds,\n",
    "    num_initial_samples=10,\n",
    "    num_bo_samples=20,\n",
    "    batch_size=1,\n",
    "    explore_ratio=0.1,\n",
    "    threshold=None,\n",
    "    epsilon=0.0,\n",
    "    patience=10,\n",
    "):\n",
    "    \"\"\"\n",
    "    A synchronous version of the Bayesian optimization iterator with early stopping.\n",
    "\n",
    "    This tries up to `num_bo_samples` Bayesian optimization steps beyond the initial samples.\n",
    "    If early stopping conditions are met before reaching `num_bo_samples`, the iteration stops early.\n",
    "\n",
    "    Args:\n",
    "        z_reader: Object with a .read() method returning (mean, sem).\n",
    "        param_names (list): Parameter names.\n",
    "        param_bounds (list): Parameter bounds as (min, max).\n",
    "        num_initial_samples (int): Number of initial Sobol samples.\n",
    "        num_bo_samples (int): Maximum number of BO steps.\n",
    "        batch_size (int): Trials per batch.\n",
    "        explore_ratio (float): Probability of switching to qNIPV exploration.\n",
    "        threshold (float or None): If best observed value > threshold, stop early.\n",
    "        epsilon (float): Minimum absolute improvement to reset patience in exploitation steps.\n",
    "        patience (int): Number of exploitation steps allowed without improvement above epsilon before stopping.\n",
    "\n",
    "    Yields:\n",
    "        dict: Parameter sets suggested by the optimizer.\n",
    "    \"\"\"\n",
    "    device = torch.device(\"cuda\" if torch.cuda.is_available() else \"cpu\")\n",
    "\n",
    "    # Generation strategy\n",
    "    generation_strategy = GenerationStrategy(\n",
    "        steps=[\n",
    "            GenerationStep(model=Models.SOBOL, num_trials=num_initial_samples),\n",
    "            GenerationStep(\n",
    "                model=Models.GPEI, num_trials=-1, max_parallelism=batch_size\n",
    "            ),\n",
    "        ]\n",
    "    )\n",
    "\n",
    "    # Set up the Ax experiment\n",
    "    ax_client = AxClient(generation_strategy=generation_strategy, torch_device=device)\n",
    "    ax_client.create_experiment(\n",
    "        name=\"modular_iterator_optimization_sync\",\n",
    "        parameters=[\n",
    "            {\"name\": name, \"type\": \"range\", \"bounds\": bounds}\n",
    "            for name, bounds in zip(param_names, param_bounds)\n",
    "        ],\n",
    "        objectives={\"z\": ObjectiveProperties(minimize=False)},\n",
    "        parameter_constraints=[],\n",
    "        tracking_metric_names=[],\n",
    "    )\n",
    "\n",
    "    best_value = float(\"-inf\")\n",
    "    no_improvement_count = 0\n",
    "\n",
    "    # Initial Sobol samples\n",
    "    for _ in range(num_initial_samples):\n",
    "        params, trial_index = ax_client.get_next_trial()\n",
    "        yield params\n",
    "        z_mean, z_sem = z_reader.read([params[name] for name in param_names])\n",
    "        ax_client.complete_trial(trial_index, {\"z\": (z_mean, z_sem)})\n",
    "        if z_mean > best_value:\n",
    "            best_value = z_mean\n",
    "            no_improvement_count = 0\n",
    "\n",
    "    last_best_value = best_value\n",
    "\n",
    "    # Main BO loop: up to num_bo_samples steps\n",
    "    for step in range(num_bo_samples):\n",
    "        current_batch_size = min(batch_size, num_bo_samples - step)\n",
    "\n",
    "        # Explore or exploit based on random draw\n",
    "        explore = np.random.rand() < explore_ratio\n",
    "        if explore:\n",
    "            print(\"Using qNIPV (Exploration)\")\n",
    "            ax_client.generation_strategy._steps[-1].model = Models.BOTORCH_MODULAR\n",
    "            ax_client.generation_strategy._steps[-1].model_kwargs = {\n",
    "                \"surrogate\": Surrogate(SingleTaskGP),\n",
    "                \"botorch_acqf_class\": qNegIntegratedPosteriorVariance,\n",
    "                \"acquisition_options\": {\"mc_points\": 50},\n",
    "            }\n",
    "        else:\n",
    "            print(\"Using GPEI (Exploitation)\")\n",
    "            ax_client.generation_strategy._steps[-1].model = Models.GPEI\n",
    "            ax_client.generation_strategy._steps[-1].model_kwargs = {}\n",
    "\n",
    "        # Generate and complete trials\n",
    "        for _ in range(current_batch_size):\n",
    "            params, trial_index = ax_client.get_next_trial()\n",
    "            yield params\n",
    "            z_mean, z_sem = z_reader.read([params[name] for name in param_names])\n",
    "            ax_client.complete_trial(trial_index, {\"z\": (z_mean, z_sem)})\n",
    "\n",
    "            # Check improvements\n",
    "            if z_mean > best_value:\n",
    "                improvement = z_mean - best_value\n",
    "                best_value = z_mean\n",
    "                # Reset patience only if in exploitation\n",
    "                if not explore:\n",
    "                    no_improvement_count = 0\n",
    "            else:\n",
    "                # If exploitation step and no improvement >= epsilon\n",
    "                if not explore:\n",
    "                    if best_value - last_best_value < epsilon:\n",
    "                        no_improvement_count += 1\n",
    "\n",
    "            last_best_value = best_value\n",
    "\n",
    "            # Early stopping checks\n",
    "            if threshold is not None and best_value > threshold:\n",
    "                print(\"Stopping early: threshold exceeded.\")\n",
    "                return\n",
    "\n",
    "            if not explore and no_improvement_count > patience:\n",
    "                print(\n",
    "                    \"Stopping early: no sufficient improvement in exploitation steps.\"\n",
    "                )\n",
    "                return"
   ]
  },
  {
   "cell_type": "markdown",
   "metadata": {},
   "source": [
    "# Running the BO\n"
   ]
  },
  {
   "cell_type": "code",
   "execution_count": 32,
   "metadata": {},
   "outputs": [
    {
     "name": "stderr",
     "output_type": "stream",
     "text": [
      "[INFO 12-14 00:16:07] ax.service.ax_client: Starting optimization with verbose logging. To disable logging, set the `verbose_logging` argument to `False`. Note that float values in the logs are rounded to 6 decimal points.\n",
      "[INFO 12-14 00:16:07] ax.service.utils.instantiation: Inferred value type of ParameterType.FLOAT for parameter a. If that is not the expected value type, you can explicitly specify 'value_type' ('int', 'float', 'bool' or 'str') in parameter dict.\n",
      "[INFO 12-14 00:16:07] ax.service.utils.instantiation: Inferred value type of ParameterType.FLOAT for parameter b. If that is not the expected value type, you can explicitly specify 'value_type' ('int', 'float', 'bool' or 'str') in parameter dict.\n",
      "[INFO 12-14 00:16:07] ax.service.utils.instantiation: Created search space: SearchSpace(parameters=[RangeParameter(name='a', parameter_type=FLOAT, range=[-1.0, 1.0]), RangeParameter(name='b', parameter_type=FLOAT, range=[-1.0, 1.0])], parameter_constraints=[]).\n",
      "[INFO 12-14 00:16:07] ax.service.ax_client: Generated new trial 0 with parameters {'a': -0.173834, 'b': 0.469288} using model Sobol.\n",
      "[INFO 12-14 00:16:07] ax.service.ax_client: Generated new trial 1 with parameters {'a': 0.644203, 'b': -0.555517} using model Sobol.\n",
      "[INFO 12-14 00:16:07] ax.service.ax_client: Generated new trial 2 with parameters {'a': 0.282675, 'b': 0.914417} using model Sobol.\n",
      "[INFO 12-14 00:16:07] ax.service.ax_client: Generated new trial 3 with parameters {'a': 0.644203, 'b': -0.555517} using model Sobol.\n",
      "[INFO 12-14 00:16:07] ax.service.ax_client: Generated new trial 4 with parameters {'a': 0.644203, 'b': -0.555517} using model Sobol.\n",
      "[INFO 12-14 00:16:07] ax.service.ax_client: Generated new trial 5 with parameters {'a': 0.282675, 'b': 0.914417} using model Sobol.\n",
      "[INFO 12-14 00:16:07] ax.service.ax_client: Generated new trial 6 with parameters {'a': 0.282675, 'b': 0.914417} using model Sobol.\n",
      "[INFO 12-14 00:16:07] ax.service.ax_client: Generated new trial 7 with parameters {'a': 0.282675, 'b': 0.914417} using model Sobol.\n",
      "[INFO 12-14 00:16:07] ax.service.ax_client: Generated new trial 8 with parameters {'a': -0.750846, 'b': -0.109408} using model Sobol.\n",
      "[INFO 12-14 00:16:07] ax.service.ax_client: Generated new trial 9 with parameters {'a': -0.750846, 'b': -0.109408} using model Sobol.\n",
      "[INFO 12-14 00:16:07] ax.service.ax_client: Generated new trial 10 with parameters {'a': 0.282675, 'b': 0.914417} using model Sobol.\n",
      "[INFO 12-14 00:16:07] ax.service.ax_client: Generated new trial 11 with parameters {'a': 0.282675, 'b': 0.914417} using model Sobol.\n",
      "[INFO 12-14 00:16:07] ax.service.ax_client: Generated new trial 12 with parameters {'a': -0.699501, 'b': 0.745534} using model Sobol.\n",
      "[INFO 12-14 00:16:07] ax.service.ax_client: Generated new trial 13 with parameters {'a': -0.750846, 'b': -0.109408} using model Sobol.\n",
      "[INFO 12-14 00:16:07] ax.service.ax_client: Generated new trial 14 with parameters {'a': 0.232309, 'b': -0.284396} using model Sobol.\n",
      "[INFO 12-14 00:16:07] ax.service.ax_client: Generated new trial 15 with parameters {'a': 0.232309, 'b': -0.284396} using model Sobol.\n",
      "[INFO 12-14 00:16:07] ax.service.ax_client: Generated new trial 16 with parameters {'a': 0.84301, 'b': 0.175524} using model Sobol.\n",
      "[INFO 12-14 00:16:07] ax.service.ax_client: Generated new trial 17 with parameters {'a': 0.84301, 'b': 0.175524} using model Sobol.\n",
      "[INFO 12-14 00:16:07] ax.service.ax_client: Generated new trial 18 with parameters {'a': 0.232309, 'b': -0.284396} using model Sobol.\n",
      "[INFO 12-14 00:16:07] ax.service.ax_client: Generated new trial 19 with parameters {'a': 0.84301, 'b': 0.175524} using model Sobol.\n",
      "[INFO 12-14 00:16:07] ax.service.ax_client: Completed trial 0 with data: {'z': (1e-06, 0.0)}.\n",
      "[INFO 12-14 00:16:07] ax.service.ax_client: Completed trial 1 with data: {'z': (0.0, 0.0)}.\n",
      "[INFO 12-14 00:16:07] ax.service.ax_client: Completed trial 2 with data: {'z': (0.0, 0.0)}.\n",
      "[INFO 12-14 00:16:07] ax.service.ax_client: Completed trial 5 with data: {'z': (0.0, 0.0)}.\n",
      "[INFO 12-14 00:16:07] ax.service.ax_client: Completed trial 6 with data: {'z': (0.0, 0.0)}.\n",
      "[INFO 12-14 00:16:07] ax.service.ax_client: Completed trial 13 with data: {'z': (0.0, 0.0)}.\n",
      "[INFO 12-14 00:16:07] ax.service.ax_client: Completed trial 18 with data: {'z': (0.000587, 0.0)}.\n",
      "[INFO 12-14 00:16:07] ax.service.ax_client: Completed trial 4 with data: {'z': (0.0, 0.0)}.\n",
      "[INFO 12-14 00:16:07] ax.service.ax_client: Completed trial 3 with data: {'z': (0.0, 0.0)}.\n",
      "[INFO 12-14 00:16:07] ax.service.ax_client: Completed trial 12 with data: {'z': (0.0, 0.0)}.\n",
      "[INFO 12-14 00:16:07] ax.service.ax_client: Completed trial 8 with data: {'z': (0.0, 0.0)}.\n",
      "[INFO 12-14 00:16:07] ax.service.ax_client: Completed trial 7 with data: {'z': (0.0, 0.0)}.\n",
      "[INFO 12-14 00:16:07] ax.service.ax_client: Completed trial 15 with data: {'z': (0.000587, 0.0)}.\n",
      "[INFO 12-14 00:16:07] ax.service.ax_client: Completed trial 10 with data: {'z': (0.0, 0.0)}.\n",
      "[INFO 12-14 00:16:07] ax.service.ax_client: Completed trial 14 with data: {'z': (0.000587, 0.0)}.\n",
      "[INFO 12-14 00:16:07] ax.service.ax_client: Completed trial 16 with data: {'z': (0.0, 0.0)}.\n",
      "[INFO 12-14 00:16:07] ax.service.ax_client: Completed trial 17 with data: {'z': (0.0, 0.0)}.\n",
      "[INFO 12-14 00:16:07] ax.service.ax_client: Completed trial 19 with data: {'z': (0.0, 0.0)}.\n",
      "[INFO 12-14 00:16:07] ax.service.ax_client: Completed trial 9 with data: {'z': (0.0, 0.0)}.\n",
      "[INFO 12-14 00:16:07] ax.service.ax_client: Completed trial 11 with data: {'z': (0.0, 0.0)}.\n"
     ]
    },
    {
     "name": "stdout",
     "output_type": "stream",
     "text": [
      "Using GPEI (Exploitation)\n"
     ]
    },
    {
     "name": "stderr",
     "output_type": "stream",
     "text": [
      "[INFO 12-14 00:16:07] ax.service.ax_client: Generated new trial 20 with parameters {'a': 0.180487, 'b': -0.467368} using model GPEI.\n",
      "[INFO 12-14 00:16:08] ax.service.ax_client: Generated new trial 21 with parameters {'a': 0.180479, 'b': -0.467397} using model GPEI.\n",
      "[INFO 12-14 00:16:08] ax.service.ax_client: Completed trial 21 with data: {'z': (0.0, 0.0)}.\n",
      "[INFO 12-14 00:16:08] ax.service.ax_client: Completed trial 20 with data: {'z': (0.0, 0.0)}.\n"
     ]
    },
    {
     "name": "stdout",
     "output_type": "stream",
     "text": [
      "Using GPEI (Exploitation)\n"
     ]
    },
    {
     "name": "stderr",
     "output_type": "stream",
     "text": [
      "[INFO 12-14 00:16:08] ax.service.ax_client: Generated new trial 22 with parameters {'a': 0.180299, 'b': -0.468192} using model GPEI.\n",
      "[INFO 12-14 00:16:08] ax.service.ax_client: Generated new trial 23 with parameters {'a': 0.484268, 'b': -0.261655} using model GPEI.\n",
      "[INFO 12-14 00:16:08] ax.service.ax_client: Completed trial 22 with data: {'z': (0.0, 0.0)}.\n",
      "[INFO 12-14 00:16:08] ax.service.ax_client: Completed trial 23 with data: {'z': (2.5e-05, 0.0)}.\n"
     ]
    },
    {
     "name": "stdout",
     "output_type": "stream",
     "text": [
      "Using GPEI (Exploitation)\n"
     ]
    },
    {
     "name": "stderr",
     "output_type": "stream",
     "text": [
      "[INFO 12-14 00:16:09] ax.service.ax_client: Generated new trial 24 with parameters {'a': 0.48505, 'b': -0.26161} using model GPEI.\n",
      "[INFO 12-14 00:16:10] ax.service.ax_client: Generated new trial 25 with parameters {'a': 0.213395, 'b': -0.251541} using model GPEI.\n",
      "[INFO 12-14 00:16:10] ax.service.ax_client: Completed trial 24 with data: {'z': (2.5e-05, 0.0)}.\n",
      "[INFO 12-14 00:16:10] ax.service.ax_client: Completed trial 25 with data: {'z': (0.002054, 0.0)}.\n"
     ]
    },
    {
     "name": "stdout",
     "output_type": "stream",
     "text": [
      "Using GPEI (Exploitation)\n"
     ]
    },
    {
     "name": "stderr",
     "output_type": "stream",
     "text": [
      "[INFO 12-14 00:16:10] ax.service.ax_client: Generated new trial 26 with parameters {'a': 0.203156, 'b': -0.233753} using model GPEI.\n",
      "[INFO 12-14 00:16:11] ax.service.ax_client: Generated new trial 27 with parameters {'a': 0.213377, 'b': -0.25152} using model GPEI.\n",
      "[INFO 12-14 00:16:11] ax.service.ax_client: Completed trial 27 with data: {'z': (0.002055, 0.0)}.\n",
      "[INFO 12-14 00:16:11] ax.service.ax_client: Completed trial 26 with data: {'z': (0.00381, 0.0)}.\n"
     ]
    },
    {
     "name": "stdout",
     "output_type": "stream",
     "text": [
      "Using GPEI (Exploitation)\n"
     ]
    },
    {
     "name": "stderr",
     "output_type": "stream",
     "text": [
      "[INFO 12-14 00:16:11] ax.service.ax_client: Generated new trial 28 with parameters {'a': 0.203164, 'b': -0.233768} using model GPEI.\n",
      "[INFO 12-14 00:16:12] ax.service.ax_client: Generated new trial 29 with parameters {'a': 0.186488, 'b': -0.204403} using model GPEI.\n",
      "[INFO 12-14 00:16:12] ax.service.ax_client: Completed trial 28 with data: {'z': (0.003808, 0.0)}.\n",
      "[INFO 12-14 00:16:12] ax.service.ax_client: Completed trial 29 with data: {'z': (0.009637, 0.0)}.\n"
     ]
    },
    {
     "name": "stdout",
     "output_type": "stream",
     "text": [
      "Using GPEI (Exploitation)\n"
     ]
    },
    {
     "name": "stderr",
     "output_type": "stream",
     "text": [
      "[INFO 12-14 00:16:12] ax.service.ax_client: Generated new trial 30 with parameters {'a': 0.186489, 'b': -0.204406} using model GPEI.\n",
      "[INFO 12-14 00:16:12] ax.service.ax_client: Generated new trial 31 with parameters {'a': 0.17056, 'b': -0.176149} using model GPEI.\n",
      "[INFO 12-14 00:16:12] ax.service.ax_client: Completed trial 30 with data: {'z': (0.009636, 0.0)}.\n",
      "[INFO 12-14 00:16:12] ax.service.ax_client: Completed trial 31 with data: {'z': (0.021147, 0.0)}.\n"
     ]
    },
    {
     "name": "stdout",
     "output_type": "stream",
     "text": [
      "Using GPEI (Exploitation)\n"
     ]
    },
    {
     "name": "stderr",
     "output_type": "stream",
     "text": [
      "[INFO 12-14 00:16:13] ax.service.ax_client: Generated new trial 32 with parameters {'a': 0.17056, 'b': -0.17615} using model GPEI.\n",
      "[INFO 12-14 00:16:13] ax.service.ax_client: Generated new trial 33 with parameters {'a': 0.154999, 'b': -0.148482} using model GPEI.\n",
      "[INFO 12-14 00:16:13] ax.service.ax_client: Completed trial 32 with data: {'z': (0.021147, 0.0)}.\n",
      "[INFO 12-14 00:16:13] ax.service.ax_client: Completed trial 33 with data: {'z': (0.041237, 0.0)}.\n"
     ]
    },
    {
     "name": "stdout",
     "output_type": "stream",
     "text": [
      "Using GPEI (Exploitation)\n"
     ]
    },
    {
     "name": "stderr",
     "output_type": "stream",
     "text": [
      "[INFO 12-14 00:16:14] ax.service.ax_client: Generated new trial 34 with parameters {'a': 0.146059, 'b': -0.153722} using model GPEI.\n",
      "[INFO 12-14 00:16:14] ax.service.ax_client: Generated new trial 35 with parameters {'a': 0.139815, 'b': -0.121467} using model GPEI.\n",
      "[INFO 12-14 00:16:14] ax.service.ax_client: Completed trial 34 with data: {'z': (0.034589, 0.0)}.\n",
      "[INFO 12-14 00:16:14] ax.service.ax_client: Completed trial 35 with data: {'z': (0.071828, 0.0)}.\n"
     ]
    },
    {
     "name": "stdout",
     "output_type": "stream",
     "text": [
      "Using GPEI (Exploitation)\n"
     ]
    },
    {
     "name": "stderr",
     "output_type": "stream",
     "text": [
      "[INFO 12-14 00:16:15] ax.service.ax_client: Generated new trial 36 with parameters {'a': 0.130496, 'b': -0.126908} using model GPEI.\n",
      "[INFO 12-14 00:16:15] ax.service.ax_client: Generated new trial 37 with parameters {'a': 0.133036, 'b': -0.092832} using model GPEI.\n",
      "[INFO 12-14 00:16:15] ax.service.ax_client: Completed trial 36 with data: {'z': (0.059851, 0.0)}.\n",
      "[INFO 12-14 00:16:15] ax.service.ax_client: Completed trial 37 with data: {'z': (0.124505, 0.0)}.\n"
     ]
    },
    {
     "name": "stdout",
     "output_type": "stream",
     "text": [
      "Using GPEI (Exploitation)\n"
     ]
    },
    {
     "name": "stderr",
     "output_type": "stream",
     "text": [
      "[INFO 12-14 00:16:15] ax.service.ax_client: Generated new trial 38 with parameters {'a': 0.133036, 'b': -0.09283} using model GPEI.\n",
      "[INFO 12-14 00:16:15] ax.service.ax_client: Generated new trial 39 with parameters {'a': 0.142, 'b': -0.058701} using model GPEI.\n",
      "[INFO 12-14 00:16:15] ax.service.ax_client: Completed trial 38 with data: {'z': (0.124509, 0.0)}.\n",
      "[INFO 12-14 00:16:15] ax.service.ax_client: Completed trial 39 with data: {'z': (0.239909, 0.0)}.\n"
     ]
    },
    {
     "name": "stdout",
     "output_type": "stream",
     "text": [
      "Using GPEI (Exploitation)\n"
     ]
    },
    {
     "name": "stderr",
     "output_type": "stream",
     "text": [
      "[INFO 12-14 00:16:16] ax.service.ax_client: Generated new trial 40 with parameters {'a': 0.157812, 'b': -0.03364} using model GPEI.\n",
      "[INFO 12-14 00:16:16] ax.service.ax_client: Generated new trial 41 with parameters {'a': 0.122215, 'b': -0.057214} using model GPEI.\n",
      "[INFO 12-14 00:16:16] ax.service.ax_client: Completed trial 41 with data: {'z': (0.214737, 0.0)}.\n",
      "[INFO 12-14 00:16:16] ax.service.ax_client: Completed trial 40 with data: {'z': (0.37457, 0.0)}.\n"
     ]
    },
    {
     "name": "stdout",
     "output_type": "stream",
     "text": [
      "Using GPEI (Exploitation)\n"
     ]
    },
    {
     "name": "stderr",
     "output_type": "stream",
     "text": [
      "[INFO 12-14 00:16:17] ax.service.ax_client: Generated new trial 42 with parameters {'a': 0.187275, 'b': 0.006648} using model GPEI.\n",
      "[INFO 12-14 00:16:18] ax.service.ax_client: Generated new trial 43 with parameters {'a': 0.144692, 'b': -0.02831} using model GPEI.\n",
      "[INFO 12-14 00:16:18] ax.service.ax_client: Completed trial 42 with data: {'z': (0.641574, 0.0)}.\n",
      "[INFO 12-14 00:16:18] ax.service.ax_client: Completed trial 43 with data: {'z': (0.376768, 0.0)}.\n"
     ]
    },
    {
     "name": "stdout",
     "output_type": "stream",
     "text": [
      "Using GPEI (Exploitation)\n"
     ]
    },
    {
     "name": "stderr",
     "output_type": "stream",
     "text": [
      "[INFO 12-14 00:16:18] ax.service.ax_client: Generated new trial 44 with parameters {'a': 0.187277, 'b': 0.006651} using model GPEI.\n",
      "[INFO 12-14 00:16:19] ax.service.ax_client: Generated new trial 45 with parameters {'a': 0.218545, 'b': 0.07737} using model GPEI.\n",
      "[INFO 12-14 00:16:19] ax.service.ax_client: Completed trial 44 with data: {'z': (0.6416, 0.0)}.\n",
      "[INFO 12-14 00:16:19] ax.service.ax_client: Completed trial 45 with data: {'z': (0.958102, 0.0)}.\n"
     ]
    },
    {
     "name": "stdout",
     "output_type": "stream",
     "text": [
      "Using GPEI (Exploitation)\n"
     ]
    },
    {
     "name": "stderr",
     "output_type": "stream",
     "text": [
      "[INFO 12-14 00:16:20] ax.service.ax_client: Generated new trial 46 with parameters {'a': 0.218541, 'b': 0.077382} using model GPEI.\n",
      "[INFO 12-14 00:16:20] ax.service.ax_client: Generated new trial 47 with parameters {'a': 0.213587, 'b': 0.097882} using model GPEI.\n",
      "[INFO 12-14 00:16:20] ax.service.ax_client: Completed trial 46 with data: {'z': (0.958133, 0.0)}.\n",
      "[INFO 12-14 00:16:20] ax.service.ax_client: Completed trial 47 with data: {'z': (0.990589, 0.0)}.\n"
     ]
    },
    {
     "name": "stdout",
     "output_type": "stream",
     "text": [
      "Using GPEI (Exploitation)\n"
     ]
    },
    {
     "name": "stderr",
     "output_type": "stream",
     "text": [
      "[INFO 12-14 00:16:21] ax.service.ax_client: Generated new trial 48 with parameters {'a': 0.213515, 'b': 0.097915} using model GPEI.\n",
      "[INFO 12-14 00:16:22] ax.service.ax_client: Generated new trial 49 with parameters {'a': 0.193241, 'b': 0.110552} using model GPEI.\n",
      "[INFO 12-14 00:16:22] ax.service.ax_client: Completed trial 48 with data: {'z': (0.990694, 0.0)}.\n",
      "[INFO 12-14 00:16:22] ax.service.ax_client: Completed trial 49 with data: {'z': (0.992179, 0.0)}.\n"
     ]
    },
    {
     "name": "stdout",
     "output_type": "stream",
     "text": [
      "Using GPEI (Exploitation)\n"
     ]
    },
    {
     "name": "stderr",
     "output_type": "stream",
     "text": [
      "[INFO 12-14 00:16:23] ax.service.ax_client: Generated new trial 50 with parameters {'a': 0.193277, 'b': 0.110541} using model GPEI.\n",
      "[INFO 12-14 00:16:23] ax.service.ax_client: Generated new trial 51 with parameters {'a': 0.204199, 'b': 0.107371} using model GPEI.\n",
      "[INFO 12-14 00:16:23] ax.service.ax_client: Completed trial 50 with data: {'z': (0.992215, 0.0)}.\n",
      "[INFO 12-14 00:16:23] ax.service.ax_client: Completed trial 51 with data: {'z': (0.996408, 0.0)}.\n"
     ]
    },
    {
     "name": "stdout",
     "output_type": "stream",
     "text": [
      "Using GPEI (Exploitation)\n"
     ]
    },
    {
     "name": "stderr",
     "output_type": "stream",
     "text": [
      "[INFO 12-14 00:16:24] ax.service.ax_client: Generated new trial 52 with parameters {'a': -1.0, 'b': -1.0} using model GPEI.\n",
      "[INFO 12-14 00:16:25] ax.service.ax_client: Generated new trial 53 with parameters {'a': 0.255195, 'b': 0.384316} using model GPEI.\n",
      "[INFO 12-14 00:16:25] ax.service.ax_client: Completed trial 53 with data: {'z': (0.015084, 0.0)}.\n",
      "[INFO 12-14 00:16:25] ax.service.ax_client: Completed trial 52 with data: {'z': (0.0, 0.0)}.\n"
     ]
    },
    {
     "name": "stdout",
     "output_type": "stream",
     "text": [
      "Using GPEI (Exploitation)\n"
     ]
    },
    {
     "name": "stderr",
     "output_type": "stream",
     "text": [
      "[INFO 12-14 00:16:25] ax.service.ax_client: Generated new trial 54 with parameters {'a': -1.0, 'b': -1.0} using model GPEI.\n",
      "[INFO 12-14 00:16:26] ax.service.ax_client: Generated new trial 55 with parameters {'a': 1.0, 'b': 1.0} using model GPEI.\n",
      "[INFO 12-14 00:16:26] ax.service.ax_client: Completed trial 54 with data: {'z': (0.0, 0.0)}.\n",
      "[INFO 12-14 00:16:26] ax.service.ax_client: Completed trial 55 with data: {'z': (0.0, 0.0)}.\n"
     ]
    },
    {
     "name": "stdout",
     "output_type": "stream",
     "text": [
      "Using GPEI (Exploitation)\n"
     ]
    },
    {
     "name": "stderr",
     "output_type": "stream",
     "text": [
      "[INFO 12-14 00:16:27] ax.service.ax_client: Generated new trial 56 with parameters {'a': 1.0, 'b': 1.0} using model GPEI.\n",
      "[INFO 12-14 00:16:27] ax.service.ax_client: Generated new trial 57 with parameters {'a': -0.317704, 'b': -1.0} using model GPEI.\n",
      "[INFO 12-14 00:16:27] ax.service.ax_client: Completed trial 56 with data: {'z': (0.0, 0.0)}.\n",
      "[INFO 12-14 00:16:27] ax.service.ax_client: Completed trial 57 with data: {'z': (0.0, 0.0)}.\n"
     ]
    },
    {
     "name": "stdout",
     "output_type": "stream",
     "text": [
      "Using GPEI (Exploitation)\n"
     ]
    },
    {
     "name": "stderr",
     "output_type": "stream",
     "text": [
      "[INFO 12-14 00:16:28] ax.service.ax_client: Generated new trial 58 with parameters {'a': 1.0, 'b': -1.0} using model GPEI.\n",
      "[INFO 12-14 00:16:28] ax.service.ax_client: Completed trial 58 with data: {'z': (0.0, 0.0)}.\n"
     ]
    }
   ],
   "source": [
    "# Define parameter names and their respective bounds\n",
    "param_names = [\"a\", \"b\"]\n",
    "param_bounds = [[-1.0, 1.0], [-1.0, 1.0]]\n",
    "\n",
    "# Initialize the response reader with a fake Gaussian-like objective\n",
    "z_reader = ZReader(centers=[0.2, 0.1], sigma=0.1, n_samples=1)\n",
    "\n",
    "# Storage for the optimization history\n",
    "suggested_params = []\n",
    "observed_z = []\n",
    "best_result = {\n",
    "    \"params\": None,\n",
    "    \"value\": float(\"-inf\"),\n",
    "}\n",
    "\n",
    "\n",
    "# Set your stopping criteria\n",
    "THRESHOLD = 0.999  # Stop if we exceed this value\n",
    "EPSILON = 0.001  # Minimum improvement needed\n",
    "PATIENCE = 10  # Number of exploitation steps without improvement\n",
    "\n",
    "\n",
    "mode = \"async\"\n",
    "\n",
    "if mode == \"async\":\n",
    "    async for params in bayesian_optimizer_iterator(\n",
    "        z_reader,\n",
    "        param_names,\n",
    "        param_bounds,\n",
    "        num_initial_samples=20,\n",
    "        num_bo_samples=20,\n",
    "        batch_size=2,\n",
    "        explore_ratio=0.1,\n",
    "        threshold=THRESHOLD,\n",
    "        epsilon=EPSILON,\n",
    "        patience=PATIENCE,\n",
    "    ):\n",
    "        z_mean, z_sem = z_reader.read([params[name] for name in param_names])\n",
    "        suggested_params.append(params)\n",
    "        observed_z.append(z_mean)\n",
    "        if z_mean > best_result[\"value\"]:\n",
    "            best_result = {\"params\": params, \"value\": z_mean}\n",
    "\n",
    "else:\n",
    "    for params in bayesian_optimizer_iterator_sync(\n",
    "        z_reader,\n",
    "        param_names,\n",
    "        param_bounds,\n",
    "        num_initial_samples=20,\n",
    "        num_bo_samples=20,\n",
    "        batch_size=2,\n",
    "        explore_ratio=0.1,\n",
    "        threshold=THRESHOLD,\n",
    "        epsilon=EPSILON,\n",
    "        patience=PATIENCE,\n",
    "    ):\n",
    "        z_mean, z_sem = z_reader.read([params[name] for name in param_names])\n",
    "        suggested_params.append(params)\n",
    "        observed_z.append(z_mean)\n",
    "        if z_mean > best_result[\"value\"]:\n",
    "            best_result = {\"params\": params, \"value\": z_mean}\n",
    "\n",
    "results = {\n",
    "    \"suggested_params\": suggested_params,\n",
    "    \"observed_z\": observed_z,\n",
    "    \"best_result\": best_result,\n",
    "}"
   ]
  },
  {
   "cell_type": "markdown",
   "metadata": {},
   "source": [
    "# Printing the Best Result"
   ]
  },
  {
   "cell_type": "code",
   "execution_count": 35,
   "metadata": {},
   "outputs": [
    {
     "data": {
      "text/plain": [
       "{'params': {'a': 0.2041989880985946, 'b': 0.1073713863291117},\n",
       " 'value': 0.9964080247597735}"
      ]
     },
     "execution_count": 35,
     "metadata": {},
     "output_type": "execute_result"
    }
   ],
   "source": [
    "results['best_result']"
   ]
  },
  {
   "cell_type": "markdown",
   "metadata": {},
   "source": [
    "# Visualizing of the Result"
   ]
  },
  {
   "cell_type": "code",
   "execution_count": 41,
   "metadata": {},
   "outputs": [
    {
     "data": {
      "text/plain": [
       "59"
      ]
     },
     "execution_count": 41,
     "metadata": {},
     "output_type": "execute_result"
    }
   ],
   "source": [
    "len(results['suggested_params'])"
   ]
  },
  {
   "cell_type": "code",
   "execution_count": 43,
   "metadata": {},
   "outputs": [
    {
     "data": {
      "image/png": "[encoded data removed]",
      "text/plain": [
       "<Figure size 1400x600 with 4 Axes>"
      ]
     },
     "metadata": {},
     "output_type": "display_data"
    }
   ],
   "source": [
    "import matplotlib.pyplot as plt\n",
    "from scipy.interpolate import griddata\n",
    "import numpy as np\n",
    "\n",
    "# Extract x, y, and z for plotting\n",
    "x_vals = [p[f\"{param_names[0]}\"] for p in results['suggested_params']]\n",
    "y_vals = [p[f\"{param_names[1]}\"] for p in results['suggested_params']]\n",
    "\n",
    "# Create a grid sweep version (51 x 51 points)\n",
    "x = np.linspace(-1, 1, 51)\n",
    "y = np.linspace(-1, 1, 51)\n",
    "x_grid, y_grid = np.meshgrid(x, y)\n",
    "z_grid = np.exp(-((x_grid - 0.2)**2 + (y_grid - 0.1)**2) / (2 * 0.1**2))\n",
    "\n",
    "# Create interpolation for the scatter plot using scipy's griddata\n",
    "x_interp = np.linspace(-1, 1, 50)\n",
    "y_interp = np.linspace(-1, 1, 50)\n",
    "x_interp_grid, y_interp_grid = np.meshgrid(x_interp, y_interp)\n",
    "z_interp = griddata(\n",
    "    (x_vals, y_vals), observed_z, (x_interp_grid, y_interp_grid), method=\"linear\"\n",
    ")\n",
    "\n",
    "# Plotting the grid sweep and Bayesian optimization results\n",
    "fig, ax = plt.subplots(1, 2, figsize=(14, 6))\n",
    "\n",
    "# Pcolormesh for grid sweep version\n",
    "c1 = ax[0].pcolormesh(x_grid, y_grid, z_grid, shading=\"auto\", cmap=\"viridis\")\n",
    "ax[0].set_title(\"Grid Search npts=2500\")\n",
    "ax[0].set_xlabel(\"x\")\n",
    "ax[0].set_ylabel(\"y\")\n",
    "cb1 = fig.colorbar(c1, ax=ax[0])\n",
    "cb1.set_label(r'$f(x,y) = \\exp\\left(-\\frac{(x-0.2)^2 + (y-0.1)^2}{2 \\cdot (0.1)^2}\\right)$')\n",
    "\n",
    "# Scatter plot with interpolation for Bayesian optimization samples\n",
    "c2 = ax[1].pcolormesh(\n",
    "    x_interp_grid, y_interp_grid, z_interp, shading=\"auto\", cmap=\"viridis\"\n",
    ")\n",
    "ax[1].scatter(\n",
    "    x_vals,\n",
    "    y_vals,\n",
    "    edgecolor=\"black\",\n",
    "    facecolor=\"none\",\n",
    "    label=\"real points over interpolation\",\n",
    ")\n",
    "ax[1].set_title(f\"BO npts={len(results['suggested_params'])}\")\n",
    "ax[1].set_xlabel(\"x\")\n",
    "ax[1].set_ylabel(\"y\")\n",
    "ax[1].legend()\n",
    "\n",
    "cb2 = fig.colorbar(c2, ax=ax[1])\n",
    "cb2.set_label(r'$f(x,y) = \\exp\\left(-\\frac{(x-0.2)^2 + (y-0.1)^2}{2 \\cdot (0.1)^2}\\right)$')\n",
    "\n",
    "for a in ax:\n",
    "    a.set_ylim(-1, 1)\n",
    "    a.set_xlim(-1, 1)\n",
    "\n",
    "plt.tight_layout()\n",
    "plt.show()\n"
   ]
  },
  {
   "cell_type": "markdown",
   "metadata": {},
   "source": [
    "# SCRAP"
   ]
  },
  {
   "cell_type": "code",
   "execution_count": null,
   "metadata": {},
   "outputs": [],
   "source": [
    "import numpy as np\n",
    "import matplotlib.pyplot as plt\n",
    "from scipy.interpolate import griddata\n",
    "from ax import optimize\n",
    "from ax.service.ax_client import AxClient\n",
    "from ax.modelbridge.generation_strategy import GenerationStep, GenerationStrategy\n",
    "from ax.modelbridge.registry import Models\n",
    "from ax.models.torch.botorch_modular.surrogate import Surrogate\n",
    "from botorch.models.gp_regression import SingleTaskGP\n",
    "from botorch.acquisition import qNegIntegratedPosteriorVariance\n",
    "import random\n",
    "from typing import Tuple\n",
    "import torch\n",
    "from botorch.models import SingleTaskGP\n",
    "from botorch.fit import fit_gpytorch_model\n",
    "from gpytorch.mlls import ExactMarginalLogLikelihood\n",
    "from ax.utils.common.logger import get_logger\n",
    "\n",
    "logger = get_logger(__name__)\n",
    "from gpytorch.settings import max_cg_iterations\n",
    "\n",
    "\n",
    "def bayesian_optimizer(num_initial_samples: int = 10, num_bo_samples: int = 100, epsilon: float = 1e-3, patience: int = 15, refit_every: int = 10, exploit_ratio: float = 0.9, seed: int = 1):\n",
    "    \"\"\"\n",
    "    Bayesian optimization function that yields new points to sample.\n",
    "\n",
    "    Args:\n",
    "        num_initial_samples (int): Number of initial Sobol samples for exploration.\n",
    "        num_bo_samples (int): Maximum number of Bayesian optimization samples to be taken after the initial exploration.\n",
    "        epsilon (float): Convergence threshold.\n",
    "        patience (int): Number of iterations without improvement to allow before stopping early.\n",
    "        refit_every (int): Number of iterations after which the GP model is refit.\n",
    "        exploit_ratio (float): Proportion of times exploitation (GPEI) is used compared to exploration (qNIPV).\n",
    "        seed (int): Random seed for reproducibility.\n",
    "    \"\"\"\n",
    "    # Set random seed for reproducibility\n",
    "    np.random.seed(seed)\n",
    "    torch.manual_seed(seed)\n",
    "    random.seed(seed)\n",
    "\n",
    "    # Setting up the Bayesian optimizer using Ax with a custom generation strategy.\n",
    "    generation_strategy = GenerationStrategy(\n",
    "        steps=[\n",
    "            GenerationStep(model=Models.SOBOL, num_trials=num_initial_samples),\n",
    "            GenerationStep(model=Models.GPEI, num_trials=-1),\n",
    "        ]\n",
    "    )\n",
    "\n",
    "    ax_client = AxClient(generation_strategy=generation_strategy)\n",
    "    ax_client.create_experiment(\n",
    "        name=\"2d_gaussian_peak_optimization\",\n",
    "        parameters=[\n",
    "            {\"name\": \"x\", \"type\": \"range\", \"bounds\": [-1.0, 1.0]},\n",
    "            {\"name\": \"y\", \"type\": \"range\", \"bounds\": [-1.0, 1.0]},\n",
    "        ],\n",
    "        objective_name=\"z\",\n",
    "        minimize=False,  # Set True if you want to minimize the objective\n",
    "    )\n",
    "\n",
    "    # Lists to store sampled points and their objective values.\n",
    "    z_samples = []\n",
    "    x_samples = []\n",
    "    y_samples = []\n",
    "\n",
    "    # Initial exploration with Sobol sampling.\n",
    "    for _ in range(num_initial_samples):\n",
    "        params, trial_index = ax_client.get_next_trial()\n",
    "        x_sample, y_sample = params['x'], params['y']\n",
    "        z = np.exp(-((x_sample - 0.2) ** 2 + (y_sample - 0.1) ** 2) / (2 * 0.1 ** 2))\n",
    "        x_samples.append(x_sample)\n",
    "        y_samples.append(y_sample)\n",
    "        z_samples.append(z)\n",
    "        ax_client.complete_trial(trial_index=trial_index, raw_data=z)\n",
    "        yield x_sample, y_sample, z\n",
    "\n",
    "    # Define and fit the GP model.\n",
    "    x_y_samples_tensor = torch.tensor(np.column_stack([x_samples, y_samples])).double()\n",
    "    z_samples_tensor = torch.tensor(z_samples).double().unsqueeze(-1)\n",
    "    gp_model = SingleTaskGP(x_y_samples_tensor, z_samples_tensor)\n",
    "    mll = ExactMarginalLogLikelihood(gp_model.likelihood, gp_model)\n",
    "    fit_gpytorch_model(mll)\n",
    "\n",
    "    # Bayesian optimization loop with convergence criteria.\n",
    "    best_value = None\n",
    "    no_improvement_counter = 0\n",
    "\n",
    "    for i in range(num_bo_samples):\n",
    "        # Randomly decide whether to use exploitation (GPEI) or exploration (qNIPV)\n",
    "        rand_value = random.random()\n",
    "        if rand_value < exploit_ratio:\n",
    "            logger.info(\"Using GPEI for exploitation\")\n",
    "            ax_client.generation_strategy._steps[-1].model = Models.GPEI\n",
    "        else:\n",
    "            logger.info(\"Using qNIPV for exploration\")\n",
    "            ax_client.generation_strategy._steps[-1].model = Models.BOTORCH_MODULAR\n",
    "            ax_client.generation_strategy._steps[-1].model_kwargs = {\n",
    "                \"surrogate\": Surrogate(SingleTaskGP),\n",
    "                \"botorch_acqf_class\": qNegIntegratedPosteriorVariance,\n",
    "                \"acquisition_options\": {\"mc_points\": 10},\n",
    "            }\n",
    "\n",
    "        params, trial_index = ax_client.get_next_trial()\n",
    "        x_sample, y_sample = params['x'], params['y']\n",
    "        z = np.exp(-((x_sample - 0.2) ** 2 + (y_sample - 0.1) ** 2) / (2 * 0.1 ** 2))\n",
    "        x_samples.append(x_sample)\n",
    "        y_samples.append(y_sample)\n",
    "        z_samples.append(z)\n",
    "        ax_client.complete_trial(trial_index=trial_index, raw_data=z)\n",
    "        yield x_sample, y_sample, z\n",
    "\n",
    "        x_y_samples_tensor = torch.tensor(np.column_stack([x_samples, y_samples])).double()\n",
    "        z_samples_tensor = torch.tensor(z_samples).double().unsqueeze(-1)\n",
    "\n",
    "        if i % refit_every == 0 or i == num_bo_samples - 1:\n",
    "            gp_model.set_train_data(x_y_samples_tensor, z_samples_tensor, strict=False)\n",
    "            with max_cg_iterations(50):  # Use fewer iterations for solving GP equations\n",
    "                fit_gpytorch_model(mll)\n",
    "                \n",
    "        if rand_value < exploit_ratio:\n",
    "            if best_value is None or z > best_value + epsilon:\n",
    "                best_value = z\n",
    "                no_improvement_counter = 0\n",
    "            else:\n",
    "                no_improvement_counter += 1\n",
    "\n",
    "        if no_improvement_counter >= patience:\n",
    "            print(f\"Stopping early after {i + 1} iterations due to lack of improvement.\")\n",
    "            break\n"
   ]
  },
  {
   "cell_type": "code",
   "execution_count": null,
   "metadata": {},
   "outputs": [],
   "source": [
    "# Use the Bayesian optimizer to get new points.\n",
    "x_samples, y_samples, z_samples = [], [], []\n",
    "for x_sample, y_sample, z in bayesian_optimizer():\n",
    "    x_samples.append(x_sample)\n",
    "    y_samples.append(y_sample)\n",
    "    z_samples.append(z)"
   ]
  },
  {
   "cell_type": "code",
   "execution_count": null,
   "metadata": {},
   "outputs": [],
   "source": [
    "# Create a grid sweep version (51 x 51 points).\n",
    "x = np.linspace(-1, 1, 51)\n",
    "y = np.linspace(-1, 1, 51)\n",
    "x_grid, y_grid = np.meshgrid(x, y)\n",
    "z_grid = np.exp(-((x_grid - 0.2) ** 2 + (y_grid - 0.1) ** 2) / (2 * 0.1 ** 2))\n",
    "\n",
    "\n",
    "\n",
    "# Create interpolation for the scatter plot using scipy's griddata.\n",
    "x_interp = np.linspace(-1, 1, 50)\n",
    "y_interp = np.linspace(-1, 1, 50)\n",
    "x_interp_grid, y_interp_grid = np.meshgrid(x_interp, y_interp)\n",
    "z_interp = griddata((x_samples, y_samples), z_samples, (x_interp_grid, y_interp_grid), method='linear')\n",
    "\n",
    "# Plotting the grid sweep version.\n",
    "fig, ax = plt.subplots(1, 2, figsize=(14, 6))\n",
    "\n",
    "# Pcolormesh for grid sweep version.\n",
    "c1 = ax[0].pcolormesh(x_grid, y_grid, z_grid, shading='auto', cmap='viridis')\n",
    "ax[0].set_title(\"Grid Sweep (Gaussian Peak)\")\n",
    "ax[0].set_xlabel(\"x\")\n",
    "ax[0].set_ylabel(\"y\")\n",
    "fig.colorbar(c1, ax=ax[0])\n",
    "\n",
    "# Scatter plot with interpolation for Bayesian optimization samples.\n",
    "c2 = ax[1].pcolormesh(x_interp_grid, y_interp_grid, z_interp, shading='auto', cmap='viridis')\n",
    "ax[1].scatter(x_samples, y_samples, edgecolor='black', facecolor='none')\n",
    "ax[1].set_title(\"Bayesian Optimization (Gaussian Peak)\")\n",
    "ax[1].set_xlabel(\"x\")\n",
    "ax[1].set_ylabel(\"y\")\n",
    "fig.colorbar(c2, ax=ax[1])\n",
    "\n",
    "plt.tight_layout()\n",
    "plt.show()"
   ]
  }
 ],
 "metadata": {
  "kernelspec": {
   "display_name": "ds310",
   "language": "python",
   "name": "python3"
  },
  "language_info": {
   "codemirror_mode": {
    "name": "ipython",
    "version": 3
   },
   "file_extension": ".py",
   "mimetype": "text/x-python",
   "name": "python",
   "nbconvert_exporter": "python",
   "pygments_lexer": "ipython3",
   "version": "3.10.11"
  }
 },
 "nbformat": 4,
 "nbformat_minor": 2
}
